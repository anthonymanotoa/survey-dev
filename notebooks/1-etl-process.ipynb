{
 "cells": [
  {
   "cell_type": "markdown",
   "source": "# Procesamiento de datos - ETL",
   "metadata": {
    "cell_id": "dcf6b326-6955-49c9-9cc2-bedea44ab81d",
    "tags": [],
    "deepnote_cell_type": "markdown"
   }
  },
  {
   "cell_type": "markdown",
   "source": "# Extract",
   "metadata": {
    "cell_id": "53c33bbe-3018-4fc5-a698-c383541e69b9",
    "tags": [],
    "deepnote_cell_type": "markdown"
   }
  },
  {
   "cell_type": "code",
   "metadata": {
    "tags": [],
    "cell_id": "273f43e0-7ea3-4218-b9cf-458cb76017a7",
    "deepnote_to_be_reexecuted": false,
    "source_hash": "820cf9ee",
    "execution_start": 1646000242506,
    "execution_millis": 147,
    "deepnote_cell_type": "code"
   },
   "source": "import numpy as np\nimport pandas as pd\nimport requests\nimport os\nfrom zipfile import ZipFile\nfrom sqlalchemy import create_engine",
   "execution_count": 1,
   "outputs": []
  },
  {
   "cell_type": "markdown",
   "source": "Se extrae la data de la encuesta de 2021 del sitio [oficial de Stack Overflow](https://insights.stackoverflow.com/survey) con web scraping.",
   "metadata": {
    "cell_id": "1dadc07e-4e34-4a45-b7d0-c6c533e8aa40",
    "tags": [],
    "deepnote_cell_type": "markdown"
   },
   "outputs": [],
   "execution_count": null
  },
  {
   "cell_type": "code",
   "metadata": {
    "cell_id": "7cffa243-8303-422e-b49c-7c886f7d325f",
    "tags": [],
    "deepnote_to_be_reexecuted": false,
    "source_hash": "63800a23",
    "execution_start": 1646000242696,
    "execution_millis": 9251,
    "deepnote_cell_type": "code"
   },
   "source": "# Get the 2021 survey (in a zip file) from Stack Overflow\npath = 'https://info.stackoverflowsolutions.com/rs/719-EMH-566/images/stack-overflow-developer-survey-2021.zip'\nresponse = requests.get(path)\nprint(response.status_code)\n\n# Save the file locally\nlocal_path = os.path.join(os.getcwd(), os.pardir, 'data', 'raw', 'survey_2021.zip')\nwith open(local_path, \"wb\") as f:\n    f.write(response.content)",
   "execution_count": 2,
   "outputs": [
    {
     "name": "stdout",
     "text": "200\n",
     "output_type": "stream"
    }
   ]
  },
  {
   "cell_type": "code",
   "metadata": {
    "cell_id": "117fc44d-86e3-48bf-b2bb-be32d7da93b7",
    "tags": [],
    "deepnote_to_be_reexecuted": false,
    "source_hash": "bca40b07",
    "execution_start": 1646000251777,
    "execution_millis": 486,
    "deepnote_cell_type": "code"
   },
   "source": "# Get the list of files\npath_save = os.path.join(os.getcwd(), os.pardir, 'data', 'raw')\n\nwith ZipFile(local_path, \"r\") as f:\n    file_names = f.namelist()\n    print(file_names)\n    csv_file_path_1 = f.extract(file_names[2], path_save)\n    print(csv_file_path_1)\n    csv_file_path_2 = f.extract(file_names[3], path_save)\n    print(csv_file_path_2)",
   "execution_count": 3,
   "outputs": [
    {
     "name": "stdout",
     "text": "['README_2021.txt', 'so_survey_2021.pdf', 'survey_results_public.csv', 'survey_results_schema.csv']\n/work/survey-dev/data/raw/survey_results_public.csv\n/work/survey-dev/data/raw/survey_results_schema.csv\n",
     "output_type": "stream"
    }
   ]
  },
  {
   "cell_type": "markdown",
   "source": "# Transform",
   "metadata": {
    "cell_id": "a5c27b88-dc2c-4ced-bcfa-8a0a7da7f82a",
    "tags": [],
    "deepnote_cell_type": "markdown"
   }
  },
  {
   "cell_type": "code",
   "metadata": {
    "cell_id": "31a5dd80-5c4b-4aae-b4a6-94c2e8e2a7cd",
    "tags": [],
    "deepnote_to_be_reexecuted": false,
    "source_hash": "a1e324eb",
    "execution_start": 1646000252265,
    "execution_millis": 1170,
    "deepnote_cell_type": "code"
   },
   "source": "# Read de data\npath = os.path.join(os.getcwd(), os.pardir, 'data', 'raw')\ndf_schema = pd.read_csv(os.path.join(path, 'survey_results_schema.csv'))\ndf_survey = pd.read_csv(os.path.join(path, 'survey_results_public.csv'))",
   "execution_count": 4,
   "outputs": []
  },
  {
   "cell_type": "markdown",
   "source": "### Filtro de datos\n\nEl `df_schema` contiene las preguntas usadas en la encuesta.",
   "metadata": {
    "cell_id": "2ae9495a-b87d-471b-8692-7d909e98250d",
    "tags": [],
    "deepnote_cell_type": "markdown"
   }
  },
  {
   "cell_type": "code",
   "metadata": {
    "cell_id": "c751c12e-9b4a-400f-8d26-bc1101db8991",
    "tags": [],
    "deepnote_to_be_reexecuted": false,
    "source_hash": "366e7cf0",
    "execution_start": 1646000253450,
    "execution_millis": 14,
    "deepnote_cell_type": "code"
   },
   "source": "# Explore what data to use\ncols = ['qname', 'question']\ndf_schema[cols]",
   "execution_count": 5,
   "outputs": [
    {
     "output_type": "execute_result",
     "execution_count": 5,
     "data": {
      "application/vnd.deepnote.dataframe.v3+json": {
       "column_count": 2,
       "row_count": 48,
       "columns": [
        {
         "name": "qname",
         "dtype": "object",
         "stats": {
          "unique_count": 48,
          "nan_count": 0,
          "categories": [
           {
            "name": "S0",
            "count": 1
           },
           {
            "name": "MetaInfo",
            "count": 1
           },
           {
            "name": "46 others",
            "count": 46
           }
          ]
         }
        },
        {
         "name": "question",
         "dtype": "object",
         "stats": {
          "unique_count": 45,
          "nan_count": 0,
          "categories": [
           {
            "name": "Which of the following describe you, if any? Please check all that apply.",
            "count": 3
           },
           {
            "name": "Which of the following describe you, if any? Please check all that apply. ",
            "count": 2
           },
           {
            "name": "43 others",
            "count": 43
           }
          ]
         }
        },
        {
         "name": "_deepnote_index_column",
         "dtype": "int64"
        }
       ],
       "rows": [
        {
         "qname": "S0",
         "question": "<div><span style=\"font-size:19px;\"><strong>Hello world! </strong></span></div>\n\n<div> </div>\n\n<div>…",
         "_deepnote_index_column": 0
        },
        {
         "qname": "MetaInfo",
         "question": "Browser Meta Info",
         "_deepnote_index_column": 1
        },
        {
         "qname": "S1",
         "question": "<span style=\"font-size:22px; font-family: arial,helvetica,sans-serif; font-weight: 700;\">Basic Info…",
         "_deepnote_index_column": 2
        },
        {
         "qname": "MainBranch",
         "question": "Which of the following options best describes you today? Here, by \"developer\" we mean \"someone who …",
         "_deepnote_index_column": 3
        },
        {
         "qname": "Employment",
         "question": "Which of the following best describes your current <b>employment status</b>?",
         "_deepnote_index_column": 4
        },
        {
         "qname": "Country",
         "question": "Where do you live? <span style=\"font-weight: bolder;\">*</span>",
         "_deepnote_index_column": 5
        },
        {
         "qname": "US_State",
         "question": "<p>In which state or territory of the USA do you live? <i>This information will be kept private.</i…",
         "_deepnote_index_column": 6
        },
        {
         "qname": "UK_Country",
         "question": "In which part of the United Kingdom do you live? <i>This information will be kept private.</i>",
         "_deepnote_index_column": 7
        },
        {
         "qname": "S2",
         "question": "<span style=\"font-size:22px; font-family: arial,helvetica,sans-serif; font-weight: 700;\">Education,…",
         "_deepnote_index_column": 8
        },
        {
         "qname": "EdLevel",
         "question": "Which of the following best describes the highest level of formal education that you’ve completed? *",
         "_deepnote_index_column": 9
        }
       ]
      },
      "text/plain": "                 qname                                           question\n0                   S0  <div><span style=\"font-size:19px;\"><strong>Hel...\n1             MetaInfo                                  Browser Meta Info\n2                   S1  <span style=\"font-size:22px; font-family: aria...\n3           MainBranch  Which of the following options best describes ...\n4           Employment  Which of the following best describes your cur...\n5              Country  Where do you live? <span style=\"font-weight: b...\n6             US_State  <p>In which state or territory of the USA do y...\n7           UK_Country  In which part of the United Kingdom do you liv...\n8                   S2  <span style=\"font-size:22px; font-family: aria...\n9              EdLevel  Which of the following best describes the high...\n10          Age1stCode  At what age did you write your first line of c...\n11           LearnCode  How did you learn to code? Select all that apply.\n12           YearsCode  Including any education, how many years have y...\n13        YearsCodePro  NOT including education, how many years have y...\n14             DevType  Which of the following describes your current ...\n15             OrgSize  Approximately how many people are employed by ...\n16            Currency  Which currency do you use day-to-day? If your ...\n17           CompTotal  What is your current total compensation (salar...\n18            CompFreq   Is that compensation weekly, monthly, or yearly?\n19                  S3  <span style=\"font-size:22px; font-family: aria...\n20            Language  Which <b>programming, scripting, and markup la...\n21            Database  Which <b>database environments </b>have you do...\n22            Platform  Which <b>cloud platforms</b> have you done ext...\n23            Webframe  Which <strong>web frameworks </strong><span st...\n24            MiscTech  Which <b>other frameworks and libraries</b> ha...\n25           ToolsTech  Which <strong>tools</strong> have you done ext...\n26      NEWCollabTools  Which <strong>development environments</strong...\n27               OpSys  What is the primary operating system in which ...\n28            NEWStuck  What do you do when you get stuck on a problem...\n29                  S4  <span style=\"font-size:22px; font-family: aria...\n30          NEWSOSites  Which of the following Stack Overflow sites ha...\n31         SOVisitFreq  How frequently would you say you visit Stack O...\n32           SOAccount              Do you have a Stack Overflow account?\n33          SOPartFreq  How frequently would you say you participate i...\n34              SOComm  Do you consider yourself a member of the Stack...\n35       NEWOtherComms  Are you a member of any other online developer...\n36  NEWOtherCommsNames  Please name up to 5 other online developer com...\n37                  S5  <span style=\"font-size:22px; font-family: aria...\n38                 Age                                  What is your age?\n39              Gender  Which of the following describe you, if any? P...\n40               Trans                    Do you identify as transgender?\n41           Sexuality  Which of the following describe you, if any? P...\n42           Ethnicity  Which of the following describe you, if any? P...\n43       Accessibility  Which of the following describe you, if any? P...\n44        MentalHealth  Which of the following describe you, if any? P...\n45                  S6  <span style=\"font-size:22px;\"><strong>Final Qu...\n46        SurveyLength  How do you feel about the length of the survey...\n47          SurveyEase  How easy or difficult was this survey to compl...",
      "text/html": "<div>\n<style scoped>\n    .dataframe tbody tr th:only-of-type {\n        vertical-align: middle;\n    }\n\n    .dataframe tbody tr th {\n        vertical-align: top;\n    }\n\n    .dataframe thead th {\n        text-align: right;\n    }\n</style>\n<table border=\"1\" class=\"dataframe\">\n  <thead>\n    <tr style=\"text-align: right;\">\n      <th></th>\n      <th>qname</th>\n      <th>question</th>\n    </tr>\n  </thead>\n  <tbody>\n    <tr>\n      <th>0</th>\n      <td>S0</td>\n      <td>&lt;div&gt;&lt;span style=\"font-size:19px;\"&gt;&lt;strong&gt;Hel...</td>\n    </tr>\n    <tr>\n      <th>1</th>\n      <td>MetaInfo</td>\n      <td>Browser Meta Info</td>\n    </tr>\n    <tr>\n      <th>2</th>\n      <td>S1</td>\n      <td>&lt;span style=\"font-size:22px; font-family: aria...</td>\n    </tr>\n    <tr>\n      <th>3</th>\n      <td>MainBranch</td>\n      <td>Which of the following options best describes ...</td>\n    </tr>\n    <tr>\n      <th>4</th>\n      <td>Employment</td>\n      <td>Which of the following best describes your cur...</td>\n    </tr>\n    <tr>\n      <th>5</th>\n      <td>Country</td>\n      <td>Where do you live? &lt;span style=\"font-weight: b...</td>\n    </tr>\n    <tr>\n      <th>6</th>\n      <td>US_State</td>\n      <td>&lt;p&gt;In which state or territory of the USA do y...</td>\n    </tr>\n    <tr>\n      <th>7</th>\n      <td>UK_Country</td>\n      <td>In which part of the United Kingdom do you liv...</td>\n    </tr>\n    <tr>\n      <th>8</th>\n      <td>S2</td>\n      <td>&lt;span style=\"font-size:22px; font-family: aria...</td>\n    </tr>\n    <tr>\n      <th>9</th>\n      <td>EdLevel</td>\n      <td>Which of the following best describes the high...</td>\n    </tr>\n    <tr>\n      <th>10</th>\n      <td>Age1stCode</td>\n      <td>At what age did you write your first line of c...</td>\n    </tr>\n    <tr>\n      <th>11</th>\n      <td>LearnCode</td>\n      <td>How did you learn to code? Select all that apply.</td>\n    </tr>\n    <tr>\n      <th>12</th>\n      <td>YearsCode</td>\n      <td>Including any education, how many years have y...</td>\n    </tr>\n    <tr>\n      <th>13</th>\n      <td>YearsCodePro</td>\n      <td>NOT including education, how many years have y...</td>\n    </tr>\n    <tr>\n      <th>14</th>\n      <td>DevType</td>\n      <td>Which of the following describes your current ...</td>\n    </tr>\n    <tr>\n      <th>15</th>\n      <td>OrgSize</td>\n      <td>Approximately how many people are employed by ...</td>\n    </tr>\n    <tr>\n      <th>16</th>\n      <td>Currency</td>\n      <td>Which currency do you use day-to-day? If your ...</td>\n    </tr>\n    <tr>\n      <th>17</th>\n      <td>CompTotal</td>\n      <td>What is your current total compensation (salar...</td>\n    </tr>\n    <tr>\n      <th>18</th>\n      <td>CompFreq</td>\n      <td>Is that compensation weekly, monthly, or yearly?</td>\n    </tr>\n    <tr>\n      <th>19</th>\n      <td>S3</td>\n      <td>&lt;span style=\"font-size:22px; font-family: aria...</td>\n    </tr>\n    <tr>\n      <th>20</th>\n      <td>Language</td>\n      <td>Which &lt;b&gt;programming, scripting, and markup la...</td>\n    </tr>\n    <tr>\n      <th>21</th>\n      <td>Database</td>\n      <td>Which &lt;b&gt;database environments &lt;/b&gt;have you do...</td>\n    </tr>\n    <tr>\n      <th>22</th>\n      <td>Platform</td>\n      <td>Which &lt;b&gt;cloud platforms&lt;/b&gt; have you done ext...</td>\n    </tr>\n    <tr>\n      <th>23</th>\n      <td>Webframe</td>\n      <td>Which &lt;strong&gt;web frameworks &lt;/strong&gt;&lt;span st...</td>\n    </tr>\n    <tr>\n      <th>24</th>\n      <td>MiscTech</td>\n      <td>Which &lt;b&gt;other frameworks and libraries&lt;/b&gt; ha...</td>\n    </tr>\n    <tr>\n      <th>25</th>\n      <td>ToolsTech</td>\n      <td>Which &lt;strong&gt;tools&lt;/strong&gt; have you done ext...</td>\n    </tr>\n    <tr>\n      <th>26</th>\n      <td>NEWCollabTools</td>\n      <td>Which &lt;strong&gt;development environments&lt;/strong...</td>\n    </tr>\n    <tr>\n      <th>27</th>\n      <td>OpSys</td>\n      <td>What is the primary operating system in which ...</td>\n    </tr>\n    <tr>\n      <th>28</th>\n      <td>NEWStuck</td>\n      <td>What do you do when you get stuck on a problem...</td>\n    </tr>\n    <tr>\n      <th>29</th>\n      <td>S4</td>\n      <td>&lt;span style=\"font-size:22px; font-family: aria...</td>\n    </tr>\n    <tr>\n      <th>30</th>\n      <td>NEWSOSites</td>\n      <td>Which of the following Stack Overflow sites ha...</td>\n    </tr>\n    <tr>\n      <th>31</th>\n      <td>SOVisitFreq</td>\n      <td>How frequently would you say you visit Stack O...</td>\n    </tr>\n    <tr>\n      <th>32</th>\n      <td>SOAccount</td>\n      <td>Do you have a Stack Overflow account?</td>\n    </tr>\n    <tr>\n      <th>33</th>\n      <td>SOPartFreq</td>\n      <td>How frequently would you say you participate i...</td>\n    </tr>\n    <tr>\n      <th>34</th>\n      <td>SOComm</td>\n      <td>Do you consider yourself a member of the Stack...</td>\n    </tr>\n    <tr>\n      <th>35</th>\n      <td>NEWOtherComms</td>\n      <td>Are you a member of any other online developer...</td>\n    </tr>\n    <tr>\n      <th>36</th>\n      <td>NEWOtherCommsNames</td>\n      <td>Please name up to 5 other online developer com...</td>\n    </tr>\n    <tr>\n      <th>37</th>\n      <td>S5</td>\n      <td>&lt;span style=\"font-size:22px; font-family: aria...</td>\n    </tr>\n    <tr>\n      <th>38</th>\n      <td>Age</td>\n      <td>What is your age?</td>\n    </tr>\n    <tr>\n      <th>39</th>\n      <td>Gender</td>\n      <td>Which of the following describe you, if any? P...</td>\n    </tr>\n    <tr>\n      <th>40</th>\n      <td>Trans</td>\n      <td>Do you identify as transgender?</td>\n    </tr>\n    <tr>\n      <th>41</th>\n      <td>Sexuality</td>\n      <td>Which of the following describe you, if any? P...</td>\n    </tr>\n    <tr>\n      <th>42</th>\n      <td>Ethnicity</td>\n      <td>Which of the following describe you, if any? P...</td>\n    </tr>\n    <tr>\n      <th>43</th>\n      <td>Accessibility</td>\n      <td>Which of the following describe you, if any? P...</td>\n    </tr>\n    <tr>\n      <th>44</th>\n      <td>MentalHealth</td>\n      <td>Which of the following describe you, if any? P...</td>\n    </tr>\n    <tr>\n      <th>45</th>\n      <td>S6</td>\n      <td>&lt;span style=\"font-size:22px;\"&gt;&lt;strong&gt;Final Qu...</td>\n    </tr>\n    <tr>\n      <th>46</th>\n      <td>SurveyLength</td>\n      <td>How do you feel about the length of the survey...</td>\n    </tr>\n    <tr>\n      <th>47</th>\n      <td>SurveyEase</td>\n      <td>How easy or difficult was this survey to compl...</td>\n    </tr>\n  </tbody>\n</table>\n</div>"
     },
     "metadata": {}
    }
   ]
  },
  {
   "cell_type": "code",
   "metadata": {
    "cell_id": "737489f0-3b4a-4848-b0c1-74ab74469ea8",
    "tags": [],
    "deepnote_to_be_reexecuted": false,
    "source_hash": "77e67714",
    "execution_start": 1646000253470,
    "execution_millis": 96,
    "deepnote_cell_type": "code"
   },
   "source": "df_survey.sample(5)",
   "execution_count": 6,
   "outputs": [
    {
     "output_type": "execute_result",
     "execution_count": 6,
     "data": {
      "application/vnd.deepnote.dataframe.v3+json": {
       "column_count": 48,
       "row_count": 5,
       "columns": [
        {
         "name": "ResponseId",
         "dtype": "int64",
         "stats": {
          "unique_count": 5,
          "nan_count": 0,
          "min": "198",
          "max": "79415",
          "histogram": [
           {
            "bin_start": 198,
            "bin_end": 8119.7,
            "count": 1
           },
           {
            "bin_start": 8119.7,
            "bin_end": 16041.4,
            "count": 0
           },
           {
            "bin_start": 16041.4,
            "bin_end": 23963.1,
            "count": 3
           },
           {
            "bin_start": 23963.1,
            "bin_end": 31884.8,
            "count": 0
           },
           {
            "bin_start": 31884.8,
            "bin_end": 39806.5,
            "count": 0
           },
           {
            "bin_start": 39806.5,
            "bin_end": 47728.2,
            "count": 0
           },
           {
            "bin_start": 47728.2,
            "bin_end": 55649.9,
            "count": 0
           },
           {
            "bin_start": 55649.9,
            "bin_end": 63571.6,
            "count": 0
           },
           {
            "bin_start": 63571.6,
            "bin_end": 71493.3,
            "count": 0
           },
           {
            "bin_start": 71493.3,
            "bin_end": 79415,
            "count": 1
           }
          ]
         }
        },
        {
         "name": "MainBranch",
         "dtype": "object",
         "stats": {
          "unique_count": 3,
          "nan_count": 0,
          "categories": [
           {
            "name": "I am a developer by profession",
            "count": 2
           },
           {
            "name": "I am a student who is learning to code",
            "count": 2
           },
           {
            "name": "I code primarily as a hobby",
            "count": 1
           }
          ]
         }
        },
        {
         "name": "Employment",
         "dtype": "object",
         "stats": {
          "unique_count": 4,
          "nan_count": 0,
          "categories": [
           {
            "name": "Student, full-time",
            "count": 2
           },
           {
            "name": "Employed full-time",
            "count": 1
           },
           {
            "name": "2 others",
            "count": 2
           }
          ]
         }
        },
        {
         "name": "Country",
         "dtype": "object",
         "stats": {
          "unique_count": 4,
          "nan_count": 0,
          "categories": [
           {
            "name": "United States of America",
            "count": 2
           },
           {
            "name": "India",
            "count": 1
           },
           {
            "name": "2 others",
            "count": 2
           }
          ]
         }
        },
        {
         "name": "US_State",
         "dtype": "object",
         "stats": {
          "unique_count": 2,
          "nan_count": 3,
          "categories": [
           {
            "name": "Colorado",
            "count": 1
           },
           {
            "name": "Florida",
            "count": 1
           },
           {
            "name": "Missing",
            "count": 3
           }
          ]
         }
        },
        {
         "name": "UK_Country",
         "dtype": "object",
         "stats": {
          "unique_count": 0,
          "nan_count": 5,
          "categories": [
           {
            "name": "Missing",
            "count": 5
           }
          ]
         }
        },
        {
         "name": "EdLevel",
         "dtype": "object",
         "stats": {
          "unique_count": 3,
          "nan_count": 0,
          "categories": [
           {
            "name": "Bachelor’s degree (B.A., B.S., B.Eng., etc.)",
            "count": 3
           },
           {
            "name": "Primary/elementary school",
            "count": 1
           },
           {
            "name": "Some college/university study without earning a degree",
            "count": 1
           }
          ]
         }
        },
        {
         "name": "Age1stCode",
         "dtype": "object",
         "stats": {
          "unique_count": 3,
          "nan_count": 0,
          "categories": [
           {
            "name": "18 - 24 years",
            "count": 2
           },
           {
            "name": "11 - 17 years",
            "count": 2
           },
           {
            "name": "5 - 10 years",
            "count": 1
           }
          ]
         }
        },
        {
         "name": "LearnCode",
         "dtype": "object",
         "stats": {
          "unique_count": 5,
          "nan_count": 0,
          "categories": [
           {
            "name": "Other online resources (ex: videos, blogs, etc);School;Books / Physical media",
            "count": 1
           },
           {
            "name": "Other online resources (ex: videos, blogs, etc);School;Online Courses or Certification",
            "count": 1
           },
           {
            "name": "3 others",
            "count": 3
           }
          ]
         }
        },
        {
         "name": "YearsCode",
         "dtype": "object",
         "stats": {
          "unique_count": 3,
          "nan_count": 0,
          "categories": [
           {
            "name": "7",
            "count": 2
           },
           {
            "name": "8",
            "count": 2
           },
           {
            "name": "3",
            "count": 1
           }
          ]
         }
        },
        {
         "name": "YearsCodePro",
         "dtype": "object",
         "stats": {
          "unique_count": 2,
          "nan_count": 3,
          "categories": [
           {
            "name": "3",
            "count": 1
           },
           {
            "name": "Less than 1 year",
            "count": 1
           },
           {
            "name": "Missing",
            "count": 3
           }
          ]
         }
        },
        {
         "name": "DevType",
         "dtype": "object",
         "stats": {
          "unique_count": 3,
          "nan_count": 2,
          "categories": [
           {
            "name": "Engineer, data;Developer, back-end;Database administrator;Developer, QA or test;DevOps specialist",
            "count": 1
           },
           {
            "name": "2 others",
            "count": 2
           },
           {
            "name": "Missing",
            "count": 2
           }
          ]
         }
        },
        {
         "name": "OrgSize",
         "dtype": "object",
         "stats": {
          "unique_count": 2,
          "nan_count": 3,
          "categories": [
           {
            "name": "20 to 99 employees",
            "count": 1
           },
           {
            "name": "2 to 9 employees",
            "count": 1
           },
           {
            "name": "Missing",
            "count": 3
           }
          ]
         }
        },
        {
         "name": "Currency",
         "dtype": "object",
         "stats": {
          "unique_count": 1,
          "nan_count": 3,
          "categories": [
           {
            "name": "USD\tUnited States dollar",
            "count": 2
           },
           {
            "name": "Missing",
            "count": 3
           }
          ]
         }
        },
        {
         "name": "CompTotal",
         "dtype": "float64",
         "stats": {
          "unique_count": 1,
          "nan_count": 4,
          "min": "160.0",
          "max": "160.0",
          "histogram": [
           {
            "bin_start": 159.5,
            "bin_end": 159.6,
            "count": 0
           },
           {
            "bin_start": 159.6,
            "bin_end": 159.7,
            "count": 0
           },
           {
            "bin_start": 159.7,
            "bin_end": 159.8,
            "count": 0
           },
           {
            "bin_start": 159.8,
            "bin_end": 159.9,
            "count": 0
           },
           {
            "bin_start": 159.9,
            "bin_end": 160,
            "count": 0
           },
           {
            "bin_start": 160,
            "bin_end": 160.1,
            "count": 1
           },
           {
            "bin_start": 160.1,
            "bin_end": 160.2,
            "count": 0
           },
           {
            "bin_start": 160.2,
            "bin_end": 160.3,
            "count": 0
           },
           {
            "bin_start": 160.3,
            "bin_end": 160.4,
            "count": 0
           },
           {
            "bin_start": 160.4,
            "bin_end": 160.5,
            "count": 0
           }
          ]
         }
        },
        {
         "name": "CompFreq",
         "dtype": "object",
         "stats": {
          "unique_count": 1,
          "nan_count": 4,
          "categories": [
           {
            "name": "Weekly",
            "count": 1
           },
           {
            "name": "Missing",
            "count": 4
           }
          ]
         }
        },
        {
         "name": "LanguageHaveWorkedWith",
         "dtype": "object",
         "stats": {
          "unique_count": 5,
          "nan_count": 0,
          "categories": [
           {
            "name": "Bash/Shell;C++;Go;JavaScript;Node.js;Python;SQL;TypeScript",
            "count": 1
           },
           {
            "name": "C;C++;HTML/CSS;Java;JavaScript;Node.js;Python;SQL",
            "count": 1
           },
           {
            "name": "3 others",
            "count": 3
           }
          ]
         }
        },
        {
         "name": "LanguageWantToWorkWith",
         "dtype": "object",
         "stats": {
          "unique_count": 5,
          "nan_count": 0,
          "categories": [
           {
            "name": "Bash/Shell;C++;Go;JavaScript;Node.js;Python;Ruby;Rust;SQL;TypeScript",
            "count": 1
           },
           {
            "name": "Go;HTML/CSS;JavaScript;Python;SQL",
            "count": 1
           },
           {
            "name": "3 others",
            "count": 3
           }
          ]
         }
        },
        {
         "name": "DatabaseHaveWorkedWith",
         "dtype": "object",
         "stats": {
          "unique_count": 3,
          "nan_count": 2,
          "categories": [
           {
            "name": "Elasticsearch;PostgreSQL;Redis;SQLite",
            "count": 1
           },
           {
            "name": "2 others",
            "count": 2
           },
           {
            "name": "Missing",
            "count": 2
           }
          ]
         }
        },
        {
         "name": "DatabaseWantToWorkWith",
         "dtype": "object",
         "stats": {
          "unique_count": 3,
          "nan_count": 2,
          "categories": [
           {
            "name": "Elasticsearch;PostgreSQL;Redis;SQLite",
            "count": 1
           },
           {
            "name": "2 others",
            "count": 2
           },
           {
            "name": "Missing",
            "count": 2
           }
          ]
         }
        },
        {
         "name": "PlatformHaveWorkedWith",
         "dtype": "object",
         "stats": {
          "unique_count": 4,
          "nan_count": 1,
          "categories": [
           {
            "name": "AWS",
            "count": 1
           },
           {
            "name": "3 others",
            "count": 3
           },
           {
            "name": "Missing",
            "count": 1
           }
          ]
         }
        },
        {
         "name": "PlatformWantToWorkWith",
         "dtype": "object",
         "stats": {
          "unique_count": 4,
          "nan_count": 1,
          "categories": [
           {
            "name": "AWS;DigitalOcean;Google Cloud Platform",
            "count": 1
           },
           {
            "name": "3 others",
            "count": 3
           },
           {
            "name": "Missing",
            "count": 1
           }
          ]
         }
        },
        {
         "name": "WebframeHaveWorkedWith",
         "dtype": "object",
         "stats": {
          "unique_count": 4,
          "nan_count": 1,
          "categories": [
           {
            "name": "Express;FastAPI;Flask;React.js",
            "count": 1
           },
           {
            "name": "3 others",
            "count": 3
           },
           {
            "name": "Missing",
            "count": 1
           }
          ]
         }
        },
        {
         "name": "WebframeWantToWorkWith",
         "dtype": "object",
         "stats": {
          "unique_count": 4,
          "nan_count": 1,
          "categories": [
           {
            "name": "Express;FastAPI;Flask;React.js;Vue.js",
            "count": 1
           },
           {
            "name": "3 others",
            "count": 3
           },
           {
            "name": "Missing",
            "count": 1
           }
          ]
         }
        },
        {
         "name": "MiscTechHaveWorkedWith",
         "dtype": "object",
         "stats": {
          "unique_count": 3,
          "nan_count": 2,
          "categories": [
           {
            "name": "NumPy;Pandas",
            "count": 1
           },
           {
            "name": "2 others",
            "count": 2
           },
           {
            "name": "Missing",
            "count": 2
           }
          ]
         }
        },
        {
         "name": "MiscTechWantToWorkWith",
         "dtype": "object",
         "stats": {
          "unique_count": 3,
          "nan_count": 2,
          "categories": [
           {
            "name": "NumPy;Pandas",
            "count": 1
           },
           {
            "name": "2 others",
            "count": 2
           },
           {
            "name": "Missing",
            "count": 2
           }
          ]
         }
        },
        {
         "name": "ToolsTechHaveWorkedWith",
         "dtype": "object",
         "stats": {
          "unique_count": 4,
          "nan_count": 1,
          "categories": [
           {
            "name": "Chef;Docker;Git;Kubernetes;Terraform;Yarn",
            "count": 1
           },
           {
            "name": "3 others",
            "count": 3
           },
           {
            "name": "Missing",
            "count": 1
           }
          ]
         }
        },
        {
         "name": "ToolsTechWantToWorkWith",
         "dtype": "object",
         "stats": {
          "unique_count": 3,
          "nan_count": 1,
          "categories": [
           {
            "name": "Git",
            "count": 2
           },
           {
            "name": "2 others",
            "count": 2
           },
           {
            "name": "Missing",
            "count": 1
           }
          ]
         }
        },
        {
         "name": "NEWCollabToolsHaveWorkedWith",
         "dtype": "object",
         "stats": {
          "unique_count": 5,
          "nan_count": 0,
          "categories": [
           {
            "name": "IPython/Jupyter;PyCharm;Vim;Visual Studio Code;Webstorm",
            "count": 1
           },
           {
            "name": "Sublime Text;Visual Studio Code",
            "count": 1
           },
           {
            "name": "3 others",
            "count": 3
           }
          ]
         }
        },
        {
         "name": "NEWCollabToolsWantToWorkWith",
         "dtype": "object",
         "stats": {
          "unique_count": 5,
          "nan_count": 0,
          "categories": [
           {
            "name": "PyCharm;Vim;Visual Studio Code;Webstorm",
            "count": 1
           },
           {
            "name": "Sublime Text;Visual Studio Code",
            "count": 1
           },
           {
            "name": "3 others",
            "count": 3
           }
          ]
         }
        },
        {
         "name": "OpSys",
         "dtype": "object",
         "stats": {
          "unique_count": 2,
          "nan_count": 0,
          "categories": [
           {
            "name": "Linux-based",
            "count": 4
           },
           {
            "name": "Windows",
            "count": 1
           }
          ]
         }
        },
        {
         "name": "NEWStuck",
         "dtype": "object",
         "stats": {
          "unique_count": 5,
          "nan_count": 0,
          "categories": [
           {
            "name": "Visit Stack Overflow;Go for a walk or other physical activity;Google it;Watch help / tutorial videos;Do other work and come back later",
            "count": 1
           },
           {
            "name": "Visit Stack Overflow;Google it;Watch help / tutorial videos;Do other work and come back later;Play games;Panic",
            "count": 1
           },
           {
            "name": "3 others",
            "count": 3
           }
          ]
         }
        },
        {
         "name": "NEWSOSites",
         "dtype": "object",
         "stats": {
          "unique_count": 1,
          "nan_count": 0,
          "categories": [
           {
            "name": "Stack Overflow;Stack Exchange",
            "count": 5
           }
          ]
         }
        },
        {
         "name": "SOVisitFreq",
         "dtype": "object",
         "stats": {
          "unique_count": 4,
          "nan_count": 0,
          "categories": [
           {
            "name": "A few times per month or weekly",
            "count": 2
           },
           {
            "name": "Daily or almost daily",
            "count": 1
           },
           {
            "name": "2 others",
            "count": 2
           }
          ]
         }
        },
        {
         "name": "SOAccount",
         "dtype": "object",
         "stats": {
          "unique_count": 2,
          "nan_count": 0,
          "categories": [
           {
            "name": "Yes",
            "count": 4
           },
           {
            "name": "Not sure/can't remember",
            "count": 1
           }
          ]
         }
        },
        {
         "name": "SOPartFreq",
         "dtype": "object",
         "stats": {
          "unique_count": 2,
          "nan_count": 1,
          "categories": [
           {
            "name": "Less than once per month or monthly",
            "count": 3
           },
           {
            "name": "Daily or almost daily",
            "count": 1
           },
           {
            "name": "Missing",
            "count": 1
           }
          ]
         }
        },
        {
         "name": "SOComm",
         "dtype": "object",
         "stats": {
          "unique_count": 4,
          "nan_count": 0,
          "categories": [
           {
            "name": "Neutral",
            "count": 2
           },
           {
            "name": "Yes, somewhat",
            "count": 1
           },
           {
            "name": "2 others",
            "count": 2
           }
          ]
         }
        },
        {
         "name": "NEWOtherComms",
         "dtype": "object",
         "stats": {
          "unique_count": 2,
          "nan_count": 0,
          "categories": [
           {
            "name": "No",
            "count": 4
           },
           {
            "name": "Yes",
            "count": 1
           }
          ]
         }
        },
        {
         "name": "Age",
         "dtype": "object",
         "stats": {
          "unique_count": 3,
          "nan_count": 0,
          "categories": [
           {
            "name": "18-24 years old",
            "count": 3
           },
           {
            "name": "25-34 years old",
            "count": 1
           },
           {
            "name": "Under 18 years old",
            "count": 1
           }
          ]
         }
        },
        {
         "name": "Gender",
         "dtype": "object",
         "stats": {
          "unique_count": 1,
          "nan_count": 0,
          "categories": [
           {
            "name": "Man",
            "count": 5
           }
          ]
         }
        },
        {
         "name": "Trans",
         "dtype": "object",
         "stats": {
          "unique_count": 1,
          "nan_count": 0,
          "categories": [
           {
            "name": "No",
            "count": 5
           }
          ]
         }
        },
        {
         "name": "Sexuality",
         "dtype": "object",
         "stats": {
          "unique_count": 2,
          "nan_count": 1,
          "categories": [
           {
            "name": "Straight / Heterosexual",
            "count": 3
           },
           {
            "name": "Prefer not to say",
            "count": 1
           },
           {
            "name": "Missing",
            "count": 1
           }
          ]
         }
        },
        {
         "name": "Ethnicity",
         "dtype": "object",
         "stats": {
          "unique_count": 4,
          "nan_count": 0,
          "categories": [
           {
            "name": "Prefer not to say",
            "count": 2
           },
           {
            "name": "Southeast Asian;East Asian",
            "count": 1
           },
           {
            "name": "2 others",
            "count": 2
           }
          ]
         }
        },
        {
         "name": "Accessibility",
         "dtype": "object",
         "stats": {
          "unique_count": 2,
          "nan_count": 0,
          "categories": [
           {
            "name": "None of the above",
            "count": 4
           },
           {
            "name": "I am blind / have difficulty seeing",
            "count": 1
           }
          ]
         }
        },
        {
         "name": "MentalHealth",
         "dtype": "object",
         "stats": {
          "unique_count": 3,
          "nan_count": 0,
          "categories": [
           {
            "name": "Prefer not to say",
            "count": 3
           },
           {
            "name": "None of the above",
            "count": 1
           },
           {
            "name": "I have a mood or emotional disorder (e.g. depression, bipolar disorder)",
            "count": 1
           }
          ]
         }
        },
        {
         "name": "SurveyLength",
         "dtype": "object",
         "stats": {
          "unique_count": 2,
          "nan_count": 0,
          "categories": [
           {
            "name": "Appropriate in length",
            "count": 4
           },
           {
            "name": "Too long",
            "count": 1
           }
          ]
         }
        },
        {
         "name": "SurveyEase",
         "dtype": "object",
         "stats": {
          "unique_count": 2,
          "nan_count": 0,
          "categories": [
           {
            "name": "Easy",
            "count": 4
           },
           {
            "name": "Neither easy nor difficult",
            "count": 1
           }
          ]
         }
        },
        {
         "name": "ConvertedCompYearly",
         "dtype": "float64",
         "stats": {
          "unique_count": 1,
          "nan_count": 4,
          "min": "8000.0",
          "max": "8000.0",
          "histogram": [
           {
            "bin_start": 7999.5,
            "bin_end": 7999.6,
            "count": 0
           },
           {
            "bin_start": 7999.6,
            "bin_end": 7999.7,
            "count": 0
           },
           {
            "bin_start": 7999.7,
            "bin_end": 7999.8,
            "count": 0
           },
           {
            "bin_start": 7999.8,
            "bin_end": 7999.9,
            "count": 0
           },
           {
            "bin_start": 7999.9,
            "bin_end": 8000,
            "count": 0
           },
           {
            "bin_start": 8000,
            "bin_end": 8000.1,
            "count": 1
           },
           {
            "bin_start": 8000.1,
            "bin_end": 8000.2,
            "count": 0
           },
           {
            "bin_start": 8000.2,
            "bin_end": 8000.3,
            "count": 0
           },
           {
            "bin_start": 8000.3,
            "bin_end": 8000.4,
            "count": 0
           },
           {
            "bin_start": 8000.4,
            "bin_end": 8000.5,
            "count": 0
           }
          ]
         }
        },
        {
         "name": "_deepnote_index_column",
         "dtype": "int64"
        }
       ],
       "rows": [
        {
         "ResponseId": 21776,
         "MainBranch": "I am a developer by profession",
         "Employment": "Employed full-time",
         "Country": "United States of America",
         "US_State": "Colorado",
         "UK_Country": "nan",
         "EdLevel": "Bachelor’s degree (B.A., B.S., B.Eng., etc.)",
         "Age1stCode": "18 - 24 years",
         "LearnCode": "Other online resources (ex: videos, blogs, etc);School;Books / Physical media",
         "YearsCode": "7",
         "YearsCodePro": "3",
         "DevType": "Engineer, data;Developer, back-end;Database administrator;Developer, QA or test;DevOps specialist",
         "OrgSize": "20 to 99 employees",
         "Currency": "USD\tUnited States dollar",
         "CompTotal": "nan",
         "CompFreq": "nan",
         "LanguageHaveWorkedWith": "Bash/Shell;C++;Go;JavaScript;Node.js;Python;SQL;TypeScript",
         "LanguageWantToWorkWith": "Bash/Shell;C++;Go;JavaScript;Node.js;Python;Ruby;Rust;SQL;TypeScript",
         "DatabaseHaveWorkedWith": "Elasticsearch;PostgreSQL;Redis;SQLite",
         "DatabaseWantToWorkWith": "Elasticsearch;PostgreSQL;Redis;SQLite",
         "PlatformHaveWorkedWith": "AWS",
         "PlatformWantToWorkWith": "AWS;DigitalOcean;Google Cloud Platform",
         "WebframeHaveWorkedWith": "Express;FastAPI;Flask;React.js",
         "WebframeWantToWorkWith": "Express;FastAPI;Flask;React.js;Vue.js",
         "MiscTechHaveWorkedWith": "NumPy;Pandas",
         "MiscTechWantToWorkWith": "NumPy;Pandas",
         "ToolsTechHaveWorkedWith": "Chef;Docker;Git;Kubernetes;Terraform;Yarn",
         "ToolsTechWantToWorkWith": "Docker;Git;Kubernetes;Yarn",
         "NEWCollabToolsHaveWorkedWith": "IPython/Jupyter;PyCharm;Vim;Visual Studio Code;Webstorm",
         "NEWCollabToolsWantToWorkWith": "PyCharm;Vim;Visual Studio Code;Webstorm",
         "OpSys": "Linux-based",
         "NEWStuck": "Visit Stack Overflow;Go for a walk or other physical activity;Google it;Watch help / tutorial video…",
         "NEWSOSites": "Stack Overflow;Stack Exchange",
         "SOVisitFreq": "Daily or almost daily",
         "SOAccount": "Yes",
         "SOPartFreq": "Less than once per month or monthly",
         "SOComm": "Yes, somewhat",
         "NEWOtherComms": "No",
         "Age": "25-34 years old",
         "Gender": "Man",
         "Trans": "No",
         "Sexuality": "nan",
         "Ethnicity": "Prefer not to say",
         "Accessibility": "None of the above",
         "MentalHealth": "Prefer not to say",
         "SurveyLength": "Appropriate in length",
         "SurveyEase": "Easy",
         "ConvertedCompYearly": "nan",
         "_deepnote_index_column": 21775
        },
        {
         "ResponseId": 79415,
         "MainBranch": "I am a student who is learning to code",
         "Employment": "Student, full-time",
         "Country": "India",
         "US_State": "nan",
         "UK_Country": "nan",
         "EdLevel": "Bachelor’s degree (B.A., B.S., B.Eng., etc.)",
         "Age1stCode": "11 - 17 years",
         "LearnCode": "Other online resources (ex: videos, blogs, etc);School;Online Courses or Certification",
         "YearsCode": "7",
         "YearsCodePro": "nan",
         "DevType": "nan",
         "OrgSize": "nan",
         "Currency": "nan",
         "CompTotal": "nan",
         "CompFreq": "nan",
         "LanguageHaveWorkedWith": "C;C++;HTML/CSS;Java;JavaScript;Node.js;Python;SQL",
         "LanguageWantToWorkWith": "Go;HTML/CSS;JavaScript;Python;SQL",
         "DatabaseHaveWorkedWith": "MongoDB;MySQL",
         "DatabaseWantToWorkWith": "MongoDB;MySQL",
         "PlatformHaveWorkedWith": "Heroku",
         "PlatformWantToWorkWith": "Heroku",
         "WebframeHaveWorkedWith": "Express;React.js",
         "WebframeWantToWorkWith": "Django;Express;React.js",
         "MiscTechHaveWorkedWith": "React Native",
         "MiscTechWantToWorkWith": "React Native;TensorFlow",
         "ToolsTechHaveWorkedWith": "Git;Yarn",
         "ToolsTechWantToWorkWith": "Git",
         "NEWCollabToolsHaveWorkedWith": "Sublime Text;Visual Studio Code",
         "NEWCollabToolsWantToWorkWith": "Sublime Text;Visual Studio Code",
         "OpSys": "Windows",
         "NEWStuck": "Visit Stack Overflow;Google it;Watch help / tutorial videos;Do other work and come back later;Play …",
         "NEWSOSites": "Stack Overflow;Stack Exchange",
         "SOVisitFreq": "A few times per week",
         "SOAccount": "Yes",
         "SOPartFreq": "Less than once per month or monthly",
         "SOComm": "Neutral",
         "NEWOtherComms": "Yes",
         "Age": "18-24 years old",
         "Gender": "Man",
         "Trans": "No",
         "Sexuality": "Straight / Heterosexual",
         "Ethnicity": "Southeast Asian;East Asian",
         "Accessibility": "I am blind / have difficulty seeing",
         "MentalHealth": "Prefer not to say",
         "SurveyLength": "Too long",
         "SurveyEase": "Neither easy nor difficult",
         "ConvertedCompYearly": "nan",
         "_deepnote_index_column": 79414
        },
        {
         "ResponseId": 198,
         "MainBranch": "I am a student who is learning to code",
         "Employment": "Independent contractor, freelancer, or self-employed",
         "Country": "Nepal",
         "US_State": "nan",
         "UK_Country": "nan",
         "EdLevel": "Bachelor’s degree (B.A., B.S., B.Eng., etc.)",
         "Age1stCode": "18 - 24 years",
         "LearnCode": "Coding Bootcamp;Other online resources (ex: videos, blogs, etc);School;Online Forum;Friend or famil…",
         "YearsCode": "3",
         "YearsCodePro": "nan",
         "DevType": "Developer, mobile;Developer, front-end;Developer, full-stack;Developer, back-end",
         "OrgSize": "nan",
         "Currency": "nan",
         "CompTotal": "nan",
         "CompFreq": "nan",
         "LanguageHaveWorkedWith": "C;C#;C++;Dart;HTML/CSS;Java;JavaScript;Node.js;PHP;Python;SQL",
         "LanguageWantToWorkWith": "HTML/CSS;JavaScript;Python;SQL",
         "DatabaseHaveWorkedWith": "MySQL;Oracle;PostgreSQL;SQLite",
         "DatabaseWantToWorkWith": "MySQL;PostgreSQL;SQLite",
         "PlatformHaveWorkedWith": "DigitalOcean;Heroku;Microsoft Azure",
         "PlatformWantToWorkWith": "DigitalOcean;Heroku;Microsoft Azure",
         "WebframeHaveWorkedWith": "ASP.NET;Django;jQuery;Laravel;React.js",
         "WebframeWantToWorkWith": "Django;jQuery;React.js",
         "MiscTechHaveWorkedWith": ".NET Framework;Flutter;React Native",
         "MiscTechWantToWorkWith": "Flutter;React Native",
         "ToolsTechHaveWorkedWith": "Git;Unity 3D",
         "ToolsTechWantToWorkWith": "Git",
         "NEWCollabToolsHaveWorkedWith": "Android Studio;Atom;Eclipse;IntelliJ;Sublime Text;Visual Studio;Visual Studio Code",
         "NEWCollabToolsWantToWorkWith": "Android Studio;Visual Studio;Visual Studio Code",
         "OpSys": "Linux-based",
         "NEWStuck": "Visit Stack Overflow;Google it;Watch help / tutorial videos;Do other work and come back later",
         "NEWSOSites": "Stack Overflow;Stack Exchange",
         "SOVisitFreq": "Multiple times per day",
         "SOAccount": "Yes",
         "SOPartFreq": "Daily or almost daily",
         "SOComm": "Yes, definitely",
         "NEWOtherComms": "No",
         "Age": "18-24 years old",
         "Gender": "Man",
         "Trans": "No",
         "Sexuality": "Straight / Heterosexual",
         "Ethnicity": "South Asian",
         "Accessibility": "None of the above",
         "MentalHealth": "None of the above",
         "SurveyLength": "Appropriate in length",
         "SurveyEase": "Easy",
         "ConvertedCompYearly": "nan",
         "_deepnote_index_column": 197
        },
        {
         "ResponseId": 20629,
         "MainBranch": "I code primarily as a hobby",
         "Employment": "Student, full-time",
         "Country": "Canada",
         "US_State": "nan",
         "UK_Country": "nan",
         "EdLevel": "Primary/elementary school",
         "Age1stCode": "5 - 10 years",
         "LearnCode": "Other online resources (ex: videos, blogs, etc);Friend or family member;Books / Physical media",
         "YearsCode": "8",
         "YearsCodePro": "nan",
         "DevType": "nan",
         "OrgSize": "nan",
         "Currency": "nan",
         "CompTotal": "nan",
         "CompFreq": "nan",
         "LanguageHaveWorkedWith": "HTML/CSS;Java;JavaScript;Python;Rust",
         "LanguageWantToWorkWith": "Assembly;C;HTML/CSS;Python",
         "DatabaseHaveWorkedWith": "nan",
         "DatabaseWantToWorkWith": "nan",
         "PlatformHaveWorkedWith": "nan",
         "PlatformWantToWorkWith": "nan",
         "WebframeHaveWorkedWith": "nan",
         "WebframeWantToWorkWith": "nan",
         "MiscTechHaveWorkedWith": "nan",
         "MiscTechWantToWorkWith": "nan",
         "ToolsTechHaveWorkedWith": "nan",
         "ToolsTechWantToWorkWith": "nan",
         "NEWCollabToolsHaveWorkedWith": "Vim",
         "NEWCollabToolsWantToWorkWith": "Emacs;Vim",
         "OpSys": "Linux-based",
         "NEWStuck": "Google it;Do other work and come back later;Play games;Panic",
         "NEWSOSites": "Stack Overflow;Stack Exchange",
         "SOVisitFreq": "A few times per month or weekly",
         "SOAccount": "Not sure/can't remember",
         "SOPartFreq": "nan",
         "SOComm": "No, not at all",
         "NEWOtherComms": "No",
         "Age": "Under 18 years old",
         "Gender": "Man",
         "Trans": "No",
         "Sexuality": "Prefer not to say",
         "Ethnicity": "Prefer not to say",
         "Accessibility": "None of the above",
         "MentalHealth": "Prefer not to say",
         "SurveyLength": "Appropriate in length",
         "SurveyEase": "Easy",
         "ConvertedCompYearly": "nan",
         "_deepnote_index_column": 20628
        },
        {
         "ResponseId": 17454,
         "MainBranch": "I am a developer by profession",
         "Employment": "Employed part-time",
         "Country": "United States of America",
         "US_State": "Florida",
         "UK_Country": "nan",
         "EdLevel": "Some college/university study without earning a degree",
         "Age1stCode": "11 - 17 years",
         "LearnCode": "Other online resources (ex: videos, blogs, etc);School",
         "YearsCode": "8",
         "YearsCodePro": "Less than 1 year",
         "DevType": "Developer, full-stack;Student",
         "OrgSize": "2 to 9 employees",
         "Currency": "USD\tUnited States dollar",
         "CompTotal": 160,
         "CompFreq": "Weekly",
         "LanguageHaveWorkedWith": "HTML/CSS;JavaScript;LISP",
         "LanguageWantToWorkWith": "R;Rust",
         "DatabaseHaveWorkedWith": "nan",
         "DatabaseWantToWorkWith": "nan",
         "PlatformHaveWorkedWith": "DigitalOcean",
         "PlatformWantToWorkWith": "DigitalOcean",
         "WebframeHaveWorkedWith": "React.js",
         "WebframeWantToWorkWith": "Angular;React.js",
         "MiscTechHaveWorkedWith": "nan",
         "MiscTechWantToWorkWith": "nan",
         "ToolsTechHaveWorkedWith": "Docker;Git;Yarn",
         "ToolsTechWantToWorkWith": "Docker;Git;Unreal Engine",
         "NEWCollabToolsHaveWorkedWith": "Visual Studio Code",
         "NEWCollabToolsWantToWorkWith": "Visual Studio Code",
         "OpSys": "Linux-based",
         "NEWStuck": "Visit Stack Overflow;Google it",
         "NEWSOSites": "Stack Overflow;Stack Exchange",
         "SOVisitFreq": "A few times per month or weekly",
         "SOAccount": "Yes",
         "SOPartFreq": "Less than once per month or monthly",
         "SOComm": "Neutral",
         "NEWOtherComms": "No",
         "Age": "18-24 years old",
         "Gender": "Man",
         "Trans": "No",
         "Sexuality": "Straight / Heterosexual",
         "Ethnicity": "White or of European descent;Hispanic or Latino/a/x",
         "Accessibility": "None of the above",
         "MentalHealth": "I have a mood or emotional disorder (e.g. depression, bipolar disorder)",
         "SurveyLength": "Appropriate in length",
         "SurveyEase": "Easy",
         "ConvertedCompYearly": 8000,
         "_deepnote_index_column": 17453
        }
       ]
      },
      "text/plain": "       ResponseId                              MainBranch  \\\n21775       21776          I am a developer by profession   \n79414       79415  I am a student who is learning to code   \n197           198  I am a student who is learning to code   \n20628       20629             I code primarily as a hobby   \n17453       17454          I am a developer by profession   \n\n                                              Employment  \\\n21775                                 Employed full-time   \n79414                                 Student, full-time   \n197    Independent contractor, freelancer, or self-em...   \n20628                                 Student, full-time   \n17453                                 Employed part-time   \n\n                        Country  US_State UK_Country  \\\n21775  United States of America  Colorado        NaN   \n79414                     India       NaN        NaN   \n197                       Nepal       NaN        NaN   \n20628                    Canada       NaN        NaN   \n17453  United States of America   Florida        NaN   \n\n                                                 EdLevel     Age1stCode  \\\n21775       Bachelor’s degree (B.A., B.S., B.Eng., etc.)  18 - 24 years   \n79414       Bachelor’s degree (B.A., B.S., B.Eng., etc.)  11 - 17 years   \n197         Bachelor’s degree (B.A., B.S., B.Eng., etc.)  18 - 24 years   \n20628                          Primary/elementary school   5 - 10 years   \n17453  Some college/university study without earning ...  11 - 17 years   \n\n                                               LearnCode YearsCode  ...  \\\n21775  Other online resources (ex: videos, blogs, etc...         7  ...   \n79414  Other online resources (ex: videos, blogs, etc...         7  ...   \n197    Coding Bootcamp;Other online resources (ex: vi...         3  ...   \n20628  Other online resources (ex: videos, blogs, etc...         8  ...   \n17453  Other online resources (ex: videos, blogs, etc...         8  ...   \n\n                      Age Gender Trans                Sexuality  \\\n21775     25-34 years old    Man    No                      NaN   \n79414     18-24 years old    Man    No  Straight / Heterosexual   \n197       18-24 years old    Man    No  Straight / Heterosexual   \n20628  Under 18 years old    Man    No        Prefer not to say   \n17453     18-24 years old    Man    No  Straight / Heterosexual   \n\n                                               Ethnicity  \\\n21775                                  Prefer not to say   \n79414                         Southeast Asian;East Asian   \n197                                          South Asian   \n20628                                  Prefer not to say   \n17453  White or of European descent;Hispanic or Latin...   \n\n                             Accessibility  \\\n21775                    None of the above   \n79414  I am blind / have difficulty seeing   \n197                      None of the above   \n20628                    None of the above   \n17453                    None of the above   \n\n                                            MentalHealth  \\\n21775                                  Prefer not to say   \n79414                                  Prefer not to say   \n197                                    None of the above   \n20628                                  Prefer not to say   \n17453  I have a mood or emotional disorder (e.g. depr...   \n\n                SurveyLength                  SurveyEase ConvertedCompYearly  \n21775  Appropriate in length                        Easy                 NaN  \n79414               Too long  Neither easy nor difficult                 NaN  \n197    Appropriate in length                        Easy                 NaN  \n20628  Appropriate in length                        Easy                 NaN  \n17453  Appropriate in length                        Easy              8000.0  \n\n[5 rows x 48 columns]",
      "text/html": "<div>\n<style scoped>\n    .dataframe tbody tr th:only-of-type {\n        vertical-align: middle;\n    }\n\n    .dataframe tbody tr th {\n        vertical-align: top;\n    }\n\n    .dataframe thead th {\n        text-align: right;\n    }\n</style>\n<table border=\"1\" class=\"dataframe\">\n  <thead>\n    <tr style=\"text-align: right;\">\n      <th></th>\n      <th>ResponseId</th>\n      <th>MainBranch</th>\n      <th>Employment</th>\n      <th>Country</th>\n      <th>US_State</th>\n      <th>UK_Country</th>\n      <th>EdLevel</th>\n      <th>Age1stCode</th>\n      <th>LearnCode</th>\n      <th>YearsCode</th>\n      <th>...</th>\n      <th>Age</th>\n      <th>Gender</th>\n      <th>Trans</th>\n      <th>Sexuality</th>\n      <th>Ethnicity</th>\n      <th>Accessibility</th>\n      <th>MentalHealth</th>\n      <th>SurveyLength</th>\n      <th>SurveyEase</th>\n      <th>ConvertedCompYearly</th>\n    </tr>\n  </thead>\n  <tbody>\n    <tr>\n      <th>21775</th>\n      <td>21776</td>\n      <td>I am a developer by profession</td>\n      <td>Employed full-time</td>\n      <td>United States of America</td>\n      <td>Colorado</td>\n      <td>NaN</td>\n      <td>Bachelor’s degree (B.A., B.S., B.Eng., etc.)</td>\n      <td>18 - 24 years</td>\n      <td>Other online resources (ex: videos, blogs, etc...</td>\n      <td>7</td>\n      <td>...</td>\n      <td>25-34 years old</td>\n      <td>Man</td>\n      <td>No</td>\n      <td>NaN</td>\n      <td>Prefer not to say</td>\n      <td>None of the above</td>\n      <td>Prefer not to say</td>\n      <td>Appropriate in length</td>\n      <td>Easy</td>\n      <td>NaN</td>\n    </tr>\n    <tr>\n      <th>79414</th>\n      <td>79415</td>\n      <td>I am a student who is learning to code</td>\n      <td>Student, full-time</td>\n      <td>India</td>\n      <td>NaN</td>\n      <td>NaN</td>\n      <td>Bachelor’s degree (B.A., B.S., B.Eng., etc.)</td>\n      <td>11 - 17 years</td>\n      <td>Other online resources (ex: videos, blogs, etc...</td>\n      <td>7</td>\n      <td>...</td>\n      <td>18-24 years old</td>\n      <td>Man</td>\n      <td>No</td>\n      <td>Straight / Heterosexual</td>\n      <td>Southeast Asian;East Asian</td>\n      <td>I am blind / have difficulty seeing</td>\n      <td>Prefer not to say</td>\n      <td>Too long</td>\n      <td>Neither easy nor difficult</td>\n      <td>NaN</td>\n    </tr>\n    <tr>\n      <th>197</th>\n      <td>198</td>\n      <td>I am a student who is learning to code</td>\n      <td>Independent contractor, freelancer, or self-em...</td>\n      <td>Nepal</td>\n      <td>NaN</td>\n      <td>NaN</td>\n      <td>Bachelor’s degree (B.A., B.S., B.Eng., etc.)</td>\n      <td>18 - 24 years</td>\n      <td>Coding Bootcamp;Other online resources (ex: vi...</td>\n      <td>3</td>\n      <td>...</td>\n      <td>18-24 years old</td>\n      <td>Man</td>\n      <td>No</td>\n      <td>Straight / Heterosexual</td>\n      <td>South Asian</td>\n      <td>None of the above</td>\n      <td>None of the above</td>\n      <td>Appropriate in length</td>\n      <td>Easy</td>\n      <td>NaN</td>\n    </tr>\n    <tr>\n      <th>20628</th>\n      <td>20629</td>\n      <td>I code primarily as a hobby</td>\n      <td>Student, full-time</td>\n      <td>Canada</td>\n      <td>NaN</td>\n      <td>NaN</td>\n      <td>Primary/elementary school</td>\n      <td>5 - 10 years</td>\n      <td>Other online resources (ex: videos, blogs, etc...</td>\n      <td>8</td>\n      <td>...</td>\n      <td>Under 18 years old</td>\n      <td>Man</td>\n      <td>No</td>\n      <td>Prefer not to say</td>\n      <td>Prefer not to say</td>\n      <td>None of the above</td>\n      <td>Prefer not to say</td>\n      <td>Appropriate in length</td>\n      <td>Easy</td>\n      <td>NaN</td>\n    </tr>\n    <tr>\n      <th>17453</th>\n      <td>17454</td>\n      <td>I am a developer by profession</td>\n      <td>Employed part-time</td>\n      <td>United States of America</td>\n      <td>Florida</td>\n      <td>NaN</td>\n      <td>Some college/university study without earning ...</td>\n      <td>11 - 17 years</td>\n      <td>Other online resources (ex: videos, blogs, etc...</td>\n      <td>8</td>\n      <td>...</td>\n      <td>18-24 years old</td>\n      <td>Man</td>\n      <td>No</td>\n      <td>Straight / Heterosexual</td>\n      <td>White or of European descent;Hispanic or Latin...</td>\n      <td>None of the above</td>\n      <td>I have a mood or emotional disorder (e.g. depr...</td>\n      <td>Appropriate in length</td>\n      <td>Easy</td>\n      <td>8000.0</td>\n    </tr>\n  </tbody>\n</table>\n<p>5 rows × 48 columns</p>\n</div>"
     },
     "metadata": {}
    }
   ]
  },
  {
   "cell_type": "markdown",
   "source": "Seleccionar las columnas que pueden ayudar a contestar las preguntas (mostradas en el tercer notebook). Y también los países hispanohablantes para filtrar la data (también se incluyó a Brasil).",
   "metadata": {
    "cell_id": "560413b1-9f1c-4445-bc54-dede3316235e",
    "tags": [],
    "deepnote_cell_type": "markdown"
   }
  },
  {
   "cell_type": "code",
   "metadata": {
    "cell_id": "ad6bc086-52e3-45b5-9e56-1fef3e644e22",
    "tags": [],
    "deepnote_to_be_reexecuted": false,
    "source_hash": "90ffcd9b",
    "execution_start": 1646000253574,
    "execution_millis": 11,
    "deepnote_cell_type": "code"
   },
   "source": "# Select columns\ncolumns = ['ResponseId', 'Age', 'Gender', 'Sexuality', 'Country',\n            'EdLevel', 'LearnCode', 'YearsCode', 'YearsCodePro',\n            'Employment', 'ConvertedCompYearly']\n\n# Filter registers by countries\nlatam = ['Peru', 'Colombia', 'Chile', 'Argentina', 'Costa Rica', 'Bolivia',\n            'Uruguay', 'Mexico', 'Venezuela, Bolivarian Republic of...'\n            'Dominican Republic', 'Ecuador', 'Guatemala', 'Paraguay', 'Panama',\n            'El Salvador', 'Nicaragua',  'Brazil', 'Spain']\n\n# New dataset\nin_latam = df_survey.Country.isin(latam)\ndf = df_survey[in_latam][columns].set_index('ResponseId')",
   "execution_count": 7,
   "outputs": []
  },
  {
   "cell_type": "code",
   "metadata": {
    "cell_id": "49fdfe8a-344a-44bb-ab16-01603888694d",
    "tags": [],
    "deepnote_to_be_reexecuted": false,
    "source_hash": "cba0f1cb",
    "execution_start": 1646000253586,
    "execution_millis": 8,
    "deepnote_cell_type": "code"
   },
   "source": "s = df.shape\np = s[0] / df_survey.shape[0] * 100\nprint(f'Registros: {s[0]}')\nprint(f'Porcentaje total del dataset: {round(p,2)}%')\nprint(f'Columnas: {s[1]}')",
   "execution_count": 8,
   "outputs": [
    {
     "name": "stdout",
     "text": "Registros: 6337\nPorcentaje total del dataset: 7.59%\nColumnas: 10\n",
     "output_type": "stream"
    }
   ]
  },
  {
   "cell_type": "markdown",
   "source": "Veamos los tipos de datos y qué contienen las variables",
   "metadata": {
    "cell_id": "d576ea7e-f1ec-4ca4-8a50-993acbdbd1d2",
    "tags": [],
    "deepnote_to_be_reexecuted": false,
    "source_hash": "1d89ab00",
    "execution_start": 1645585403819,
    "execution_millis": 6,
    "deepnote_cell_type": "markdown"
   }
  },
  {
   "cell_type": "code",
   "metadata": {
    "cell_id": "16ee751e-5197-4c1e-9470-e73178fb5fe7",
    "tags": [],
    "deepnote_to_be_reexecuted": false,
    "source_hash": "de1e323c",
    "execution_start": 1646000253599,
    "execution_millis": 7,
    "deepnote_cell_type": "code"
   },
   "source": "df.info()",
   "execution_count": 9,
   "outputs": [
    {
     "name": "stdout",
     "text": "<class 'pandas.core.frame.DataFrame'>\nInt64Index: 6337 entries, 12 to 83439\nData columns (total 10 columns):\n #   Column               Non-Null Count  Dtype  \n---  ------               --------------  -----  \n 0   Age                  6307 non-null   object \n 1   Gender               6305 non-null   object \n 2   Sexuality            5885 non-null   object \n 3   Country              6337 non-null   object \n 4   EdLevel              6322 non-null   object \n 5   LearnCode            6316 non-null   object \n 6   YearsCode            6254 non-null   object \n 7   YearsCodePro         5160 non-null   object \n 8   Employment           6335 non-null   object \n 9   ConvertedCompYearly  4389 non-null   float64\ndtypes: float64(1), object(9)\nmemory usage: 544.6+ KB\n",
     "output_type": "stream"
    }
   ]
  },
  {
   "cell_type": "code",
   "metadata": {
    "cell_id": "53827ed4-8dba-488e-a0c1-3fe976d55865",
    "tags": [],
    "deepnote_to_be_reexecuted": false,
    "source_hash": "b1cecf2d",
    "execution_start": 1646000253608,
    "execution_millis": 53,
    "deepnote_cell_type": "code"
   },
   "source": "df.describe(include='all')",
   "execution_count": 10,
   "outputs": [
    {
     "output_type": "execute_result",
     "execution_count": 10,
     "data": {
      "application/vnd.deepnote.dataframe.v3+json": {
       "column_count": 10,
       "row_count": 11,
       "columns": [
        {
         "name": "Age",
         "dtype": "object",
         "stats": {
          "unique_count": 4,
          "nan_count": 7,
          "categories": [
           {
            "name": "6307",
            "count": 1
           },
           {
            "name": "3 others",
            "count": 3
           },
           {
            "name": "Missing",
            "count": 7
           }
          ]
         }
        },
        {
         "name": "Gender",
         "dtype": "object",
         "stats": {
          "unique_count": 4,
          "nan_count": 7,
          "categories": [
           {
            "name": "6305",
            "count": 1
           },
           {
            "name": "3 others",
            "count": 3
           },
           {
            "name": "Missing",
            "count": 7
           }
          ]
         }
        },
        {
         "name": "Sexuality",
         "dtype": "object",
         "stats": {
          "unique_count": 4,
          "nan_count": 7,
          "categories": [
           {
            "name": "5885",
            "count": 1
           },
           {
            "name": "3 others",
            "count": 3
           },
           {
            "name": "Missing",
            "count": 7
           }
          ]
         }
        },
        {
         "name": "Country",
         "dtype": "object",
         "stats": {
          "unique_count": 4,
          "nan_count": 7,
          "categories": [
           {
            "name": "6337",
            "count": 1
           },
           {
            "name": "3 others",
            "count": 3
           },
           {
            "name": "Missing",
            "count": 7
           }
          ]
         }
        },
        {
         "name": "EdLevel",
         "dtype": "object",
         "stats": {
          "unique_count": 4,
          "nan_count": 7,
          "categories": [
           {
            "name": "6322",
            "count": 1
           },
           {
            "name": "3 others",
            "count": 3
           },
           {
            "name": "Missing",
            "count": 7
           }
          ]
         }
        },
        {
         "name": "LearnCode",
         "dtype": "object",
         "stats": {
          "unique_count": 4,
          "nan_count": 7,
          "categories": [
           {
            "name": "6316",
            "count": 1
           },
           {
            "name": "3 others",
            "count": 3
           },
           {
            "name": "Missing",
            "count": 7
           }
          ]
         }
        },
        {
         "name": "YearsCode",
         "dtype": "object",
         "stats": {
          "unique_count": 4,
          "nan_count": 7,
          "categories": [
           {
            "name": "6254",
            "count": 1
           },
           {
            "name": "3 others",
            "count": 3
           },
           {
            "name": "Missing",
            "count": 7
           }
          ]
         }
        },
        {
         "name": "YearsCodePro",
         "dtype": "object",
         "stats": {
          "unique_count": 4,
          "nan_count": 7,
          "categories": [
           {
            "name": "5160",
            "count": 1
           },
           {
            "name": "3 others",
            "count": 3
           },
           {
            "name": "Missing",
            "count": 7
           }
          ]
         }
        },
        {
         "name": "Employment",
         "dtype": "object",
         "stats": {
          "unique_count": 4,
          "nan_count": 7,
          "categories": [
           {
            "name": "6335",
            "count": 1
           },
           {
            "name": "3 others",
            "count": 3
           },
           {
            "name": "Missing",
            "count": 7
           }
          ]
         }
        },
        {
         "name": "ConvertedCompYearly",
         "dtype": "float64",
         "stats": {
          "unique_count": 8,
          "nan_count": 3,
          "min": "12.0",
          "max": "4656132.0",
          "histogram": [
           {
            "bin_start": 12,
            "bin_end": 465624,
            "count": 7
           },
           {
            "bin_start": 465624,
            "bin_end": 931236,
            "count": 0
           },
           {
            "bin_start": 931236,
            "bin_end": 1396848,
            "count": 0
           },
           {
            "bin_start": 1396848,
            "bin_end": 1862460,
            "count": 0
           },
           {
            "bin_start": 1862460,
            "bin_end": 2328072,
            "count": 0
           },
           {
            "bin_start": 2328072,
            "bin_end": 2793684,
            "count": 0
           },
           {
            "bin_start": 2793684,
            "bin_end": 3259296,
            "count": 0
           },
           {
            "bin_start": 3259296,
            "bin_end": 3724908,
            "count": 0
           },
           {
            "bin_start": 3724908,
            "bin_end": 4190520,
            "count": 0
           },
           {
            "bin_start": 4190520,
            "bin_end": 4656132,
            "count": 1
           }
          ]
         }
        },
        {
         "name": "_deepnote_index_column",
         "dtype": "object"
        }
       ],
       "rows": [
        {
         "Age": "6307",
         "Gender": "6305",
         "Sexuality": "5885",
         "Country": "6337",
         "EdLevel": "6322",
         "LearnCode": "6316",
         "YearsCode": "6254",
         "YearsCodePro": "5160",
         "Employment": "6335",
         "ConvertedCompYearly": 4389,
         "_deepnote_index_column": "count"
        },
        {
         "Age": "8",
         "Gender": "11",
         "Sexuality": "21",
         "Country": "16",
         "EdLevel": "9",
         "LearnCode": "306",
         "YearsCode": "51",
         "YearsCodePro": "43",
         "Employment": "9",
         "ConvertedCompYearly": "nan",
         "_deepnote_index_column": "unique"
        },
        {
         "Age": "25-34 years old",
         "Gender": "Man",
         "Sexuality": "Straight / Heterosexual",
         "Country": "Brazil",
         "EdLevel": "Bachelor’s degree (B.A., B.S., B.Eng., etc.)",
         "LearnCode": "School",
         "YearsCode": "10",
         "YearsCodePro": "3",
         "Employment": "Employed full-time",
         "ConvertedCompYearly": "nan",
         "_deepnote_index_column": "top"
        },
        {
         "Age": "2695",
         "Gender": "5870",
         "Sexuality": "5070",
         "Country": "2254",
         "EdLevel": "2535",
         "LearnCode": "614",
         "YearsCode": "514",
         "YearsCodePro": "481",
         "Employment": "4381",
         "ConvertedCompYearly": "nan",
         "_deepnote_index_column": "freq"
        },
        {
         "Age": "nan",
         "Gender": "nan",
         "Sexuality": "nan",
         "Country": "nan",
         "EdLevel": "nan",
         "LearnCode": "nan",
         "YearsCode": "nan",
         "YearsCodePro": "nan",
         "Employment": "nan",
         "ConvertedCompYearly": 49063.98313966735,
         "_deepnote_index_column": "mean"
        },
        {
         "Age": "nan",
         "Gender": "nan",
         "Sexuality": "nan",
         "Country": "nan",
         "EdLevel": "nan",
         "LearnCode": "nan",
         "YearsCode": "nan",
         "YearsCodePro": "nan",
         "Employment": "nan",
         "ConvertedCompYearly": 137150.89512152993,
         "_deepnote_index_column": "std"
        },
        {
         "Age": "nan",
         "Gender": "nan",
         "Sexuality": "nan",
         "Country": "nan",
         "EdLevel": "nan",
         "LearnCode": "nan",
         "YearsCode": "nan",
         "YearsCodePro": "nan",
         "Employment": "nan",
         "ConvertedCompYearly": 12,
         "_deepnote_index_column": "min"
        },
        {
         "Age": "nan",
         "Gender": "nan",
         "Sexuality": "nan",
         "Country": "nan",
         "EdLevel": "nan",
         "LearnCode": "nan",
         "YearsCode": "nan",
         "YearsCodePro": "nan",
         "Employment": "nan",
         "ConvertedCompYearly": 15672,
         "_deepnote_index_column": "25%"
        },
        {
         "Age": "nan",
         "Gender": "nan",
         "Sexuality": "nan",
         "Country": "nan",
         "EdLevel": "nan",
         "LearnCode": "nan",
         "YearsCode": "nan",
         "YearsCodePro": "nan",
         "Employment": "nan",
         "ConvertedCompYearly": 28105,
         "_deepnote_index_column": "50%"
        },
        {
         "Age": "nan",
         "Gender": "nan",
         "Sexuality": "nan",
         "Country": "nan",
         "EdLevel": "nan",
         "LearnCode": "nan",
         "YearsCode": "nan",
         "YearsCodePro": "nan",
         "Employment": "nan",
         "ConvertedCompYearly": 47184,
         "_deepnote_index_column": "75%"
        }
       ]
      },
      "text/plain": "                    Age Gender                Sexuality Country  \\\ncount              6307   6305                     5885    6337   \nunique                8     11                       21      16   \ntop     25-34 years old    Man  Straight / Heterosexual  Brazil   \nfreq               2695   5870                     5070    2254   \nmean                NaN    NaN                      NaN     NaN   \nstd                 NaN    NaN                      NaN     NaN   \nmin                 NaN    NaN                      NaN     NaN   \n25%                 NaN    NaN                      NaN     NaN   \n50%                 NaN    NaN                      NaN     NaN   \n75%                 NaN    NaN                      NaN     NaN   \nmax                 NaN    NaN                      NaN     NaN   \n\n                                             EdLevel LearnCode YearsCode  \\\ncount                                           6322      6316      6254   \nunique                                             9       306        51   \ntop     Bachelor’s degree (B.A., B.S., B.Eng., etc.)    School        10   \nfreq                                            2535       614       514   \nmean                                             NaN       NaN       NaN   \nstd                                              NaN       NaN       NaN   \nmin                                              NaN       NaN       NaN   \n25%                                              NaN       NaN       NaN   \n50%                                              NaN       NaN       NaN   \n75%                                              NaN       NaN       NaN   \nmax                                              NaN       NaN       NaN   \n\n       YearsCodePro          Employment  ConvertedCompYearly  \ncount          5160                6335         4.389000e+03  \nunique           43                   9                  NaN  \ntop               3  Employed full-time                  NaN  \nfreq            481                4381                  NaN  \nmean            NaN                 NaN         4.906398e+04  \nstd             NaN                 NaN         1.371509e+05  \nmin             NaN                 NaN         1.200000e+01  \n25%             NaN                 NaN         1.567200e+04  \n50%             NaN                 NaN         2.810500e+04  \n75%             NaN                 NaN         4.718400e+04  \nmax             NaN                 NaN         4.656132e+06  ",
      "text/html": "<div>\n<style scoped>\n    .dataframe tbody tr th:only-of-type {\n        vertical-align: middle;\n    }\n\n    .dataframe tbody tr th {\n        vertical-align: top;\n    }\n\n    .dataframe thead th {\n        text-align: right;\n    }\n</style>\n<table border=\"1\" class=\"dataframe\">\n  <thead>\n    <tr style=\"text-align: right;\">\n      <th></th>\n      <th>Age</th>\n      <th>Gender</th>\n      <th>Sexuality</th>\n      <th>Country</th>\n      <th>EdLevel</th>\n      <th>LearnCode</th>\n      <th>YearsCode</th>\n      <th>YearsCodePro</th>\n      <th>Employment</th>\n      <th>ConvertedCompYearly</th>\n    </tr>\n  </thead>\n  <tbody>\n    <tr>\n      <th>count</th>\n      <td>6307</td>\n      <td>6305</td>\n      <td>5885</td>\n      <td>6337</td>\n      <td>6322</td>\n      <td>6316</td>\n      <td>6254</td>\n      <td>5160</td>\n      <td>6335</td>\n      <td>4.389000e+03</td>\n    </tr>\n    <tr>\n      <th>unique</th>\n      <td>8</td>\n      <td>11</td>\n      <td>21</td>\n      <td>16</td>\n      <td>9</td>\n      <td>306</td>\n      <td>51</td>\n      <td>43</td>\n      <td>9</td>\n      <td>NaN</td>\n    </tr>\n    <tr>\n      <th>top</th>\n      <td>25-34 years old</td>\n      <td>Man</td>\n      <td>Straight / Heterosexual</td>\n      <td>Brazil</td>\n      <td>Bachelor’s degree (B.A., B.S., B.Eng., etc.)</td>\n      <td>School</td>\n      <td>10</td>\n      <td>3</td>\n      <td>Employed full-time</td>\n      <td>NaN</td>\n    </tr>\n    <tr>\n      <th>freq</th>\n      <td>2695</td>\n      <td>5870</td>\n      <td>5070</td>\n      <td>2254</td>\n      <td>2535</td>\n      <td>614</td>\n      <td>514</td>\n      <td>481</td>\n      <td>4381</td>\n      <td>NaN</td>\n    </tr>\n    <tr>\n      <th>mean</th>\n      <td>NaN</td>\n      <td>NaN</td>\n      <td>NaN</td>\n      <td>NaN</td>\n      <td>NaN</td>\n      <td>NaN</td>\n      <td>NaN</td>\n      <td>NaN</td>\n      <td>NaN</td>\n      <td>4.906398e+04</td>\n    </tr>\n    <tr>\n      <th>std</th>\n      <td>NaN</td>\n      <td>NaN</td>\n      <td>NaN</td>\n      <td>NaN</td>\n      <td>NaN</td>\n      <td>NaN</td>\n      <td>NaN</td>\n      <td>NaN</td>\n      <td>NaN</td>\n      <td>1.371509e+05</td>\n    </tr>\n    <tr>\n      <th>min</th>\n      <td>NaN</td>\n      <td>NaN</td>\n      <td>NaN</td>\n      <td>NaN</td>\n      <td>NaN</td>\n      <td>NaN</td>\n      <td>NaN</td>\n      <td>NaN</td>\n      <td>NaN</td>\n      <td>1.200000e+01</td>\n    </tr>\n    <tr>\n      <th>25%</th>\n      <td>NaN</td>\n      <td>NaN</td>\n      <td>NaN</td>\n      <td>NaN</td>\n      <td>NaN</td>\n      <td>NaN</td>\n      <td>NaN</td>\n      <td>NaN</td>\n      <td>NaN</td>\n      <td>1.567200e+04</td>\n    </tr>\n    <tr>\n      <th>50%</th>\n      <td>NaN</td>\n      <td>NaN</td>\n      <td>NaN</td>\n      <td>NaN</td>\n      <td>NaN</td>\n      <td>NaN</td>\n      <td>NaN</td>\n      <td>NaN</td>\n      <td>NaN</td>\n      <td>2.810500e+04</td>\n    </tr>\n    <tr>\n      <th>75%</th>\n      <td>NaN</td>\n      <td>NaN</td>\n      <td>NaN</td>\n      <td>NaN</td>\n      <td>NaN</td>\n      <td>NaN</td>\n      <td>NaN</td>\n      <td>NaN</td>\n      <td>NaN</td>\n      <td>4.718400e+04</td>\n    </tr>\n    <tr>\n      <th>max</th>\n      <td>NaN</td>\n      <td>NaN</td>\n      <td>NaN</td>\n      <td>NaN</td>\n      <td>NaN</td>\n      <td>NaN</td>\n      <td>NaN</td>\n      <td>NaN</td>\n      <td>NaN</td>\n      <td>4.656132e+06</td>\n    </tr>\n  </tbody>\n</table>\n</div>"
     },
     "metadata": {}
    }
   ]
  },
  {
   "cell_type": "markdown",
   "source": "Hay algunas columnas que podrían ser numéricas, pero están como categóricas, ¿por qué?",
   "metadata": {
    "cell_id": "d4c043e7-c1d3-434e-bb82-1afa071bd6de",
    "tags": [],
    "deepnote_to_be_reexecuted": false,
    "source_hash": "98a4e821",
    "execution_start": 1645582744382,
    "execution_millis": 4,
    "deepnote_cell_type": "markdown"
   }
  },
  {
   "cell_type": "code",
   "metadata": {
    "cell_id": "c585b081-f82d-4fe1-8c36-cbedfeb47f11",
    "tags": [],
    "deepnote_to_be_reexecuted": false,
    "source_hash": "781be1ef",
    "execution_start": 1646000253665,
    "execution_millis": 4,
    "deepnote_cell_type": "code"
   },
   "source": "df.YearsCode.value_counts().sort_values().head()",
   "execution_count": 11,
   "outputs": [
    {
     "output_type": "execute_result",
     "execution_count": 11,
     "data": {
      "text/plain": "48                    1\n47                    1\nMore than 50 years    1\n50                    1\n44                    2\nName: YearsCode, dtype: int64"
     },
     "metadata": {}
    }
   ]
  },
  {
   "cell_type": "code",
   "metadata": {
    "cell_id": "94420460-adb6-4126-aeb3-bbbb5541e286",
    "tags": [],
    "deepnote_to_be_reexecuted": false,
    "source_hash": "f55248f5",
    "execution_start": 1646000253697,
    "execution_millis": 5,
    "deepnote_cell_type": "code"
   },
   "source": "df.YearsCodePro.value_counts().sort_values().head()",
   "execution_count": 12,
   "outputs": [
    {
     "output_type": "execute_result",
     "execution_count": 12,
     "data": {
      "text/plain": "More than 50 years    1\n38                    1\n43                    1\n42                    2\n34                    5\nName: YearsCodePro, dtype: int64"
     },
     "metadata": {}
    }
   ]
  },
  {
   "cell_type": "markdown",
   "source": "Como solo hay 1 valor de \"más de 50 años\" para cada columna, se lo reemplazará con `50`. Y los valores de \"menos de 1 año\" con `0.5`. De esa manera se podrá tener columnas numéricas.",
   "metadata": {
    "cell_id": "5e8229fa-bbe2-4c8d-8288-e84b87947c54",
    "tags": [],
    "deepnote_cell_type": "markdown"
   }
  },
  {
   "cell_type": "code",
   "metadata": {
    "cell_id": "c20c7104-ea5d-4508-af49-8cfecead88bb",
    "tags": [],
    "deepnote_to_be_reexecuted": false,
    "source_hash": "a99a61c7",
    "execution_start": 1646000253698,
    "execution_millis": 1,
    "deepnote_cell_type": "code"
   },
   "source": "df['YearsCode'] = pd.to_numeric(df.YearsCode.replace(['More than 50 years', 'Less than 1 year'], [50, 0.5]))\ndf['YearsCodePro'] = pd.to_numeric(df.YearsCodePro.replace(['More than 50 years', 'Less than 1 year'], [50, 0.5]))",
   "execution_count": 13,
   "outputs": []
  },
  {
   "cell_type": "markdown",
   "source": "### Reducir categorías\n\nHay varias preguntas que tienen múltiples opciones, pero son bajas porcentualmente. Se las reducirá a menos categorías para simplificar el análisis.",
   "metadata": {
    "cell_id": "90d67c94-bd47-4b31-9cd3-9a8947bd85fd",
    "tags": [],
    "deepnote_cell_type": "markdown"
   }
  },
  {
   "cell_type": "markdown",
   "source": "#### Género",
   "metadata": {
    "cell_id": "27a2fd08-434a-4f26-825d-622da5cabb0c",
    "tags": [],
    "deepnote_cell_type": "markdown"
   }
  },
  {
   "cell_type": "code",
   "metadata": {
    "cell_id": "ed40c769-dae5-4d3b-9be6-2de75b91f695",
    "tags": [],
    "deepnote_to_be_reexecuted": false,
    "source_hash": "7b71ac80",
    "execution_start": 1646000253699,
    "execution_millis": 4,
    "deepnote_cell_type": "code"
   },
   "source": "df.Gender.value_counts(normalize=True)",
   "execution_count": 14,
   "outputs": [
    {
     "output_type": "execute_result",
     "execution_count": 14,
     "data": {
      "text/plain": "Man                                                                         0.931007\nWoman                                                                       0.039492\nPrefer not to say                                                           0.009516\nNon-binary, genderqueer, or gender non-conforming                           0.007454\nMan;Or, in your own words:                                                  0.004124\nOr, in your own words:                                                      0.003331\nMan;Non-binary, genderqueer, or gender non-conforming                       0.002855\nWoman;Non-binary, genderqueer, or gender non-conforming                     0.001427\nNon-binary, genderqueer, or gender non-conforming;Or, in your own words:    0.000317\nMan;Woman;Non-binary, genderqueer, or gender non-conforming                 0.000317\nMan;Woman                                                                   0.000159\nName: Gender, dtype: float64"
     },
     "metadata": {}
    }
   ]
  },
  {
   "cell_type": "code",
   "metadata": {
    "cell_id": "c19e60b4-2440-49a5-8e79-d0a0bd18b153",
    "tags": [],
    "deepnote_to_be_reexecuted": false,
    "source_hash": "b840ec0e",
    "execution_start": 1646000253701,
    "execution_millis": 6,
    "deepnote_cell_type": "code"
   },
   "source": "df.Gender.where(df.Gender.isin(['Man', 'Woman']), 'Other', inplace=True)\ndf.Gender.value_counts(normalize=True)",
   "execution_count": 15,
   "outputs": [
    {
     "output_type": "execute_result",
     "execution_count": 15,
     "data": {
      "text/plain": "Man      0.926306\nWoman    0.039293\nOther    0.034401\nName: Gender, dtype: float64"
     },
     "metadata": {}
    }
   ]
  },
  {
   "cell_type": "markdown",
   "source": "#### Edad",
   "metadata": {
    "cell_id": "c6d5bf25-b727-4ce3-af60-72d0eb2b43f8",
    "tags": [],
    "deepnote_cell_type": "markdown"
   }
  },
  {
   "cell_type": "code",
   "metadata": {
    "cell_id": "3761515e-ee8e-4d90-a0a4-eff97e962a3a",
    "tags": [],
    "deepnote_to_be_reexecuted": false,
    "source_hash": "98aff8ca",
    "execution_start": 1646000253730,
    "execution_millis": 5,
    "deepnote_cell_type": "code"
   },
   "source": "df.Age.value_counts(normalize=True)",
   "execution_count": 16,
   "outputs": [
    {
     "output_type": "execute_result",
     "execution_count": 16,
     "data": {
      "text/plain": "25-34 years old       0.427303\n18-24 years old       0.241319\n35-44 years old       0.212938\n45-54 years old       0.070398\nUnder 18 years old    0.030442\n55-64 years old       0.013794\nPrefer not to say     0.002537\n65 years or older     0.001268\nName: Age, dtype: float64"
     },
     "metadata": {}
    }
   ]
  },
  {
   "cell_type": "code",
   "metadata": {
    "cell_id": "90564676-8467-4804-9daf-8e463fb6c903",
    "tags": [],
    "deepnote_to_be_reexecuted": false,
    "source_hash": "ba1ee9f9",
    "execution_start": 1646000253731,
    "execution_millis": 4,
    "deepnote_cell_type": "code"
   },
   "source": "df.Age.where(~(df.Age.isin(['45-54 years old', '55-64 years old', '65 years or older'])), '> 45 years old', inplace=True)\ndf.drop(df.Age[df.Age == 'Prefer not to say'].index, inplace=True)\ndf.Age.value_counts(normalize=True)",
   "execution_count": 17,
   "outputs": [
    {
     "output_type": "execute_result",
     "execution_count": 17,
     "data": {
      "text/plain": "25-34 years old       0.428390\n18-24 years old       0.241933\n35-44 years old       0.213480\n> 45 years old        0.085678\nUnder 18 years old    0.030520\nName: Age, dtype: float64"
     },
     "metadata": {}
    }
   ]
  },
  {
   "cell_type": "markdown",
   "source": "#### Sexuality",
   "metadata": {
    "cell_id": "e2eb8e87-9cf4-4d17-ba00-2c83473284f0",
    "tags": [],
    "deepnote_cell_type": "markdown"
   }
  },
  {
   "cell_type": "code",
   "metadata": {
    "cell_id": "bd3f318d-292b-4d97-8fb9-4de911af2f2c",
    "tags": [],
    "deepnote_to_be_reexecuted": false,
    "source_hash": "c715ee4a",
    "execution_start": 1646000253732,
    "execution_millis": 7,
    "deepnote_cell_type": "code"
   },
   "source": "df.Sexuality.value_counts(normalize=True)",
   "execution_count": 18,
   "outputs": [
    {
     "output_type": "execute_result",
     "execution_count": 18,
     "data": {
      "text/plain": "Straight / Heterosexual                                   0.862862\nBisexual                                                  0.048211\nPrefer not to say                                         0.028450\nGay or Lesbian                                            0.026576\nPrefer to self-describe:                                  0.013118\nStraight / Heterosexual;Bisexual                          0.007155\nQueer                                                     0.003578\nStraight / Heterosexual;Prefer to self-describe:          0.002726\nBisexual;Queer                                            0.002215\nBisexual;Gay or Lesbian                                   0.001022\nGay or Lesbian;Queer                                      0.000681\nBisexual;Prefer to self-describe:                         0.000681\nStraight / Heterosexual;Queer                             0.000511\nBisexual;Gay or Lesbian;Queer                             0.000511\nStraight / Heterosexual;Bisexual;Gay or Lesbian           0.000341\nPrefer to self-describe:;Queer                            0.000341\nBisexual;Prefer to self-describe:;Gay or Lesbian;Queer    0.000341\nPrefer to self-describe:;Gay or Lesbian;Queer             0.000170\nStraight / Heterosexual;Bisexual;Queer                    0.000170\nStraight / Heterosexual;Bisexual;Gay or Lesbian;Queer     0.000170\nBisexual;Prefer to self-describe:;Queer                   0.000170\nName: Sexuality, dtype: float64"
     },
     "metadata": {}
    }
   ]
  },
  {
   "cell_type": "code",
   "metadata": {
    "cell_id": "8fdc9d72-cb95-4645-8ea9-92277295a10e",
    "tags": [],
    "deepnote_to_be_reexecuted": false,
    "source_hash": "600337db",
    "execution_start": 1646000253737,
    "execution_millis": 6,
    "deepnote_cell_type": "code"
   },
   "source": "df.Sexuality.where(df.Sexuality.isin(['Straight / Heterosexual']), 'LGBT / Non-hetero', inplace=True)\ndf.Sexuality.value_counts(normalize=True)",
   "execution_count": 19,
   "outputs": [
    {
     "output_type": "execute_result",
     "execution_count": 19,
     "data": {
      "text/plain": "Straight / Heterosexual    0.801297\nLGBT / Non-hetero          0.198703\nName: Sexuality, dtype: float64"
     },
     "metadata": {}
    }
   ]
  },
  {
   "cell_type": "markdown",
   "source": "#### Empleo",
   "metadata": {
    "cell_id": "c6a4d989-f82b-464c-8909-8a20207de040",
    "tags": [],
    "deepnote_cell_type": "markdown"
   }
  },
  {
   "cell_type": "code",
   "metadata": {
    "cell_id": "c482204e-088b-40dc-9074-0277cc82b4e4",
    "tags": [],
    "deepnote_to_be_reexecuted": false,
    "source_hash": "c1ebf45b",
    "execution_start": 1646000253743,
    "execution_millis": 6,
    "deepnote_cell_type": "code"
   },
   "source": "df.Employment.value_counts(normalize=True)",
   "execution_count": 20,
   "outputs": [
    {
     "output_type": "execute_result",
     "execution_count": 20,
     "data": {
      "text/plain": "Employed full-time                                      0.693148\nIndependent contractor, freelancer, or self-employed    0.121855\nStudent, full-time                                      0.081025\nEmployed part-time                                      0.034657\nNot employed, but looking for work                      0.033075\nStudent, part-time                                      0.022788\nNot employed, and not looking for work                  0.007913\nI prefer not to say                                     0.004115\nRetired                                                 0.001424\nName: Employment, dtype: float64"
     },
     "metadata": {}
    }
   ]
  },
  {
   "cell_type": "code",
   "metadata": {
    "cell_id": "ac75eadf-a363-4c81-a129-19afeeb44b36",
    "tags": [],
    "deepnote_to_be_reexecuted": false,
    "source_hash": "96df75a1",
    "execution_start": 1646000253753,
    "execution_millis": 9,
    "deepnote_cell_type": "code"
   },
   "source": "df.Employment.where(~(df.Employment.isin(['Employed full-time', 'Employed part-time'])), 'Employed', inplace=True)\ndf.Employment.where(~(df.Employment.isin(['Student, full-time', 'Student, part-time'])), 'Student', inplace=True)\ndf.Employment.where(~(df.Employment.isin(['Not employed, but looking for work', 'Not employed, and not looking for work', 'Retired'])), \\\n                    'Not employed', inplace=True)\ndf.drop(df.Employment[df.Employment == 'I prefer not to say'].index, inplace=True)  \ndf.Employment.value_counts(normalize=True)",
   "execution_count": 21,
   "outputs": [
    {
     "output_type": "execute_result",
     "execution_count": 21,
     "data": {
      "text/plain": "Employed                                                0.730812\nIndependent contractor, freelancer, or self-employed    0.122358\nStudent                                                 0.104243\nNot employed                                            0.042587\nName: Employment, dtype: float64"
     },
     "metadata": {}
    }
   ]
  },
  {
   "cell_type": "markdown",
   "source": "#### Dónde aprendió a programar\n\nSe cambia las categorías por 3: `Tradicional`, `No tradicional`, `Ambos`",
   "metadata": {
    "cell_id": "55fefee8-688a-4fe0-9d21-81840b0e25e9",
    "tags": [],
    "deepnote_cell_type": "markdown"
   }
  },
  {
   "cell_type": "code",
   "metadata": {
    "cell_id": "84f377f0-c8c0-4d96-a4dc-d9ce8382f846",
    "tags": [],
    "deepnote_to_be_reexecuted": false,
    "source_hash": "7650561b",
    "execution_start": 1646000253768,
    "execution_millis": 3,
    "deepnote_cell_type": "code"
   },
   "source": "df.LearnCode.value_counts(normalize=True)",
   "execution_count": 22,
   "outputs": [
    {
     "output_type": "execute_result",
     "execution_count": 22,
     "data": {
      "text/plain": "School                                                                                                                             0.097355\nOther online resources (ex: videos, blogs, etc)                                                                                    0.040153\nBooks / Physical media                                                                                                             0.035851\nSchool;Books / Physical media                                                                                                      0.031549\nOther online resources (ex: videos, blogs, etc);School;Online Courses or Certification;Books / Physical media                      0.027884\n                                                                                                                                     ...   \nCoding Bootcamp;Other online resources (ex: videos, blogs, etc);School;Other (please specify):;Colleague;Books / Physical media    0.000159\nOther online resources (ex: videos, blogs, etc);School;Online Forum;Other (please specify):;Colleague;Books / Physical media       0.000159\nCoding Bootcamp;Friend or family member;Online Courses or Certification;Colleague;Books / Physical media                           0.000159\nSchool;Online Forum;Friend or family member;Online Courses or Certification;Colleague                                              0.000159\nOther online resources (ex: videos, blogs, etc);Online Forum;Other (please specify):;Colleague;Books / Physical media              0.000159\nName: LearnCode, Length: 305, dtype: float64"
     },
     "metadata": {}
    }
   ]
  },
  {
   "cell_type": "code",
   "metadata": {
    "cell_id": "80c388e5-cd78-4a4f-b070-f20b95c005df",
    "tags": [],
    "deepnote_to_be_reexecuted": false,
    "source_hash": "8afe11ce",
    "execution_start": 1646000253775,
    "execution_millis": 1,
    "deepnote_cell_type": "code"
   },
   "source": "typeEdu = []\nfor i in list(df.LearnCode.values):\n    if pd.isnull(i):\n        typeEdu.append(np.nan)\n    elif i == ('School'):\n        typeEdu.append('Traditional')\n    elif str(i).find('School') == -1:\n        typeEdu.append('Non-traditional')\n    else:\n        typeEdu.append('Both')\n\ndf['LearnCode'] = typeEdu",
   "execution_count": 23,
   "outputs": []
  },
  {
   "cell_type": "markdown",
   "source": "### Agregar data\n\nColumna para conocer cuántos años tomó desde que se aprendió a programar hasta que se lo hizo profesionalmente.",
   "metadata": {
    "cell_id": "ce8e0f15-eebb-44d3-8006-5a226cad2d2a",
    "tags": [],
    "deepnote_cell_type": "markdown"
   }
  },
  {
   "cell_type": "code",
   "metadata": {
    "cell_id": "b2b748ef-0b57-4e5a-ac25-67bbd4424854",
    "tags": [],
    "deepnote_to_be_reexecuted": false,
    "source_hash": "4b5c1427",
    "execution_start": 1646000253796,
    "execution_millis": 0,
    "deepnote_cell_type": "code"
   },
   "source": "df['YearsLearnPro'] = abs(df.YearsCode - df.YearsCodePro)\ndf.drop(columns=['YearsCode', 'YearsCodePro'], inplace=True)",
   "execution_count": 24,
   "outputs": []
  },
  {
   "cell_type": "markdown",
   "source": "Conocer si tiene o no un título universitario.",
   "metadata": {
    "cell_id": "87ab5a36-c5a4-43f6-a8f0-ef2fa8ac34da",
    "tags": [],
    "deepnote_to_be_reexecuted": false,
    "source_hash": "dd1b531b",
    "execution_start": 1645721960540,
    "execution_millis": 13,
    "deepnote_cell_type": "markdown"
   }
  },
  {
   "cell_type": "code",
   "metadata": {
    "cell_id": "7104969c-38b3-4018-b764-19b7e029e4f9",
    "tags": [],
    "deepnote_to_be_reexecuted": false,
    "source_hash": "16e615e9",
    "execution_start": 1646000253797,
    "execution_millis": 2,
    "deepnote_cell_type": "code"
   },
   "source": "df.EdLevel.value_counts()",
   "execution_count": 25,
   "outputs": [
    {
     "output_type": "execute_result",
     "execution_count": 25,
     "data": {
      "text/plain": "Bachelor’s degree (B.A., B.S., B.Eng., etc.)                                          2529\nSome college/university study without earning a degree                                1303\nMaster’s degree (M.A., M.S., M.Eng., MBA, etc.)                                        910\nSecondary school (e.g. American high school, German Realschule or Gymnasium, etc.)     529\nProfessional degree (JD, MD, etc.)                                                     430\nAssociate degree (A.A., A.S., etc.)                                                    264\nOther doctoral degree (Ph.D., Ed.D., etc.)                                             148\nPrimary/elementary school                                                               92\nSomething else                                                                          79\nName: EdLevel, dtype: int64"
     },
     "metadata": {}
    }
   ]
  },
  {
   "cell_type": "code",
   "metadata": {
    "cell_id": "9afa0b7e-148f-4235-9d2b-225c7318cbb4",
    "tags": [],
    "deepnote_to_be_reexecuted": false,
    "source_hash": "481457fa",
    "execution_start": 1646000253798,
    "execution_millis": 0,
    "deepnote_cell_type": "code"
   },
   "source": "not_degree = ['Some college/university study without earning a degree', 'Primary/elementary school',\n              'Secondary school (e.g. American high school, German Realschule or Gymnasium, etc.)', 'Something else']\n\ndf['Degree'] = df.EdLevel.where(df.EdLevel.isin(not_degree), 'Yes')\ndf['Degree'] = df.Degree.where(df.Degree == 'Yes', 'No')",
   "execution_count": 26,
   "outputs": []
  },
  {
   "cell_type": "code",
   "metadata": {
    "cell_id": "fd940d8a-da3b-431c-a39f-393fc1817b2f",
    "tags": [],
    "deepnote_to_be_reexecuted": false,
    "source_hash": "ad988381",
    "execution_start": 1646000253801,
    "execution_millis": 3,
    "deepnote_cell_type": "code"
   },
   "source": "df.Degree.value_counts(normalize=True)",
   "execution_count": 27,
   "outputs": [
    {
     "output_type": "execute_result",
     "execution_count": 27,
     "data": {
      "text/plain": "Yes    0.681811\nNo     0.318189\nName: Degree, dtype: float64"
     },
     "metadata": {}
    }
   ]
  },
  {
   "cell_type": "markdown",
   "source": "# Load",
   "metadata": {
    "cell_id": "1b8f430d-2e07-4091-95f7-dcc71e55f575",
    "tags": [],
    "deepnote_cell_type": "markdown"
   }
  },
  {
   "cell_type": "markdown",
   "source": "El dataset está listo para poder trabajar. Así que se lo exportará a dos lugares distintos:",
   "metadata": {
    "cell_id": "6a1bcd29-5c40-4408-80a9-62da9f2bd069",
    "tags": [],
    "deepnote_cell_type": "markdown"
   }
  },
  {
   "cell_type": "markdown",
   "source": "#### 1. A una base de datos PostgreSQL en la nube:",
   "metadata": {
    "cell_id": "31690acd-fe41-4f80-8634-39e4637bd2e2",
    "tags": [],
    "deepnote_cell_type": "markdown"
   },
   "outputs": [],
   "execution_count": null
  },
  {
   "cell_type": "code",
   "source": "# Environment variables\nHOST = os.environ[\"HOST\"]\nDATABASE = os.environ[\"DATABASE\"]\nUSER = os.environ[\"USER\"]\nPORT = int(os.environ[\"PORT\"])\nPASSWORD = os.environ[\"PASSWORD\"]",
   "metadata": {
    "cell_id": "c49760fe-42ad-4334-80f4-ca61b900a12c",
    "tags": [],
    "deepnote_to_be_reexecuted": false,
    "source_hash": "f72ba7c6",
    "execution_start": 1646000253847,
    "execution_millis": 1,
    "deepnote_cell_type": "code"
   },
   "outputs": [],
   "execution_count": 28
  },
  {
   "cell_type": "code",
   "source": "# Create the engine (created with environment variables)\nengine = create_engine(f\"postgresql://{USER}:{PASSWORD}@{HOST}:{PORT}/{DATABASE}\")\n\ndf.to_sql('survey_s_2021', con=engine, index=True, index_label='ResponseId', if_exists='replace')",
   "metadata": {
    "cell_id": "74403bc4-01cf-443d-87c5-4c7171504a30",
    "tags": [],
    "deepnote_to_be_reexecuted": false,
    "source_hash": "74130066",
    "execution_start": 1646000433197,
    "execution_millis": 621,
    "deepnote_cell_type": "code"
   },
   "outputs": [],
   "execution_count": 32
  },
  {
   "cell_type": "markdown",
   "source": "#### 2. Como archivo csv al directorio `/data/processed/`:",
   "metadata": {
    "cell_id": "465aeb66-25c5-4bde-b8f5-613bf1ce8a3f",
    "tags": [],
    "deepnote_cell_type": "markdown"
   },
   "outputs": [],
   "execution_count": null
  },
  {
   "cell_type": "code",
   "metadata": {
    "cell_id": "b866c922-e4d7-4d8c-86e3-5b90f36c9fd2",
    "tags": [],
    "deepnote_to_be_reexecuted": false,
    "source_hash": "29073edd",
    "execution_start": 1646000312536,
    "execution_millis": 0,
    "deepnote_cell_type": "code"
   },
   "source": "path_processed = os.path.join(os.getcwd(), os.pardir, 'data', 'processed')\ndf.to_csv(os.path.join(path_processed, 'survey.csv'))",
   "execution_count": 31,
   "outputs": []
  },
  {
   "cell_type": "markdown",
   "source": "<a style='text-decoration:none;line-height:16px;display:flex;color:#5B5B62;padding:10px;justify-content:end;' href='https://deepnote.com?utm_source=created-in-deepnote-cell&projectId=09491c61-3767-4289-98fd-88aee19bb45d' target=\"_blank\">\n<img alt='Created in deepnote.com' style='display:inline;max-height:16px;margin:0px;margin-right:7.5px;' src='data:image/svg+xml;base64,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' > </img>\nCreated in <span style='font-weight:600;margin-left:4px;'>Deepnote</span></a>",
   "metadata": {
    "tags": [],
    "created_in_deepnote_cell": true,
    "deepnote_cell_type": "markdown"
   }
  }
 ],
 "nbformat": 4,
 "nbformat_minor": 2,
 "metadata": {
  "orig_nbformat": 2,
  "deepnote": {
   "is_reactive": false
  },
  "deepnote_notebook_id": "d3fed0ed-e687-4e56-bf32-385f5fb6f308",
  "deepnote_execution_queue": []
 }
}