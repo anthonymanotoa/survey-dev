{
 "cells": [
  {
   "cell_type": "markdown",
   "source": "# Educación e inclusión en la industria de la tecnología en países hispanos\n\n#### Temática\n\nEl foco de la investigación respecto a la educación será entre la **educación tradicional** (escuelas, universidades, etc.) vs. la **educación NO tradicional** (autodidacta, online, etc.) y su impacto en el empleo y salario.\n\nTambién se abordará el punto de vista de la **inclusión**.\n\nEsta investigación está centrada en los **países hispanos y Brasil**.\n\n#### Data: [encuesta 2021 de Stack Ovelfow](https://insights.stackoverflow.com/survey)\n\n#### Detalles técnicos\n\nPara realizar las pruebas de hipótesis, se utilizará la librería [hypothesize](https://alcampopiano.github.io/hypothesize/function_guide/#pb2gen). Esta librería tiene 2 funciones especiales que la hacen a prueba de distribuciones no normales:\n\n- Prueba de hipótesis con bootstrap\n- Trim mean (se la usará al 20%)",
   "metadata": {
    "cell_id": "a25bd1f9-2670-4b73-a0aa-025468dc3bd0",
    "tags": [],
    "deepnote_cell_type": "markdown"
   }
  },
  {
   "cell_type": "markdown",
   "source": "- Relacionar años que tomó aprender a programar profesional vs. cómo aprendió a programar o si tiene título\n- Poner los insights de salarios por título",
   "metadata": {
    "cell_id": "adc22471-77fb-4863-82c5-b0cc3eb1f5d5",
    "tags": [],
    "deepnote_cell_type": "markdown"
   },
   "outputs": [],
   "execution_count": null
  },
  {
   "cell_type": "code",
   "metadata": {
    "tags": [],
    "cell_id": "53f81f1d-70cb-4aba-a54a-ef6ce42b654f",
    "deepnote_to_be_reexecuted": false,
    "source_hash": "96c67fac",
    "execution_start": 1645851135884,
    "execution_millis": 1409,
    "deepnote_cell_type": "code"
   },
   "source": "import pandas as pd\nimport numpy as np\nimport matplotlib.pyplot as plt\nimport seaborn as sns\nimport plotly.express as px\nimport plotly.io as pio\nimport os\nfrom scipy import stats\nfrom hypothesize.utilities import trim_mean\nfrom hypothesize.compare_groups_with_single_factor import pb2gen",
   "execution_count": 1,
   "outputs": []
  },
  {
   "cell_type": "code",
   "metadata": {
    "cell_id": "d7be36bc-f4e1-493c-af67-6528629d93e6",
    "tags": [],
    "deepnote_to_be_reexecuted": false,
    "source_hash": "da27ec0",
    "execution_start": 1645851137294,
    "execution_millis": 23,
    "deepnote_cell_type": "code"
   },
   "source": "# Read de data\npath = os.path.join(os.getcwd(), os.pardir, 'data', 'processed')\ndf = pd.read_csv(os.path.join(path, 'survey.csv'))",
   "execution_count": 2,
   "outputs": []
  },
  {
   "cell_type": "code",
   "metadata": {
    "cell_id": "82854e53-b181-413e-a14b-7380f9e6eb0f",
    "tags": [],
    "deepnote_to_be_reexecuted": false,
    "source_hash": "83f93f9a",
    "execution_start": 1645851137321,
    "execution_millis": 1107,
    "deepnote_cell_type": "code"
   },
   "source": "# Set styles\nsns.set_theme()\npio.templates.default = 'ggplot2'",
   "execution_count": 3,
   "outputs": []
  },
  {
   "cell_type": "markdown",
   "source": "## 1. ¿Si voy a la universidad, es más probable que consiga empleo?\n\n- Hipótesis nula (Ho): tengo la misma probabilidad de conseguir empleo si voy a la universidad o no.\n- Hipótesis alternativa (Ha): es más probable que consiga empleo si voy a la universidad.",
   "metadata": {
    "cell_id": "02b48bff-c5eb-459e-bf9d-47a69c758af4",
    "tags": [],
    "deepnote_cell_type": "markdown"
   }
  },
  {
   "cell_type": "code",
   "source": "df_employment = pd.DataFrame(df.Degree)\ndf_employment['Employed'] = df.Employment.where(df.Employment.isin(['Not employed', 'Student']), 'Yes')\ndf_employment.drop(df_employment.Employed[df_employment.Employed == 'Student'].index, inplace=True)",
   "metadata": {
    "cell_id": "6308cd27-11ac-47cf-b5b9-f5f48d42310e",
    "tags": [],
    "deepnote_to_be_reexecuted": false,
    "source_hash": "d50b929c",
    "execution_start": 1645851138437,
    "execution_millis": 7,
    "deepnote_cell_type": "code"
   },
   "outputs": [],
   "execution_count": 4
  },
  {
   "cell_type": "code",
   "source": "sns.countplot(y=df_employment.Employed, hue=df_employment.Degree)\nplt.show()",
   "metadata": {
    "cell_id": "8ae2fee3-0702-440f-b502-e1963a8d4675",
    "tags": [],
    "deepnote_to_be_reexecuted": false,
    "source_hash": "fa38d6b5",
    "execution_start": 1645851138450,
    "execution_millis": 217,
    "deepnote_cell_type": "code"
   },
   "outputs": [
    {
     "data": {
      "text/plain": "<Figure size 432x288 with 1 Axes>",
      "image/png": "[encoded data removed]"
     },
     "metadata": {
      "image/png": {
       "width": 453,
       "height": 268
      }
     },
     "output_type": "display_data"
    }
   ],
   "execution_count": 5
  },
  {
   "cell_type": "code",
   "source": "df_employment.groupby(['Degree', 'Employed'])['Degree'].count()",
   "metadata": {
    "cell_id": "eb325945-f1a8-4b64-ae61-24218b9a9e39",
    "tags": [],
    "deepnote_to_be_reexecuted": false,
    "source_hash": "fa27419d",
    "execution_start": 1645851579856,
    "execution_millis": 12,
    "deepnote_cell_type": "code"
   },
   "outputs": [
    {
     "output_type": "execute_result",
     "execution_count": 50,
     "data": {
      "text/plain": "Degree  Employed    \nNo      Not employed     137\n        Yes             1382\nYes     Not employed     131\n        Yes             3989\nName: Degree, dtype: int64"
     },
     "metadata": {}
    }
   ],
   "execution_count": 50
  },
  {
   "cell_type": "code",
   "source": "x = df_employment.groupby(['Degree', 'Employed'])['Degree'].count().values.reshape(2,2)",
   "metadata": {
    "cell_id": "ee21ee79-8779-49b7-a11e-21ba5438118d",
    "tags": [],
    "deepnote_to_be_reexecuted": false,
    "source_hash": "4fa72b67",
    "execution_start": 1645851585446,
    "execution_millis": 2,
    "deepnote_cell_type": "code"
   },
   "outputs": [],
   "execution_count": 52
  },
  {
   "cell_type": "code",
   "source": "stats.chisquare(x)",
   "metadata": {
    "cell_id": "b571d4ae-5445-4969-bb7a-4541f5235657",
    "tags": [],
    "deepnote_to_be_reexecuted": false,
    "source_hash": "83a0667",
    "execution_start": 1645851601035,
    "execution_millis": 5,
    "deepnote_cell_type": "code"
   },
   "outputs": [
    {
     "output_type": "execute_result",
     "execution_count": 53,
     "data": {
      "text/plain": "Power_divergenceResult(statistic=array([1.34328358e-01, 1.26539732e+03]), pvalue=array([7.13985796e-001, 3.74065418e-277]))"
     },
     "metadata": {}
    }
   ],
   "execution_count": 53
  },
  {
   "cell_type": "code",
   "metadata": {
    "cell_id": "5aafb78c-cf47-48ea-87e2-960a6da44c8b",
    "tags": [],
    "deepnote_to_be_reexecuted": false,
    "source_hash": "a9e25104",
    "execution_start": 1645851138782,
    "execution_millis": 204,
    "deepnote_cell_type": "code"
   },
   "source": "sns.countplot(y=df.Employment, hue=df.Degree)\nplt.show()",
   "execution_count": 16,
   "outputs": [
    {
     "data": {
      "text/plain": "<Figure size 432x288 with 1 Axes>",
      "image/png": "[encoded data removed]"
     },
     "metadata": {
      "image/png": {
       "width": 670,
       "height": 268
      }
     },
     "output_type": "display_data"
    }
   ]
  },
  {
   "cell_type": "markdown",
   "source": "- Hay un porcentaje importante de personas que no tienen título porque son estudiantes aún\n- De las personas que no tienen empleo, hay más que no tienen título",
   "metadata": {
    "cell_id": "71fb71aa-bee5-4447-9587-b2cc2096915e",
    "tags": [],
    "deepnote_cell_type": "markdown"
   }
  },
  {
   "cell_type": "code",
   "metadata": {
    "cell_id": "405091cd-32d0-46a3-b28c-826eaac3b850",
    "tags": [],
    "deepnote_to_be_reexecuted": false,
    "source_hash": "6adafc8b",
    "execution_start": 1645851138987,
    "execution_millis": 1,
    "deepnote_cell_type": "code"
   },
   "source": "# No sé cómo probar esto. Idea: stats.chi2",
   "execution_count": 17,
   "outputs": []
  },
  {
   "cell_type": "markdown",
   "source": "### 2. ¿Si tengo título gano más que si no?",
   "metadata": {
    "cell_id": "a9910237-c85e-46e9-921c-fa775c71be05",
    "tags": [],
    "deepnote_cell_type": "markdown"
   }
  },
  {
   "cell_type": "code",
   "metadata": {
    "cell_id": "0a786bd6-af05-4bac-b8b5-0c5803329b62",
    "tags": [],
    "deepnote_to_be_reexecuted": false,
    "source_hash": "78bb1e01",
    "execution_start": 1645851138990,
    "execution_millis": 133,
    "deepnote_cell_type": "code"
   },
   "source": "sns.boxplot(x=df.Degree, y=df.ConvertedCompYearly, showfliers=False)\nplt.title('Rango de ganancias anuales con y sin título')\nplt.ylabel(None)\nplt.show()",
   "execution_count": 18,
   "outputs": [
    {
     "data": {
      "text/plain": "<Figure size 432x288 with 1 Axes>",
      "image/png": "[encoded data removed]"
     },
     "metadata": {
      "image/png": {
       "width": 393,
       "height": 284
      }
     },
     "output_type": "display_data"
    }
   ]
  },
  {
   "cell_type": "markdown",
   "source": "##### Establecer la hipótesis nula:\n- **Hipótesis nula (Ho):** los salarios _son los mismos_ para personas con o sin título.\n- **Hipótesis alternativa (Ha):** los salarios son _más altos_ para personas con título.\n\n##### Estadístico de prueba:\n- Resta de las timmed means 0.2",
   "metadata": {
    "cell_id": "8b260946-3ec9-43a6-bcbf-9448151bbbee",
    "tags": [],
    "deepnote_cell_type": "markdown"
   }
  },
  {
   "cell_type": "code",
   "metadata": {
    "cell_id": "7a56b90e-60d8-469c-8829-4cd736d717b6",
    "tags": [],
    "deepnote_to_be_reexecuted": false,
    "source_hash": "5ccd39fc",
    "execution_start": 1645851139168,
    "execution_millis": 0,
    "deepnote_cell_type": "code"
   },
   "source": "# Diferencia entre las ganancias anuales\ns_has_degree = df.ConvertedCompYearly[(df.Degree == 'Yes') & (df.ConvertedCompYearly.notnull())]\ns_not_degree = df.ConvertedCompYearly[(df.Degree == 'No') & (df.ConvertedCompYearly.notnull())]",
   "execution_count": 19,
   "outputs": []
  },
  {
   "cell_type": "code",
   "metadata": {
    "cell_id": "00786081-7608-45c0-bcab-0ca284d7641b",
    "tags": [],
    "deepnote_to_be_reexecuted": false,
    "source_hash": "c38204bf",
    "execution_start": 1645851139169,
    "execution_millis": 3,
    "deepnote_cell_type": "code"
   },
   "source": "# Test if has a normal distribution\nprint(stats.shapiro(s_has_degree))\nprint(stats.shapiro(s_not_degree))",
   "execution_count": 20,
   "outputs": [
    {
     "name": "stdout",
     "text": "ShapiroResult(statistic=0.20545274019241333, pvalue=0.0)\nShapiroResult(statistic=0.17611545324325562, pvalue=0.0)\n",
     "output_type": "stream"
    }
   ]
  },
  {
   "cell_type": "markdown",
   "source": "El test de `shapiro` confirma que las distribuciones no son normales, no se puede aplicar `stats.ttest_ind`. En cambio, se aplica `hypothesize.pb2gen` que usa bootstrap.",
   "metadata": {
    "cell_id": "62b7b0e3-b824-4c4c-97e7-a6ef807fc34a",
    "tags": [],
    "deepnote_cell_type": "markdown"
   }
  },
  {
   "cell_type": "code",
   "metadata": {
    "cell_id": "3ddce871-63de-4bd9-b06a-41b1612fa57f",
    "tags": [],
    "deepnote_to_be_reexecuted": false,
    "source_hash": "ec1a4fa",
    "execution_start": 1645851139170,
    "execution_millis": 276,
    "deepnote_cell_type": "code"
   },
   "source": "pb2gen(s_has_degree, s_not_degree, trim_mean, .2)",
   "execution_count": 21,
   "outputs": [
    {
     "output_type": "execute_result",
     "execution_count": 21,
     "data": {
      "text/plain": "{'est_1': 31090.308467741936,\n 'est_2': 24916.923312883435,\n 'est_dif': 6173.385154858501,\n 'ci': [4383.055678557292, 7805.840234143081],\n 'p_value': 0.0,\n 'variance': 744096.8441025981,\n 'n1': 3304,\n 'n2': 1084}"
     },
     "metadata": {}
    }
   ]
  },
  {
   "cell_type": "markdown",
   "source": "Se rechaza la hipótesis nula. Las personas con título tienden a ganar más anualmente.",
   "metadata": {
    "cell_id": "a719149c-b717-4057-b31e-fdd76d4bff74",
    "tags": [],
    "deepnote_cell_type": "markdown"
   }
  },
  {
   "cell_type": "markdown",
   "source": "### 2. ¿Si aprendo código solo de la manera tradicional gano más que si no?\n\n- **Hipótesis nula (Ho):** los salarios _son los mismos_ para personas que aprendieron código de manera tradicional y no tradicional.\n- **Hipótesis alternativa (Ha):** los salarios son _más altos_ para personas que aprendieron código de manera tradicional.",
   "metadata": {
    "cell_id": "1843296d-e0f9-4735-855e-7015a17a8d4a",
    "tags": [],
    "deepnote_cell_type": "markdown"
   }
  },
  {
   "cell_type": "code",
   "metadata": {
    "cell_id": "adbd5445-05d4-49e2-891d-d61865fb5af5",
    "tags": [],
    "deepnote_to_be_reexecuted": false,
    "source_hash": "d15e9031",
    "execution_start": 1645851139451,
    "execution_millis": 45,
    "deepnote_cell_type": "code"
   },
   "source": "# Reduzco los datos a: aprendio de forma tradicional o no\ndf_learn = pd.DataFrame()\ndf_learn['LearnTraditional'] = df.LearnCode.where(df.LearnCode == 'Traditional', 'No')\ndf_learn.LearnTraditional.replace('Traditional', 'Yes', inplace = True)\ndf_learn['Salary'] = df.ConvertedCompYearly",
   "execution_count": 22,
   "outputs": []
  },
  {
   "cell_type": "code",
   "metadata": {
    "cell_id": "1f7bd69f-84be-4af8-8b85-0efa459446e3",
    "tags": [],
    "deepnote_to_be_reexecuted": false,
    "source_hash": "7c333949",
    "execution_start": 1645851139496,
    "execution_millis": 96,
    "deepnote_cell_type": "code"
   },
   "source": "sns.boxplot(x=df_learn.LearnTraditional, y=df_learn.Salary, showfliers=False)\nplt.title('Ganancias anuales según la forma que se aprendió a programar')\nplt.ylabel(None)\nplt.show()",
   "execution_count": 23,
   "outputs": [
    {
     "data": {
      "text/plain": "<Figure size 432x288 with 1 Axes>",
      "image/png": "[encoded data removed]"
     },
     "metadata": {
      "image/png": {
       "width": 421,
       "height": 284
      }
     },
     "output_type": "display_data"
    }
   ]
  },
  {
   "cell_type": "code",
   "metadata": {
    "cell_id": "c91329b4-524e-4742-94a3-a8592f1387f1",
    "tags": [],
    "deepnote_to_be_reexecuted": false,
    "source_hash": "ed6faa27",
    "execution_start": 1645851139635,
    "execution_millis": 1,
    "deepnote_cell_type": "code"
   },
   "source": "traditional = df_learn.Salary[df_learn.LearnTraditional == 'Yes'].dropna()\nnot_traditional = df_learn.Salary[df_learn.LearnTraditional == 'No'].dropna()",
   "execution_count": 24,
   "outputs": []
  },
  {
   "cell_type": "code",
   "metadata": {
    "cell_id": "4025996c-93aa-4e43-a190-cb1f7521dd20",
    "tags": [],
    "deepnote_to_be_reexecuted": false,
    "source_hash": "215ce910",
    "execution_start": 1645851139636,
    "execution_millis": 1242,
    "deepnote_cell_type": "code"
   },
   "source": "pb2gen(traditional, not_traditional, trim_mean, 0.2, nboot=10000)",
   "execution_count": 25,
   "outputs": [
    {
     "output_type": "execute_result",
     "execution_count": 25,
     "data": {
      "text/plain": "{'est_1': 31161.80149812734,\n 'est_2': 29456.776087874947,\n 'est_dif': 1705.025410252394,\n 'ci': [-656.0932864337847, 4151.594917000137],\n 'p_value': 0.1588,\n 'variance': 1500173.9701945507,\n 'n1': 445,\n 'n2': 3943}"
     },
     "metadata": {}
    }
   ]
  },
  {
   "cell_type": "markdown",
   "source": "Con un p-value de 15% no se puede rechazar Ho. Es probable que la pequeña diferencia que se ve en la gráfica que haya dado por azar, no se puede asegurar que se gana más si se aprende código únicamente de manera tradicional.",
   "metadata": {
    "cell_id": "c8c4bca0-2dcf-4a9c-8638-9872477dccf1",
    "tags": [],
    "deepnote_cell_type": "markdown"
   }
  },
  {
   "cell_type": "markdown",
   "source": "### 3. ¿Gano más si aprendo de manera no tradicional?\n\n- **Hipótesis nula (Ho):** los salarios _son los mismos_ para personas que aprendieron código de manera tradicional y no tradicional.\n- **Hipótesis alternativa (Ha):** los salarios son _más altos_ para personas que aprendieron código de manera no tradicional.",
   "metadata": {
    "cell_id": "14522c1c-5e03-4a25-a01e-c74b97dc9fa7",
    "tags": [],
    "deepnote_cell_type": "markdown"
   }
  },
  {
   "cell_type": "code",
   "metadata": {
    "cell_id": "baf13ae8-c281-407f-b848-ac13bb9ef99b",
    "tags": [],
    "deepnote_to_be_reexecuted": false,
    "source_hash": "92e56376",
    "execution_start": 1645851140880,
    "execution_millis": 2,
    "deepnote_cell_type": "code"
   },
   "source": "df_learn['LearnNoTraditional'] = df.LearnCode.where(df.LearnCode == 'Non-traditional', 'No')\ndf_learn.LearnNoTraditional.replace('Non-traditional', 'Yes', inplace = True)",
   "execution_count": 26,
   "outputs": []
  },
  {
   "cell_type": "code",
   "metadata": {
    "cell_id": "57340921-f875-46fe-a38f-10f2580b3133",
    "tags": [],
    "deepnote_to_be_reexecuted": false,
    "source_hash": "2741ed88",
    "execution_start": 1645851140887,
    "execution_millis": 136,
    "deepnote_cell_type": "code"
   },
   "source": "sns.boxplot(x=df_learn.LearnNoTraditional, y=df_learn.Salary, showfliers=False)\nplt.title('Ganancias anuales según la forma que se aprendió a programar')\nplt.ylabel(None)\nplt.show()",
   "execution_count": 27,
   "outputs": [
    {
     "data": {
      "text/plain": "<Figure size 432x288 with 1 Axes>",
      "image/png": "[encoded data removed]"
     },
     "metadata": {
      "image/png": {
       "width": 428,
       "height": 284
      }
     },
     "output_type": "display_data"
    }
   ]
  },
  {
   "cell_type": "code",
   "metadata": {
    "cell_id": "4ad1e7e2-ad3d-4049-9304-6042991b648b",
    "tags": [],
    "deepnote_to_be_reexecuted": false,
    "source_hash": "4afd9bc9",
    "execution_start": 1645851141024,
    "execution_millis": 3,
    "deepnote_cell_type": "code"
   },
   "source": "not_traditional = df_learn.Salary[df_learn.LearnNoTraditional == 'Yes'].dropna()\ntraditional = df_learn.Salary[df_learn.LearnNoTraditional == 'No'].dropna()",
   "execution_count": 28,
   "outputs": []
  },
  {
   "cell_type": "code",
   "metadata": {
    "cell_id": "553a1858-1792-4be7-8846-6d5149d1a80a",
    "tags": [],
    "deepnote_to_be_reexecuted": false,
    "source_hash": "cbe50827",
    "execution_start": 1645851141072,
    "execution_millis": 2070,
    "deepnote_cell_type": "code"
   },
   "source": "pb2gen(not_traditional, traditional, trim_mean, 0.2, nboot=10000)",
   "execution_count": 29,
   "outputs": [
    {
     "output_type": "execute_result",
     "execution_count": 29,
     "data": {
      "text/plain": "{'est_1': 29769.08839354343,\n 'est_2': 29515.11027756939,\n 'est_dif': 253.9781159740378,\n 'ci': [-1251.350098862149, 1723.0601136064179],\n 'p_value': 0.7538,\n 'variance': 575131.3207341251,\n 'n1': 2167,\n 'n2': 2221}"
     },
     "metadata": {}
    }
   ]
  },
  {
   "cell_type": "markdown",
   "source": "Tampoco se puede rechazar la hipótesis nula. No hay significancia estadística como para asegurar que hay una diferencia de salarios según el tipo de forma que se aprendió a programar.",
   "metadata": {
    "cell_id": "ff1c53ac-ca4c-4790-a745-7055094c8651",
    "tags": [],
    "deepnote_cell_type": "markdown"
   }
  },
  {
   "cell_type": "markdown",
   "source": "### 4. ¿Los hombres ganan más que las mujeres?",
   "metadata": {
    "cell_id": "4f3f29e7-0d8b-49e6-8f2e-c2bcfed9b5d9",
    "tags": [],
    "is_collapsed": true,
    "deepnote_cell_type": "text-cell-h3"
   }
  },
  {
   "cell_type": "markdown",
   "source": "- Hipótesis nula (Ho): los salarios son los mismos para hombres y mujeres.\n- Hipótesis alternativa (Ha): los salarios son más altos para los hombres.",
   "metadata": {
    "cell_id": "4ca857cc-ed95-426e-9fa5-df642d2cd32c",
    "tags": [],
    "deepnote_cell_type": "markdown"
   },
   "outputs": [],
   "execution_count": null
  },
  {
   "cell_type": "code",
   "metadata": {
    "cell_id": "0b2f3a82-50c1-4618-a179-033d66a64fb6",
    "tags": [],
    "deepnote_to_be_reexecuted": false,
    "source_hash": "8267fafe",
    "execution_start": 1645851142910,
    "execution_millis": 4,
    "deepnote_cell_type": "code"
   },
   "source": "man_salary = df[df['Gender'] == 'Man']['ConvertedCompYearly'].dropna()\nwoman_salary = df[df['Gender'] == 'Woman']['ConvertedCompYearly'].dropna()",
   "execution_count": 30,
   "outputs": []
  },
  {
   "cell_type": "code",
   "metadata": {
    "cell_id": "c06d0e51-b02f-4d57-a79d-81cae2d7ea9c",
    "tags": [],
    "deepnote_to_be_reexecuted": false,
    "source_hash": "9b1a7c8b",
    "execution_start": 1645851142917,
    "execution_millis": 1868,
    "deepnote_cell_type": "code"
   },
   "source": "t_mw = pb2gen(man_salary, woman_salary, trim_mean, 0.2, nboot=10000)\nif t_mw['p_value'] < 0.01:\n    print(f'p-value = {t_mw[\"p_value\"]}, se rechaza Ho. Los salarios son más altos para los hombres')\nt_mw",
   "execution_count": 31,
   "outputs": [
    {
     "name": "stdout",
     "text": "p-value = 0.002, se rechaza Ho. Los salarios son más altos para los hombres\n",
     "output_type": "stream"
    },
    {
     "output_type": "execute_result",
     "execution_count": 31,
     "data": {
      "text/plain": "{'est_1': 30000.73607748184,\n 'est_2': 24399.78,\n 'est_dif': 5600.956077481842,\n 'ci': [2012.3604358353514, 8839.897740112996],\n 'p_value': 0.002,\n 'variance': 3041003.9342819303,\n 'n1': 4128,\n 'n2': 164}"
     },
     "metadata": {}
    }
   ]
  },
  {
   "cell_type": "markdown",
   "source": "### 5. ¿Los heteros ganan más que el resto de personas?",
   "metadata": {
    "cell_id": "00029-0e3667bc-bd8a-43bf-9f43-d8de0ad49b7b",
    "tags": [],
    "is_collapsed": false,
    "deepnote_cell_type": "text-cell-h3"
   }
  },
  {
   "cell_type": "markdown",
   "source": "- Hipótesis nula (Ho): los salarios son los mismos para todas las personas.\n- Hipótesis alternativa (Ha): los salarios son más altos para los heteros.",
   "metadata": {
    "cell_id": "ce4ff2fb-c4d7-4e27-afb4-6a580d23be71",
    "tags": [],
    "deepnote_cell_type": "markdown"
   },
   "outputs": [],
   "execution_count": null
  },
  {
   "cell_type": "code",
   "metadata": {
    "cell_id": "13b6c2d6-b026-4424-862f-ffb86be5727a",
    "tags": [],
    "deepnote_to_be_reexecuted": false,
    "source_hash": "20723912",
    "execution_start": 1645851144786,
    "execution_millis": 3,
    "deepnote_cell_type": "code"
   },
   "source": "hetero_salary = df[df['Sexuality'] == 'Straight / Heterosexual']['ConvertedCompYearly'].dropna()\nnon_hetero_salary = df[df['Sexuality'] == 'LGBT / Non-hetero']['ConvertedCompYearly'].dropna()",
   "execution_count": 32,
   "outputs": []
  },
  {
   "cell_type": "code",
   "metadata": {
    "cell_id": "979071a4-3654-476b-987a-6d567b11e344",
    "tags": [],
    "deepnote_to_be_reexecuted": false,
    "source_hash": "da287c03",
    "execution_start": 1645851144795,
    "execution_millis": 1356,
    "deepnote_cell_type": "code"
   },
   "source": "pb2gen(hetero_salary, non_hetero_salary, trim_mean, 0.2, nboot=10000)",
   "execution_count": 33,
   "outputs": [
    {
     "output_type": "execute_result",
     "execution_count": 33,
     "data": {
      "text/plain": "{'est_1': 30192.351523419737,\n 'est_2': 26890.55172413793,\n 'est_dif': 3301.7997992818055,\n 'ci': [1348.221887691896, 5220.590569381067],\n 'p_value': 0.0008,\n 'variance': 962204.605805286,\n 'n1': 3665,\n 'n2': 723}"
     },
     "metadata": {}
    }
   ]
  },
  {
   "cell_type": "markdown",
   "source": "Se rechaza Ho. Los heteros ganan más que los no heteros.",
   "metadata": {
    "cell_id": "99ef7b2c-0870-4292-930d-42595c21fb87",
    "tags": [],
    "deepnote_cell_type": "markdown"
   },
   "outputs": [],
   "execution_count": null
  },
  {
   "cell_type": "markdown",
   "source": "### ¿Me toma el mismo tiempo aprender a programar profesionalmente si tengo o no título?\n\n- Hipótesis nula (Ho): toma el mismo aprender a programar si tienes título o no.\n- Hipótesis alternativa (Ha): si tienes título, te toma más tiempo aprender a programar.",
   "metadata": {
    "cell_id": "2059da77-1984-4001-ad88-c981aaef8ecc",
    "tags": [],
    "deepnote_cell_type": "markdown"
   },
   "outputs": [],
   "execution_count": null
  },
  {
   "cell_type": "code",
   "source": "sns.boxplot(x=df.Degree, y=df.YearsLearnPro, showfliers=False)\nplt.show()",
   "metadata": {
    "cell_id": "f2401692-7265-4276-9b13-2180a989a195",
    "tags": [],
    "deepnote_to_be_reexecuted": false,
    "source_hash": "c38e371f",
    "execution_start": 1645851146153,
    "execution_millis": 129,
    "deepnote_cell_type": "code"
   },
   "outputs": [
    {
     "data": {
      "text/plain": "<Figure size 432x288 with 1 Axes>",
      "image/png": "[encoded data removed]"
     },
     "metadata": {
      "image/png": {
       "width": 389,
       "height": 268
      }
     },
     "output_type": "display_data"
    }
   ],
   "execution_count": 34
  },
  {
   "cell_type": "code",
   "source": "has_degree = df[df['Degree'] == 'Yes']['YearsLearnPro'].dropna()\nnot_degree = df[df['Degree'] == 'No']['YearsLearnPro'].dropna()\n\npb2gen(has_degree, not_degree, trim_mean, 0.2, nboot=10000)",
   "metadata": {
    "cell_id": "c54a9781-60a8-470d-9b34-9cc00e690e84",
    "tags": [],
    "deepnote_to_be_reexecuted": false,
    "source_hash": "e70a2daa",
    "execution_start": 1645851146281,
    "execution_millis": 1551,
    "deepnote_cell_type": "code"
   },
   "outputs": [
    {
     "output_type": "execute_result",
     "execution_count": 35,
     "data": {
      "text/plain": "{'est_1': 4.303271631510977,\n 'est_2': 3.5737597911227152,\n 'est_dif': 0.7295118403882621,\n 'ci': [0.5398871990729557, 0.9216721422397667],\n 'p_value': 0.0,\n 'variance': 0.009394054918307174,\n 'n1': 3871,\n 'n2': 1276}"
     },
     "metadata": {}
    }
   ],
   "execution_count": 35
  },
  {
   "cell_type": "markdown",
   "source": "Se rechaza la hipótesis.",
   "metadata": {
    "cell_id": "72e55f9e-1e63-48ae-9698-b2b9cefe7fbc",
    "tags": [],
    "deepnote_cell_type": "markdown"
   },
   "outputs": [],
   "execution_count": null
  },
  {
   "cell_type": "markdown",
   "source": "### ¿Me toma el mismo tiempo aprender a programar profesionalmente si aprendo de forma tradicional?\n\n- Hipótesis nula (Ho): toma el mismo aprender a programar si tienes título o no.\n- Hipótesis alternativa (Ha): si tienes título, te toma más tiempo aprender a programar.",
   "metadata": {
    "cell_id": "6ed7b973-32b0-4ee5-967f-fb2ad523e5f5",
    "tags": [],
    "deepnote_cell_type": "markdown"
   },
   "outputs": [],
   "execution_count": null
  },
  {
   "cell_type": "markdown",
   "source": "## Preguntas para prueba de hipótesis\n\n1. ¿Si voy a la universidad, es más probable que consiga empleo?\n1. ¿Si tengo título gano más que si no?\n2. ¿Si aprendo código solo de la manera tradicional gano más que si no?\n3. ¿Gano más si aprendo combinando tradicional y no tradicional?\n5. Misma pregunta pero para rangos de edad bajos\n\nExtra:\n¿Por qué primary school está en el top y secundary school al final?\n",
   "metadata": {
    "cell_id": "562671cb-3eb5-4655-a171-d92a4c153f47",
    "tags": [],
    "deepnote_cell_type": "markdown"
   }
  },
  {
   "cell_type": "markdown",
   "source": "#### Preguntas posibles relacionadas al tema\n\n- Education lvl vs. dónde aprendió a programar\n- Salarios por rango de edad\n- Salarios según dónde se aprendió a programar\n- ¿Si tengo título gano más que si no?\n- Qué cargos tienes según dónde estudiaste\n- Cuánto tiempo te tomó desde que aprendiste código hasta que programaste profesionalmente? (dónde aprendiste a programar)\n- Las personas que aprendieron a programar más jóvenes, ganan más? Qué puesto tienen? (contestar según rangos de edad)\n\n\n#### Otras preguntas\n\n- Diferencia de salario entre trans y heteros (y si fueron a las universidades)?\n- Diferencia de salario entre hombres y mujeres -> Hombres ganan mucho más en promedio y la probabilidad de que esto sea random es baja.\n- Lenguajes de programación aprendidos por tipo de aprendizaje\n\n- Extraer algo para mejorar esto y cerrar la brecha\n\n#### Accionables:\n- Cómo disminuir esta brecha de género\n\n#### To-Do\n- Dividir el análisis por partes o por preguntas\n- Crear una (o varias) función para plotear\n- Crear un notebook con el código escondido, que sea solo de reporte y gráficas",
   "metadata": {
    "cell_id": "71913360-a1ab-4c6d-b873-81ef50dce22c",
    "tags": [],
    "deepnote_cell_type": "markdown"
   }
  },
  {
   "cell_type": "markdown",
   "source": "<a style='text-decoration:none;line-height:16px;display:flex;color:#5B5B62;padding:10px;justify-content:end;' href='https://deepnote.com?utm_source=created-in-deepnote-cell&projectId=09491c61-3767-4289-98fd-88aee19bb45d' target=\"_blank\">\n<img alt='Created in deepnote.com' style='display:inline;max-height:16px;margin:0px;margin-right:7.5px;' src='data:image/svg+xml;base64,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' > </img>\nCreated in <span style='font-weight:600;margin-left:4px;'>Deepnote</span></a>",
   "metadata": {
    "tags": [],
    "created_in_deepnote_cell": true,
    "deepnote_cell_type": "markdown"
   }
  }
 ],
 "nbformat": 4,
 "nbformat_minor": 2,
 "metadata": {
  "orig_nbformat": 2,
  "deepnote": {
   "is_reactive": false
  },
  "deepnote_notebook_id": "63713b0c-981d-4b78-91b7-e4bbe3077d8c",
  "deepnote_execution_queue": []
 }
}