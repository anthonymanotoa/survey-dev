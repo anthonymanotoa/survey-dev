{
 "cells": [
  {
   "cell_type": "markdown",
   "source": "# Análisis y pruebas de hipótesis\n\nA partir de los datos visualizados en el EDA, se tienen 7 preguntas por comprobar para llegar a conclusiones.\n\n#### Detalles técnicos\n\nPara realizar las pruebas de hipótesis, se utilizará la librería [hypothesize](https://alcampopiano.github.io/hypothesize/function_guide/#pb2gen). Esta librería tiene 2 funciones especiales que la hacen a prueba de distribuciones no normales:\n\n- Prueba de hipótesis con bootstrap\n- Trim mean (se la usará al 20%)\n\n#### Nota extra:\n\nEn este análisis se usarán los bloques para escribir SQL de Deepnote, que los permite el feature de conectarse a una base de datos de PostreSQL en donde fueron almacenadas las vistas minables.",
   "metadata": {
    "cell_id": "a25bd1f9-2670-4b73-a0aa-025468dc3bd0",
    "tags": [],
    "deepnote_cell_type": "markdown"
   }
  },
  {
   "cell_type": "code",
   "metadata": {
    "tags": [],
    "cell_id": "53f81f1d-70cb-4aba-a54a-ef6ce42b654f",
    "deepnote_to_be_reexecuted": false,
    "source_hash": "9fd9501a",
    "execution_start": 1646009861986,
    "execution_millis": 1315,
    "deepnote_cell_type": "code"
   },
   "source": "import pandas as pd\nimport matplotlib.pyplot as plt\nimport seaborn as sns\nfrom scipy import stats\nfrom hypothesize.utilities import trim_mean\nfrom hypothesize.compare_groups_with_single_factor import pb2gen",
   "execution_count": null,
   "outputs": []
  },
  {
   "cell_type": "code",
   "metadata": {
    "cell_id": "82854e53-b181-413e-a14b-7380f9e6eb0f",
    "tags": [],
    "deepnote_to_be_reexecuted": false,
    "source_hash": "8c76b81b",
    "execution_start": 1646009863305,
    "execution_millis": 0,
    "deepnote_cell_type": "code"
   },
   "source": "# Set styles\nsns.set_theme()",
   "execution_count": null,
   "outputs": []
  },
  {
   "cell_type": "code",
   "metadata": {
    "tags": [],
    "deepnote_variable_name": "df",
    "sql_integration_id": "a62a6e90-c1cd-42a3-9aca-116732175b05",
    "cell_id": "a363e710-ad72-4c5a-91bf-6813c19085e6",
    "deepnote_to_be_reexecuted": false,
    "source_hash": "efed2a39",
    "execution_start": 1646009863309,
    "execution_millis": 505,
    "deepnote_sql_source": "select * from survey_s_2021;",
    "is_output_hidden": true,
    "deepnote_cell_type": "sql"
   },
   "source": "\n\ndf = _deepnote_execute_sql(\"\"\"select * from survey_s_2021;\n\"\"\", 'SQL_A62A6E90_C1CD_42A3_9ACA_116732175B05')\ndf",
   "execution_count": null,
   "outputs": [
    {
     "output_type": "execute_result",
     "execution_count": 3,
     "data": {
      "application/vnd.deepnote.dataframe.v3+json": {
       "column_count": 11,
       "row_count": 6295,
       "columns": [
        {
         "name": "ResponseId",
         "dtype": "int64",
         "stats": {
          "unique_count": 6295,
          "nan_count": 0,
          "min": "12",
          "max": "83439",
          "histogram": [
           {
            "bin_start": 12,
            "bin_end": 8354.7,
            "count": 530
           },
           {
            "bin_start": 8354.7,
            "bin_end": 16697.4,
            "count": 418
           },
           {
            "bin_start": 16697.4,
            "bin_end": 25040.100000000002,
            "count": 617
           },
           {
            "bin_start": 25040.100000000002,
            "bin_end": 33382.8,
            "count": 1017
           },
           {
            "bin_start": 33382.8,
            "bin_end": 41725.5,
            "count": 645
           },
           {
            "bin_start": 41725.5,
            "bin_end": 50068.200000000004,
            "count": 601
           },
           {
            "bin_start": 50068.200000000004,
            "bin_end": 58410.90000000001,
            "count": 666
           },
           {
            "bin_start": 58410.90000000001,
            "bin_end": 66753.6,
            "count": 645
           },
           {
            "bin_start": 66753.6,
            "bin_end": 75096.3,
            "count": 606
           },
           {
            "bin_start": 75096.3,
            "bin_end": 83439,
            "count": 550
           }
          ]
         }
        },
        {
         "name": "Age",
         "dtype": "object",
         "stats": {
          "unique_count": 5,
          "nan_count": 26,
          "categories": [
           {
            "name": "25-34 years old",
            "count": 2691
           },
           {
            "name": "4 others",
            "count": 3578
           },
           {
            "name": "Missing",
            "count": 26
           }
          ]
         }
        },
        {
         "name": "Gender",
         "dtype": "object",
         "stats": {
          "unique_count": 3,
          "nan_count": 0,
          "categories": [
           {
            "name": "Man",
            "count": 5838
           },
           {
            "name": "Woman",
            "count": 249
           },
           {
            "name": "Other",
            "count": 208
           }
          ]
         }
        },
        {
         "name": "Sexuality",
         "dtype": "object",
         "stats": {
          "unique_count": 2,
          "nan_count": 0,
          "categories": [
           {
            "name": "Straight / Heterosexual",
            "count": 5052
           },
           {
            "name": "LGBT / Non-hetero",
            "count": 1243
           }
          ]
         }
        },
        {
         "name": "Country",
         "dtype": "object",
         "stats": {
          "unique_count": 16,
          "nan_count": 0,
          "categories": [
           {
            "name": "Brazil",
            "count": 2240
           },
           {
            "name": "Spain",
            "count": 1480
           },
           {
            "name": "14 others",
            "count": 2575
           }
          ]
         }
        },
        {
         "name": "EdLevel",
         "dtype": "object",
         "stats": {
          "unique_count": 9,
          "nan_count": 11,
          "categories": [
           {
            "name": "Bachelor’s degree (B.A., B.S., B.Eng., etc.)",
            "count": 2529
           },
           {
            "name": "8 others",
            "count": 3755
           },
           {
            "name": "Missing",
            "count": 11
           }
          ]
         }
        },
        {
         "name": "LearnCode",
         "dtype": "object",
         "stats": {
          "unique_count": 3,
          "nan_count": 19,
          "categories": [
           {
            "name": "Non-traditional",
            "count": 3224
           },
           {
            "name": "2 others",
            "count": 3052
           },
           {
            "name": "Missing",
            "count": 19
           }
          ]
         }
        },
        {
         "name": "Employment",
         "dtype": "object",
         "stats": {
          "unique_count": 4,
          "nan_count": 2,
          "categories": [
           {
            "name": "Employed",
            "count": 4599
           },
           {
            "name": "3 others",
            "count": 1694
           },
           {
            "name": "Missing",
            "count": 2
           }
          ]
         }
        },
        {
         "name": "ConvertedCompYearly",
         "dtype": "float64",
         "stats": {
          "unique_count": 1364,
          "nan_count": 1907,
          "min": "12.0",
          "max": "4656132.0",
          "histogram": [
           {
            "bin_start": 12,
            "bin_end": 465624,
            "count": 4338
           },
           {
            "bin_start": 465624,
            "bin_end": 931236,
            "count": 36
           },
           {
            "bin_start": 931236,
            "bin_end": 1396848,
            "count": 6
           },
           {
            "bin_start": 1396848,
            "bin_end": 1862460,
            "count": 4
           },
           {
            "bin_start": 1862460,
            "bin_end": 2328072,
            "count": 1
           },
           {
            "bin_start": 2328072,
            "bin_end": 2793684,
            "count": 1
           },
           {
            "bin_start": 2793684,
            "bin_end": 3259296,
            "count": 0
           },
           {
            "bin_start": 3259296,
            "bin_end": 3724908,
            "count": 1
           },
           {
            "bin_start": 3724908,
            "bin_end": 4190520,
            "count": 0
           },
           {
            "bin_start": 4190520,
            "bin_end": 4656132,
            "count": 1
           }
          ]
         }
        },
        {
         "name": "YearsLearnPro",
         "dtype": "float64",
         "stats": {
          "unique_count": 46,
          "nan_count": 1148,
          "min": "0.0",
          "max": "31.0",
          "histogram": [
           {
            "bin_start": 0,
            "bin_end": 3.1,
            "count": 2123
           },
           {
            "bin_start": 3.1,
            "bin_end": 6.2,
            "count": 1866
           },
           {
            "bin_start": 6.2,
            "bin_end": 9.3,
            "count": 651
           },
           {
            "bin_start": 9.3,
            "bin_end": 12.4,
            "count": 310
           },
           {
            "bin_start": 12.4,
            "bin_end": 15.5,
            "count": 123
           },
           {
            "bin_start": 15.5,
            "bin_end": 18.6,
            "count": 33
           },
           {
            "bin_start": 18.6,
            "bin_end": 21.7,
            "count": 24
           },
           {
            "bin_start": 21.7,
            "bin_end": 24.8,
            "count": 4
           },
           {
            "bin_start": 24.8,
            "bin_end": 27.900000000000002,
            "count": 7
           },
           {
            "bin_start": 27.900000000000002,
            "bin_end": 31,
            "count": 6
           }
          ]
         }
        },
        {
         "name": "Degree",
         "dtype": "object",
         "stats": {
          "unique_count": 2,
          "nan_count": 0,
          "categories": [
           {
            "name": "Yes",
            "count": 4292
           },
           {
            "name": "No",
            "count": 2003
           }
          ]
         }
        },
        {
         "name": "_deepnote_index_column",
         "dtype": "int64"
        }
       ],
       "rows": [
        {
         "ResponseId": 12,
         "Age": "25-34 years old",
         "Gender": "Man",
         "Sexuality": "Straight / Heterosexual",
         "Country": "Spain",
         "EdLevel": "Bachelor’s degree (B.A., B.S., B.Eng., etc.)",
         "LearnCode": "Both",
         "Employment": "Employed",
         "ConvertedCompYearly": 46482,
         "YearsLearnPro": 7,
         "Degree": "Yes",
         "_deepnote_index_column": 0
        },
        {
         "ResponseId": 20,
         "Age": "25-34 years old",
         "Gender": "Man",
         "Sexuality": "Straight / Heterosexual",
         "Country": "Brazil",
         "EdLevel": "Bachelor’s degree (B.A., B.S., B.Eng., etc.)",
         "LearnCode": "Non-traditional",
         "Employment": "Employed",
         "ConvertedCompYearly": "nan",
         "YearsLearnPro": 3,
         "Degree": "Yes",
         "_deepnote_index_column": 1
        },
        {
         "ResponseId": 46,
         "Age": "35-44 years old",
         "Gender": "Man",
         "Sexuality": "Straight / Heterosexual",
         "Country": "Brazil",
         "EdLevel": "Bachelor’s degree (B.A., B.S., B.Eng., etc.)",
         "LearnCode": "Non-traditional",
         "Employment": "Employed",
         "ConvertedCompYearly": 60480,
         "YearsLearnPro": 7,
         "Degree": "Yes",
         "_deepnote_index_column": 2
        },
        {
         "ResponseId": 69,
         "Age": "35-44 years old",
         "Gender": "Man",
         "Sexuality": "Straight / Heterosexual",
         "Country": "Spain",
         "EdLevel": "Master’s degree (M.A., M.S., M.Eng., MBA, etc.)",
         "LearnCode": "Traditional",
         "Employment": "Employed",
         "ConvertedCompYearly": 58373,
         "YearsLearnPro": 10,
         "Degree": "Yes",
         "_deepnote_index_column": 3
        },
        {
         "ResponseId": 80,
         "Age": "18-24 years old",
         "Gender": "Man",
         "Sexuality": "Straight / Heterosexual",
         "Country": "Spain",
         "EdLevel": "Associate degree (A.A., A.S., etc.)",
         "LearnCode": "Non-traditional",
         "Employment": "Employed",
         "ConvertedCompYearly": 21620,
         "YearsLearnPro": "nan",
         "Degree": "Yes",
         "_deepnote_index_column": 4
        },
        {
         "ResponseId": 109,
         "Age": "25-34 years old",
         "Gender": "Man",
         "Sexuality": "Straight / Heterosexual",
         "Country": "Spain",
         "EdLevel": "Associate degree (A.A., A.S., etc.)",
         "LearnCode": "Both",
         "Employment": "Employed",
         "ConvertedCompYearly": 38915,
         "YearsLearnPro": 2,
         "Degree": "Yes",
         "_deepnote_index_column": 5
        },
        {
         "ResponseId": 202,
         "Age": "35-44 years old",
         "Gender": "Man",
         "Sexuality": "Straight / Heterosexual",
         "Country": "Colombia",
         "EdLevel": "Bachelor’s degree (B.A., B.S., B.Eng., etc.)",
         "LearnCode": "Traditional",
         "Employment": "Employed",
         "ConvertedCompYearly": 21600,
         "YearsLearnPro": 0,
         "Degree": "Yes",
         "_deepnote_index_column": 6
        },
        {
         "ResponseId": 226,
         "Age": "18-24 years old",
         "Gender": "Man",
         "Sexuality": "Straight / Heterosexual",
         "Country": "Chile",
         "EdLevel": "Bachelor’s degree (B.A., B.S., B.Eng., etc.)",
         "LearnCode": "Non-traditional",
         "Employment": "Employed",
         "ConvertedCompYearly": 22584,
         "YearsLearnPro": 4,
         "Degree": "Yes",
         "_deepnote_index_column": 7
        },
        {
         "ResponseId": 268,
         "Age": "35-44 years old",
         "Gender": "Man",
         "Sexuality": "Straight / Heterosexual",
         "Country": "Spain",
         "EdLevel": "Bachelor’s degree (B.A., B.S., B.Eng., etc.)",
         "LearnCode": "Non-traditional",
         "Employment": "Employed",
         "ConvertedCompYearly": "nan",
         "YearsLearnPro": 14,
         "Degree": "Yes",
         "_deepnote_index_column": 8
        },
        {
         "ResponseId": 270,
         "Age": "25-34 years old",
         "Gender": "Man",
         "Sexuality": "Straight / Heterosexual",
         "Country": "Spain",
         "EdLevel": "Master’s degree (M.A., M.S., M.Eng., MBA, etc.)",
         "LearnCode": "Non-traditional",
         "Employment": "Employed",
         "ConvertedCompYearly": "nan",
         "YearsLearnPro": 6,
         "Degree": "Yes",
         "_deepnote_index_column": 9
        }
       ]
      },
      "text/plain": "      ResponseId              Age Gender                Sexuality Country  \\\n0             12  25-34 years old    Man  Straight / Heterosexual   Spain   \n1             20  25-34 years old    Man  Straight / Heterosexual  Brazil   \n2             46  35-44 years old    Man  Straight / Heterosexual  Brazil   \n3             69  35-44 years old    Man  Straight / Heterosexual   Spain   \n4             80  18-24 years old    Man  Straight / Heterosexual   Spain   \n...          ...              ...    ...                      ...     ...   \n6290       83391  35-44 years old    Man  Straight / Heterosexual  Brazil   \n6291       83393  25-34 years old    Man  Straight / Heterosexual  Brazil   \n6292       83429  25-34 years old    Man  Straight / Heterosexual  Brazil   \n6293       83434  25-34 years old    Man  Straight / Heterosexual  Brazil   \n6294       83439  18-24 years old    Man  Straight / Heterosexual  Brazil   \n\n                                              EdLevel        LearnCode  \\\n0        Bachelor’s degree (B.A., B.S., B.Eng., etc.)             Both   \n1        Bachelor’s degree (B.A., B.S., B.Eng., etc.)  Non-traditional   \n2        Bachelor’s degree (B.A., B.S., B.Eng., etc.)  Non-traditional   \n3     Master’s degree (M.A., M.S., M.Eng., MBA, etc.)      Traditional   \n4                 Associate degree (A.A., A.S., etc.)  Non-traditional   \n...                                               ...              ...   \n6290     Bachelor’s degree (B.A., B.S., B.Eng., etc.)             Both   \n6291     Bachelor’s degree (B.A., B.S., B.Eng., etc.)      Traditional   \n6292  Master’s degree (M.A., M.S., M.Eng., MBA, etc.)      Traditional   \n6293     Bachelor’s degree (B.A., B.S., B.Eng., etc.)  Non-traditional   \n6294               Professional degree (JD, MD, etc.)      Traditional   \n\n                                             Employment  ConvertedCompYearly  \\\n0                                              Employed              46482.0   \n1                                              Employed                  NaN   \n2                                              Employed              60480.0   \n3                                              Employed              58373.0   \n4                                              Employed              21620.0   \n...                                                 ...                  ...   \n6290                                           Employed              27492.0   \n6291                                           Employed              68721.0   \n6292                                           Employed              41232.0   \n6293  Independent contractor, freelancer, or self-em...              18326.0   \n6294                                           Employed              21168.0   \n\n      YearsLearnPro Degree  \n0               7.0    Yes  \n1               3.0    Yes  \n2               7.0    Yes  \n3              10.0    Yes  \n4               NaN    Yes  \n...             ...    ...  \n6290            3.0    Yes  \n6291            2.0    Yes  \n6292            5.0    Yes  \n6293            4.0    Yes  \n6294           10.0    Yes  \n\n[6295 rows x 11 columns]",
      "text/html": "<div>\n<style scoped>\n    .dataframe tbody tr th:only-of-type {\n        vertical-align: middle;\n    }\n\n    .dataframe tbody tr th {\n        vertical-align: top;\n    }\n\n    .dataframe thead th {\n        text-align: right;\n    }\n</style>\n<table border=\"1\" class=\"dataframe\">\n  <thead>\n    <tr style=\"text-align: right;\">\n      <th></th>\n      <th>ResponseId</th>\n      <th>Age</th>\n      <th>Gender</th>\n      <th>Sexuality</th>\n      <th>Country</th>\n      <th>EdLevel</th>\n      <th>LearnCode</th>\n      <th>Employment</th>\n      <th>ConvertedCompYearly</th>\n      <th>YearsLearnPro</th>\n      <th>Degree</th>\n    </tr>\n  </thead>\n  <tbody>\n    <tr>\n      <th>0</th>\n      <td>12</td>\n      <td>25-34 years old</td>\n      <td>Man</td>\n      <td>Straight / Heterosexual</td>\n      <td>Spain</td>\n      <td>Bachelor’s degree (B.A., B.S., B.Eng., etc.)</td>\n      <td>Both</td>\n      <td>Employed</td>\n      <td>46482.0</td>\n      <td>7.0</td>\n      <td>Yes</td>\n    </tr>\n    <tr>\n      <th>1</th>\n      <td>20</td>\n      <td>25-34 years old</td>\n      <td>Man</td>\n      <td>Straight / Heterosexual</td>\n      <td>Brazil</td>\n      <td>Bachelor’s degree (B.A., B.S., B.Eng., etc.)</td>\n      <td>Non-traditional</td>\n      <td>Employed</td>\n      <td>NaN</td>\n      <td>3.0</td>\n      <td>Yes</td>\n    </tr>\n    <tr>\n      <th>2</th>\n      <td>46</td>\n      <td>35-44 years old</td>\n      <td>Man</td>\n      <td>Straight / Heterosexual</td>\n      <td>Brazil</td>\n      <td>Bachelor’s degree (B.A., B.S., B.Eng., etc.)</td>\n      <td>Non-traditional</td>\n      <td>Employed</td>\n      <td>60480.0</td>\n      <td>7.0</td>\n      <td>Yes</td>\n    </tr>\n    <tr>\n      <th>3</th>\n      <td>69</td>\n      <td>35-44 years old</td>\n      <td>Man</td>\n      <td>Straight / Heterosexual</td>\n      <td>Spain</td>\n      <td>Master’s degree (M.A., M.S., M.Eng., MBA, etc.)</td>\n      <td>Traditional</td>\n      <td>Employed</td>\n      <td>58373.0</td>\n      <td>10.0</td>\n      <td>Yes</td>\n    </tr>\n    <tr>\n      <th>4</th>\n      <td>80</td>\n      <td>18-24 years old</td>\n      <td>Man</td>\n      <td>Straight / Heterosexual</td>\n      <td>Spain</td>\n      <td>Associate degree (A.A., A.S., etc.)</td>\n      <td>Non-traditional</td>\n      <td>Employed</td>\n      <td>21620.0</td>\n      <td>NaN</td>\n      <td>Yes</td>\n    </tr>\n    <tr>\n      <th>...</th>\n      <td>...</td>\n      <td>...</td>\n      <td>...</td>\n      <td>...</td>\n      <td>...</td>\n      <td>...</td>\n      <td>...</td>\n      <td>...</td>\n      <td>...</td>\n      <td>...</td>\n      <td>...</td>\n    </tr>\n    <tr>\n      <th>6290</th>\n      <td>83391</td>\n      <td>35-44 years old</td>\n      <td>Man</td>\n      <td>Straight / Heterosexual</td>\n      <td>Brazil</td>\n      <td>Bachelor’s degree (B.A., B.S., B.Eng., etc.)</td>\n      <td>Both</td>\n      <td>Employed</td>\n      <td>27492.0</td>\n      <td>3.0</td>\n      <td>Yes</td>\n    </tr>\n    <tr>\n      <th>6291</th>\n      <td>83393</td>\n      <td>25-34 years old</td>\n      <td>Man</td>\n      <td>Straight / Heterosexual</td>\n      <td>Brazil</td>\n      <td>Bachelor’s degree (B.A., B.S., B.Eng., etc.)</td>\n      <td>Traditional</td>\n      <td>Employed</td>\n      <td>68721.0</td>\n      <td>2.0</td>\n      <td>Yes</td>\n    </tr>\n    <tr>\n      <th>6292</th>\n      <td>83429</td>\n      <td>25-34 years old</td>\n      <td>Man</td>\n      <td>Straight / Heterosexual</td>\n      <td>Brazil</td>\n      <td>Master’s degree (M.A., M.S., M.Eng., MBA, etc.)</td>\n      <td>Traditional</td>\n      <td>Employed</td>\n      <td>41232.0</td>\n      <td>5.0</td>\n      <td>Yes</td>\n    </tr>\n    <tr>\n      <th>6293</th>\n      <td>83434</td>\n      <td>25-34 years old</td>\n      <td>Man</td>\n      <td>Straight / Heterosexual</td>\n      <td>Brazil</td>\n      <td>Bachelor’s degree (B.A., B.S., B.Eng., etc.)</td>\n      <td>Non-traditional</td>\n      <td>Independent contractor, freelancer, or self-em...</td>\n      <td>18326.0</td>\n      <td>4.0</td>\n      <td>Yes</td>\n    </tr>\n    <tr>\n      <th>6294</th>\n      <td>83439</td>\n      <td>18-24 years old</td>\n      <td>Man</td>\n      <td>Straight / Heterosexual</td>\n      <td>Brazil</td>\n      <td>Professional degree (JD, MD, etc.)</td>\n      <td>Traditional</td>\n      <td>Employed</td>\n      <td>21168.0</td>\n      <td>10.0</td>\n      <td>Yes</td>\n    </tr>\n  </tbody>\n</table>\n<p>6295 rows × 11 columns</p>\n</div>"
     },
     "metadata": {}
    }
   ]
  },
  {
   "cell_type": "markdown",
   "source": "## Educación",
   "metadata": {
    "cell_id": "20843a46-5b44-4177-9e59-f5ccf9116869",
    "tags": [],
    "deepnote_cell_type": "markdown"
   }
  },
  {
   "cell_type": "markdown",
   "source": "### 1. ¿Tener título universitario incrementa la probabilidad de conseguir empleo?\n\n- **Hipótesis nula (Ho):** se tiene la misma probabilidad de conseguir empleo teniendo título o no.\n- **Hipótesis alternativa (Ha):** es más probable conseguir empleo teniendo título.",
   "metadata": {
    "cell_id": "02b48bff-c5eb-459e-bf9d-47a69c758af4",
    "tags": [],
    "deepnote_cell_type": "markdown"
   }
  },
  {
   "cell_type": "code",
   "metadata": {
    "tags": [],
    "deepnote_variable_name": "df_employment",
    "sql_integration_id": "a62a6e90-c1cd-42a3-9aca-116732175b05",
    "cell_id": "928c6be4-b71c-4912-99c4-9028b3ffbd2c",
    "deepnote_to_be_reexecuted": false,
    "source_hash": "a2b3247a",
    "execution_start": 1646009863815,
    "execution_millis": 584,
    "is_output_hidden": true,
    "deepnote_sql_source": "select \"Degree\", \"Employment\",\n    case \n        when \"Employment\" = 'Not employed' then 'No'\n        when \"Employment\" = 'Student' then 'Student'\n        else 'Yes'\n    end as employed\nfrom survey_s_2021;",
    "deepnote_cell_type": "sql"
   },
   "source": "\n\ndf_employment = _deepnote_execute_sql(\"\"\"select \"Degree\", \"Employment\",\n    case \n        when \"Employment\" = 'Not employed' then 'No'\n        when \"Employment\" = 'Student' then 'Student'\n        else 'Yes'\n    end as employed\nfrom survey_s_2021;\n\"\"\", 'SQL_A62A6E90_C1CD_42A3_9ACA_116732175B05')\ndf_employment",
   "execution_count": null,
   "outputs": [
    {
     "output_type": "execute_result",
     "execution_count": 4,
     "data": {
      "application/vnd.deepnote.dataframe.v3+json": {
       "column_count": 3,
       "row_count": 6295,
       "columns": [
        {
         "name": "Degree",
         "dtype": "object",
         "stats": {
          "unique_count": 2,
          "nan_count": 0,
          "categories": [
           {
            "name": "Yes",
            "count": 4292
           },
           {
            "name": "No",
            "count": 2003
           }
          ]
         }
        },
        {
         "name": "Employment",
         "dtype": "object",
         "stats": {
          "unique_count": 4,
          "nan_count": 2,
          "categories": [
           {
            "name": "Employed",
            "count": 4599
           },
           {
            "name": "3 others",
            "count": 1694
           },
           {
            "name": "Missing",
            "count": 2
           }
          ]
         }
        },
        {
         "name": "employed",
         "dtype": "object",
         "stats": {
          "unique_count": 3,
          "nan_count": 0,
          "categories": [
           {
            "name": "Yes",
            "count": 5371
           },
           {
            "name": "Student",
            "count": 656
           },
           {
            "name": "No",
            "count": 268
           }
          ]
         }
        },
        {
         "name": "_deepnote_index_column",
         "dtype": "int64"
        }
       ],
       "rows": [
        {
         "Degree": "Yes",
         "Employment": "Employed",
         "employed": "Yes",
         "_deepnote_index_column": 0
        },
        {
         "Degree": "Yes",
         "Employment": "Employed",
         "employed": "Yes",
         "_deepnote_index_column": 1
        },
        {
         "Degree": "Yes",
         "Employment": "Employed",
         "employed": "Yes",
         "_deepnote_index_column": 2
        },
        {
         "Degree": "Yes",
         "Employment": "Employed",
         "employed": "Yes",
         "_deepnote_index_column": 3
        },
        {
         "Degree": "Yes",
         "Employment": "Employed",
         "employed": "Yes",
         "_deepnote_index_column": 4
        },
        {
         "Degree": "Yes",
         "Employment": "Employed",
         "employed": "Yes",
         "_deepnote_index_column": 5
        },
        {
         "Degree": "Yes",
         "Employment": "Employed",
         "employed": "Yes",
         "_deepnote_index_column": 6
        },
        {
         "Degree": "Yes",
         "Employment": "Employed",
         "employed": "Yes",
         "_deepnote_index_column": 7
        },
        {
         "Degree": "Yes",
         "Employment": "Employed",
         "employed": "Yes",
         "_deepnote_index_column": 8
        },
        {
         "Degree": "Yes",
         "Employment": "Employed",
         "employed": "Yes",
         "_deepnote_index_column": 9
        }
       ]
      },
      "text/plain": "     Degree                                         Employment employed\n0       Yes                                           Employed      Yes\n1       Yes                                           Employed      Yes\n2       Yes                                           Employed      Yes\n3       Yes                                           Employed      Yes\n4       Yes                                           Employed      Yes\n...     ...                                                ...      ...\n6290    Yes                                           Employed      Yes\n6291    Yes                                           Employed      Yes\n6292    Yes                                           Employed      Yes\n6293    Yes  Independent contractor, freelancer, or self-em...      Yes\n6294    Yes                                           Employed      Yes\n\n[6295 rows x 3 columns]",
      "text/html": "<div>\n<style scoped>\n    .dataframe tbody tr th:only-of-type {\n        vertical-align: middle;\n    }\n\n    .dataframe tbody tr th {\n        vertical-align: top;\n    }\n\n    .dataframe thead th {\n        text-align: right;\n    }\n</style>\n<table border=\"1\" class=\"dataframe\">\n  <thead>\n    <tr style=\"text-align: right;\">\n      <th></th>\n      <th>Degree</th>\n      <th>Employment</th>\n      <th>employed</th>\n    </tr>\n  </thead>\n  <tbody>\n    <tr>\n      <th>0</th>\n      <td>Yes</td>\n      <td>Employed</td>\n      <td>Yes</td>\n    </tr>\n    <tr>\n      <th>1</th>\n      <td>Yes</td>\n      <td>Employed</td>\n      <td>Yes</td>\n    </tr>\n    <tr>\n      <th>2</th>\n      <td>Yes</td>\n      <td>Employed</td>\n      <td>Yes</td>\n    </tr>\n    <tr>\n      <th>3</th>\n      <td>Yes</td>\n      <td>Employed</td>\n      <td>Yes</td>\n    </tr>\n    <tr>\n      <th>4</th>\n      <td>Yes</td>\n      <td>Employed</td>\n      <td>Yes</td>\n    </tr>\n    <tr>\n      <th>...</th>\n      <td>...</td>\n      <td>...</td>\n      <td>...</td>\n    </tr>\n    <tr>\n      <th>6290</th>\n      <td>Yes</td>\n      <td>Employed</td>\n      <td>Yes</td>\n    </tr>\n    <tr>\n      <th>6291</th>\n      <td>Yes</td>\n      <td>Employed</td>\n      <td>Yes</td>\n    </tr>\n    <tr>\n      <th>6292</th>\n      <td>Yes</td>\n      <td>Employed</td>\n      <td>Yes</td>\n    </tr>\n    <tr>\n      <th>6293</th>\n      <td>Yes</td>\n      <td>Independent contractor, freelancer, or self-em...</td>\n      <td>Yes</td>\n    </tr>\n    <tr>\n      <th>6294</th>\n      <td>Yes</td>\n      <td>Employed</td>\n      <td>Yes</td>\n    </tr>\n  </tbody>\n</table>\n<p>6295 rows × 3 columns</p>\n</div>"
     },
     "metadata": {}
    }
   ]
  },
  {
   "cell_type": "code",
   "metadata": {
    "cell_id": "8ae2fee3-0702-440f-b502-e1963a8d4675",
    "tags": [],
    "deepnote_to_be_reexecuted": false,
    "source_hash": "a057e9b7",
    "execution_start": 1646009863910,
    "execution_millis": 502,
    "deepnote_cell_type": "code"
   },
   "source": "sns.countplot(hue=df_employment.Degree, y=df_employment.employed)\nplt.title('Tiene empleo según si tiene título universitario')\nplt.show()",
   "execution_count": null,
   "outputs": [
    {
     "data": {
      "text/plain": "<Figure size 432x288 with 1 Axes>",
      "image/png": "[encoded data removed]"
     },
     "metadata": {
      "image/png": {
       "width": 419,
       "height": 284
      }
     },
     "output_type": "display_data"
    }
   ]
  },
  {
   "cell_type": "code",
   "metadata": {
    "cell_id": "ee21ee79-8779-49b7-a11e-21ba5438118d",
    "tags": [],
    "deepnote_to_be_reexecuted": false,
    "source_hash": "20bde4fe",
    "execution_start": 1646009864200,
    "execution_millis": 214,
    "deepnote_cell_type": "code"
   },
   "source": "# Chisquare test\nx = df_employment.groupby(['Degree', 'employed'])['Degree'].count().values.reshape(2,3)\nstats.chisquare(x)",
   "execution_count": null,
   "outputs": [
    {
     "output_type": "execute_result",
     "execution_count": 6,
     "data": {
      "text/plain": "Power_divergenceResult(statistic=array([1.34328358e-01, 1.48390244e+02, 1.26539732e+03]), pvalue=array([7.13985796e-001, 3.89786126e-034, 3.74065418e-277]))"
     },
     "metadata": {}
    }
   ]
  },
  {
   "cell_type": "code",
   "metadata": {
    "cell_id": "eb325945-f1a8-4b64-ae61-24218b9a9e39",
    "tags": [],
    "deepnote_to_be_reexecuted": false,
    "source_hash": "9a5af12b",
    "execution_start": 1646009864201,
    "execution_millis": 213,
    "deepnote_cell_type": "code"
   },
   "source": "# Relation\nc = df_employment.groupby(['Degree', 'employed'])['Degree'].count()\nprint(f'CON TÍTULO relación empleo/desempleo: {round(c[5]/c[3],2)} empleados por cada 1 desempleado ({round(c[3]/c[5]*100,2)}% de desempleo)')\nprint(f'SIN TÍTULO relación empleo/desempleo: {round(c[2]/c[0],2)} empleados por cada 1 desempleado ({round(c[0]/c[2]*100,2)}% de desempleo)')",
   "execution_count": null,
   "outputs": [
    {
     "name": "stdout",
     "text": "CON TÍTULO relación empleo/desempleo: 30.45 empleados por cada 1 desempleado (3.28% de desempleo)\nSIN TÍTULO relación empleo/desempleo: 10.09 empleados por cada 1 desempleado (9.91% de desempleo)\n",
     "output_type": "stream"
    }
   ]
  },
  {
   "cell_type": "markdown",
   "source": "**Se rechaza Ho**. Es más probable conseguir empleo teniendo título.",
   "metadata": {
    "cell_id": "0e9a5a66-9274-4e1d-8024-f8ef1a05adf6",
    "tags": [],
    "deepnote_cell_type": "markdown"
   }
  },
  {
   "cell_type": "markdown",
   "source": "### 2. ¿Si tengo título gano más que si no?\n\n- **Hipótesis nula (Ho):** los salarios _son los mismos_ para personas con o sin título.\n- **Hipótesis alternativa (Ha):** los salarios son _más altos_ para personas con título.",
   "metadata": {
    "cell_id": "a9910237-c85e-46e9-921c-fa775c71be05",
    "tags": [],
    "deepnote_cell_type": "markdown"
   }
  },
  {
   "cell_type": "code",
   "metadata": {
    "tags": [],
    "sql_integration_id": "a62a6e90-c1cd-42a3-9aca-116732175b05",
    "cell_id": "f2e93036-1ccd-4ad9-b0a2-5e8030b900ae",
    "deepnote_variable_name": "s_has_degree",
    "deepnote_to_be_reexecuted": false,
    "source_hash": "dd4f78fd",
    "execution_start": 1646009864202,
    "execution_millis": 213,
    "is_output_hidden": true,
    "deepnote_sql_source": "select \"ConvertedCompYearly\"\nfrom survey_s_2021\nwhere \"Degree\" = 'Yes';",
    "deepnote_cell_type": "sql"
   },
   "source": "\n\ns_has_degree = _deepnote_execute_sql(\"\"\"select \"ConvertedCompYearly\"\nfrom survey_s_2021\nwhere \"Degree\" = 'Yes';\n\"\"\", 'SQL_A62A6E90_C1CD_42A3_9ACA_116732175B05')\ns_has_degree",
   "execution_count": null,
   "outputs": [
    {
     "output_type": "execute_result",
     "execution_count": 8,
     "data": {
      "application/vnd.deepnote.dataframe.v3+json": {
       "column_count": 1,
       "row_count": 4292,
       "columns": [
        {
         "name": "ConvertedCompYearly",
         "dtype": "float64",
         "stats": {
          "unique_count": 1126,
          "nan_count": 988,
          "min": "12.0",
          "max": "4656132.0",
          "histogram": [
           {
            "bin_start": 12,
            "bin_end": 465624,
            "count": 3265
           },
           {
            "bin_start": 465624,
            "bin_end": 931236,
            "count": 26
           },
           {
            "bin_start": 931236,
            "bin_end": 1396848,
            "count": 6
           },
           {
            "bin_start": 1396848,
            "bin_end": 1862460,
            "count": 4
           },
           {
            "bin_start": 1862460,
            "bin_end": 2328072,
            "count": 1
           },
           {
            "bin_start": 2328072,
            "bin_end": 2793684,
            "count": 1
           },
           {
            "bin_start": 2793684,
            "bin_end": 3259296,
            "count": 0
           },
           {
            "bin_start": 3259296,
            "bin_end": 3724908,
            "count": 0
           },
           {
            "bin_start": 3724908,
            "bin_end": 4190520,
            "count": 0
           },
           {
            "bin_start": 4190520,
            "bin_end": 4656132,
            "count": 1
           }
          ]
         }
        },
        {
         "name": "_deepnote_index_column",
         "dtype": "int64"
        }
       ],
       "rows": [
        {
         "ConvertedCompYearly": 46482,
         "_deepnote_index_column": 0
        },
        {
         "ConvertedCompYearly": "nan",
         "_deepnote_index_column": 1
        },
        {
         "ConvertedCompYearly": 60480,
         "_deepnote_index_column": 2
        },
        {
         "ConvertedCompYearly": 58373,
         "_deepnote_index_column": 3
        },
        {
         "ConvertedCompYearly": 21620,
         "_deepnote_index_column": 4
        },
        {
         "ConvertedCompYearly": 38915,
         "_deepnote_index_column": 5
        },
        {
         "ConvertedCompYearly": 21600,
         "_deepnote_index_column": 6
        },
        {
         "ConvertedCompYearly": 22584,
         "_deepnote_index_column": 7
        },
        {
         "ConvertedCompYearly": "nan",
         "_deepnote_index_column": 8
        },
        {
         "ConvertedCompYearly": "nan",
         "_deepnote_index_column": 9
        }
       ]
      },
      "text/plain": "      ConvertedCompYearly\n0                 46482.0\n1                     NaN\n2                 60480.0\n3                 58373.0\n4                 21620.0\n...                   ...\n4287              27492.0\n4288              68721.0\n4289              41232.0\n4290              18326.0\n4291              21168.0\n\n[4292 rows x 1 columns]",
      "text/html": "<div>\n<style scoped>\n    .dataframe tbody tr th:only-of-type {\n        vertical-align: middle;\n    }\n\n    .dataframe tbody tr th {\n        vertical-align: top;\n    }\n\n    .dataframe thead th {\n        text-align: right;\n    }\n</style>\n<table border=\"1\" class=\"dataframe\">\n  <thead>\n    <tr style=\"text-align: right;\">\n      <th></th>\n      <th>ConvertedCompYearly</th>\n    </tr>\n  </thead>\n  <tbody>\n    <tr>\n      <th>0</th>\n      <td>46482.0</td>\n    </tr>\n    <tr>\n      <th>1</th>\n      <td>NaN</td>\n    </tr>\n    <tr>\n      <th>2</th>\n      <td>60480.0</td>\n    </tr>\n    <tr>\n      <th>3</th>\n      <td>58373.0</td>\n    </tr>\n    <tr>\n      <th>4</th>\n      <td>21620.0</td>\n    </tr>\n    <tr>\n      <th>...</th>\n      <td>...</td>\n    </tr>\n    <tr>\n      <th>4287</th>\n      <td>27492.0</td>\n    </tr>\n    <tr>\n      <th>4288</th>\n      <td>68721.0</td>\n    </tr>\n    <tr>\n      <th>4289</th>\n      <td>41232.0</td>\n    </tr>\n    <tr>\n      <th>4290</th>\n      <td>18326.0</td>\n    </tr>\n    <tr>\n      <th>4291</th>\n      <td>21168.0</td>\n    </tr>\n  </tbody>\n</table>\n<p>4292 rows × 1 columns</p>\n</div>"
     },
     "metadata": {}
    }
   ]
  },
  {
   "cell_type": "code",
   "metadata": {
    "tags": [],
    "sql_integration_id": "a62a6e90-c1cd-42a3-9aca-116732175b05",
    "cell_id": "00012-fbb83626-137d-4829-8509-5f2588ab9ae9",
    "deepnote_variable_name": "s_non_degree",
    "allow_embed": false,
    "deepnote_to_be_reexecuted": false,
    "source_hash": "66c380e4",
    "execution_start": 1646009864299,
    "execution_millis": 129,
    "is_output_hidden": true,
    "deepnote_sql_source": "select \"ConvertedCompYearly\"\nfrom survey_s_2021\nwhere \"Degree\" = 'No';",
    "deepnote_cell_type": "sql"
   },
   "source": "\n\ns_non_degree = _deepnote_execute_sql(\"\"\"select \"ConvertedCompYearly\"\nfrom survey_s_2021\nwhere \"Degree\" = 'No';\n\"\"\", 'SQL_A62A6E90_C1CD_42A3_9ACA_116732175B05')\ns_non_degree",
   "execution_count": null,
   "outputs": [
    {
     "output_type": "execute_result",
     "execution_count": 9,
     "data": {
      "application/vnd.deepnote.dataframe.v3+json": {
       "column_count": 1,
       "row_count": 2003,
       "columns": [
        {
         "name": "ConvertedCompYearly",
         "dtype": "float64",
         "stats": {
          "unique_count": 569,
          "nan_count": 919,
          "min": "49.0",
          "max": "3617724.0",
          "histogram": [
           {
            "bin_start": 49,
            "bin_end": 361816.5,
            "count": 1071
           },
           {
            "bin_start": 361816.5,
            "bin_end": 723584,
            "count": 11
           },
           {
            "bin_start": 723584,
            "bin_end": 1085351.5,
            "count": 1
           },
           {
            "bin_start": 1085351.5,
            "bin_end": 1447119,
            "count": 0
           },
           {
            "bin_start": 1447119,
            "bin_end": 1808886.5,
            "count": 0
           },
           {
            "bin_start": 1808886.5,
            "bin_end": 2170654,
            "count": 0
           },
           {
            "bin_start": 2170654,
            "bin_end": 2532421.5,
            "count": 0
           },
           {
            "bin_start": 2532421.5,
            "bin_end": 2894189,
            "count": 0
           },
           {
            "bin_start": 2894189,
            "bin_end": 3255956.5,
            "count": 0
           },
           {
            "bin_start": 3255956.5,
            "bin_end": 3617724,
            "count": 1
           }
          ]
         }
        },
        {
         "name": "_deepnote_index_column",
         "dtype": "int64"
        }
       ],
       "rows": [
        {
         "ConvertedCompYearly": 75000,
         "_deepnote_index_column": 0
        },
        {
         "ConvertedCompYearly": 8796,
         "_deepnote_index_column": 1
        },
        {
         "ConvertedCompYearly": 20539,
         "_deepnote_index_column": 2
        },
        {
         "ConvertedCompYearly": "nan",
         "_deepnote_index_column": 3
        },
        {
         "ConvertedCompYearly": 16215,
         "_deepnote_index_column": 4
        },
        {
         "ConvertedCompYearly": 65976,
         "_deepnote_index_column": 5
        },
        {
         "ConvertedCompYearly": 9729,
         "_deepnote_index_column": 6
        },
        {
         "ConvertedCompYearly": 41232,
         "_deepnote_index_column": 7
        },
        {
         "ConvertedCompYearly": "nan",
         "_deepnote_index_column": 8
        },
        {
         "ConvertedCompYearly": 58373,
         "_deepnote_index_column": 9
        }
       ]
      },
      "text/plain": "      ConvertedCompYearly\n0                 75000.0\n1                  8796.0\n2                 20539.0\n3                     NaN\n4                 16215.0\n...                   ...\n1998                  NaN\n1999               8244.0\n2000                  NaN\n2001              24000.0\n2002                  NaN\n\n[2003 rows x 1 columns]",
      "text/html": "<div>\n<style scoped>\n    .dataframe tbody tr th:only-of-type {\n        vertical-align: middle;\n    }\n\n    .dataframe tbody tr th {\n        vertical-align: top;\n    }\n\n    .dataframe thead th {\n        text-align: right;\n    }\n</style>\n<table border=\"1\" class=\"dataframe\">\n  <thead>\n    <tr style=\"text-align: right;\">\n      <th></th>\n      <th>ConvertedCompYearly</th>\n    </tr>\n  </thead>\n  <tbody>\n    <tr>\n      <th>0</th>\n      <td>75000.0</td>\n    </tr>\n    <tr>\n      <th>1</th>\n      <td>8796.0</td>\n    </tr>\n    <tr>\n      <th>2</th>\n      <td>20539.0</td>\n    </tr>\n    <tr>\n      <th>3</th>\n      <td>NaN</td>\n    </tr>\n    <tr>\n      <th>4</th>\n      <td>16215.0</td>\n    </tr>\n    <tr>\n      <th>...</th>\n      <td>...</td>\n    </tr>\n    <tr>\n      <th>1998</th>\n      <td>NaN</td>\n    </tr>\n    <tr>\n      <th>1999</th>\n      <td>8244.0</td>\n    </tr>\n    <tr>\n      <th>2000</th>\n      <td>NaN</td>\n    </tr>\n    <tr>\n      <th>2001</th>\n      <td>24000.0</td>\n    </tr>\n    <tr>\n      <th>2002</th>\n      <td>NaN</td>\n    </tr>\n  </tbody>\n</table>\n<p>2003 rows × 1 columns</p>\n</div>"
     },
     "metadata": {}
    }
   ]
  },
  {
   "cell_type": "code",
   "metadata": {
    "cell_id": "0a786bd6-af05-4bac-b8b5-0c5803329b62",
    "tags": [],
    "deepnote_to_be_reexecuted": false,
    "source_hash": "78bb1e01",
    "execution_start": 1646009864429,
    "execution_millis": 69,
    "deepnote_cell_type": "code"
   },
   "source": "sns.boxplot(x=df.Degree, y=df.ConvertedCompYearly, showfliers=False)\nplt.title('Rango de ganancias anuales con y sin título')\nplt.ylabel(None)\nplt.show()",
   "execution_count": null,
   "outputs": [
    {
     "data": {
      "text/plain": "<Figure size 432x288 with 1 Axes>",
      "image/png": "[encoded data removed]"
     },
     "metadata": {
      "image/png": {
       "width": 393,
       "height": 284
      }
     },
     "output_type": "display_data"
    }
   ]
  },
  {
   "cell_type": "code",
   "metadata": {
    "cell_id": "00786081-7608-45c0-bcab-0ca284d7641b",
    "tags": [],
    "deepnote_to_be_reexecuted": false,
    "source_hash": "513ca41e",
    "execution_start": 1646009864494,
    "execution_millis": 17,
    "deepnote_cell_type": "code"
   },
   "source": "# Test if has a normal distribution\nprint(stats.shapiro(s_has_degree.notnull()))\nprint(stats.shapiro(s_non_degree.notnull()))",
   "execution_count": null,
   "outputs": [
    {
     "name": "stdout",
     "text": "ShapiroResult(statistic=0.5208181142807007, pvalue=0.0)\nShapiroResult(statistic=0.6341419816017151, pvalue=0.0)\n",
     "output_type": "stream"
    }
   ]
  },
  {
   "cell_type": "markdown",
   "source": "El test de `shapiro` confirma que las distribuciones de los salarios no son normales, no se puede aplicar `stats.ttest_ind`. En cambio, se aplica `hypothesize.pb2gen` que usa bootstrap.\n\nEste resultado se tomará en cuenta para el resto de análisis que requiera usar los salarios.",
   "metadata": {
    "cell_id": "62b7b0e3-b824-4c4c-97e7-a6ef807fc34a",
    "tags": [],
    "deepnote_cell_type": "markdown"
   }
  },
  {
   "cell_type": "code",
   "metadata": {
    "cell_id": "3ddce871-63de-4bd9-b06a-41b1612fa57f",
    "tags": [],
    "deepnote_to_be_reexecuted": false,
    "source_hash": "1ab49db3",
    "execution_start": 1646009864500,
    "execution_millis": 307,
    "deepnote_cell_type": "code"
   },
   "source": "pb2gen(s_has_degree, s_non_degree, trim_mean, .2)",
   "execution_count": null,
   "outputs": [
    {
     "output_type": "execute_result",
     "execution_count": 12,
     "data": {
      "text/plain": "{'est_1': 31090.308467741936,\n 'est_2': 24916.923312883435,\n 'est_dif': 6173.385154858501,\n 'ci': [4393.396738323765, 7942.947088981793],\n 'p_value': 0.0,\n 'variance': 809098.6615641174,\n 'n1': 3304,\n 'n2': 1084}"
     },
     "metadata": {}
    }
   ]
  },
  {
   "cell_type": "markdown",
   "source": "**Se rechaza Ho.** Las personas con título tienden a ganar más anualmente. Dichas ganancias pueden ser de 4k a 7k extra al año. ",
   "metadata": {
    "cell_id": "a719149c-b717-4057-b31e-fdd76d4bff74",
    "tags": [],
    "deepnote_cell_type": "markdown"
   }
  },
  {
   "cell_type": "markdown",
   "source": "### 3. Si se aprende código únicamente de manera NO tradicional, ¿se gana menos?\n\n- **Hipótesis nula (Ho):** los salarios _son los mismos_ para personas que aprendieron código de manera tradicional y no tradicional.\n- **Hipótesis alternativa (Ha):** los salarios son _más bajos_ para personas que aprendieron código de manera NO tradicional.",
   "metadata": {
    "cell_id": "14522c1c-5e03-4a25-a01e-c74b97dc9fa7",
    "tags": [],
    "deepnote_cell_type": "markdown"
   }
  },
  {
   "cell_type": "code",
   "metadata": {
    "tags": [],
    "deepnote_variable_name": "traditional",
    "sql_integration_id": "a62a6e90-c1cd-42a3-9aca-116732175b05",
    "cell_id": "e085657d-bc44-4f57-aac4-3fab7bd706f3",
    "deepnote_to_be_reexecuted": false,
    "source_hash": "69498cd5",
    "execution_start": 1646009864851,
    "execution_millis": 47,
    "is_output_hidden": true,
    "deepnote_sql_source": "select \"ConvertedCompYearly\"\nfrom survey_s_2021\nwhere \"LearnCode\" = 'Traditional';",
    "deepnote_cell_type": "sql"
   },
   "source": "\n\ntraditional = _deepnote_execute_sql(\"\"\"select \"ConvertedCompYearly\"\nfrom survey_s_2021\nwhere \"LearnCode\" = 'Traditional';\n\"\"\", 'SQL_A62A6E90_C1CD_42A3_9ACA_116732175B05')\ntraditional",
   "execution_count": null,
   "outputs": [
    {
     "output_type": "execute_result",
     "execution_count": 13,
     "data": {
      "application/vnd.deepnote.dataframe.v3+json": {
       "column_count": 1,
       "row_count": 611,
       "columns": [
        {
         "name": "ConvertedCompYearly",
         "dtype": "float64",
         "stats": {
          "unique_count": 299,
          "nan_count": 166,
          "min": "41.0",
          "max": "3617724.0",
          "histogram": [
           {
            "bin_start": 41,
            "bin_end": 361809.3,
            "count": 433
           },
           {
            "bin_start": 361809.3,
            "bin_end": 723577.6,
            "count": 8
           },
           {
            "bin_start": 723577.6,
            "bin_end": 1085345.9,
            "count": 1
           },
           {
            "bin_start": 1085345.9,
            "bin_end": 1447114.2,
            "count": 2
           },
           {
            "bin_start": 1447114.2,
            "bin_end": 1808882.5,
            "count": 0
           },
           {
            "bin_start": 1808882.5,
            "bin_end": 2170650.8,
            "count": 0
           },
           {
            "bin_start": 2170650.8,
            "bin_end": 2532419.1,
            "count": 0
           },
           {
            "bin_start": 2532419.1,
            "bin_end": 2894187.4,
            "count": 0
           },
           {
            "bin_start": 2894187.4,
            "bin_end": 3255955.6999999997,
            "count": 0
           },
           {
            "bin_start": 3255955.6999999997,
            "bin_end": 3617724,
            "count": 1
           }
          ]
         }
        },
        {
         "name": "_deepnote_index_column",
         "dtype": "int64"
        }
       ],
       "rows": [
        {
         "ConvertedCompYearly": 58373,
         "_deepnote_index_column": 0
        },
        {
         "ConvertedCompYearly": 21600,
         "_deepnote_index_column": 1
        },
        {
         "ConvertedCompYearly": 8796,
         "_deepnote_index_column": 2
        },
        {
         "ConvertedCompYearly": 19860,
         "_deepnote_index_column": 3
        },
        {
         "ConvertedCompYearly": 96204,
         "_deepnote_index_column": 4
        },
        {
         "ConvertedCompYearly": 41232,
         "_deepnote_index_column": 5
        },
        {
         "ConvertedCompYearly": 51888,
         "_deepnote_index_column": 6
        },
        {
         "ConvertedCompYearly": "nan",
         "_deepnote_index_column": 7
        },
        {
         "ConvertedCompYearly": 29088,
         "_deepnote_index_column": 8
        },
        {
         "ConvertedCompYearly": 36000,
         "_deepnote_index_column": 9
        }
       ]
      },
      "text/plain": "     ConvertedCompYearly\n0                58373.0\n1                21600.0\n2                 8796.0\n3                19860.0\n4                96204.0\n..                   ...\n606                  NaN\n607              94250.0\n608              68721.0\n609              41232.0\n610              21168.0\n\n[611 rows x 1 columns]",
      "text/html": "<div>\n<style scoped>\n    .dataframe tbody tr th:only-of-type {\n        vertical-align: middle;\n    }\n\n    .dataframe tbody tr th {\n        vertical-align: top;\n    }\n\n    .dataframe thead th {\n        text-align: right;\n    }\n</style>\n<table border=\"1\" class=\"dataframe\">\n  <thead>\n    <tr style=\"text-align: right;\">\n      <th></th>\n      <th>ConvertedCompYearly</th>\n    </tr>\n  </thead>\n  <tbody>\n    <tr>\n      <th>0</th>\n      <td>58373.0</td>\n    </tr>\n    <tr>\n      <th>1</th>\n      <td>21600.0</td>\n    </tr>\n    <tr>\n      <th>2</th>\n      <td>8796.0</td>\n    </tr>\n    <tr>\n      <th>3</th>\n      <td>19860.0</td>\n    </tr>\n    <tr>\n      <th>4</th>\n      <td>96204.0</td>\n    </tr>\n    <tr>\n      <th>...</th>\n      <td>...</td>\n    </tr>\n    <tr>\n      <th>606</th>\n      <td>NaN</td>\n    </tr>\n    <tr>\n      <th>607</th>\n      <td>94250.0</td>\n    </tr>\n    <tr>\n      <th>608</th>\n      <td>68721.0</td>\n    </tr>\n    <tr>\n      <th>609</th>\n      <td>41232.0</td>\n    </tr>\n    <tr>\n      <th>610</th>\n      <td>21168.0</td>\n    </tr>\n  </tbody>\n</table>\n<p>611 rows × 1 columns</p>\n</div>"
     },
     "metadata": {}
    }
   ]
  },
  {
   "cell_type": "code",
   "metadata": {
    "tags": [],
    "deepnote_variable_name": "non_traditional",
    "sql_integration_id": "a62a6e90-c1cd-42a3-9aca-116732175b05",
    "cell_id": "00021-9f7f8d37-b06d-4c65-bb75-c1b0e3a14fd3",
    "allow_embed": false,
    "deepnote_to_be_reexecuted": false,
    "source_hash": "6a2bb139",
    "execution_start": 1646009864897,
    "execution_millis": 54,
    "is_output_hidden": true,
    "deepnote_sql_source": "select \"ConvertedCompYearly\"\nfrom survey_s_2021\nwhere \"LearnCode\" = 'Non-traditional';",
    "deepnote_cell_type": "sql"
   },
   "source": "\n\nnon_traditional = _deepnote_execute_sql(\"\"\"select \"ConvertedCompYearly\"\nfrom survey_s_2021\nwhere \"LearnCode\" = 'Non-traditional';\n\"\"\", 'SQL_A62A6E90_C1CD_42A3_9ACA_116732175B05')\nnon_traditional",
   "execution_count": null,
   "outputs": [
    {
     "output_type": "execute_result",
     "execution_count": 14,
     "data": {
      "application/vnd.deepnote.dataframe.v3+json": {
       "column_count": 1,
       "row_count": 3224,
       "columns": [
        {
         "name": "ConvertedCompYearly",
         "dtype": "float64",
         "stats": {
          "unique_count": 861,
          "nan_count": 1057,
          "min": "27.0",
          "max": "4656132.0",
          "histogram": [
           {
            "bin_start": 27,
            "bin_end": 465637.5,
            "count": 2139
           },
           {
            "bin_start": 465637.5,
            "bin_end": 931248,
            "count": 21
           },
           {
            "bin_start": 931248,
            "bin_end": 1396858.5,
            "count": 2
           },
           {
            "bin_start": 1396858.5,
            "bin_end": 1862469,
            "count": 3
           },
           {
            "bin_start": 1862469,
            "bin_end": 2328079.5,
            "count": 0
           },
           {
            "bin_start": 2328079.5,
            "bin_end": 2793690,
            "count": 1
           },
           {
            "bin_start": 2793690,
            "bin_end": 3259300.5,
            "count": 0
           },
           {
            "bin_start": 3259300.5,
            "bin_end": 3724911,
            "count": 0
           },
           {
            "bin_start": 3724911,
            "bin_end": 4190521.5,
            "count": 0
           },
           {
            "bin_start": 4190521.5,
            "bin_end": 4656132,
            "count": 1
           }
          ]
         }
        },
        {
         "name": "_deepnote_index_column",
         "dtype": "int64"
        }
       ],
       "rows": [
        {
         "ConvertedCompYearly": "nan",
         "_deepnote_index_column": 0
        },
        {
         "ConvertedCompYearly": 60480,
         "_deepnote_index_column": 1
        },
        {
         "ConvertedCompYearly": 21620,
         "_deepnote_index_column": 2
        },
        {
         "ConvertedCompYearly": 22584,
         "_deepnote_index_column": 3
        },
        {
         "ConvertedCompYearly": "nan",
         "_deepnote_index_column": 4
        },
        {
         "ConvertedCompYearly": "nan",
         "_deepnote_index_column": 5
        },
        {
         "ConvertedCompYearly": 75000,
         "_deepnote_index_column": 6
        },
        {
         "ConvertedCompYearly": 12972,
         "_deepnote_index_column": 7
        },
        {
         "ConvertedCompYearly": 28105,
         "_deepnote_index_column": 8
        },
        {
         "ConvertedCompYearly": 18000,
         "_deepnote_index_column": 9
        }
       ]
      },
      "text/plain": "      ConvertedCompYearly\n0                     NaN\n1                 60480.0\n2                 21620.0\n3                 22584.0\n4                     NaN\n...                   ...\n3219              21444.0\n3220               5772.0\n3221                  NaN\n3222              30108.0\n3223              18326.0\n\n[3224 rows x 1 columns]",
      "text/html": "<div>\n<style scoped>\n    .dataframe tbody tr th:only-of-type {\n        vertical-align: middle;\n    }\n\n    .dataframe tbody tr th {\n        vertical-align: top;\n    }\n\n    .dataframe thead th {\n        text-align: right;\n    }\n</style>\n<table border=\"1\" class=\"dataframe\">\n  <thead>\n    <tr style=\"text-align: right;\">\n      <th></th>\n      <th>ConvertedCompYearly</th>\n    </tr>\n  </thead>\n  <tbody>\n    <tr>\n      <th>0</th>\n      <td>NaN</td>\n    </tr>\n    <tr>\n      <th>1</th>\n      <td>60480.0</td>\n    </tr>\n    <tr>\n      <th>2</th>\n      <td>21620.0</td>\n    </tr>\n    <tr>\n      <th>3</th>\n      <td>22584.0</td>\n    </tr>\n    <tr>\n      <th>4</th>\n      <td>NaN</td>\n    </tr>\n    <tr>\n      <th>...</th>\n      <td>...</td>\n    </tr>\n    <tr>\n      <th>3219</th>\n      <td>21444.0</td>\n    </tr>\n    <tr>\n      <th>3220</th>\n      <td>5772.0</td>\n    </tr>\n    <tr>\n      <th>3221</th>\n      <td>NaN</td>\n    </tr>\n    <tr>\n      <th>3222</th>\n      <td>30108.0</td>\n    </tr>\n    <tr>\n      <th>3223</th>\n      <td>18326.0</td>\n    </tr>\n  </tbody>\n</table>\n<p>3224 rows × 1 columns</p>\n</div>"
     },
     "metadata": {}
    }
   ]
  },
  {
   "cell_type": "code",
   "metadata": {
    "cell_id": "826e7b58-c9c2-48cd-a1e2-792b14a0fbe0",
    "tags": [],
    "deepnote_to_be_reexecuted": false,
    "source_hash": "25abd190",
    "execution_start": 1646009864999,
    "execution_millis": 107,
    "deepnote_cell_type": "code"
   },
   "source": "sns.boxplot(x=df.LearnCode, y=df.ConvertedCompYearly, showfliers=False)\nplt.title('Ganancias anuales según la forma que se aprendió a programar')\nplt.ylabel(None)\nplt.show()",
   "execution_count": null,
   "outputs": [
    {
     "data": {
      "text/plain": "<Figure size 432x288 with 1 Axes>",
      "image/png": "[encoded data removed]"
     },
     "metadata": {
      "image/png": {
       "width": 428,
       "height": 284
      }
     },
     "output_type": "display_data"
    }
   ]
  },
  {
   "cell_type": "code",
   "metadata": {
    "cell_id": "36ffcda6-42c1-41dd-89ca-ef25d4b002c6",
    "tags": [],
    "deepnote_to_be_reexecuted": false,
    "source_hash": "22d5066d",
    "execution_start": 1646009865108,
    "execution_millis": 1077,
    "deepnote_cell_type": "code"
   },
   "source": "pb2gen(non_traditional, traditional, trim_mean, 0.2, nboot=10000)",
   "execution_count": null,
   "outputs": [
    {
     "output_type": "execute_result",
     "execution_count": 16,
     "data": {
      "text/plain": "{'est_1': 29769.08839354343,\n 'est_2': 31161.80149812734,\n 'est_dif': -1392.7131045839124,\n 'ci': [-3909.7534049002934, 1068.9904135971483],\n 'p_value': 0.2682,\n 'variance': 1600886.613315168,\n 'n1': 2167,\n 'n2': 445}"
     },
     "metadata": {}
    }
   ]
  },
  {
   "cell_type": "markdown",
   "source": "Con un p-value > 0.01 **NO se rechaza Ho**. Es probable que la pequeña diferencia que se ve en la gráfica que haya dado por azar, no se puede asegurar que se gana menos si se aprende código únicamente de manera no-tradicional.",
   "metadata": {
    "cell_id": "a48d8d34-dd0d-441b-8102-345cb8164c69",
    "tags": [],
    "deepnote_cell_type": "markdown"
   }
  },
  {
   "cell_type": "markdown",
   "source": "### 4. ¿Toma el mismo tiempo aprender a programar profesionalmente se tenga título o no?\n\n- **Hipótesis nula (Ho):** toma el mismo aprender a programar se tenga título o no.\n- **Hipótesis alternativa (Ha):** si se tiene título, tomó más tiempo aprender a programar.",
   "metadata": {
    "cell_id": "2059da77-1984-4001-ad88-c981aaef8ecc",
    "tags": [],
    "deepnote_cell_type": "markdown"
   }
  },
  {
   "cell_type": "code",
   "metadata": {
    "tags": [],
    "deepnote_variable_name": "has_degree",
    "sql_integration_id": "a62a6e90-c1cd-42a3-9aca-116732175b05",
    "cell_id": "113092f5-991f-44ef-80f7-063e44bbf9c1",
    "deepnote_to_be_reexecuted": false,
    "source_hash": "ef10aaed",
    "execution_start": 1646009866231,
    "execution_millis": 46,
    "is_output_hidden": true,
    "deepnote_sql_source": "select \"YearsLearnPro\"\nfrom survey_s_2021\nwhere \"Degree\" = 'Yes';",
    "deepnote_cell_type": "sql"
   },
   "source": "\n\nhas_degree = _deepnote_execute_sql(\"\"\"select \"YearsLearnPro\"\nfrom survey_s_2021\nwhere \"Degree\" = 'Yes';\n\"\"\", 'SQL_A62A6E90_C1CD_42A3_9ACA_116732175B05')\nhas_degree",
   "execution_count": null,
   "outputs": [
    {
     "output_type": "execute_result",
     "execution_count": 17,
     "data": {
      "application/vnd.deepnote.dataframe.v3+json": {
       "column_count": 1,
       "row_count": 4292,
       "columns": [
        {
         "name": "YearsLearnPro",
         "dtype": "float64",
         "stats": {
          "unique_count": 41,
          "nan_count": 421,
          "min": "0.0",
          "max": "31.0",
          "histogram": [
           {
            "bin_start": 0,
            "bin_end": 3.1,
            "count": 1485
           },
           {
            "bin_start": 3.1,
            "bin_end": 6.2,
            "count": 1473
           },
           {
            "bin_start": 6.2,
            "bin_end": 9.3,
            "count": 516
           },
           {
            "bin_start": 9.3,
            "bin_end": 12.4,
            "count": 243
           },
           {
            "bin_start": 12.4,
            "bin_end": 15.5,
            "count": 99
           },
           {
            "bin_start": 15.5,
            "bin_end": 18.6,
            "count": 25
           },
           {
            "bin_start": 18.6,
            "bin_end": 21.7,
            "count": 17
           },
           {
            "bin_start": 21.7,
            "bin_end": 24.8,
            "count": 4
           },
           {
            "bin_start": 24.8,
            "bin_end": 27.900000000000002,
            "count": 6
           },
           {
            "bin_start": 27.900000000000002,
            "bin_end": 31,
            "count": 3
           }
          ]
         }
        },
        {
         "name": "_deepnote_index_column",
         "dtype": "int64"
        }
       ],
       "rows": [
        {
         "YearsLearnPro": 7,
         "_deepnote_index_column": 0
        },
        {
         "YearsLearnPro": 3,
         "_deepnote_index_column": 1
        },
        {
         "YearsLearnPro": 7,
         "_deepnote_index_column": 2
        },
        {
         "YearsLearnPro": 10,
         "_deepnote_index_column": 3
        },
        {
         "YearsLearnPro": "nan",
         "_deepnote_index_column": 4
        },
        {
         "YearsLearnPro": 2,
         "_deepnote_index_column": 5
        },
        {
         "YearsLearnPro": 0,
         "_deepnote_index_column": 6
        },
        {
         "YearsLearnPro": 4,
         "_deepnote_index_column": 7
        },
        {
         "YearsLearnPro": 14,
         "_deepnote_index_column": 8
        },
        {
         "YearsLearnPro": 6,
         "_deepnote_index_column": 9
        }
       ]
      },
      "text/plain": "      YearsLearnPro\n0               7.0\n1               3.0\n2               7.0\n3              10.0\n4               NaN\n...             ...\n4287            3.0\n4288            2.0\n4289            5.0\n4290            4.0\n4291           10.0\n\n[4292 rows x 1 columns]",
      "text/html": "<div>\n<style scoped>\n    .dataframe tbody tr th:only-of-type {\n        vertical-align: middle;\n    }\n\n    .dataframe tbody tr th {\n        vertical-align: top;\n    }\n\n    .dataframe thead th {\n        text-align: right;\n    }\n</style>\n<table border=\"1\" class=\"dataframe\">\n  <thead>\n    <tr style=\"text-align: right;\">\n      <th></th>\n      <th>YearsLearnPro</th>\n    </tr>\n  </thead>\n  <tbody>\n    <tr>\n      <th>0</th>\n      <td>7.0</td>\n    </tr>\n    <tr>\n      <th>1</th>\n      <td>3.0</td>\n    </tr>\n    <tr>\n      <th>2</th>\n      <td>7.0</td>\n    </tr>\n    <tr>\n      <th>3</th>\n      <td>10.0</td>\n    </tr>\n    <tr>\n      <th>4</th>\n      <td>NaN</td>\n    </tr>\n    <tr>\n      <th>...</th>\n      <td>...</td>\n    </tr>\n    <tr>\n      <th>4287</th>\n      <td>3.0</td>\n    </tr>\n    <tr>\n      <th>4288</th>\n      <td>2.0</td>\n    </tr>\n    <tr>\n      <th>4289</th>\n      <td>5.0</td>\n    </tr>\n    <tr>\n      <th>4290</th>\n      <td>4.0</td>\n    </tr>\n    <tr>\n      <th>4291</th>\n      <td>10.0</td>\n    </tr>\n  </tbody>\n</table>\n<p>4292 rows × 1 columns</p>\n</div>"
     },
     "metadata": {}
    }
   ]
  },
  {
   "cell_type": "code",
   "metadata": {
    "tags": [],
    "sql_integration_id": "a62a6e90-c1cd-42a3-9aca-116732175b05",
    "cell_id": "00027-30aca0d9-9b81-444f-926c-20021574ee70",
    "deepnote_variable_name": "non_degree",
    "allow_embed": false,
    "deepnote_to_be_reexecuted": false,
    "source_hash": "7bd947a2",
    "execution_start": 1646009866277,
    "execution_millis": 45,
    "is_output_hidden": true,
    "deepnote_sql_source": "select \"YearsLearnPro\"\nfrom survey_s_2021\nwhere \"Degree\" = 'No';",
    "deepnote_cell_type": "sql"
   },
   "source": "\n\nnon_degree = _deepnote_execute_sql(\"\"\"select \"YearsLearnPro\"\nfrom survey_s_2021\nwhere \"Degree\" = 'No';\n\"\"\", 'SQL_A62A6E90_C1CD_42A3_9ACA_116732175B05')\nnon_degree",
   "execution_count": null,
   "outputs": [
    {
     "output_type": "execute_result",
     "execution_count": 18,
     "data": {
      "application/vnd.deepnote.dataframe.v3+json": {
       "column_count": 1,
       "row_count": 2003,
       "columns": [
        {
         "name": "YearsLearnPro",
         "dtype": "float64",
         "stats": {
          "unique_count": 39,
          "nan_count": 727,
          "min": "0.0",
          "max": "30.0",
          "histogram": [
           {
            "bin_start": 0,
            "bin_end": 3,
            "count": 466
           },
           {
            "bin_start": 3,
            "bin_end": 6,
            "count": 500
           },
           {
            "bin_start": 6,
            "bin_end": 9,
            "count": 168
           },
           {
            "bin_start": 9,
            "bin_end": 12,
            "count": 90
           },
           {
            "bin_start": 12,
            "bin_end": 15,
            "count": 24
           },
           {
            "bin_start": 15,
            "bin_end": 18,
            "count": 15
           },
           {
            "bin_start": 18,
            "bin_end": 21,
            "count": 7
           },
           {
            "bin_start": 21,
            "bin_end": 24,
            "count": 2
           },
           {
            "bin_start": 24,
            "bin_end": 27,
            "count": 0
           },
           {
            "bin_start": 27,
            "bin_end": 30,
            "count": 4
           }
          ]
         }
        },
        {
         "name": "_deepnote_index_column",
         "dtype": "int64"
        }
       ],
       "rows": [
        {
         "YearsLearnPro": 4.5,
         "_deepnote_index_column": 0
        },
        {
         "YearsLearnPro": 0,
         "_deepnote_index_column": 1
        },
        {
         "YearsLearnPro": 4,
         "_deepnote_index_column": 2
        },
        {
         "YearsLearnPro": "nan",
         "_deepnote_index_column": 3
        },
        {
         "YearsLearnPro": 4,
         "_deepnote_index_column": 4
        },
        {
         "YearsLearnPro": 4,
         "_deepnote_index_column": 5
        },
        {
         "YearsLearnPro": 2,
         "_deepnote_index_column": 6
        },
        {
         "YearsLearnPro": 3,
         "_deepnote_index_column": 7
        },
        {
         "YearsLearnPro": "nan",
         "_deepnote_index_column": 8
        },
        {
         "YearsLearnPro": 5,
         "_deepnote_index_column": 9
        }
       ]
      },
      "text/plain": "      YearsLearnPro\n0               4.5\n1               0.0\n2               4.0\n3               NaN\n4               4.0\n...             ...\n1998            NaN\n1999            2.5\n2000            NaN\n2001            3.0\n2002            1.0\n\n[2003 rows x 1 columns]",
      "text/html": "<div>\n<style scoped>\n    .dataframe tbody tr th:only-of-type {\n        vertical-align: middle;\n    }\n\n    .dataframe tbody tr th {\n        vertical-align: top;\n    }\n\n    .dataframe thead th {\n        text-align: right;\n    }\n</style>\n<table border=\"1\" class=\"dataframe\">\n  <thead>\n    <tr style=\"text-align: right;\">\n      <th></th>\n      <th>YearsLearnPro</th>\n    </tr>\n  </thead>\n  <tbody>\n    <tr>\n      <th>0</th>\n      <td>4.5</td>\n    </tr>\n    <tr>\n      <th>1</th>\n      <td>0.0</td>\n    </tr>\n    <tr>\n      <th>2</th>\n      <td>4.0</td>\n    </tr>\n    <tr>\n      <th>3</th>\n      <td>NaN</td>\n    </tr>\n    <tr>\n      <th>4</th>\n      <td>4.0</td>\n    </tr>\n    <tr>\n      <th>...</th>\n      <td>...</td>\n    </tr>\n    <tr>\n      <th>1998</th>\n      <td>NaN</td>\n    </tr>\n    <tr>\n      <th>1999</th>\n      <td>2.5</td>\n    </tr>\n    <tr>\n      <th>2000</th>\n      <td>NaN</td>\n    </tr>\n    <tr>\n      <th>2001</th>\n      <td>3.0</td>\n    </tr>\n    <tr>\n      <th>2002</th>\n      <td>1.0</td>\n    </tr>\n  </tbody>\n</table>\n<p>2003 rows × 1 columns</p>\n</div>"
     },
     "metadata": {}
    }
   ]
  },
  {
   "cell_type": "code",
   "metadata": {
    "cell_id": "f2401692-7265-4276-9b13-2180a989a195",
    "tags": [],
    "deepnote_to_be_reexecuted": false,
    "source_hash": "b63909b",
    "execution_start": 1646009866321,
    "execution_millis": 475,
    "deepnote_cell_type": "code"
   },
   "source": "sns.boxplot(x=df.Degree, y=df.YearsLearnPro, showfliers=False)\nplt.title('Años que toma aprender código si se tiene o no título')\nplt.show()",
   "execution_count": null,
   "outputs": [
    {
     "data": {
      "text/plain": "<Figure size 432x288 with 1 Axes>",
      "image/png": "[encoded data removed]"
     },
     "metadata": {
      "image/png": {
       "width": 389,
       "height": 284
      }
     },
     "output_type": "display_data"
    }
   ]
  },
  {
   "cell_type": "code",
   "metadata": {
    "cell_id": "c54a9781-60a8-470d-9b34-9cc00e690e84",
    "tags": [],
    "deepnote_to_be_reexecuted": false,
    "source_hash": "9648dc5a",
    "execution_start": 1646009866453,
    "execution_millis": 1548,
    "deepnote_cell_type": "code"
   },
   "source": "pb2gen(has_degree, non_degree, trim_mean, 0.2, nboot=10000)",
   "execution_count": null,
   "outputs": [
    {
     "output_type": "execute_result",
     "execution_count": 20,
     "data": {
      "text/plain": "{'est_1': 4.303271631510977,\n 'est_2': 3.5737597911227152,\n 'est_dif': 0.7295118403882621,\n 'ci': [0.5414500696295081, 0.9235837223181957],\n 'p_value': 0.0,\n 'variance': 0.00920894181672451,\n 'n1': 3871,\n 'n2': 1276}"
     },
     "metadata": {}
    }
   ]
  },
  {
   "cell_type": "markdown",
   "source": "**Se rechaza Ho**. Las personas con título tienden a tardar de 0.5 a 0.9 años más en aprender código que las que no.",
   "metadata": {
    "cell_id": "72e55f9e-1e63-48ae-9698-b2b9cefe7fbc",
    "tags": [],
    "deepnote_cell_type": "markdown"
   }
  },
  {
   "cell_type": "markdown",
   "source": "### 5. ¿Toma menos tiempo aprender a programar profesionalmente si se aprende de forma NO tradicional?\n\n- **Hipótesis nula (Ho):** toma el mismo aprender a programar sin importar si se lo hace de forma NO tradicional o no.\n- **Hipótesis alternativa (Ha):** toma menos tiempo aprender a programar si se aprende de manera NO tradicional.",
   "metadata": {
    "cell_id": "6ed7b973-32b0-4ee5-967f-fb2ad523e5f5",
    "tags": [],
    "deepnote_cell_type": "markdown"
   }
  },
  {
   "cell_type": "code",
   "metadata": {
    "tags": [],
    "deepnote_variable_name": "traditional",
    "sql_integration_id": "a62a6e90-c1cd-42a3-9aca-116732175b05",
    "cell_id": "af8e3bf4-ec6c-46a2-bba5-df1a69bb7c61",
    "deepnote_to_be_reexecuted": false,
    "source_hash": "f0c07d58",
    "execution_start": 1646009868047,
    "execution_millis": 46,
    "is_output_hidden": true,
    "deepnote_sql_source": "select \"YearsLearnPro\"\nfrom survey_s_2021\nwhere \"LearnCode\" = 'Traditional';",
    "deepnote_cell_type": "sql"
   },
   "source": "\n\ntraditional = _deepnote_execute_sql(\"\"\"select \"YearsLearnPro\"\nfrom survey_s_2021\nwhere \"LearnCode\" = 'Traditional';\n\"\"\", 'SQL_A62A6E90_C1CD_42A3_9ACA_116732175B05')\ntraditional",
   "execution_count": null,
   "outputs": [
    {
     "output_type": "execute_result",
     "execution_count": 21,
     "data": {
      "application/vnd.deepnote.dataframe.v3+json": {
       "column_count": 1,
       "row_count": 611,
       "columns": [
        {
         "name": "YearsLearnPro",
         "dtype": "float64",
         "stats": {
          "unique_count": 29,
          "nan_count": 93,
          "min": "0.0",
          "max": "28.0",
          "histogram": [
           {
            "bin_start": 0,
            "bin_end": 2.8,
            "count": 111
           },
           {
            "bin_start": 2.8,
            "bin_end": 5.6,
            "count": 253
           },
           {
            "bin_start": 5.6,
            "bin_end": 8.399999999999999,
            "count": 96
           },
           {
            "bin_start": 8.399999999999999,
            "bin_end": 11.2,
            "count": 41
           },
           {
            "bin_start": 11.2,
            "bin_end": 14,
            "count": 5
           },
           {
            "bin_start": 14,
            "bin_end": 16.799999999999997,
            "count": 7
           },
           {
            "bin_start": 16.799999999999997,
            "bin_end": 19.599999999999998,
            "count": 2
           },
           {
            "bin_start": 19.599999999999998,
            "bin_end": 22.4,
            "count": 1
           },
           {
            "bin_start": 22.4,
            "bin_end": 25.2,
            "count": 1
           },
           {
            "bin_start": 25.2,
            "bin_end": 28,
            "count": 1
           }
          ]
         }
        },
        {
         "name": "_deepnote_index_column",
         "dtype": "int64"
        }
       ],
       "rows": [
        {
         "YearsLearnPro": 10,
         "_deepnote_index_column": 0
        },
        {
         "YearsLearnPro": 0,
         "_deepnote_index_column": 1
        },
        {
         "YearsLearnPro": 0,
         "_deepnote_index_column": 2
        },
        {
         "YearsLearnPro": 5,
         "_deepnote_index_column": 3
        },
        {
         "YearsLearnPro": 4,
         "_deepnote_index_column": 4
        },
        {
         "YearsLearnPro": 2,
         "_deepnote_index_column": 5
        },
        {
         "YearsLearnPro": "nan",
         "_deepnote_index_column": 6
        },
        {
         "YearsLearnPro": 3.5,
         "_deepnote_index_column": 7
        },
        {
         "YearsLearnPro": 1,
         "_deepnote_index_column": 8
        },
        {
         "YearsLearnPro": 4,
         "_deepnote_index_column": 9
        }
       ]
      },
      "text/plain": "     YearsLearnPro\n0             10.0\n1              0.0\n2              0.0\n3              5.0\n4              4.0\n..             ...\n606            NaN\n607           14.0\n608            2.0\n609            5.0\n610           10.0\n\n[611 rows x 1 columns]",
      "text/html": "<div>\n<style scoped>\n    .dataframe tbody tr th:only-of-type {\n        vertical-align: middle;\n    }\n\n    .dataframe tbody tr th {\n        vertical-align: top;\n    }\n\n    .dataframe thead th {\n        text-align: right;\n    }\n</style>\n<table border=\"1\" class=\"dataframe\">\n  <thead>\n    <tr style=\"text-align: right;\">\n      <th></th>\n      <th>YearsLearnPro</th>\n    </tr>\n  </thead>\n  <tbody>\n    <tr>\n      <th>0</th>\n      <td>10.0</td>\n    </tr>\n    <tr>\n      <th>1</th>\n      <td>0.0</td>\n    </tr>\n    <tr>\n      <th>2</th>\n      <td>0.0</td>\n    </tr>\n    <tr>\n      <th>3</th>\n      <td>5.0</td>\n    </tr>\n    <tr>\n      <th>4</th>\n      <td>4.0</td>\n    </tr>\n    <tr>\n      <th>...</th>\n      <td>...</td>\n    </tr>\n    <tr>\n      <th>606</th>\n      <td>NaN</td>\n    </tr>\n    <tr>\n      <th>607</th>\n      <td>14.0</td>\n    </tr>\n    <tr>\n      <th>608</th>\n      <td>2.0</td>\n    </tr>\n    <tr>\n      <th>609</th>\n      <td>5.0</td>\n    </tr>\n    <tr>\n      <th>610</th>\n      <td>10.0</td>\n    </tr>\n  </tbody>\n</table>\n<p>611 rows × 1 columns</p>\n</div>"
     },
     "metadata": {}
    }
   ]
  },
  {
   "cell_type": "code",
   "metadata": {
    "tags": [],
    "deepnote_variable_name": "non_traditional",
    "sql_integration_id": "a62a6e90-c1cd-42a3-9aca-116732175b05",
    "cell_id": "00033-16e5f9f7-6f2e-4f6a-9d84-1996876a3b3a",
    "deepnote_to_be_reexecuted": false,
    "source_hash": "11270217",
    "is_output_hidden": true,
    "allow_embed": false,
    "execution_start": 1646009868092,
    "execution_millis": 48,
    "deepnote_sql_source": "select \"YearsLearnPro\"\nfrom survey_s_2021\nwhere \"LearnCode\" = 'Non-traditional';",
    "deepnote_cell_type": "sql"
   },
   "source": "\n\nnon_traditional = _deepnote_execute_sql(\"\"\"select \"YearsLearnPro\"\nfrom survey_s_2021\nwhere \"LearnCode\" = 'Non-traditional';\n\"\"\", 'SQL_A62A6E90_C1CD_42A3_9ACA_116732175B05')\nnon_traditional",
   "execution_count": null,
   "outputs": [
    {
     "output_type": "execute_result",
     "execution_count": 22,
     "data": {
      "application/vnd.deepnote.dataframe.v3+json": {
       "column_count": 1,
       "row_count": 3224,
       "columns": [
        {
         "name": "YearsLearnPro",
         "dtype": "float64",
         "stats": {
          "unique_count": 43,
          "nan_count": 663,
          "min": "0.0",
          "max": "30.0",
          "histogram": [
           {
            "bin_start": 0,
            "bin_end": 3,
            "count": 890
           },
           {
            "bin_start": 3,
            "bin_end": 6,
            "count": 933
           },
           {
            "bin_start": 6,
            "bin_end": 9,
            "count": 377
           },
           {
            "bin_start": 9,
            "bin_end": 12,
            "count": 214
           },
           {
            "bin_start": 12,
            "bin_end": 15,
            "count": 78
           },
           {
            "bin_start": 15,
            "bin_end": 18,
            "count": 37
           },
           {
            "bin_start": 18,
            "bin_end": 21,
            "count": 21
           },
           {
            "bin_start": 21,
            "bin_end": 24,
            "count": 3
           },
           {
            "bin_start": 24,
            "bin_end": 27,
            "count": 4
           },
           {
            "bin_start": 27,
            "bin_end": 30,
            "count": 4
           }
          ]
         }
        },
        {
         "name": "_deepnote_index_column",
         "dtype": "int64"
        }
       ],
       "rows": [
        {
         "YearsLearnPro": 3,
         "_deepnote_index_column": 0
        },
        {
         "YearsLearnPro": 7,
         "_deepnote_index_column": 1
        },
        {
         "YearsLearnPro": "nan",
         "_deepnote_index_column": 2
        },
        {
         "YearsLearnPro": 4,
         "_deepnote_index_column": 3
        },
        {
         "YearsLearnPro": 14,
         "_deepnote_index_column": 4
        },
        {
         "YearsLearnPro": 6,
         "_deepnote_index_column": 5
        },
        {
         "YearsLearnPro": 4.5,
         "_deepnote_index_column": 6
        },
        {
         "YearsLearnPro": 0,
         "_deepnote_index_column": 7
        },
        {
         "YearsLearnPro": 5,
         "_deepnote_index_column": 8
        },
        {
         "YearsLearnPro": 0,
         "_deepnote_index_column": 9
        }
       ]
      },
      "text/plain": "      YearsLearnPro\n0               3.0\n1               7.0\n2               NaN\n3               4.0\n4              14.0\n...             ...\n3219            3.5\n3220            5.0\n3221            1.0\n3222            5.0\n3223            4.0\n\n[3224 rows x 1 columns]",
      "text/html": "<div>\n<style scoped>\n    .dataframe tbody tr th:only-of-type {\n        vertical-align: middle;\n    }\n\n    .dataframe tbody tr th {\n        vertical-align: top;\n    }\n\n    .dataframe thead th {\n        text-align: right;\n    }\n</style>\n<table border=\"1\" class=\"dataframe\">\n  <thead>\n    <tr style=\"text-align: right;\">\n      <th></th>\n      <th>YearsLearnPro</th>\n    </tr>\n  </thead>\n  <tbody>\n    <tr>\n      <th>0</th>\n      <td>3.0</td>\n    </tr>\n    <tr>\n      <th>1</th>\n      <td>7.0</td>\n    </tr>\n    <tr>\n      <th>2</th>\n      <td>NaN</td>\n    </tr>\n    <tr>\n      <th>3</th>\n      <td>4.0</td>\n    </tr>\n    <tr>\n      <th>4</th>\n      <td>14.0</td>\n    </tr>\n    <tr>\n      <th>...</th>\n      <td>...</td>\n    </tr>\n    <tr>\n      <th>3219</th>\n      <td>3.5</td>\n    </tr>\n    <tr>\n      <th>3220</th>\n      <td>5.0</td>\n    </tr>\n    <tr>\n      <th>3221</th>\n      <td>1.0</td>\n    </tr>\n    <tr>\n      <th>3222</th>\n      <td>5.0</td>\n    </tr>\n    <tr>\n      <th>3223</th>\n      <td>4.0</td>\n    </tr>\n  </tbody>\n</table>\n<p>3224 rows × 1 columns</p>\n</div>"
     },
     "metadata": {}
    }
   ]
  },
  {
   "cell_type": "code",
   "metadata": {
    "cell_id": "0485506a-b456-430b-9ce5-daad4341de20",
    "tags": [],
    "deepnote_to_be_reexecuted": false,
    "source_hash": "ba9ed813",
    "execution_start": 1646009868193,
    "execution_millis": 107,
    "deepnote_cell_type": "code"
   },
   "source": "sns.boxplot(x=df.LearnCode, y=df.YearsLearnPro, showfliers=False)\nplt.title('Años que toma aprender código según la forma que se aprendió')\nplt.show()",
   "execution_count": null,
   "outputs": [
    {
     "data": {
      "text/plain": "<Figure size 432x288 with 1 Axes>",
      "image/png": "[encoded data removed]"
     },
     "metadata": {
      "image/png": {
       "width": 416,
       "height": 284
      }
     },
     "output_type": "display_data"
    }
   ]
  },
  {
   "cell_type": "code",
   "metadata": {
    "cell_id": "1a80f988-3b4e-4ba7-a1e5-81ce18b8cba9",
    "tags": [],
    "deepnote_to_be_reexecuted": false,
    "source_hash": "22d5066d",
    "execution_start": 1646009868301,
    "execution_millis": 1204,
    "deepnote_cell_type": "code"
   },
   "source": "pb2gen(non_traditional, traditional, trim_mean, 0.2, nboot=10000)",
   "execution_count": null,
   "outputs": [
    {
     "output_type": "execute_result",
     "execution_count": 24,
     "data": {
      "text/plain": "{'est_1': 3.887768379960963,\n 'est_2': 4.387820512820513,\n 'est_dif': -0.5000521328595497,\n 'ci': [-0.7712139032080474, -0.24205599486178553],\n 'p_value': 0.00019999999999997797,\n 'variance': 0.018744292597685463,\n 'n1': 2561,\n 'n2': 518}"
     },
     "metadata": {}
    }
   ]
  },
  {
   "cell_type": "markdown",
   "source": "**Se rechaza Ho**. Si se aprende de forma NO tradicional se puede llegar a ser profesional de `0.2` a `0.7` años más pronto.",
   "metadata": {
    "cell_id": "0de7055b-752e-42a3-a3e4-f0c9825fc2b3",
    "tags": [],
    "deepnote_cell_type": "markdown"
   }
  },
  {
   "cell_type": "markdown",
   "source": "## Inclusión",
   "metadata": {
    "cell_id": "6576fa1b-cb5b-421e-94ce-2a8262ccd2f6",
    "tags": [],
    "deepnote_cell_type": "markdown"
   }
  },
  {
   "cell_type": "markdown",
   "source": "### 6. ¿Los hombres ganan lo mismo que las mujeres?\n\n- Hipótesis nula (Ho): los salarios son los mismos para hombres y mujeres.\n- Hipótesis alternativa (Ha): los salarios son más altos para los hombres.",
   "metadata": {
    "cell_id": "83feb52d-6891-414c-bf4a-f2f8af142038",
    "tags": [],
    "deepnote_cell_type": "markdown"
   }
  },
  {
   "cell_type": "code",
   "metadata": {
    "tags": [],
    "deepnote_variable_name": "man",
    "sql_integration_id": "a62a6e90-c1cd-42a3-9aca-116732175b05",
    "cell_id": "4f0f704b-0cbf-470b-a095-3fb2ad14237e",
    "deepnote_to_be_reexecuted": false,
    "source_hash": "67bda80",
    "execution_start": 1646009869543,
    "execution_millis": 86,
    "is_output_hidden": true,
    "deepnote_sql_source": "select \"ConvertedCompYearly\"\nfrom survey_s_2021\nwhere \"Gender\" = 'Man';",
    "deepnote_cell_type": "sql"
   },
   "source": "\n\nman = _deepnote_execute_sql(\"\"\"select \"ConvertedCompYearly\"\nfrom survey_s_2021\nwhere \"Gender\" = 'Man';\n\"\"\", 'SQL_A62A6E90_C1CD_42A3_9ACA_116732175B05')\nman",
   "execution_count": null,
   "outputs": [
    {
     "output_type": "execute_result",
     "execution_count": 25,
     "data": {
      "application/vnd.deepnote.dataframe.v3+json": {
       "column_count": 1,
       "row_count": 5838,
       "columns": [
        {
         "name": "ConvertedCompYearly",
         "dtype": "float64",
         "stats": {
          "unique_count": 1305,
          "nan_count": 1710,
          "min": "12.0",
          "max": "4656132.0",
          "histogram": [
           {
            "bin_start": 12,
            "bin_end": 465624,
            "count": 4083
           },
           {
            "bin_start": 465624,
            "bin_end": 931236,
            "count": 32
           },
           {
            "bin_start": 931236,
            "bin_end": 1396848,
            "count": 6
           },
           {
            "bin_start": 1396848,
            "bin_end": 1862460,
            "count": 4
           },
           {
            "bin_start": 1862460,
            "bin_end": 2328072,
            "count": 1
           },
           {
            "bin_start": 2328072,
            "bin_end": 2793684,
            "count": 1
           },
           {
            "bin_start": 2793684,
            "bin_end": 3259296,
            "count": 0
           },
           {
            "bin_start": 3259296,
            "bin_end": 3724908,
            "count": 0
           },
           {
            "bin_start": 3724908,
            "bin_end": 4190520,
            "count": 0
           },
           {
            "bin_start": 4190520,
            "bin_end": 4656132,
            "count": 1
           }
          ]
         }
        },
        {
         "name": "_deepnote_index_column",
         "dtype": "int64"
        }
       ],
       "rows": [
        {
         "ConvertedCompYearly": 46482,
         "_deepnote_index_column": 0
        },
        {
         "ConvertedCompYearly": "nan",
         "_deepnote_index_column": 1
        },
        {
         "ConvertedCompYearly": 60480,
         "_deepnote_index_column": 2
        },
        {
         "ConvertedCompYearly": 58373,
         "_deepnote_index_column": 3
        },
        {
         "ConvertedCompYearly": 21620,
         "_deepnote_index_column": 4
        },
        {
         "ConvertedCompYearly": 38915,
         "_deepnote_index_column": 5
        },
        {
         "ConvertedCompYearly": 21600,
         "_deepnote_index_column": 6
        },
        {
         "ConvertedCompYearly": 22584,
         "_deepnote_index_column": 7
        },
        {
         "ConvertedCompYearly": "nan",
         "_deepnote_index_column": 8
        },
        {
         "ConvertedCompYearly": "nan",
         "_deepnote_index_column": 9
        }
       ]
      },
      "text/plain": "      ConvertedCompYearly\n0                 46482.0\n1                     NaN\n2                 60480.0\n3                 58373.0\n4                 21620.0\n...                   ...\n5833              27492.0\n5834              68721.0\n5835              41232.0\n5836              18326.0\n5837              21168.0\n\n[5838 rows x 1 columns]",
      "text/html": "<div>\n<style scoped>\n    .dataframe tbody tr th:only-of-type {\n        vertical-align: middle;\n    }\n\n    .dataframe tbody tr th {\n        vertical-align: top;\n    }\n\n    .dataframe thead th {\n        text-align: right;\n    }\n</style>\n<table border=\"1\" class=\"dataframe\">\n  <thead>\n    <tr style=\"text-align: right;\">\n      <th></th>\n      <th>ConvertedCompYearly</th>\n    </tr>\n  </thead>\n  <tbody>\n    <tr>\n      <th>0</th>\n      <td>46482.0</td>\n    </tr>\n    <tr>\n      <th>1</th>\n      <td>NaN</td>\n    </tr>\n    <tr>\n      <th>2</th>\n      <td>60480.0</td>\n    </tr>\n    <tr>\n      <th>3</th>\n      <td>58373.0</td>\n    </tr>\n    <tr>\n      <th>4</th>\n      <td>21620.0</td>\n    </tr>\n    <tr>\n      <th>...</th>\n      <td>...</td>\n    </tr>\n    <tr>\n      <th>5833</th>\n      <td>27492.0</td>\n    </tr>\n    <tr>\n      <th>5834</th>\n      <td>68721.0</td>\n    </tr>\n    <tr>\n      <th>5835</th>\n      <td>41232.0</td>\n    </tr>\n    <tr>\n      <th>5836</th>\n      <td>18326.0</td>\n    </tr>\n    <tr>\n      <th>5837</th>\n      <td>21168.0</td>\n    </tr>\n  </tbody>\n</table>\n<p>5838 rows × 1 columns</p>\n</div>"
     },
     "metadata": {}
    }
   ]
  },
  {
   "cell_type": "code",
   "metadata": {
    "tags": [],
    "deepnote_variable_name": "woman",
    "sql_integration_id": "a62a6e90-c1cd-42a3-9aca-116732175b05",
    "cell_id": "00040-6572503a-a53c-40bc-aecd-82a7a9a45f08",
    "deepnote_to_be_reexecuted": false,
    "source_hash": "6b4f34a3",
    "is_output_hidden": true,
    "allow_embed": false,
    "execution_start": 1646009869628,
    "execution_millis": 60,
    "deepnote_sql_source": "select \"ConvertedCompYearly\"\nfrom survey_s_2021\nwhere \"Gender\" = 'Woman';",
    "deepnote_cell_type": "sql"
   },
   "source": "\n\nwoman = _deepnote_execute_sql(\"\"\"select \"ConvertedCompYearly\"\nfrom survey_s_2021\nwhere \"Gender\" = 'Woman';\n\"\"\", 'SQL_A62A6E90_C1CD_42A3_9ACA_116732175B05')\nwoman",
   "execution_count": null,
   "outputs": [
    {
     "output_type": "execute_result",
     "execution_count": 26,
     "data": {
      "application/vnd.deepnote.dataframe.v3+json": {
       "column_count": 1,
       "row_count": 249,
       "columns": [
        {
         "name": "ConvertedCompYearly",
         "dtype": "float64",
         "stats": {
          "unique_count": 138,
          "nan_count": 85,
          "min": "1536.0",
          "max": "3617724.0",
          "histogram": [
           {
            "bin_start": 1536,
            "bin_end": 363154.8,
            "count": 161
           },
           {
            "bin_start": 363154.8,
            "bin_end": 724773.6,
            "count": 2
           },
           {
            "bin_start": 724773.6,
            "bin_end": 1086392.4,
            "count": 0
           },
           {
            "bin_start": 1086392.4,
            "bin_end": 1448011.2,
            "count": 0
           },
           {
            "bin_start": 1448011.2,
            "bin_end": 1809630,
            "count": 0
           },
           {
            "bin_start": 1809630,
            "bin_end": 2171248.8,
            "count": 0
           },
           {
            "bin_start": 2171248.8,
            "bin_end": 2532867.6,
            "count": 0
           },
           {
            "bin_start": 2532867.6,
            "bin_end": 2894486.4,
            "count": 0
           },
           {
            "bin_start": 2894486.4,
            "bin_end": 3256105.1999999997,
            "count": 0
           },
           {
            "bin_start": 3256105.1999999997,
            "bin_end": 3617724,
            "count": 1
           }
          ]
         }
        },
        {
         "name": "_deepnote_index_column",
         "dtype": "int64"
        }
       ],
       "rows": [
        {
         "ConvertedCompYearly": 18326,
         "_deepnote_index_column": 0
        },
        {
         "ConvertedCompYearly": 26796,
         "_deepnote_index_column": 1
        },
        {
         "ConvertedCompYearly": 6432,
         "_deepnote_index_column": 2
        },
        {
         "ConvertedCompYearly": 60000,
         "_deepnote_index_column": 3
        },
        {
         "ConvertedCompYearly": "nan",
         "_deepnote_index_column": 4
        },
        {
         "ConvertedCompYearly": 7752,
         "_deepnote_index_column": 5
        },
        {
         "ConvertedCompYearly": "nan",
         "_deepnote_index_column": 6
        },
        {
         "ConvertedCompYearly": "nan",
         "_deepnote_index_column": 7
        },
        {
         "ConvertedCompYearly": "nan",
         "_deepnote_index_column": 8
        },
        {
         "ConvertedCompYearly": "nan",
         "_deepnote_index_column": 9
        }
       ]
      },
      "text/plain": "     ConvertedCompYearly\n0                18326.0\n1                26796.0\n2                 6432.0\n3                60000.0\n4                    NaN\n..                   ...\n244              38880.0\n245                  NaN\n246                  NaN\n247              94250.0\n248                  NaN\n\n[249 rows x 1 columns]",
      "text/html": "<div>\n<style scoped>\n    .dataframe tbody tr th:only-of-type {\n        vertical-align: middle;\n    }\n\n    .dataframe tbody tr th {\n        vertical-align: top;\n    }\n\n    .dataframe thead th {\n        text-align: right;\n    }\n</style>\n<table border=\"1\" class=\"dataframe\">\n  <thead>\n    <tr style=\"text-align: right;\">\n      <th></th>\n      <th>ConvertedCompYearly</th>\n    </tr>\n  </thead>\n  <tbody>\n    <tr>\n      <th>0</th>\n      <td>18326.0</td>\n    </tr>\n    <tr>\n      <th>1</th>\n      <td>26796.0</td>\n    </tr>\n    <tr>\n      <th>2</th>\n      <td>6432.0</td>\n    </tr>\n    <tr>\n      <th>3</th>\n      <td>60000.0</td>\n    </tr>\n    <tr>\n      <th>4</th>\n      <td>NaN</td>\n    </tr>\n    <tr>\n      <th>...</th>\n      <td>...</td>\n    </tr>\n    <tr>\n      <th>244</th>\n      <td>38880.0</td>\n    </tr>\n    <tr>\n      <th>245</th>\n      <td>NaN</td>\n    </tr>\n    <tr>\n      <th>246</th>\n      <td>NaN</td>\n    </tr>\n    <tr>\n      <th>247</th>\n      <td>94250.0</td>\n    </tr>\n    <tr>\n      <th>248</th>\n      <td>NaN</td>\n    </tr>\n  </tbody>\n</table>\n<p>249 rows × 1 columns</p>\n</div>"
     },
     "metadata": {}
    }
   ]
  },
  {
   "cell_type": "code",
   "metadata": {
    "cell_id": "184198d3-a544-4fab-ba66-a0c708d03a1b",
    "tags": [],
    "deepnote_to_be_reexecuted": false,
    "source_hash": "9da2017f",
    "execution_start": 1646009869666,
    "execution_millis": 177,
    "deepnote_cell_type": "code"
   },
   "source": "sns.boxplot(x=df.Gender, y=df.ConvertedCompYearly, showfliers=False)\nplt.title('Salario según el género')\nplt.show()",
   "execution_count": null,
   "outputs": [
    {
     "data": {
      "text/plain": "<Figure size 432x288 with 1 Axes>",
      "image/png": "[encoded data removed]"
     },
     "metadata": {
      "image/png": {
       "width": 410,
       "height": 284
      }
     },
     "output_type": "display_data"
    }
   ]
  },
  {
   "cell_type": "code",
   "metadata": {
    "cell_id": "c06d0e51-b02f-4d57-a79d-81cae2d7ea9c",
    "tags": [],
    "deepnote_to_be_reexecuted": false,
    "source_hash": "2f0eb5b3",
    "execution_start": 1646009869777,
    "execution_millis": 2104,
    "deepnote_cell_type": "code"
   },
   "source": "pb2gen(man, woman, trim_mean, 0.2, nboot=10000)",
   "execution_count": null,
   "outputs": [
    {
     "output_type": "execute_result",
     "execution_count": 28,
     "data": {
      "text/plain": "{'est_1': 30000.73607748184,\n 'est_2': 24399.78,\n 'est_dif': 5600.956077481842,\n 'ci': [1944.157530266344, 8812.90072639225],\n 'p_value': 0.0038,\n 'variance': 3076156.6168183046,\n 'n1': 4128,\n 'n2': 164}"
     },
     "metadata": {}
    }
   ]
  },
  {
   "cell_type": "markdown",
   "source": "**Se rechaza Ho**. Los salarios de los hombres son más altos que los de las mujeres. El rango puede ser de 2k a 8k extra al año.",
   "metadata": {
    "cell_id": "280a6996-e3e6-476c-995f-6eaf3b30529c",
    "tags": [],
    "deepnote_cell_type": "markdown"
   }
  },
  {
   "cell_type": "markdown",
   "source": "### 7. ¿Los héteros ganan más que los que no lo son?\n\n- Hipótesis nula (Ho): los salarios son los mismos para todas las personas.\n- Hipótesis alternativa (Ha): los salarios son más altos para los heteros.",
   "metadata": {
    "cell_id": "8ce408c8-8bf4-4255-921b-55514cc692dc",
    "tags": [],
    "deepnote_cell_type": "markdown"
   }
  },
  {
   "cell_type": "code",
   "metadata": {
    "tags": [],
    "deepnote_variable_name": "hetero",
    "sql_integration_id": "a62a6e90-c1cd-42a3-9aca-116732175b05",
    "cell_id": "c01a59b8-2797-4d6c-afaf-76254b97e118",
    "deepnote_to_be_reexecuted": false,
    "source_hash": "296c137c",
    "execution_start": 1646009871682,
    "execution_millis": 279,
    "is_output_hidden": true,
    "deepnote_sql_source": "select \"ConvertedCompYearly\"\nfrom survey_s_2021\nwhere \"Sexuality\" = 'Straight / Heterosexual'",
    "deepnote_cell_type": "sql"
   },
   "source": "\n\nhetero = _deepnote_execute_sql(\"\"\"select \"ConvertedCompYearly\"\nfrom survey_s_2021\nwhere \"Sexuality\" = 'Straight / Heterosexual'\n\"\"\", 'SQL_A62A6E90_C1CD_42A3_9ACA_116732175B05')\nhetero",
   "execution_count": null,
   "outputs": [
    {
     "output_type": "execute_result",
     "execution_count": 29,
     "data": {
      "application/vnd.deepnote.dataframe.v3+json": {
       "column_count": 1,
       "row_count": 5052,
       "columns": [
        {
         "name": "ConvertedCompYearly",
         "dtype": "float64",
         "stats": {
          "unique_count": 1214,
          "nan_count": 1387,
          "min": "12.0",
          "max": "4656132.0",
          "histogram": [
           {
            "bin_start": 12,
            "bin_end": 465624,
            "count": 3623
           },
           {
            "bin_start": 465624,
            "bin_end": 931236,
            "count": 29
           },
           {
            "bin_start": 931236,
            "bin_end": 1396848,
            "count": 6
           },
           {
            "bin_start": 1396848,
            "bin_end": 1862460,
            "count": 4
           },
           {
            "bin_start": 1862460,
            "bin_end": 2328072,
            "count": 1
           },
           {
            "bin_start": 2328072,
            "bin_end": 2793684,
            "count": 1
           },
           {
            "bin_start": 2793684,
            "bin_end": 3259296,
            "count": 0
           },
           {
            "bin_start": 3259296,
            "bin_end": 3724908,
            "count": 0
           },
           {
            "bin_start": 3724908,
            "bin_end": 4190520,
            "count": 0
           },
           {
            "bin_start": 4190520,
            "bin_end": 4656132,
            "count": 1
           }
          ]
         }
        },
        {
         "name": "_deepnote_index_column",
         "dtype": "int64"
        }
       ],
       "rows": [
        {
         "ConvertedCompYearly": 46482,
         "_deepnote_index_column": 0
        },
        {
         "ConvertedCompYearly": "nan",
         "_deepnote_index_column": 1
        },
        {
         "ConvertedCompYearly": 60480,
         "_deepnote_index_column": 2
        },
        {
         "ConvertedCompYearly": 58373,
         "_deepnote_index_column": 3
        },
        {
         "ConvertedCompYearly": 21620,
         "_deepnote_index_column": 4
        },
        {
         "ConvertedCompYearly": 38915,
         "_deepnote_index_column": 5
        },
        {
         "ConvertedCompYearly": 21600,
         "_deepnote_index_column": 6
        },
        {
         "ConvertedCompYearly": 22584,
         "_deepnote_index_column": 7
        },
        {
         "ConvertedCompYearly": "nan",
         "_deepnote_index_column": 8
        },
        {
         "ConvertedCompYearly": "nan",
         "_deepnote_index_column": 9
        }
       ]
      },
      "text/plain": "      ConvertedCompYearly\n0                 46482.0\n1                     NaN\n2                 60480.0\n3                 58373.0\n4                 21620.0\n...                   ...\n5047              27492.0\n5048              68721.0\n5049              41232.0\n5050              18326.0\n5051              21168.0\n\n[5052 rows x 1 columns]",
      "text/html": "<div>\n<style scoped>\n    .dataframe tbody tr th:only-of-type {\n        vertical-align: middle;\n    }\n\n    .dataframe tbody tr th {\n        vertical-align: top;\n    }\n\n    .dataframe thead th {\n        text-align: right;\n    }\n</style>\n<table border=\"1\" class=\"dataframe\">\n  <thead>\n    <tr style=\"text-align: right;\">\n      <th></th>\n      <th>ConvertedCompYearly</th>\n    </tr>\n  </thead>\n  <tbody>\n    <tr>\n      <th>0</th>\n      <td>46482.0</td>\n    </tr>\n    <tr>\n      <th>1</th>\n      <td>NaN</td>\n    </tr>\n    <tr>\n      <th>2</th>\n      <td>60480.0</td>\n    </tr>\n    <tr>\n      <th>3</th>\n      <td>58373.0</td>\n    </tr>\n    <tr>\n      <th>4</th>\n      <td>21620.0</td>\n    </tr>\n    <tr>\n      <th>...</th>\n      <td>...</td>\n    </tr>\n    <tr>\n      <th>5047</th>\n      <td>27492.0</td>\n    </tr>\n    <tr>\n      <th>5048</th>\n      <td>68721.0</td>\n    </tr>\n    <tr>\n      <th>5049</th>\n      <td>41232.0</td>\n    </tr>\n    <tr>\n      <th>5050</th>\n      <td>18326.0</td>\n    </tr>\n    <tr>\n      <th>5051</th>\n      <td>21168.0</td>\n    </tr>\n  </tbody>\n</table>\n<p>5052 rows × 1 columns</p>\n</div>"
     },
     "metadata": {}
    }
   ]
  },
  {
   "cell_type": "code",
   "metadata": {
    "tags": [],
    "deepnote_variable_name": "non_hetero",
    "sql_integration_id": "a62a6e90-c1cd-42a3-9aca-116732175b05",
    "cell_id": "00046-f84923b4-bd10-428b-a7d4-adc67786066f",
    "allow_embed": false,
    "deepnote_to_be_reexecuted": false,
    "source_hash": "40a1b5e3",
    "execution_start": 1646009871738,
    "execution_millis": 225,
    "is_output_hidden": true,
    "deepnote_sql_source": "select \"ConvertedCompYearly\"\nfrom survey_s_2021\nwhere \"Sexuality\" = 'LGBT / Non-hetero'",
    "deepnote_cell_type": "sql"
   },
   "source": "\n\nnon_hetero = _deepnote_execute_sql(\"\"\"select \"ConvertedCompYearly\"\nfrom survey_s_2021\nwhere \"Sexuality\" = 'LGBT / Non-hetero'\n\"\"\", 'SQL_A62A6E90_C1CD_42A3_9ACA_116732175B05')\nnon_hetero",
   "execution_count": null,
   "outputs": [
    {
     "output_type": "execute_result",
     "execution_count": 30,
     "data": {
      "application/vnd.deepnote.dataframe.v3+json": {
       "column_count": 1,
       "row_count": 1243,
       "columns": [
        {
         "name": "ConvertedCompYearly",
         "dtype": "float64",
         "stats": {
          "unique_count": 441,
          "nan_count": 520,
          "min": "36.0",
          "max": "3617724.0",
          "histogram": [
           {
            "bin_start": 36,
            "bin_end": 361804.8,
            "count": 708
           },
           {
            "bin_start": 361804.8,
            "bin_end": 723573.6,
            "count": 14
           },
           {
            "bin_start": 723573.6,
            "bin_end": 1085342.4,
            "count": 0
           },
           {
            "bin_start": 1085342.4,
            "bin_end": 1447111.2,
            "count": 0
           },
           {
            "bin_start": 1447111.2,
            "bin_end": 1808880,
            "count": 0
           },
           {
            "bin_start": 1808880,
            "bin_end": 2170648.8,
            "count": 0
           },
           {
            "bin_start": 2170648.8,
            "bin_end": 2532417.6,
            "count": 0
           },
           {
            "bin_start": 2532417.6,
            "bin_end": 2894186.4,
            "count": 0
           },
           {
            "bin_start": 2894186.4,
            "bin_end": 3255955.1999999997,
            "count": 0
           },
           {
            "bin_start": 3255955.1999999997,
            "bin_end": 3617724,
            "count": 1
           }
          ]
         }
        },
        {
         "name": "_deepnote_index_column",
         "dtype": "int64"
        }
       ],
       "rows": [
        {
         "ConvertedCompYearly": 12972,
         "_deepnote_index_column": 0
        },
        {
         "ConvertedCompYearly": "nan",
         "_deepnote_index_column": 1
        },
        {
         "ConvertedCompYearly": 17352,
         "_deepnote_index_column": 2
        },
        {
         "ConvertedCompYearly": 64859,
         "_deepnote_index_column": 3
        },
        {
         "ConvertedCompYearly": "nan",
         "_deepnote_index_column": 4
        },
        {
         "ConvertedCompYearly": "nan",
         "_deepnote_index_column": 5
        },
        {
         "ConvertedCompYearly": "nan",
         "_deepnote_index_column": 6
        },
        {
         "ConvertedCompYearly": 18326,
         "_deepnote_index_column": 7
        },
        {
         "ConvertedCompYearly": 5496,
         "_deepnote_index_column": 8
        },
        {
         "ConvertedCompYearly": 32429,
         "_deepnote_index_column": 9
        }
       ]
      },
      "text/plain": "      ConvertedCompYearly\n0                 12972.0\n1                     NaN\n2                 17352.0\n3                 64859.0\n4                     NaN\n...                   ...\n1238              81682.0\n1239              26112.0\n1240                  NaN\n1241                  NaN\n1242              94250.0\n\n[1243 rows x 1 columns]",
      "text/html": "<div>\n<style scoped>\n    .dataframe tbody tr th:only-of-type {\n        vertical-align: middle;\n    }\n\n    .dataframe tbody tr th {\n        vertical-align: top;\n    }\n\n    .dataframe thead th {\n        text-align: right;\n    }\n</style>\n<table border=\"1\" class=\"dataframe\">\n  <thead>\n    <tr style=\"text-align: right;\">\n      <th></th>\n      <th>ConvertedCompYearly</th>\n    </tr>\n  </thead>\n  <tbody>\n    <tr>\n      <th>0</th>\n      <td>12972.0</td>\n    </tr>\n    <tr>\n      <th>1</th>\n      <td>NaN</td>\n    </tr>\n    <tr>\n      <th>2</th>\n      <td>17352.0</td>\n    </tr>\n    <tr>\n      <th>3</th>\n      <td>64859.0</td>\n    </tr>\n    <tr>\n      <th>4</th>\n      <td>NaN</td>\n    </tr>\n    <tr>\n      <th>...</th>\n      <td>...</td>\n    </tr>\n    <tr>\n      <th>1238</th>\n      <td>81682.0</td>\n    </tr>\n    <tr>\n      <th>1239</th>\n      <td>26112.0</td>\n    </tr>\n    <tr>\n      <th>1240</th>\n      <td>NaN</td>\n    </tr>\n    <tr>\n      <th>1241</th>\n      <td>NaN</td>\n    </tr>\n    <tr>\n      <th>1242</th>\n      <td>94250.0</td>\n    </tr>\n  </tbody>\n</table>\n<p>1243 rows × 1 columns</p>\n</div>"
     },
     "metadata": {}
    }
   ]
  },
  {
   "cell_type": "code",
   "metadata": {
    "cell_id": "6bee0edc-1e35-45cb-9079-19bba3a6e8ee",
    "tags": [],
    "deepnote_to_be_reexecuted": false,
    "source_hash": "26126efa",
    "execution_start": 1646009871849,
    "execution_millis": 130,
    "deepnote_cell_type": "code"
   },
   "source": "sns.boxplot(x=df.Sexuality, y=df.ConvertedCompYearly, showfliers=False)\nplt.title('Salario según la sexualidad')\nplt.show()",
   "execution_count": null,
   "outputs": [
    {
     "data": {
      "text/plain": "<Figure size 432x288 with 1 Axes>",
      "image/png": "[encoded data removed]"
     },
     "metadata": {
      "image/png": {
       "width": 417,
       "height": 284
      }
     },
     "output_type": "display_data"
    }
   ]
  },
  {
   "cell_type": "code",
   "metadata": {
    "cell_id": "35ef8066-ef70-4e3b-b1fa-e31b466e0666",
    "tags": [],
    "deepnote_to_be_reexecuted": false,
    "source_hash": "618f96ce",
    "execution_start": 1646009871968,
    "execution_millis": 1354,
    "deepnote_cell_type": "code"
   },
   "source": "pb2gen(hetero, non_hetero, trim_mean, 0.2, nboot=10000)",
   "execution_count": null,
   "outputs": [
    {
     "output_type": "execute_result",
     "execution_count": 32,
     "data": {
      "text/plain": "{'est_1': 30192.351523419737,\n 'est_2': 26890.55172413793,\n 'est_dif': 3301.7997992818055,\n 'ci': [1300.179263301503, 5182.357592008906],\n 'p_value': 0.001,\n 'variance': 970241.6408199997,\n 'n1': 3665,\n 'n2': 723}"
     },
     "metadata": {}
    }
   ]
  },
  {
   "cell_type": "markdown",
   "source": "**Se rechaza Ho.** Los heteros ganan más que los no heteros. El rango puede ser de 1k a 5k extra al año.",
   "metadata": {
    "cell_id": "0b218ad8-af0e-4152-beb0-c2d7dc758e74",
    "tags": [],
    "deepnote_cell_type": "markdown"
   }
  },
  {
   "cell_type": "markdown",
   "source": "<a style='text-decoration:none;line-height:16px;display:flex;color:#5B5B62;padding:10px;justify-content:end;' href='https://deepnote.com?utm_source=created-in-deepnote-cell&projectId=09491c61-3767-4289-98fd-88aee19bb45d' target=\"_blank\">\n<img alt='Created in deepnote.com' style='display:inline;max-height:16px;margin:0px;margin-right:7.5px;' src='data:image/svg+xml;base64,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' > </img>\nCreated in <span style='font-weight:600;margin-left:4px;'>Deepnote</span></a>",
   "metadata": {
    "tags": [],
    "created_in_deepnote_cell": true,
    "deepnote_cell_type": "markdown"
   }
  }
 ],
 "nbformat": 4,
 "nbformat_minor": 2,
 "metadata": {
  "orig_nbformat": 2,
  "deepnote": {
   "is_reactive": false
  },
  "deepnote_notebook_id": "63713b0c-981d-4b78-91b7-e4bbe3077d8c",
  "deepnote_execution_queue": []
 }
}