{
 "cells": [
  {
   "cell_type": "markdown",
   "source": "# Procesamiento de datos",
   "metadata": {
    "cell_id": "dcf6b326-6955-49c9-9cc2-bedea44ab81d",
    "tags": [],
    "deepnote_cell_type": "markdown"
   }
  },
  {
   "cell_type": "code",
   "metadata": {
    "tags": [],
    "cell_id": "273f43e0-7ea3-4218-b9cf-458cb76017a7",
    "deepnote_to_be_reexecuted": false,
    "source_hash": "1f95c16d",
    "execution_start": 1645722598685,
    "execution_millis": 1538,
    "deepnote_cell_type": "code"
   },
   "source": "import numpy as np\nimport pandas as pd\nimport seaborn as sns\nimport matplotlib.pyplot as plt\nimport os",
   "outputs": [],
   "execution_count": null
  },
  {
   "cell_type": "code",
   "metadata": {
    "cell_id": "31a5dd80-5c4b-4aae-b4a6-94c2e8e2a7cd",
    "tags": [],
    "deepnote_to_be_reexecuted": false,
    "source_hash": "a1e324eb",
    "execution_start": 1645722600224,
    "execution_millis": 1057,
    "deepnote_cell_type": "code"
   },
   "source": "# Read de data\npath = os.path.join(os.getcwd(), os.pardir, 'data', 'raw')\ndf_schema = pd.read_csv(os.path.join(path, 'survey_results_schema.csv'))\ndf_survey = pd.read_csv(os.path.join(path, 'survey_results_public.csv'))",
   "outputs": [],
   "execution_count": null
  },
  {
   "cell_type": "markdown",
   "source": "### Filtro de datos\n\nEl `df_schema` contiene las preguntas usadas en la encuesta.",
   "metadata": {
    "cell_id": "2ae9495a-b87d-471b-8692-7d909e98250d",
    "tags": [],
    "deepnote_cell_type": "markdown"
   }
  },
  {
   "cell_type": "code",
   "metadata": {
    "cell_id": "c751c12e-9b4a-400f-8d26-bc1101db8991",
    "tags": [],
    "deepnote_to_be_reexecuted": false,
    "source_hash": "366e7cf0",
    "execution_start": 1645722601282,
    "execution_millis": 286,
    "deepnote_cell_type": "code"
   },
   "source": "# Explore what data to use\ncols = ['qname', 'question']\ndf_schema[cols]",
   "outputs": [
    {
     "output_type": "execute_result",
     "execution_count": 3,
     "data": {
      "application/vnd.deepnote.dataframe.v3+json": {
       "column_count": 2,
       "row_count": 48,
       "columns": [
        {
         "name": "qname",
         "dtype": "object",
         "stats": {
          "unique_count": 48,
          "nan_count": 0,
          "categories": [
           {
            "name": "S0",
            "count": 1
           },
           {
            "name": "MetaInfo",
            "count": 1
           },
           {
            "name": "46 others",
            "count": 46
           }
          ]
         }
        },
        {
         "name": "question",
         "dtype": "object",
         "stats": {
          "unique_count": 45,
          "nan_count": 0,
          "categories": [
           {
            "name": "Which of the following describe you, if any? Please check all that apply.",
            "count": 3
           },
           {
            "name": "Which of the following describe you, if any? Please check all that apply. ",
            "count": 2
           },
           {
            "name": "43 others",
            "count": 43
           }
          ]
         }
        },
        {
         "name": "_deepnote_index_column",
         "dtype": "int64"
        }
       ],
       "rows": [
        {
         "qname": "S0",
         "question": "<div><span style=\"font-size:19px;\"><strong>Hello world! </strong></span></div>\n\n<div> </div>\n\n<div>…",
         "_deepnote_index_column": 0
        },
        {
         "qname": "MetaInfo",
         "question": "Browser Meta Info",
         "_deepnote_index_column": 1
        },
        {
         "qname": "S1",
         "question": "<span style=\"font-size:22px; font-family: arial,helvetica,sans-serif; font-weight: 700;\">Basic Info…",
         "_deepnote_index_column": 2
        },
        {
         "qname": "MainBranch",
         "question": "Which of the following options best describes you today? Here, by \"developer\" we mean \"someone who …",
         "_deepnote_index_column": 3
        },
        {
         "qname": "Employment",
         "question": "Which of the following best describes your current <b>employment status</b>?",
         "_deepnote_index_column": 4
        },
        {
         "qname": "Country",
         "question": "Where do you live? <span style=\"font-weight: bolder;\">*</span>",
         "_deepnote_index_column": 5
        },
        {
         "qname": "US_State",
         "question": "<p>In which state or territory of the USA do you live? <i>This information will be kept private.</i…",
         "_deepnote_index_column": 6
        },
        {
         "qname": "UK_Country",
         "question": "In which part of the United Kingdom do you live? <i>This information will be kept private.</i>",
         "_deepnote_index_column": 7
        },
        {
         "qname": "S2",
         "question": "<span style=\"font-size:22px; font-family: arial,helvetica,sans-serif; font-weight: 700;\">Education,…",
         "_deepnote_index_column": 8
        },
        {
         "qname": "EdLevel",
         "question": "Which of the following best describes the highest level of formal education that you’ve completed? *",
         "_deepnote_index_column": 9
        }
       ]
      },
      "text/plain": "                 qname                                           question\n0                   S0  <div><span style=\"font-size:19px;\"><strong>Hel...\n1             MetaInfo                                  Browser Meta Info\n2                   S1  <span style=\"font-size:22px; font-family: aria...\n3           MainBranch  Which of the following options best describes ...\n4           Employment  Which of the following best describes your cur...\n5              Country  Where do you live? <span style=\"font-weight: b...\n6             US_State  <p>In which state or territory of the USA do y...\n7           UK_Country  In which part of the United Kingdom do you liv...\n8                   S2  <span style=\"font-size:22px; font-family: aria...\n9              EdLevel  Which of the following best describes the high...\n10          Age1stCode  At what age did you write your first line of c...\n11           LearnCode  How did you learn to code? Select all that apply.\n12           YearsCode  Including any education, how many years have y...\n13        YearsCodePro  NOT including education, how many years have y...\n14             DevType  Which of the following describes your current ...\n15             OrgSize  Approximately how many people are employed by ...\n16            Currency  Which currency do you use day-to-day? If your ...\n17           CompTotal  What is your current total compensation (salar...\n18            CompFreq   Is that compensation weekly, monthly, or yearly?\n19                  S3  <span style=\"font-size:22px; font-family: aria...\n20            Language  Which <b>programming, scripting, and markup la...\n21            Database  Which <b>database environments </b>have you do...\n22            Platform  Which <b>cloud platforms</b> have you done ext...\n23            Webframe  Which <strong>web frameworks </strong><span st...\n24            MiscTech  Which <b>other frameworks and libraries</b> ha...\n25           ToolsTech  Which <strong>tools</strong> have you done ext...\n26      NEWCollabTools  Which <strong>development environments</strong...\n27               OpSys  What is the primary operating system in which ...\n28            NEWStuck  What do you do when you get stuck on a problem...\n29                  S4  <span style=\"font-size:22px; font-family: aria...\n30          NEWSOSites  Which of the following Stack Overflow sites ha...\n31         SOVisitFreq  How frequently would you say you visit Stack O...\n32           SOAccount              Do you have a Stack Overflow account?\n33          SOPartFreq  How frequently would you say you participate i...\n34              SOComm  Do you consider yourself a member of the Stack...\n35       NEWOtherComms  Are you a member of any other online developer...\n36  NEWOtherCommsNames  Please name up to 5 other online developer com...\n37                  S5  <span style=\"font-size:22px; font-family: aria...\n38                 Age                                  What is your age?\n39              Gender  Which of the following describe you, if any? P...\n40               Trans                    Do you identify as transgender?\n41           Sexuality  Which of the following describe you, if any? P...\n42           Ethnicity  Which of the following describe you, if any? P...\n43       Accessibility  Which of the following describe you, if any? P...\n44        MentalHealth  Which of the following describe you, if any? P...\n45                  S6  <span style=\"font-size:22px;\"><strong>Final Qu...\n46        SurveyLength  How do you feel about the length of the survey...\n47          SurveyEase  How easy or difficult was this survey to compl...",
      "text/html": "<div>\n<style scoped>\n    .dataframe tbody tr th:only-of-type {\n        vertical-align: middle;\n    }\n\n    .dataframe tbody tr th {\n        vertical-align: top;\n    }\n\n    .dataframe thead th {\n        text-align: right;\n    }\n</style>\n<table border=\"1\" class=\"dataframe\">\n  <thead>\n    <tr style=\"text-align: right;\">\n      <th></th>\n      <th>qname</th>\n      <th>question</th>\n    </tr>\n  </thead>\n  <tbody>\n    <tr>\n      <th>0</th>\n      <td>S0</td>\n      <td>&lt;div&gt;&lt;span style=\"font-size:19px;\"&gt;&lt;strong&gt;Hel...</td>\n    </tr>\n    <tr>\n      <th>1</th>\n      <td>MetaInfo</td>\n      <td>Browser Meta Info</td>\n    </tr>\n    <tr>\n      <th>2</th>\n      <td>S1</td>\n      <td>&lt;span style=\"font-size:22px; font-family: aria...</td>\n    </tr>\n    <tr>\n      <th>3</th>\n      <td>MainBranch</td>\n      <td>Which of the following options best describes ...</td>\n    </tr>\n    <tr>\n      <th>4</th>\n      <td>Employment</td>\n      <td>Which of the following best describes your cur...</td>\n    </tr>\n    <tr>\n      <th>5</th>\n      <td>Country</td>\n      <td>Where do you live? &lt;span style=\"font-weight: b...</td>\n    </tr>\n    <tr>\n      <th>6</th>\n      <td>US_State</td>\n      <td>&lt;p&gt;In which state or territory of the USA do y...</td>\n    </tr>\n    <tr>\n      <th>7</th>\n      <td>UK_Country</td>\n      <td>In which part of the United Kingdom do you liv...</td>\n    </tr>\n    <tr>\n      <th>8</th>\n      <td>S2</td>\n      <td>&lt;span style=\"font-size:22px; font-family: aria...</td>\n    </tr>\n    <tr>\n      <th>9</th>\n      <td>EdLevel</td>\n      <td>Which of the following best describes the high...</td>\n    </tr>\n    <tr>\n      <th>10</th>\n      <td>Age1stCode</td>\n      <td>At what age did you write your first line of c...</td>\n    </tr>\n    <tr>\n      <th>11</th>\n      <td>LearnCode</td>\n      <td>How did you learn to code? Select all that apply.</td>\n    </tr>\n    <tr>\n      <th>12</th>\n      <td>YearsCode</td>\n      <td>Including any education, how many years have y...</td>\n    </tr>\n    <tr>\n      <th>13</th>\n      <td>YearsCodePro</td>\n      <td>NOT including education, how many years have y...</td>\n    </tr>\n    <tr>\n      <th>14</th>\n      <td>DevType</td>\n      <td>Which of the following describes your current ...</td>\n    </tr>\n    <tr>\n      <th>15</th>\n      <td>OrgSize</td>\n      <td>Approximately how many people are employed by ...</td>\n    </tr>\n    <tr>\n      <th>16</th>\n      <td>Currency</td>\n      <td>Which currency do you use day-to-day? If your ...</td>\n    </tr>\n    <tr>\n      <th>17</th>\n      <td>CompTotal</td>\n      <td>What is your current total compensation (salar...</td>\n    </tr>\n    <tr>\n      <th>18</th>\n      <td>CompFreq</td>\n      <td>Is that compensation weekly, monthly, or yearly?</td>\n    </tr>\n    <tr>\n      <th>19</th>\n      <td>S3</td>\n      <td>&lt;span style=\"font-size:22px; font-family: aria...</td>\n    </tr>\n    <tr>\n      <th>20</th>\n      <td>Language</td>\n      <td>Which &lt;b&gt;programming, scripting, and markup la...</td>\n    </tr>\n    <tr>\n      <th>21</th>\n      <td>Database</td>\n      <td>Which &lt;b&gt;database environments &lt;/b&gt;have you do...</td>\n    </tr>\n    <tr>\n      <th>22</th>\n      <td>Platform</td>\n      <td>Which &lt;b&gt;cloud platforms&lt;/b&gt; have you done ext...</td>\n    </tr>\n    <tr>\n      <th>23</th>\n      <td>Webframe</td>\n      <td>Which &lt;strong&gt;web frameworks &lt;/strong&gt;&lt;span st...</td>\n    </tr>\n    <tr>\n      <th>24</th>\n      <td>MiscTech</td>\n      <td>Which &lt;b&gt;other frameworks and libraries&lt;/b&gt; ha...</td>\n    </tr>\n    <tr>\n      <th>25</th>\n      <td>ToolsTech</td>\n      <td>Which &lt;strong&gt;tools&lt;/strong&gt; have you done ext...</td>\n    </tr>\n    <tr>\n      <th>26</th>\n      <td>NEWCollabTools</td>\n      <td>Which &lt;strong&gt;development environments&lt;/strong...</td>\n    </tr>\n    <tr>\n      <th>27</th>\n      <td>OpSys</td>\n      <td>What is the primary operating system in which ...</td>\n    </tr>\n    <tr>\n      <th>28</th>\n      <td>NEWStuck</td>\n      <td>What do you do when you get stuck on a problem...</td>\n    </tr>\n    <tr>\n      <th>29</th>\n      <td>S4</td>\n      <td>&lt;span style=\"font-size:22px; font-family: aria...</td>\n    </tr>\n    <tr>\n      <th>30</th>\n      <td>NEWSOSites</td>\n      <td>Which of the following Stack Overflow sites ha...</td>\n    </tr>\n    <tr>\n      <th>31</th>\n      <td>SOVisitFreq</td>\n      <td>How frequently would you say you visit Stack O...</td>\n    </tr>\n    <tr>\n      <th>32</th>\n      <td>SOAccount</td>\n      <td>Do you have a Stack Overflow account?</td>\n    </tr>\n    <tr>\n      <th>33</th>\n      <td>SOPartFreq</td>\n      <td>How frequently would you say you participate i...</td>\n    </tr>\n    <tr>\n      <th>34</th>\n      <td>SOComm</td>\n      <td>Do you consider yourself a member of the Stack...</td>\n    </tr>\n    <tr>\n      <th>35</th>\n      <td>NEWOtherComms</td>\n      <td>Are you a member of any other online developer...</td>\n    </tr>\n    <tr>\n      <th>36</th>\n      <td>NEWOtherCommsNames</td>\n      <td>Please name up to 5 other online developer com...</td>\n    </tr>\n    <tr>\n      <th>37</th>\n      <td>S5</td>\n      <td>&lt;span style=\"font-size:22px; font-family: aria...</td>\n    </tr>\n    <tr>\n      <th>38</th>\n      <td>Age</td>\n      <td>What is your age?</td>\n    </tr>\n    <tr>\n      <th>39</th>\n      <td>Gender</td>\n      <td>Which of the following describe you, if any? P...</td>\n    </tr>\n    <tr>\n      <th>40</th>\n      <td>Trans</td>\n      <td>Do you identify as transgender?</td>\n    </tr>\n    <tr>\n      <th>41</th>\n      <td>Sexuality</td>\n      <td>Which of the following describe you, if any? P...</td>\n    </tr>\n    <tr>\n      <th>42</th>\n      <td>Ethnicity</td>\n      <td>Which of the following describe you, if any? P...</td>\n    </tr>\n    <tr>\n      <th>43</th>\n      <td>Accessibility</td>\n      <td>Which of the following describe you, if any? P...</td>\n    </tr>\n    <tr>\n      <th>44</th>\n      <td>MentalHealth</td>\n      <td>Which of the following describe you, if any? P...</td>\n    </tr>\n    <tr>\n      <th>45</th>\n      <td>S6</td>\n      <td>&lt;span style=\"font-size:22px;\"&gt;&lt;strong&gt;Final Qu...</td>\n    </tr>\n    <tr>\n      <th>46</th>\n      <td>SurveyLength</td>\n      <td>How do you feel about the length of the survey...</td>\n    </tr>\n    <tr>\n      <th>47</th>\n      <td>SurveyEase</td>\n      <td>How easy or difficult was this survey to compl...</td>\n    </tr>\n  </tbody>\n</table>\n</div>"
     },
     "metadata": {}
    }
   ],
   "execution_count": null
  },
  {
   "cell_type": "code",
   "metadata": {
    "cell_id": "737489f0-3b4a-4848-b0c1-74ab74469ea8",
    "tags": [],
    "deepnote_to_be_reexecuted": false,
    "source_hash": "77e67714",
    "execution_start": 1645722601323,
    "execution_millis": 250,
    "deepnote_cell_type": "code"
   },
   "source": "df_survey.sample(5)",
   "outputs": [
    {
     "output_type": "execute_result",
     "execution_count": 4,
     "data": {
      "application/vnd.deepnote.dataframe.v3+json": {
       "column_count": 48,
       "row_count": 5,
       "columns": [
        {
         "name": "ResponseId",
         "dtype": "int64",
         "stats": {
          "unique_count": 5,
          "nan_count": 0,
          "min": "12403",
          "max": "66788",
          "histogram": [
           {
            "bin_start": 12403,
            "bin_end": 17841.5,
            "count": 1
           },
           {
            "bin_start": 17841.5,
            "bin_end": 23280,
            "count": 0
           },
           {
            "bin_start": 23280,
            "bin_end": 28718.5,
            "count": 0
           },
           {
            "bin_start": 28718.5,
            "bin_end": 34157,
            "count": 1
           },
           {
            "bin_start": 34157,
            "bin_end": 39595.5,
            "count": 0
           },
           {
            "bin_start": 39595.5,
            "bin_end": 45034,
            "count": 0
           },
           {
            "bin_start": 45034,
            "bin_end": 50472.5,
            "count": 0
           },
           {
            "bin_start": 50472.5,
            "bin_end": 55911,
            "count": 2
           },
           {
            "bin_start": 55911,
            "bin_end": 61349.5,
            "count": 0
           },
           {
            "bin_start": 61349.5,
            "bin_end": 66788,
            "count": 1
           }
          ]
         }
        },
        {
         "name": "MainBranch",
         "dtype": "object",
         "stats": {
          "unique_count": 3,
          "nan_count": 0,
          "categories": [
           {
            "name": "I am a developer by profession",
            "count": 3
           },
           {
            "name": "I used to be a developer by profession, but no longer am",
            "count": 1
           },
           {
            "name": "I am not primarily a developer, but I write code sometimes as part of my work",
            "count": 1
           }
          ]
         }
        },
        {
         "name": "Employment",
         "dtype": "object",
         "stats": {
          "unique_count": 2,
          "nan_count": 0,
          "categories": [
           {
            "name": "Employed full-time",
            "count": 4
           },
           {
            "name": "Independent contractor, freelancer, or self-employed",
            "count": 1
           }
          ]
         }
        },
        {
         "name": "Country",
         "dtype": "object",
         "stats": {
          "unique_count": 5,
          "nan_count": 0,
          "categories": [
           {
            "name": "Colombia",
            "count": 1
           },
           {
            "name": "Canada",
            "count": 1
           },
           {
            "name": "3 others",
            "count": 3
           }
          ]
         }
        },
        {
         "name": "US_State",
         "dtype": "object",
         "stats": {
          "unique_count": 0,
          "nan_count": 5,
          "categories": [
           {
            "name": "Missing",
            "count": 5
           }
          ]
         }
        },
        {
         "name": "UK_Country",
         "dtype": "object",
         "stats": {
          "unique_count": 0,
          "nan_count": 5,
          "categories": [
           {
            "name": "Missing",
            "count": 5
           }
          ]
         }
        },
        {
         "name": "EdLevel",
         "dtype": "object",
         "stats": {
          "unique_count": 3,
          "nan_count": 0,
          "categories": [
           {
            "name": "Bachelor’s degree (B.A., B.S., B.Eng., etc.)",
            "count": 3
           },
           {
            "name": "Other doctoral degree (Ph.D., Ed.D., etc.)",
            "count": 1
           },
           {
            "name": "Associate degree (A.A., A.S., etc.)",
            "count": 1
           }
          ]
         }
        },
        {
         "name": "Age1stCode",
         "dtype": "object",
         "stats": {
          "unique_count": 4,
          "nan_count": 0,
          "categories": [
           {
            "name": "11 - 17 years",
            "count": 2
           },
           {
            "name": "5 - 10 years",
            "count": 1
           },
           {
            "name": "2 others",
            "count": 2
           }
          ]
         }
        },
        {
         "name": "LearnCode",
         "dtype": "object",
         "stats": {
          "unique_count": 5,
          "nan_count": 0,
          "categories": [
           {
            "name": "Other online resources (ex: videos, blogs, etc);School;Online Forum;Friend or family member;Online Courses or Certification;Books / Physical media",
            "count": 1
           },
           {
            "name": "School;Friend or family member;Other (please specify):;Books / Physical media",
            "count": 1
           },
           {
            "name": "3 others",
            "count": 3
           }
          ]
         }
        },
        {
         "name": "YearsCode",
         "dtype": "object",
         "stats": {
          "unique_count": 4,
          "nan_count": 0,
          "categories": [
           {
            "name": "20",
            "count": 2
           },
           {
            "name": "40",
            "count": 1
           },
           {
            "name": "2 others",
            "count": 2
           }
          ]
         }
        },
        {
         "name": "YearsCodePro",
         "dtype": "object",
         "stats": {
          "unique_count": 4,
          "nan_count": 0,
          "categories": [
           {
            "name": "2",
            "count": 2
           },
           {
            "name": "6",
            "count": 1
           },
           {
            "name": "2 others",
            "count": 2
           }
          ]
         }
        },
        {
         "name": "DevType",
         "dtype": "object",
         "stats": {
          "unique_count": 4,
          "nan_count": 0,
          "categories": [
           {
            "name": "Developer, full-stack",
            "count": 2
           },
           {
            "name": "Engineering manager;Product manager",
            "count": 1
           },
           {
            "name": "2 others",
            "count": 2
           }
          ]
         }
        },
        {
         "name": "OrgSize",
         "dtype": "object",
         "stats": {
          "unique_count": 3,
          "nan_count": 1,
          "categories": [
           {
            "name": "2 to 9 employees",
            "count": 2
           },
           {
            "name": "2 others",
            "count": 2
           },
           {
            "name": "Missing",
            "count": 1
           }
          ]
         }
        },
        {
         "name": "Currency",
         "dtype": "object",
         "stats": {
          "unique_count": 4,
          "nan_count": 1,
          "categories": [
           {
            "name": "CAD\tCanadian dollar",
            "count": 1
           },
           {
            "name": "3 others",
            "count": 3
           },
           {
            "name": "Missing",
            "count": 1
           }
          ]
         }
        },
        {
         "name": "CompTotal",
         "dtype": "float64",
         "stats": {
          "unique_count": 1,
          "nan_count": 4,
          "min": "1500.0",
          "max": "1500.0",
          "histogram": [
           {
            "bin_start": 1499.5,
            "bin_end": 1499.6,
            "count": 0
           },
           {
            "bin_start": 1499.6,
            "bin_end": 1499.7,
            "count": 0
           },
           {
            "bin_start": 1499.7,
            "bin_end": 1499.8,
            "count": 0
           },
           {
            "bin_start": 1499.8,
            "bin_end": 1499.9,
            "count": 0
           },
           {
            "bin_start": 1499.9,
            "bin_end": 1500,
            "count": 0
           },
           {
            "bin_start": 1500,
            "bin_end": 1500.1,
            "count": 1
           },
           {
            "bin_start": 1500.1,
            "bin_end": 1500.2,
            "count": 0
           },
           {
            "bin_start": 1500.2,
            "bin_end": 1500.3,
            "count": 0
           },
           {
            "bin_start": 1500.3,
            "bin_end": 1500.4,
            "count": 0
           },
           {
            "bin_start": 1500.4,
            "bin_end": 1500.5,
            "count": 0
           }
          ]
         }
        },
        {
         "name": "CompFreq",
         "dtype": "object",
         "stats": {
          "unique_count": 2,
          "nan_count": 3,
          "categories": [
           {
            "name": "Monthly",
            "count": 1
           },
           {
            "name": "Yearly",
            "count": 1
           },
           {
            "name": "Missing",
            "count": 3
           }
          ]
         }
        },
        {
         "name": "LanguageHaveWorkedWith",
         "dtype": "object",
         "stats": {
          "unique_count": 5,
          "nan_count": 0,
          "categories": [
           {
            "name": "HTML/CSS;JavaScript;Node.js;SQL",
            "count": 1
           },
           {
            "name": "C;C++;Haskell;LISP;Python;SQL",
            "count": 1
           },
           {
            "name": "3 others",
            "count": 3
           }
          ]
         }
        },
        {
         "name": "LanguageWantToWorkWith",
         "dtype": "object",
         "stats": {
          "unique_count": 4,
          "nan_count": 1,
          "categories": [
           {
            "name": "Go;JavaScript;Node.js;Python;Rust",
            "count": 1
           },
           {
            "name": "3 others",
            "count": 3
           },
           {
            "name": "Missing",
            "count": 1
           }
          ]
         }
        },
        {
         "name": "DatabaseHaveWorkedWith",
         "dtype": "object",
         "stats": {
          "unique_count": 5,
          "nan_count": 0,
          "categories": [
           {
            "name": "MariaDB;MongoDB;MySQL;Oracle;Redis",
            "count": 1
           },
           {
            "name": "PostgreSQL",
            "count": 1
           },
           {
            "name": "3 others",
            "count": 3
           }
          ]
         }
        },
        {
         "name": "DatabaseWantToWorkWith",
         "dtype": "object",
         "stats": {
          "unique_count": 3,
          "nan_count": 2,
          "categories": [
           {
            "name": "DynamoDB;Elasticsearch;Firebase;Redis",
            "count": 1
           },
           {
            "name": "2 others",
            "count": 2
           },
           {
            "name": "Missing",
            "count": 2
           }
          ]
         }
        },
        {
         "name": "PlatformHaveWorkedWith",
         "dtype": "object",
         "stats": {
          "unique_count": 3,
          "nan_count": 1,
          "categories": [
           {
            "name": "AWS;DigitalOcean",
            "count": 2
           },
           {
            "name": "2 others",
            "count": 2
           },
           {
            "name": "Missing",
            "count": 1
           }
          ]
         }
        },
        {
         "name": "PlatformWantToWorkWith",
         "dtype": "object",
         "stats": {
          "unique_count": 1,
          "nan_count": 3,
          "categories": [
           {
            "name": "AWS",
            "count": 2
           },
           {
            "name": "Missing",
            "count": 3
           }
          ]
         }
        },
        {
         "name": "WebframeHaveWorkedWith",
         "dtype": "object",
         "stats": {
          "unique_count": 5,
          "nan_count": 0,
          "categories": [
           {
            "name": "Express;React.js",
            "count": 1
           },
           {
            "name": "Django",
            "count": 1
           },
           {
            "name": "3 others",
            "count": 3
           }
          ]
         }
        },
        {
         "name": "WebframeWantToWorkWith",
         "dtype": "object",
         "stats": {
          "unique_count": 4,
          "nan_count": 1,
          "categories": [
           {
            "name": "Express;React.js;Svelte",
            "count": 1
           },
           {
            "name": "3 others",
            "count": 3
           },
           {
            "name": "Missing",
            "count": 1
           }
          ]
         }
        },
        {
         "name": "MiscTechHaveWorkedWith",
         "dtype": "object",
         "stats": {
          "unique_count": 3,
          "nan_count": 2,
          "categories": [
           {
            "name": "Qt",
            "count": 1
           },
           {
            "name": "2 others",
            "count": 2
           },
           {
            "name": "Missing",
            "count": 2
           }
          ]
         }
        },
        {
         "name": "MiscTechWantToWorkWith",
         "dtype": "object",
         "stats": {
          "unique_count": 2,
          "nan_count": 3,
          "categories": [
           {
            "name": "React Native",
            "count": 1
           },
           {
            "name": ".NET Framework;.NET Core / .NET 5;React Native",
            "count": 1
           },
           {
            "name": "Missing",
            "count": 3
           }
          ]
         }
        },
        {
         "name": "ToolsTechHaveWorkedWith",
         "dtype": "object",
         "stats": {
          "unique_count": 4,
          "nan_count": 1,
          "categories": [
           {
            "name": "Ansible;Git",
            "count": 1
           },
           {
            "name": "3 others",
            "count": 3
           },
           {
            "name": "Missing",
            "count": 1
           }
          ]
         }
        },
        {
         "name": "ToolsTechWantToWorkWith",
         "dtype": "object",
         "stats": {
          "unique_count": 3,
          "nan_count": 2,
          "categories": [
           {
            "name": "Docker;Kubernetes;Unity 3D",
            "count": 1
           },
           {
            "name": "2 others",
            "count": 2
           },
           {
            "name": "Missing",
            "count": 2
           }
          ]
         }
        },
        {
         "name": "NEWCollabToolsHaveWorkedWith",
         "dtype": "object",
         "stats": {
          "unique_count": 5,
          "nan_count": 0,
          "categories": [
           {
            "name": "Visual Studio Code",
            "count": 1
           },
           {
            "name": "Android Studio;Emacs",
            "count": 1
           },
           {
            "name": "3 others",
            "count": 3
           }
          ]
         }
        },
        {
         "name": "NEWCollabToolsWantToWorkWith",
         "dtype": "object",
         "stats": {
          "unique_count": 3,
          "nan_count": 2,
          "categories": [
           {
            "name": "Android Studio;IPython/Jupyter;Visual Studio Code",
            "count": 1
           },
           {
            "name": "2 others",
            "count": 2
           },
           {
            "name": "Missing",
            "count": 2
           }
          ]
         }
        },
        {
         "name": "OpSys",
         "dtype": "object",
         "stats": {
          "unique_count": 4,
          "nan_count": 0,
          "categories": [
           {
            "name": "MacOS",
            "count": 2
           },
           {
            "name": "BSD",
            "count": 1
           },
           {
            "name": "2 others",
            "count": 2
           }
          ]
         }
        },
        {
         "name": "NEWStuck",
         "dtype": "object",
         "stats": {
          "unique_count": 5,
          "nan_count": 0,
          "categories": [
           {
            "name": "Call a coworker or friend;Visit Stack Overflow;Go for a walk or other physical activity;Google it;Watch help / tutorial videos;Do other work and come back later",
            "count": 1
           },
           {
            "name": "Call a coworker or friend;Visit Stack Overflow;Go for a walk or other physical activity;Google it;Do other work and come back later;Meditate;Play games",
            "count": 1
           },
           {
            "name": "3 others",
            "count": 3
           }
          ]
         }
        },
        {
         "name": "NEWSOSites",
         "dtype": "object",
         "stats": {
          "unique_count": 2,
          "nan_count": 0,
          "categories": [
           {
            "name": "Stack Overflow;Stack Exchange",
            "count": 4
           },
           {
            "name": "Stack Overflow",
            "count": 1
           }
          ]
         }
        },
        {
         "name": "SOVisitFreq",
         "dtype": "object",
         "stats": {
          "unique_count": 4,
          "nan_count": 0,
          "categories": [
           {
            "name": "Daily or almost daily",
            "count": 2
           },
           {
            "name": "Less than once per month or monthly",
            "count": 1
           },
           {
            "name": "2 others",
            "count": 2
           }
          ]
         }
        },
        {
         "name": "SOAccount",
         "dtype": "object",
         "stats": {
          "unique_count": 2,
          "nan_count": 0,
          "categories": [
           {
            "name": "Yes",
            "count": 4
           },
           {
            "name": "No",
            "count": 1
           }
          ]
         }
        },
        {
         "name": "SOPartFreq",
         "dtype": "object",
         "stats": {
          "unique_count": 3,
          "nan_count": 1,
          "categories": [
           {
            "name": "Less than once per month or monthly",
            "count": 2
           },
           {
            "name": "2 others",
            "count": 2
           },
           {
            "name": "Missing",
            "count": 1
           }
          ]
         }
        },
        {
         "name": "SOComm",
         "dtype": "object",
         "stats": {
          "unique_count": 3,
          "nan_count": 0,
          "categories": [
           {
            "name": "Neutral",
            "count": 2
           },
           {
            "name": "Yes, somewhat",
            "count": 2
           },
           {
            "name": "No, not really",
            "count": 1
           }
          ]
         }
        },
        {
         "name": "NEWOtherComms",
         "dtype": "object",
         "stats": {
          "unique_count": 2,
          "nan_count": 0,
          "categories": [
           {
            "name": "No",
            "count": 3
           },
           {
            "name": "Yes",
            "count": 2
           }
          ]
         }
        },
        {
         "name": "Age",
         "dtype": "object",
         "stats": {
          "unique_count": 5,
          "nan_count": 0,
          "categories": [
           {
            "name": "25-34 years old",
            "count": 1
           },
           {
            "name": "45-54 years old",
            "count": 1
           },
           {
            "name": "3 others",
            "count": 3
           }
          ]
         }
        },
        {
         "name": "Gender",
         "dtype": "object",
         "stats": {
          "unique_count": 2,
          "nan_count": 0,
          "categories": [
           {
            "name": "Man",
            "count": 4
           },
           {
            "name": "Prefer not to say",
            "count": 1
           }
          ]
         }
        },
        {
         "name": "Trans",
         "dtype": "object",
         "stats": {
          "unique_count": 2,
          "nan_count": 0,
          "categories": [
           {
            "name": "No",
            "count": 4
           },
           {
            "name": "Prefer not to say",
            "count": 1
           }
          ]
         }
        },
        {
         "name": "Sexuality",
         "dtype": "object",
         "stats": {
          "unique_count": 1,
          "nan_count": 2,
          "categories": [
           {
            "name": "Straight / Heterosexual",
            "count": 3
           },
           {
            "name": "Missing",
            "count": 2
           }
          ]
         }
        },
        {
         "name": "Ethnicity",
         "dtype": "object",
         "stats": {
          "unique_count": 5,
          "nan_count": 0,
          "categories": [
           {
            "name": "Hispanic or Latino/a/x",
            "count": 1
           },
           {
            "name": "White or of European descent",
            "count": 1
           },
           {
            "name": "3 others",
            "count": 3
           }
          ]
         }
        },
        {
         "name": "Accessibility",
         "dtype": "object",
         "stats": {
          "unique_count": 2,
          "nan_count": 0,
          "categories": [
           {
            "name": "None of the above",
            "count": 3
           },
           {
            "name": "Prefer not to say",
            "count": 2
           }
          ]
         }
        },
        {
         "name": "MentalHealth",
         "dtype": "object",
         "stats": {
          "unique_count": 2,
          "nan_count": 1,
          "categories": [
           {
            "name": "None of the above",
            "count": 3
           },
           {
            "name": "Prefer not to say",
            "count": 1
           },
           {
            "name": "Missing",
            "count": 1
           }
          ]
         }
        },
        {
         "name": "SurveyLength",
         "dtype": "object",
         "stats": {
          "unique_count": 2,
          "nan_count": 0,
          "categories": [
           {
            "name": "Appropriate in length",
            "count": 4
           },
           {
            "name": "Too long",
            "count": 1
           }
          ]
         }
        },
        {
         "name": "SurveyEase",
         "dtype": "object",
         "stats": {
          "unique_count": 3,
          "nan_count": 0,
          "categories": [
           {
            "name": "Easy",
            "count": 3
           },
           {
            "name": "Neither easy nor difficult",
            "count": 1
           },
           {
            "name": "Difficult",
            "count": 1
           }
          ]
         }
        },
        {
         "name": "ConvertedCompYearly",
         "dtype": "float64",
         "stats": {
          "unique_count": 1,
          "nan_count": 4,
          "min": "18000.0",
          "max": "18000.0",
          "histogram": [
           {
            "bin_start": 17999.5,
            "bin_end": 17999.6,
            "count": 0
           },
           {
            "bin_start": 17999.6,
            "bin_end": 17999.7,
            "count": 0
           },
           {
            "bin_start": 17999.7,
            "bin_end": 17999.8,
            "count": 0
           },
           {
            "bin_start": 17999.8,
            "bin_end": 17999.9,
            "count": 0
           },
           {
            "bin_start": 17999.9,
            "bin_end": 18000,
            "count": 0
           },
           {
            "bin_start": 18000,
            "bin_end": 18000.1,
            "count": 1
           },
           {
            "bin_start": 18000.1,
            "bin_end": 18000.2,
            "count": 0
           },
           {
            "bin_start": 18000.2,
            "bin_end": 18000.3,
            "count": 0
           },
           {
            "bin_start": 18000.3,
            "bin_end": 18000.4,
            "count": 0
           },
           {
            "bin_start": 18000.4,
            "bin_end": 18000.5,
            "count": 0
           }
          ]
         }
        },
        {
         "name": "_deepnote_index_column",
         "dtype": "int64"
        }
       ],
       "rows": [
        {
         "ResponseId": 51058,
         "MainBranch": "I used to be a developer by profession, but no longer am",
         "Employment": "Employed full-time",
         "Country": "Colombia",
         "US_State": "nan",
         "UK_Country": "nan",
         "EdLevel": "Bachelor’s degree (B.A., B.S., B.Eng., etc.)",
         "Age1stCode": "11 - 17 years",
         "LearnCode": "Other online resources (ex: videos, blogs, etc);School;Online Forum;Friend or family member;Online …",
         "YearsCode": "20",
         "YearsCodePro": "6",
         "DevType": "Engineering manager;Product manager",
         "OrgSize": "nan",
         "Currency": "nan",
         "CompTotal": "nan",
         "CompFreq": "nan",
         "LanguageHaveWorkedWith": "HTML/CSS;JavaScript;Node.js;SQL",
         "LanguageWantToWorkWith": "Go;JavaScript;Node.js;Python;Rust",
         "DatabaseHaveWorkedWith": "MariaDB;MongoDB;MySQL;Oracle;Redis",
         "DatabaseWantToWorkWith": "DynamoDB;Elasticsearch;Firebase;Redis",
         "PlatformHaveWorkedWith": "AWS;DigitalOcean",
         "PlatformWantToWorkWith": "AWS",
         "WebframeHaveWorkedWith": "Express;React.js",
         "WebframeWantToWorkWith": "Express;React.js;Svelte",
         "MiscTechHaveWorkedWith": "nan",
         "MiscTechWantToWorkWith": "nan",
         "ToolsTechHaveWorkedWith": "Ansible;Git",
         "ToolsTechWantToWorkWith": "Docker;Kubernetes;Unity 3D",
         "NEWCollabToolsHaveWorkedWith": "Visual Studio Code",
         "NEWCollabToolsWantToWorkWith": "Android Studio;IPython/Jupyter;Visual Studio Code",
         "OpSys": "MacOS",
         "NEWStuck": "Call a coworker or friend;Visit Stack Overflow;Go for a walk or other physical activity;Google it;W…",
         "NEWSOSites": "Stack Overflow;Stack Exchange",
         "SOVisitFreq": "Less than once per month or monthly",
         "SOAccount": "Yes",
         "SOPartFreq": "Less than once per month or monthly",
         "SOComm": "Neutral",
         "NEWOtherComms": "No",
         "Age": "25-34 years old",
         "Gender": "Man",
         "Trans": "No",
         "Sexuality": "Straight / Heterosexual",
         "Ethnicity": "Hispanic or Latino/a/x",
         "Accessibility": "None of the above",
         "MentalHealth": "None of the above",
         "SurveyLength": "Appropriate in length",
         "SurveyEase": "Easy",
         "ConvertedCompYearly": "nan",
         "_deepnote_index_column": 51057
        },
        {
         "ResponseId": 66788,
         "MainBranch": "I am not primarily a developer, but I write code sometimes as part of my work",
         "Employment": "Independent contractor, freelancer, or self-employed",
         "Country": "Canada",
         "US_State": "nan",
         "UK_Country": "nan",
         "EdLevel": "Other doctoral degree (Ph.D., Ed.D., etc.)",
         "Age1stCode": "5 - 10 years",
         "LearnCode": "School;Friend or family member;Other (please specify):;Books / Physical media",
         "YearsCode": "40",
         "YearsCodePro": "30",
         "DevType": "Developer, mobile;Developer, desktop or enterprise applications;Developer, full-stack;Engineer, dat…",
         "OrgSize": "2 to 9 employees",
         "Currency": "CAD\tCanadian dollar",
         "CompTotal": "nan",
         "CompFreq": "nan",
         "LanguageHaveWorkedWith": "C;C++;Haskell;LISP;Python;SQL",
         "LanguageWantToWorkWith": "nan",
         "DatabaseHaveWorkedWith": "PostgreSQL",
         "DatabaseWantToWorkWith": "nan",
         "PlatformHaveWorkedWith": "AWS;DigitalOcean",
         "PlatformWantToWorkWith": "nan",
         "WebframeHaveWorkedWith": "Django",
         "WebframeWantToWorkWith": "nan",
         "MiscTechHaveWorkedWith": "Qt",
         "MiscTechWantToWorkWith": "nan",
         "ToolsTechHaveWorkedWith": "Git;Unreal Engine",
         "ToolsTechWantToWorkWith": "nan",
         "NEWCollabToolsHaveWorkedWith": "Android Studio;Emacs",
         "NEWCollabToolsWantToWorkWith": "nan",
         "OpSys": "BSD",
         "NEWStuck": "Call a coworker or friend;Visit Stack Overflow;Go for a walk or other physical activity;Google it;D…",
         "NEWSOSites": "Stack Overflow;Stack Exchange",
         "SOVisitFreq": "A few times per month or weekly",
         "SOAccount": "Yes",
         "SOPartFreq": "Less than once per month or monthly",
         "SOComm": "Neutral",
         "NEWOtherComms": "Yes",
         "Age": "45-54 years old",
         "Gender": "Man",
         "Trans": "No",
         "Sexuality": "Straight / Heterosexual",
         "Ethnicity": "White or of European descent",
         "Accessibility": "Prefer not to say",
         "MentalHealth": "nan",
         "SurveyLength": "Appropriate in length",
         "SurveyEase": "Neither easy nor difficult",
         "ConvertedCompYearly": "nan",
         "_deepnote_index_column": 66787
        },
        {
         "ResponseId": 12403,
         "MainBranch": "I am a developer by profession",
         "Employment": "Employed full-time",
         "Country": "Pakistan",
         "US_State": "nan",
         "UK_Country": "nan",
         "EdLevel": "Bachelor’s degree (B.A., B.S., B.Eng., etc.)",
         "Age1stCode": "11 - 17 years",
         "LearnCode": "Other online resources (ex: videos, blogs, etc);School;Online Forum;Online Courses or Certification…",
         "YearsCode": "6",
         "YearsCodePro": "2",
         "DevType": "Developer, full-stack",
         "OrgSize": "20 to 99 employees",
         "Currency": "USD\tUnited States dollar",
         "CompTotal": 1500,
         "CompFreq": "Monthly",
         "LanguageHaveWorkedWith": "C++;Java;JavaScript;Node.js;Python;SQL;TypeScript",
         "LanguageWantToWorkWith": "C++;Java;JavaScript;Node.js;Python;SQL;TypeScript",
         "DatabaseHaveWorkedWith": "MySQL;PostgreSQL",
         "DatabaseWantToWorkWith": "MySQL;PostgreSQL",
         "PlatformHaveWorkedWith": "Heroku",
         "PlatformWantToWorkWith": "AWS",
         "WebframeHaveWorkedWith": "Angular;Express;React.js;Spring",
         "WebframeWantToWorkWith": "Express;React.js;Spring",
         "MiscTechHaveWorkedWith": "nan",
         "MiscTechWantToWorkWith": "nan",
         "ToolsTechHaveWorkedWith": "Docker;Git;Yarn",
         "ToolsTechWantToWorkWith": "Docker;Git;Kubernetes;Yarn",
         "NEWCollabToolsHaveWorkedWith": "IntelliJ;Notepad++;Visual Studio Code",
         "NEWCollabToolsWantToWorkWith": "IntelliJ;Visual Studio Code",
         "OpSys": "MacOS",
         "NEWStuck": "Call a coworker or friend;Visit Stack Overflow;Do other work and come back later",
         "NEWSOSites": "Stack Overflow;Stack Exchange",
         "SOVisitFreq": "Multiple times per day",
         "SOAccount": "Yes",
         "SOPartFreq": "A few times per week",
         "SOComm": "Yes, somewhat",
         "NEWOtherComms": "Yes",
         "Age": "18-24 years old",
         "Gender": "Man",
         "Trans": "No",
         "Sexuality": "nan",
         "Ethnicity": "South Asian",
         "Accessibility": "None of the above",
         "MentalHealth": "None of the above",
         "SurveyLength": "Appropriate in length",
         "SurveyEase": "Easy",
         "ConvertedCompYearly": 18000,
         "_deepnote_index_column": 12402
        },
        {
         "ResponseId": 53549,
         "MainBranch": "I am a developer by profession",
         "Employment": "Employed full-time",
         "Country": "India",
         "US_State": "nan",
         "UK_Country": "nan",
         "EdLevel": "Bachelor’s degree (B.A., B.S., B.Eng., etc.)",
         "Age1stCode": "Younger than 5 years",
         "LearnCode": "Coding Bootcamp;Other online resources (ex: videos, blogs, etc);Online Courses or Certification",
         "YearsCode": "2",
         "YearsCodePro": "2",
         "DevType": "Developer, back-end",
         "OrgSize": "100 to 499 employees",
         "Currency": "YER\tYemeni rial",
         "CompTotal": "nan",
         "CompFreq": "Yearly",
         "LanguageHaveWorkedWith": "Java;JavaScript;Node.js",
         "LanguageWantToWorkWith": "TypeScript",
         "DatabaseHaveWorkedWith": "MongoDB",
         "DatabaseWantToWorkWith": "nan",
         "PlatformHaveWorkedWith": "AWS;Heroku",
         "PlatformWantToWorkWith": "nan",
         "WebframeHaveWorkedWith": "Express;React.js;Spring",
         "WebframeWantToWorkWith": "Angular.js",
         "MiscTechHaveWorkedWith": "React Native",
         "MiscTechWantToWorkWith": "React Native",
         "ToolsTechHaveWorkedWith": "Deno;Docker;Git",
         "ToolsTechWantToWorkWith": "Deno;Docker",
         "NEWCollabToolsHaveWorkedWith": "Atom;Eclipse;IntelliJ;IPython/Jupyter;Notepad++;Sublime Text;Vim;Visual Studio;Visual Studio Code",
         "NEWCollabToolsWantToWorkWith": "nan",
         "OpSys": "Linux-based",
         "NEWStuck": "Call a coworker or friend;Visit Stack Overflow;Go for a walk or other physical activity;Google it;W…",
         "NEWSOSites": "Stack Overflow;Stack Exchange",
         "SOVisitFreq": "Daily or almost daily",
         "SOAccount": "Yes",
         "SOPartFreq": "I have never participated in Q&A on Stack Overflow",
         "SOComm": "No, not really",
         "NEWOtherComms": "No",
         "Age": "Prefer not to say",
         "Gender": "Prefer not to say",
         "Trans": "Prefer not to say",
         "Sexuality": "nan",
         "Ethnicity": "Prefer not to say",
         "Accessibility": "Prefer not to say",
         "MentalHealth": "Prefer not to say",
         "SurveyLength": "Too long",
         "SurveyEase": "Difficult",
         "ConvertedCompYearly": "nan",
         "_deepnote_index_column": 53548
        },
        {
         "ResponseId": 32179,
         "MainBranch": "I am a developer by profession",
         "Employment": "Employed full-time",
         "Country": "Turkey",
         "US_State": "nan",
         "UK_Country": "nan",
         "EdLevel": "Associate degree (A.A., A.S., etc.)",
         "Age1stCode": "18 - 24 years",
         "LearnCode": "School;Friend or family member;Books / Physical media",
         "YearsCode": "20",
         "YearsCodePro": "15",
         "DevType": "Developer, full-stack",
         "OrgSize": "2 to 9 employees",
         "Currency": "TRY\tTurkish lira",
         "CompTotal": "nan",
         "CompFreq": "nan",
         "LanguageHaveWorkedWith": "C#;HTML/CSS;JavaScript;SQL",
         "LanguageWantToWorkWith": "C#;HTML/CSS;JavaScript;Python;SQL",
         "DatabaseHaveWorkedWith": "Microsoft SQL Server;MySQL",
         "DatabaseWantToWorkWith": "Microsoft SQL Server;MySQL",
         "PlatformHaveWorkedWith": "nan",
         "PlatformWantToWorkWith": "nan",
         "WebframeHaveWorkedWith": "ASP.NET;jQuery;React.js",
         "WebframeWantToWorkWith": "ASP.NET;ASP.NET Core ;jQuery;React.js",
         "MiscTechHaveWorkedWith": ".NET Framework;.NET Core / .NET 5;React Native",
         "MiscTechWantToWorkWith": ".NET Framework;.NET Core / .NET 5;React Native",
         "ToolsTechHaveWorkedWith": "nan",
         "ToolsTechWantToWorkWith": "nan",
         "NEWCollabToolsHaveWorkedWith": "Android Studio;Notepad++;Visual Studio;Visual Studio Code",
         "NEWCollabToolsWantToWorkWith": "Android Studio;Notepad++;Visual Studio;Visual Studio Code",
         "OpSys": "Windows",
         "NEWStuck": "Call a coworker or friend;Visit Stack Overflow;Google it;Watch help / tutorial videos",
         "NEWSOSites": "Stack Overflow",
         "SOVisitFreq": "Daily or almost daily",
         "SOAccount": "No",
         "SOPartFreq": "nan",
         "SOComm": "Yes, somewhat",
         "NEWOtherComms": "No",
         "Age": "35-44 years old",
         "Gender": "Man",
         "Trans": "No",
         "Sexuality": "Straight / Heterosexual",
         "Ethnicity": "Or, in your own words:",
         "Accessibility": "None of the above",
         "MentalHealth": "None of the above",
         "SurveyLength": "Appropriate in length",
         "SurveyEase": "Easy",
         "ConvertedCompYearly": "nan",
         "_deepnote_index_column": 32178
        }
       ]
      },
      "text/plain": "       ResponseId                                         MainBranch  \\\n51057       51058  I used to be a developer by profession, but no...   \n66787       66788  I am not primarily a developer, but I write co...   \n12402       12403                     I am a developer by profession   \n53548       53549                     I am a developer by profession   \n32178       32179                     I am a developer by profession   \n\n                                              Employment   Country US_State  \\\n51057                                 Employed full-time  Colombia      NaN   \n66787  Independent contractor, freelancer, or self-em...    Canada      NaN   \n12402                                 Employed full-time  Pakistan      NaN   \n53548                                 Employed full-time     India      NaN   \n32178                                 Employed full-time    Turkey      NaN   \n\n      UK_Country                                       EdLevel  \\\n51057        NaN  Bachelor’s degree (B.A., B.S., B.Eng., etc.)   \n66787        NaN    Other doctoral degree (Ph.D., Ed.D., etc.)   \n12402        NaN  Bachelor’s degree (B.A., B.S., B.Eng., etc.)   \n53548        NaN  Bachelor’s degree (B.A., B.S., B.Eng., etc.)   \n32178        NaN           Associate degree (A.A., A.S., etc.)   \n\n                 Age1stCode  \\\n51057         11 - 17 years   \n66787          5 - 10 years   \n12402         11 - 17 years   \n53548  Younger than 5 years   \n32178         18 - 24 years   \n\n                                               LearnCode YearsCode  ...  \\\n51057  Other online resources (ex: videos, blogs, etc...        20  ...   \n66787  School;Friend or family member;Other (please s...        40  ...   \n12402  Other online resources (ex: videos, blogs, etc...         6  ...   \n53548  Coding Bootcamp;Other online resources (ex: vi...         2  ...   \n32178  School;Friend or family member;Books / Physica...        20  ...   \n\n                     Age             Gender              Trans  \\\n51057    25-34 years old                Man                 No   \n66787    45-54 years old                Man                 No   \n12402    18-24 years old                Man                 No   \n53548  Prefer not to say  Prefer not to say  Prefer not to say   \n32178    35-44 years old                Man                 No   \n\n                     Sexuality                     Ethnicity  \\\n51057  Straight / Heterosexual        Hispanic or Latino/a/x   \n66787  Straight / Heterosexual  White or of European descent   \n12402                      NaN                   South Asian   \n53548                      NaN             Prefer not to say   \n32178  Straight / Heterosexual        Or, in your own words:   \n\n           Accessibility       MentalHealth           SurveyLength  \\\n51057  None of the above  None of the above  Appropriate in length   \n66787  Prefer not to say                NaN  Appropriate in length   \n12402  None of the above  None of the above  Appropriate in length   \n53548  Prefer not to say  Prefer not to say               Too long   \n32178  None of the above  None of the above  Appropriate in length   \n\n                       SurveyEase ConvertedCompYearly  \n51057                        Easy                 NaN  \n66787  Neither easy nor difficult                 NaN  \n12402                        Easy             18000.0  \n53548                   Difficult                 NaN  \n32178                        Easy                 NaN  \n\n[5 rows x 48 columns]",
      "text/html": "<div>\n<style scoped>\n    .dataframe tbody tr th:only-of-type {\n        vertical-align: middle;\n    }\n\n    .dataframe tbody tr th {\n        vertical-align: top;\n    }\n\n    .dataframe thead th {\n        text-align: right;\n    }\n</style>\n<table border=\"1\" class=\"dataframe\">\n  <thead>\n    <tr style=\"text-align: right;\">\n      <th></th>\n      <th>ResponseId</th>\n      <th>MainBranch</th>\n      <th>Employment</th>\n      <th>Country</th>\n      <th>US_State</th>\n      <th>UK_Country</th>\n      <th>EdLevel</th>\n      <th>Age1stCode</th>\n      <th>LearnCode</th>\n      <th>YearsCode</th>\n      <th>...</th>\n      <th>Age</th>\n      <th>Gender</th>\n      <th>Trans</th>\n      <th>Sexuality</th>\n      <th>Ethnicity</th>\n      <th>Accessibility</th>\n      <th>MentalHealth</th>\n      <th>SurveyLength</th>\n      <th>SurveyEase</th>\n      <th>ConvertedCompYearly</th>\n    </tr>\n  </thead>\n  <tbody>\n    <tr>\n      <th>51057</th>\n      <td>51058</td>\n      <td>I used to be a developer by profession, but no...</td>\n      <td>Employed full-time</td>\n      <td>Colombia</td>\n      <td>NaN</td>\n      <td>NaN</td>\n      <td>Bachelor’s degree (B.A., B.S., B.Eng., etc.)</td>\n      <td>11 - 17 years</td>\n      <td>Other online resources (ex: videos, blogs, etc...</td>\n      <td>20</td>\n      <td>...</td>\n      <td>25-34 years old</td>\n      <td>Man</td>\n      <td>No</td>\n      <td>Straight / Heterosexual</td>\n      <td>Hispanic or Latino/a/x</td>\n      <td>None of the above</td>\n      <td>None of the above</td>\n      <td>Appropriate in length</td>\n      <td>Easy</td>\n      <td>NaN</td>\n    </tr>\n    <tr>\n      <th>66787</th>\n      <td>66788</td>\n      <td>I am not primarily a developer, but I write co...</td>\n      <td>Independent contractor, freelancer, or self-em...</td>\n      <td>Canada</td>\n      <td>NaN</td>\n      <td>NaN</td>\n      <td>Other doctoral degree (Ph.D., Ed.D., etc.)</td>\n      <td>5 - 10 years</td>\n      <td>School;Friend or family member;Other (please s...</td>\n      <td>40</td>\n      <td>...</td>\n      <td>45-54 years old</td>\n      <td>Man</td>\n      <td>No</td>\n      <td>Straight / Heterosexual</td>\n      <td>White or of European descent</td>\n      <td>Prefer not to say</td>\n      <td>NaN</td>\n      <td>Appropriate in length</td>\n      <td>Neither easy nor difficult</td>\n      <td>NaN</td>\n    </tr>\n    <tr>\n      <th>12402</th>\n      <td>12403</td>\n      <td>I am a developer by profession</td>\n      <td>Employed full-time</td>\n      <td>Pakistan</td>\n      <td>NaN</td>\n      <td>NaN</td>\n      <td>Bachelor’s degree (B.A., B.S., B.Eng., etc.)</td>\n      <td>11 - 17 years</td>\n      <td>Other online resources (ex: videos, blogs, etc...</td>\n      <td>6</td>\n      <td>...</td>\n      <td>18-24 years old</td>\n      <td>Man</td>\n      <td>No</td>\n      <td>NaN</td>\n      <td>South Asian</td>\n      <td>None of the above</td>\n      <td>None of the above</td>\n      <td>Appropriate in length</td>\n      <td>Easy</td>\n      <td>18000.0</td>\n    </tr>\n    <tr>\n      <th>53548</th>\n      <td>53549</td>\n      <td>I am a developer by profession</td>\n      <td>Employed full-time</td>\n      <td>India</td>\n      <td>NaN</td>\n      <td>NaN</td>\n      <td>Bachelor’s degree (B.A., B.S., B.Eng., etc.)</td>\n      <td>Younger than 5 years</td>\n      <td>Coding Bootcamp;Other online resources (ex: vi...</td>\n      <td>2</td>\n      <td>...</td>\n      <td>Prefer not to say</td>\n      <td>Prefer not to say</td>\n      <td>Prefer not to say</td>\n      <td>NaN</td>\n      <td>Prefer not to say</td>\n      <td>Prefer not to say</td>\n      <td>Prefer not to say</td>\n      <td>Too long</td>\n      <td>Difficult</td>\n      <td>NaN</td>\n    </tr>\n    <tr>\n      <th>32178</th>\n      <td>32179</td>\n      <td>I am a developer by profession</td>\n      <td>Employed full-time</td>\n      <td>Turkey</td>\n      <td>NaN</td>\n      <td>NaN</td>\n      <td>Associate degree (A.A., A.S., etc.)</td>\n      <td>18 - 24 years</td>\n      <td>School;Friend or family member;Books / Physica...</td>\n      <td>20</td>\n      <td>...</td>\n      <td>35-44 years old</td>\n      <td>Man</td>\n      <td>No</td>\n      <td>Straight / Heterosexual</td>\n      <td>Or, in your own words:</td>\n      <td>None of the above</td>\n      <td>None of the above</td>\n      <td>Appropriate in length</td>\n      <td>Easy</td>\n      <td>NaN</td>\n    </tr>\n  </tbody>\n</table>\n<p>5 rows × 48 columns</p>\n</div>"
     },
     "metadata": {}
    }
   ],
   "execution_count": null
  },
  {
   "cell_type": "markdown",
   "source": "Seleccionar las columnas que pueden ayudar a contestar las preguntas (mostradas en el siguiente notebook). Y también los países hispanohablantes para filtrar la data (también se incluyó a Brasil).",
   "metadata": {
    "cell_id": "560413b1-9f1c-4445-bc54-dede3316235e",
    "tags": [],
    "deepnote_cell_type": "markdown"
   }
  },
  {
   "cell_type": "code",
   "metadata": {
    "cell_id": "ad6bc086-52e3-45b5-9e56-1fef3e644e22",
    "tags": [],
    "deepnote_to_be_reexecuted": false,
    "source_hash": "353ce130",
    "execution_start": 1645722601396,
    "execution_millis": 14,
    "deepnote_cell_type": "code"
   },
   "source": "# Select columns\ncolumns = ['ResponseId', 'Age', 'Gender', 'Trans', 'Sexuality', 'Country',\n            'EdLevel', 'Age1stCode', 'LearnCode', 'YearsCode', 'YearsCodePro',\n            'MainBranch', 'Employment', 'DevType', 'ConvertedCompYearly']\n\n# Filter registers by countries\nlatam = ['Peru', 'Colombia', 'Chile', 'Argentina', 'Costa Rica', 'Bolivia',\n            'Uruguay', 'Mexico', 'Venezuela, Bolivarian Republic of...'\n            'Dominican Republic', 'Ecuador', 'Guatemala', 'Paraguay', 'Panama',\n            'El Salvador', 'Nicaragua', 'Brazil', 'Spain']\n\n# New dataset\nin_latam = df_survey.Country.isin(latam)\ndf = df_survey[in_latam][columns]",
   "outputs": [],
   "execution_count": null
  },
  {
   "cell_type": "code",
   "metadata": {
    "cell_id": "49fdfe8a-344a-44bb-ab16-01603888694d",
    "tags": [],
    "deepnote_to_be_reexecuted": false,
    "source_hash": "48bf3b4d",
    "execution_start": 1645722601411,
    "execution_millis": 216,
    "deepnote_cell_type": "code"
   },
   "source": "s = df.shape\np = s[0] / df_survey.shape[0] * 100\nprint(f'Registros: {s[0]}')\nprint(f'Porcentaje total del dataset: {round(p,2)}%')\nprint(f'Preguntas: {s[1]}')",
   "outputs": [
    {
     "name": "stdout",
     "text": "Registros: 6337\nPorcentaje total del dataset: 7.59%\nPreguntas: 15\n",
     "output_type": "stream"
    }
   ],
   "execution_count": null
  },
  {
   "cell_type": "markdown",
   "source": "Veamos los tipos de datos y qué contienen las variables",
   "metadata": {
    "cell_id": "d576ea7e-f1ec-4ca4-8a50-993acbdbd1d2",
    "tags": [],
    "deepnote_to_be_reexecuted": false,
    "source_hash": "1d89ab00",
    "execution_start": 1645585403819,
    "execution_millis": 6,
    "deepnote_cell_type": "markdown"
   }
  },
  {
   "cell_type": "code",
   "metadata": {
    "cell_id": "16ee751e-5197-4c1e-9470-e73178fb5fe7",
    "tags": [],
    "deepnote_to_be_reexecuted": false,
    "source_hash": "de1e323c",
    "execution_start": 1645722601418,
    "execution_millis": 210,
    "deepnote_cell_type": "code"
   },
   "source": "df.info()",
   "outputs": [
    {
     "name": "stdout",
     "text": "<class 'pandas.core.frame.DataFrame'>\nInt64Index: 6337 entries, 11 to 83438\nData columns (total 15 columns):\n #   Column               Non-Null Count  Dtype  \n---  ------               --------------  -----  \n 0   ResponseId           6337 non-null   int64  \n 1   Age                  6307 non-null   object \n 2   Gender               6305 non-null   object \n 3   Trans                6244 non-null   object \n 4   Sexuality            5885 non-null   object \n 5   Country              6337 non-null   object \n 6   EdLevel              6322 non-null   object \n 7   Age1stCode           6330 non-null   object \n 8   LearnCode            6316 non-null   object \n 9   YearsCode            6254 non-null   object \n 10  YearsCodePro         5160 non-null   object \n 11  MainBranch           6337 non-null   object \n 12  Employment           6335 non-null   object \n 13  DevType              5554 non-null   object \n 14  ConvertedCompYearly  4389 non-null   float64\ndtypes: float64(1), int64(1), object(13)\nmemory usage: 792.1+ KB\n",
     "output_type": "stream"
    }
   ],
   "execution_count": null
  },
  {
   "cell_type": "code",
   "metadata": {
    "cell_id": "53827ed4-8dba-488e-a0c1-3fe976d55865",
    "tags": [],
    "deepnote_to_be_reexecuted": false,
    "source_hash": "b1cecf2d",
    "execution_start": 1645722601436,
    "execution_millis": 195,
    "deepnote_cell_type": "code"
   },
   "source": "df.describe(include='all')",
   "outputs": [
    {
     "output_type": "execute_result",
     "execution_count": 8,
     "data": {
      "application/vnd.deepnote.dataframe.v3+json": {
       "column_count": 15,
       "row_count": 11,
       "columns": [
        {
         "name": "ResponseId",
         "dtype": "float64",
         "stats": {
          "unique_count": 8,
          "nan_count": 3,
          "min": "12.0",
          "max": "83439.0",
          "histogram": [
           {
            "bin_start": 12,
            "bin_end": 8354.7,
            "count": 2
           },
           {
            "bin_start": 8354.7,
            "bin_end": 16697.4,
            "count": 0
           },
           {
            "bin_start": 16697.4,
            "bin_end": 25040.100000000002,
            "count": 1
           },
           {
            "bin_start": 25040.100000000002,
            "bin_end": 33382.8,
            "count": 1
           },
           {
            "bin_start": 33382.8,
            "bin_end": 41725.5,
            "count": 1
           },
           {
            "bin_start": 41725.5,
            "bin_end": 50068.200000000004,
            "count": 1
           },
           {
            "bin_start": 50068.200000000004,
            "bin_end": 58410.90000000001,
            "count": 0
           },
           {
            "bin_start": 58410.90000000001,
            "bin_end": 66753.6,
            "count": 1
           },
           {
            "bin_start": 66753.6,
            "bin_end": 75096.3,
            "count": 0
           },
           {
            "bin_start": 75096.3,
            "bin_end": 83439,
            "count": 1
           }
          ]
         }
        },
        {
         "name": "Age",
         "dtype": "object",
         "stats": {
          "unique_count": 4,
          "nan_count": 7,
          "categories": [
           {
            "name": "6307",
            "count": 1
           },
           {
            "name": "3 others",
            "count": 3
           },
           {
            "name": "Missing",
            "count": 7
           }
          ]
         }
        },
        {
         "name": "Gender",
         "dtype": "object",
         "stats": {
          "unique_count": 4,
          "nan_count": 7,
          "categories": [
           {
            "name": "6305",
            "count": 1
           },
           {
            "name": "3 others",
            "count": 3
           },
           {
            "name": "Missing",
            "count": 7
           }
          ]
         }
        },
        {
         "name": "Trans",
         "dtype": "object",
         "stats": {
          "unique_count": 4,
          "nan_count": 7,
          "categories": [
           {
            "name": "6244",
            "count": 1
           },
           {
            "name": "3 others",
            "count": 3
           },
           {
            "name": "Missing",
            "count": 7
           }
          ]
         }
        },
        {
         "name": "Sexuality",
         "dtype": "object",
         "stats": {
          "unique_count": 4,
          "nan_count": 7,
          "categories": [
           {
            "name": "5885",
            "count": 1
           },
           {
            "name": "3 others",
            "count": 3
           },
           {
            "name": "Missing",
            "count": 7
           }
          ]
         }
        },
        {
         "name": "Country",
         "dtype": "object",
         "stats": {
          "unique_count": 4,
          "nan_count": 7,
          "categories": [
           {
            "name": "6337",
            "count": 1
           },
           {
            "name": "3 others",
            "count": 3
           },
           {
            "name": "Missing",
            "count": 7
           }
          ]
         }
        },
        {
         "name": "EdLevel",
         "dtype": "object",
         "stats": {
          "unique_count": 4,
          "nan_count": 7,
          "categories": [
           {
            "name": "6322",
            "count": 1
           },
           {
            "name": "3 others",
            "count": 3
           },
           {
            "name": "Missing",
            "count": 7
           }
          ]
         }
        },
        {
         "name": "Age1stCode",
         "dtype": "object",
         "stats": {
          "unique_count": 4,
          "nan_count": 7,
          "categories": [
           {
            "name": "6330",
            "count": 1
           },
           {
            "name": "3 others",
            "count": 3
           },
           {
            "name": "Missing",
            "count": 7
           }
          ]
         }
        },
        {
         "name": "LearnCode",
         "dtype": "object",
         "stats": {
          "unique_count": 4,
          "nan_count": 7,
          "categories": [
           {
            "name": "6316",
            "count": 1
           },
           {
            "name": "3 others",
            "count": 3
           },
           {
            "name": "Missing",
            "count": 7
           }
          ]
         }
        },
        {
         "name": "YearsCode",
         "dtype": "object",
         "stats": {
          "unique_count": 4,
          "nan_count": 7,
          "categories": [
           {
            "name": "6254",
            "count": 1
           },
           {
            "name": "3 others",
            "count": 3
           },
           {
            "name": "Missing",
            "count": 7
           }
          ]
         }
        },
        {
         "name": "YearsCodePro",
         "dtype": "object",
         "stats": {
          "unique_count": 4,
          "nan_count": 7,
          "categories": [
           {
            "name": "5160",
            "count": 1
           },
           {
            "name": "3 others",
            "count": 3
           },
           {
            "name": "Missing",
            "count": 7
           }
          ]
         }
        },
        {
         "name": "MainBranch",
         "dtype": "object",
         "stats": {
          "unique_count": 4,
          "nan_count": 7,
          "categories": [
           {
            "name": "6337",
            "count": 1
           },
           {
            "name": "3 others",
            "count": 3
           },
           {
            "name": "Missing",
            "count": 7
           }
          ]
         }
        },
        {
         "name": "Employment",
         "dtype": "object",
         "stats": {
          "unique_count": 4,
          "nan_count": 7,
          "categories": [
           {
            "name": "6335",
            "count": 1
           },
           {
            "name": "3 others",
            "count": 3
           },
           {
            "name": "Missing",
            "count": 7
           }
          ]
         }
        },
        {
         "name": "DevType",
         "dtype": "object",
         "stats": {
          "unique_count": 4,
          "nan_count": 7,
          "categories": [
           {
            "name": "5554",
            "count": 1
           },
           {
            "name": "3 others",
            "count": 3
           },
           {
            "name": "Missing",
            "count": 7
           }
          ]
         }
        },
        {
         "name": "ConvertedCompYearly",
         "dtype": "float64",
         "stats": {
          "unique_count": 8,
          "nan_count": 3,
          "min": "12.0",
          "max": "4656132.0",
          "histogram": [
           {
            "bin_start": 12,
            "bin_end": 465624,
            "count": 7
           },
           {
            "bin_start": 465624,
            "bin_end": 931236,
            "count": 0
           },
           {
            "bin_start": 931236,
            "bin_end": 1396848,
            "count": 0
           },
           {
            "bin_start": 1396848,
            "bin_end": 1862460,
            "count": 0
           },
           {
            "bin_start": 1862460,
            "bin_end": 2328072,
            "count": 0
           },
           {
            "bin_start": 2328072,
            "bin_end": 2793684,
            "count": 0
           },
           {
            "bin_start": 2793684,
            "bin_end": 3259296,
            "count": 0
           },
           {
            "bin_start": 3259296,
            "bin_end": 3724908,
            "count": 0
           },
           {
            "bin_start": 3724908,
            "bin_end": 4190520,
            "count": 0
           },
           {
            "bin_start": 4190520,
            "bin_end": 4656132,
            "count": 1
           }
          ]
         }
        },
        {
         "name": "_deepnote_index_column",
         "dtype": "object"
        }
       ],
       "rows": [
        {
         "ResponseId": 6337,
         "Age": "6307",
         "Gender": "6305",
         "Trans": "6244",
         "Sexuality": "5885",
         "Country": "6337",
         "EdLevel": "6322",
         "Age1stCode": "6330",
         "LearnCode": "6316",
         "YearsCode": "6254",
         "YearsCodePro": "5160",
         "MainBranch": "6337",
         "Employment": "6335",
         "DevType": "5554",
         "ConvertedCompYearly": 4389,
         "_deepnote_index_column": "count"
        },
        {
         "ResponseId": "nan",
         "Age": "8",
         "Gender": "11",
         "Trans": "4",
         "Sexuality": "21",
         "Country": "16",
         "EdLevel": "9",
         "Age1stCode": "9",
         "LearnCode": "306",
         "YearsCode": "51",
         "YearsCodePro": "43",
         "MainBranch": "6",
         "Employment": "9",
         "DevType": "1519",
         "ConvertedCompYearly": "nan",
         "_deepnote_index_column": "unique"
        },
        {
         "ResponseId": "nan",
         "Age": "25-34 years old",
         "Gender": "Man",
         "Trans": "No",
         "Sexuality": "Straight / Heterosexual",
         "Country": "Brazil",
         "EdLevel": "Bachelor’s degree (B.A., B.S., B.Eng., etc.)",
         "Age1stCode": "11 - 17 years",
         "LearnCode": "School",
         "YearsCode": "10",
         "YearsCodePro": "3",
         "MainBranch": "I am a developer by profession",
         "Employment": "Employed full-time",
         "DevType": "Developer, full-stack",
         "ConvertedCompYearly": "nan",
         "_deepnote_index_column": "top"
        },
        {
         "ResponseId": "nan",
         "Age": "2695",
         "Gender": "5870",
         "Trans": "6075",
         "Sexuality": "5070",
         "Country": "2254",
         "EdLevel": "2535",
         "Age1stCode": "3384",
         "LearnCode": "614",
         "YearsCode": "514",
         "YearsCodePro": "481",
         "MainBranch": "4848",
         "Employment": "4381",
         "DevType": "688",
         "ConvertedCompYearly": "nan",
         "_deepnote_index_column": "freq"
        },
        {
         "ResponseId": 41783.38030613855,
         "Age": "nan",
         "Gender": "nan",
         "Trans": "nan",
         "Sexuality": "nan",
         "Country": "nan",
         "EdLevel": "nan",
         "Age1stCode": "nan",
         "LearnCode": "nan",
         "YearsCode": "nan",
         "YearsCodePro": "nan",
         "MainBranch": "nan",
         "Employment": "nan",
         "DevType": "nan",
         "ConvertedCompYearly": 49063.98313966735,
         "_deepnote_index_column": "mean"
        },
        {
         "ResponseId": 22858.4583871424,
         "Age": "nan",
         "Gender": "nan",
         "Trans": "nan",
         "Sexuality": "nan",
         "Country": "nan",
         "EdLevel": "nan",
         "Age1stCode": "nan",
         "LearnCode": "nan",
         "YearsCode": "nan",
         "YearsCodePro": "nan",
         "MainBranch": "nan",
         "Employment": "nan",
         "DevType": "nan",
         "ConvertedCompYearly": 137150.89512152993,
         "_deepnote_index_column": "std"
        },
        {
         "ResponseId": 12,
         "Age": "nan",
         "Gender": "nan",
         "Trans": "nan",
         "Sexuality": "nan",
         "Country": "nan",
         "EdLevel": "nan",
         "Age1stCode": "nan",
         "LearnCode": "nan",
         "YearsCode": "nan",
         "YearsCodePro": "nan",
         "MainBranch": "nan",
         "Employment": "nan",
         "DevType": "nan",
         "ConvertedCompYearly": 12,
         "_deepnote_index_column": "min"
        },
        {
         "ResponseId": 25064,
         "Age": "nan",
         "Gender": "nan",
         "Trans": "nan",
         "Sexuality": "nan",
         "Country": "nan",
         "EdLevel": "nan",
         "Age1stCode": "nan",
         "LearnCode": "nan",
         "YearsCode": "nan",
         "YearsCodePro": "nan",
         "MainBranch": "nan",
         "Employment": "nan",
         "DevType": "nan",
         "ConvertedCompYearly": 15672,
         "_deepnote_index_column": "25%"
        },
        {
         "ResponseId": 40617,
         "Age": "nan",
         "Gender": "nan",
         "Trans": "nan",
         "Sexuality": "nan",
         "Country": "nan",
         "EdLevel": "nan",
         "Age1stCode": "nan",
         "LearnCode": "nan",
         "YearsCode": "nan",
         "YearsCodePro": "nan",
         "MainBranch": "nan",
         "Employment": "nan",
         "DevType": "nan",
         "ConvertedCompYearly": 28105,
         "_deepnote_index_column": "50%"
        },
        {
         "ResponseId": 60783,
         "Age": "nan",
         "Gender": "nan",
         "Trans": "nan",
         "Sexuality": "nan",
         "Country": "nan",
         "EdLevel": "nan",
         "Age1stCode": "nan",
         "LearnCode": "nan",
         "YearsCode": "nan",
         "YearsCodePro": "nan",
         "MainBranch": "nan",
         "Employment": "nan",
         "DevType": "nan",
         "ConvertedCompYearly": 47184,
         "_deepnote_index_column": "75%"
        }
       ]
      },
      "text/plain": "          ResponseId              Age Gender Trans                Sexuality  \\\ncount    6337.000000             6307   6305  6244                     5885   \nunique           NaN                8     11     4                       21   \ntop              NaN  25-34 years old    Man    No  Straight / Heterosexual   \nfreq             NaN             2695   5870  6075                     5070   \nmean    41783.380306              NaN    NaN   NaN                      NaN   \nstd     22858.458387              NaN    NaN   NaN                      NaN   \nmin        12.000000              NaN    NaN   NaN                      NaN   \n25%     25064.000000              NaN    NaN   NaN                      NaN   \n50%     40617.000000              NaN    NaN   NaN                      NaN   \n75%     60783.000000              NaN    NaN   NaN                      NaN   \nmax     83439.000000              NaN    NaN   NaN                      NaN   \n\n       Country                                       EdLevel     Age1stCode  \\\ncount     6337                                          6322           6330   \nunique      16                                             9              9   \ntop     Brazil  Bachelor’s degree (B.A., B.S., B.Eng., etc.)  11 - 17 years   \nfreq      2254                                          2535           3384   \nmean       NaN                                           NaN            NaN   \nstd        NaN                                           NaN            NaN   \nmin        NaN                                           NaN            NaN   \n25%        NaN                                           NaN            NaN   \n50%        NaN                                           NaN            NaN   \n75%        NaN                                           NaN            NaN   \nmax        NaN                                           NaN            NaN   \n\n       LearnCode YearsCode YearsCodePro                      MainBranch  \\\ncount       6316      6254         5160                            6337   \nunique       306        51           43                               6   \ntop       School        10            3  I am a developer by profession   \nfreq         614       514          481                            4848   \nmean         NaN       NaN          NaN                             NaN   \nstd          NaN       NaN          NaN                             NaN   \nmin          NaN       NaN          NaN                             NaN   \n25%          NaN       NaN          NaN                             NaN   \n50%          NaN       NaN          NaN                             NaN   \n75%          NaN       NaN          NaN                             NaN   \nmax          NaN       NaN          NaN                             NaN   \n\n                Employment                DevType  ConvertedCompYearly  \ncount                 6335                   5554         4.389000e+03  \nunique                   9                   1519                  NaN  \ntop     Employed full-time  Developer, full-stack                  NaN  \nfreq                  4381                    688                  NaN  \nmean                   NaN                    NaN         4.906398e+04  \nstd                    NaN                    NaN         1.371509e+05  \nmin                    NaN                    NaN         1.200000e+01  \n25%                    NaN                    NaN         1.567200e+04  \n50%                    NaN                    NaN         2.810500e+04  \n75%                    NaN                    NaN         4.718400e+04  \nmax                    NaN                    NaN         4.656132e+06  ",
      "text/html": "<div>\n<style scoped>\n    .dataframe tbody tr th:only-of-type {\n        vertical-align: middle;\n    }\n\n    .dataframe tbody tr th {\n        vertical-align: top;\n    }\n\n    .dataframe thead th {\n        text-align: right;\n    }\n</style>\n<table border=\"1\" class=\"dataframe\">\n  <thead>\n    <tr style=\"text-align: right;\">\n      <th></th>\n      <th>ResponseId</th>\n      <th>Age</th>\n      <th>Gender</th>\n      <th>Trans</th>\n      <th>Sexuality</th>\n      <th>Country</th>\n      <th>EdLevel</th>\n      <th>Age1stCode</th>\n      <th>LearnCode</th>\n      <th>YearsCode</th>\n      <th>YearsCodePro</th>\n      <th>MainBranch</th>\n      <th>Employment</th>\n      <th>DevType</th>\n      <th>ConvertedCompYearly</th>\n    </tr>\n  </thead>\n  <tbody>\n    <tr>\n      <th>count</th>\n      <td>6337.000000</td>\n      <td>6307</td>\n      <td>6305</td>\n      <td>6244</td>\n      <td>5885</td>\n      <td>6337</td>\n      <td>6322</td>\n      <td>6330</td>\n      <td>6316</td>\n      <td>6254</td>\n      <td>5160</td>\n      <td>6337</td>\n      <td>6335</td>\n      <td>5554</td>\n      <td>4.389000e+03</td>\n    </tr>\n    <tr>\n      <th>unique</th>\n      <td>NaN</td>\n      <td>8</td>\n      <td>11</td>\n      <td>4</td>\n      <td>21</td>\n      <td>16</td>\n      <td>9</td>\n      <td>9</td>\n      <td>306</td>\n      <td>51</td>\n      <td>43</td>\n      <td>6</td>\n      <td>9</td>\n      <td>1519</td>\n      <td>NaN</td>\n    </tr>\n    <tr>\n      <th>top</th>\n      <td>NaN</td>\n      <td>25-34 years old</td>\n      <td>Man</td>\n      <td>No</td>\n      <td>Straight / Heterosexual</td>\n      <td>Brazil</td>\n      <td>Bachelor’s degree (B.A., B.S., B.Eng., etc.)</td>\n      <td>11 - 17 years</td>\n      <td>School</td>\n      <td>10</td>\n      <td>3</td>\n      <td>I am a developer by profession</td>\n      <td>Employed full-time</td>\n      <td>Developer, full-stack</td>\n      <td>NaN</td>\n    </tr>\n    <tr>\n      <th>freq</th>\n      <td>NaN</td>\n      <td>2695</td>\n      <td>5870</td>\n      <td>6075</td>\n      <td>5070</td>\n      <td>2254</td>\n      <td>2535</td>\n      <td>3384</td>\n      <td>614</td>\n      <td>514</td>\n      <td>481</td>\n      <td>4848</td>\n      <td>4381</td>\n      <td>688</td>\n      <td>NaN</td>\n    </tr>\n    <tr>\n      <th>mean</th>\n      <td>41783.380306</td>\n      <td>NaN</td>\n      <td>NaN</td>\n      <td>NaN</td>\n      <td>NaN</td>\n      <td>NaN</td>\n      <td>NaN</td>\n      <td>NaN</td>\n      <td>NaN</td>\n      <td>NaN</td>\n      <td>NaN</td>\n      <td>NaN</td>\n      <td>NaN</td>\n      <td>NaN</td>\n      <td>4.906398e+04</td>\n    </tr>\n    <tr>\n      <th>std</th>\n      <td>22858.458387</td>\n      <td>NaN</td>\n      <td>NaN</td>\n      <td>NaN</td>\n      <td>NaN</td>\n      <td>NaN</td>\n      <td>NaN</td>\n      <td>NaN</td>\n      <td>NaN</td>\n      <td>NaN</td>\n      <td>NaN</td>\n      <td>NaN</td>\n      <td>NaN</td>\n      <td>NaN</td>\n      <td>1.371509e+05</td>\n    </tr>\n    <tr>\n      <th>min</th>\n      <td>12.000000</td>\n      <td>NaN</td>\n      <td>NaN</td>\n      <td>NaN</td>\n      <td>NaN</td>\n      <td>NaN</td>\n      <td>NaN</td>\n      <td>NaN</td>\n      <td>NaN</td>\n      <td>NaN</td>\n      <td>NaN</td>\n      <td>NaN</td>\n      <td>NaN</td>\n      <td>NaN</td>\n      <td>1.200000e+01</td>\n    </tr>\n    <tr>\n      <th>25%</th>\n      <td>25064.000000</td>\n      <td>NaN</td>\n      <td>NaN</td>\n      <td>NaN</td>\n      <td>NaN</td>\n      <td>NaN</td>\n      <td>NaN</td>\n      <td>NaN</td>\n      <td>NaN</td>\n      <td>NaN</td>\n      <td>NaN</td>\n      <td>NaN</td>\n      <td>NaN</td>\n      <td>NaN</td>\n      <td>1.567200e+04</td>\n    </tr>\n    <tr>\n      <th>50%</th>\n      <td>40617.000000</td>\n      <td>NaN</td>\n      <td>NaN</td>\n      <td>NaN</td>\n      <td>NaN</td>\n      <td>NaN</td>\n      <td>NaN</td>\n      <td>NaN</td>\n      <td>NaN</td>\n      <td>NaN</td>\n      <td>NaN</td>\n      <td>NaN</td>\n      <td>NaN</td>\n      <td>NaN</td>\n      <td>2.810500e+04</td>\n    </tr>\n    <tr>\n      <th>75%</th>\n      <td>60783.000000</td>\n      <td>NaN</td>\n      <td>NaN</td>\n      <td>NaN</td>\n      <td>NaN</td>\n      <td>NaN</td>\n      <td>NaN</td>\n      <td>NaN</td>\n      <td>NaN</td>\n      <td>NaN</td>\n      <td>NaN</td>\n      <td>NaN</td>\n      <td>NaN</td>\n      <td>NaN</td>\n      <td>4.718400e+04</td>\n    </tr>\n    <tr>\n      <th>max</th>\n      <td>83439.000000</td>\n      <td>NaN</td>\n      <td>NaN</td>\n      <td>NaN</td>\n      <td>NaN</td>\n      <td>NaN</td>\n      <td>NaN</td>\n      <td>NaN</td>\n      <td>NaN</td>\n      <td>NaN</td>\n      <td>NaN</td>\n      <td>NaN</td>\n      <td>NaN</td>\n      <td>NaN</td>\n      <td>4.656132e+06</td>\n    </tr>\n  </tbody>\n</table>\n</div>"
     },
     "metadata": {}
    }
   ],
   "execution_count": null
  },
  {
   "cell_type": "markdown",
   "source": "Hay algunas columnas que podrían ser numéricas, pero están como categóricas, ¿por qué?",
   "metadata": {
    "cell_id": "d4c043e7-c1d3-434e-bb82-1afa071bd6de",
    "tags": [],
    "deepnote_to_be_reexecuted": false,
    "source_hash": "98a4e821",
    "execution_start": 1645582744382,
    "execution_millis": 4,
    "deepnote_cell_type": "markdown"
   }
  },
  {
   "cell_type": "code",
   "metadata": {
    "cell_id": "c585b081-f82d-4fe1-8c36-cbedfeb47f11",
    "tags": [],
    "deepnote_to_be_reexecuted": false,
    "source_hash": "781be1ef",
    "execution_start": 1645722601527,
    "execution_millis": 106,
    "deepnote_cell_type": "code"
   },
   "source": "df.YearsCode.value_counts().sort_values().head()",
   "outputs": [
    {
     "output_type": "execute_result",
     "execution_count": 9,
     "data": {
      "text/plain": "47                    1\n50                    1\n48                    1\nMore than 50 years    1\n41                    2\nName: YearsCode, dtype: int64"
     },
     "metadata": {}
    }
   ],
   "execution_count": null
  },
  {
   "cell_type": "code",
   "metadata": {
    "cell_id": "94420460-adb6-4126-aeb3-bbbb5541e286",
    "tags": [],
    "deepnote_to_be_reexecuted": false,
    "source_hash": "f55248f5",
    "execution_start": 1645722601529,
    "execution_millis": 104,
    "deepnote_cell_type": "code"
   },
   "source": "df.YearsCodePro.value_counts().sort_values().head()",
   "outputs": [
    {
     "output_type": "execute_result",
     "execution_count": 10,
     "data": {
      "text/plain": "43                    1\nMore than 50 years    1\n38                    1\n42                    2\n34                    5\nName: YearsCodePro, dtype: int64"
     },
     "metadata": {}
    }
   ],
   "execution_count": null
  },
  {
   "cell_type": "markdown",
   "source": "Como solo hay 1 valor de \"más de 50 años\" para cada columna, se lo reemplazará con `50`. Y los valores de \"menos de 1 año\" con `0.5`. De esa manera se podrá tener columnas numéricas.",
   "metadata": {
    "cell_id": "5e8229fa-bbe2-4c8d-8288-e84b87947c54",
    "tags": [],
    "deepnote_cell_type": "markdown"
   }
  },
  {
   "cell_type": "code",
   "metadata": {
    "cell_id": "c20c7104-ea5d-4508-af49-8cfecead88bb",
    "tags": [],
    "deepnote_to_be_reexecuted": false,
    "source_hash": "a99a61c7",
    "execution_start": 1645722601534,
    "execution_millis": 1,
    "deepnote_cell_type": "code"
   },
   "source": "df['YearsCode'] = pd.to_numeric(df.YearsCode.replace(['More than 50 years', 'Less than 1 year'], [50, 0.5]))\ndf['YearsCodePro'] = pd.to_numeric(df.YearsCodePro.replace(['More than 50 years', 'Less than 1 year'], [50, 0.5]))",
   "outputs": [],
   "execution_count": null
  },
  {
   "cell_type": "markdown",
   "source": "#### Por ahora comentaré todo lo de salario",
   "metadata": {
    "cell_id": "211820cf-1a78-4f82-ba61-f6d32df6726e",
    "tags": [],
    "deepnote_cell_type": "markdown"
   }
  },
  {
   "cell_type": "markdown",
   "source": "Otro estadístico que podría sesgar los datos es el salario, tiene una desviación estándar muy grande (137150). Revisemos los valores:",
   "metadata": {
    "cell_id": "a0eb62f5-ee85-4087-9061-326ce7c84879",
    "tags": [],
    "deepnote_cell_type": "markdown"
   }
  },
  {
   "cell_type": "code",
   "metadata": {
    "cell_id": "06eaa51a-7cb1-4523-8d9a-1ddbb1cc53b6",
    "tags": [],
    "deepnote_to_be_reexecuted": false,
    "source_hash": "d0172d7d",
    "execution_start": 1645722601535,
    "execution_millis": 1,
    "deepnote_cell_type": "code"
   },
   "source": "# sns.boxplot(x='ConvertedCompYearly', data=df)\n# plt.show()",
   "outputs": [],
   "execution_count": null
  },
  {
   "cell_type": "markdown",
   "source": "El dataset tiene varios outliers en el sueldo. No son útiles para fines de esta investigación, así que se eliminará los valores superiores al 97.5% percentil.",
   "metadata": {
    "cell_id": "bc3f57c8-6acb-4ff1-895c-536e6e818ce3",
    "tags": [],
    "deepnote_cell_type": "markdown"
   }
  },
  {
   "cell_type": "code",
   "metadata": {
    "cell_id": "215a3dcf-88fe-466a-9851-86de04f604ad",
    "tags": [],
    "deepnote_to_be_reexecuted": false,
    "source_hash": "2f70e556",
    "execution_start": 1645722601556,
    "execution_millis": 1,
    "deepnote_cell_type": "code"
   },
   "source": "# df.ConvertedCompYearly.dropna().describe(percentiles=[0.975])",
   "outputs": [],
   "execution_count": null
  },
  {
   "cell_type": "code",
   "metadata": {
    "cell_id": "11e38e80-9abe-4b78-b498-f985cbbe42cb",
    "tags": [],
    "deepnote_to_be_reexecuted": false,
    "source_hash": "2416efb",
    "execution_start": 1645722601558,
    "execution_millis": 1,
    "deepnote_cell_type": "code"
   },
   "source": "# df.drop(df[df.ConvertedCompYearly > 200000].index, inplace=True)\n# sns.boxplot(x='ConvertedCompYearly', data=df)\n# plt.show()",
   "outputs": [],
   "execution_count": null
  },
  {
   "cell_type": "markdown",
   "source": "### Reducir categorías\n\nHay varias preguntas que tienen múltiples opciones, pero son bajas porcentualmente. Se las reducirá a menos categorías para simplificar el análisis.",
   "metadata": {
    "cell_id": "90d67c94-bd47-4b31-9cd3-9a8947bd85fd",
    "tags": [],
    "deepnote_cell_type": "markdown"
   }
  },
  {
   "cell_type": "markdown",
   "source": "#### Género",
   "metadata": {
    "cell_id": "27a2fd08-434a-4f26-825d-622da5cabb0c",
    "tags": [],
    "deepnote_cell_type": "markdown"
   }
  },
  {
   "cell_type": "code",
   "metadata": {
    "cell_id": "ed40c769-dae5-4d3b-9be6-2de75b91f695",
    "tags": [],
    "deepnote_to_be_reexecuted": false,
    "source_hash": "7b71ac80",
    "execution_start": 1645722601560,
    "execution_millis": 78,
    "deepnote_cell_type": "code"
   },
   "source": "df.Gender.value_counts(normalize=True)",
   "outputs": [
    {
     "output_type": "execute_result",
     "execution_count": 15,
     "data": {
      "text/plain": "Man                                                                         0.931007\nWoman                                                                       0.039492\nPrefer not to say                                                           0.009516\nNon-binary, genderqueer, or gender non-conforming                           0.007454\nMan;Or, in your own words:                                                  0.004124\nOr, in your own words:                                                      0.003331\nMan;Non-binary, genderqueer, or gender non-conforming                       0.002855\nWoman;Non-binary, genderqueer, or gender non-conforming                     0.001427\nNon-binary, genderqueer, or gender non-conforming;Or, in your own words:    0.000317\nMan;Woman;Non-binary, genderqueer, or gender non-conforming                 0.000317\nMan;Woman                                                                   0.000159\nName: Gender, dtype: float64"
     },
     "metadata": {}
    }
   ],
   "execution_count": null
  },
  {
   "cell_type": "code",
   "metadata": {
    "cell_id": "c19e60b4-2440-49a5-8e79-d0a0bd18b153",
    "tags": [],
    "deepnote_to_be_reexecuted": false,
    "source_hash": "b840ec0e",
    "execution_start": 1645722601562,
    "execution_millis": 77,
    "deepnote_cell_type": "code"
   },
   "source": "df.Gender.where(df.Gender.isin(['Man', 'Woman']), 'Other', inplace=True)\ndf.Gender.value_counts(normalize=True)",
   "outputs": [
    {
     "output_type": "execute_result",
     "execution_count": 16,
     "data": {
      "text/plain": "Man      0.926306\nWoman    0.039293\nOther    0.034401\nName: Gender, dtype: float64"
     },
     "metadata": {}
    }
   ],
   "execution_count": null
  },
  {
   "cell_type": "markdown",
   "source": "#### Edad",
   "metadata": {
    "cell_id": "c6d5bf25-b727-4ce3-af60-72d0eb2b43f8",
    "tags": [],
    "deepnote_cell_type": "markdown"
   }
  },
  {
   "cell_type": "code",
   "metadata": {
    "cell_id": "3761515e-ee8e-4d90-a0a4-eff97e962a3a",
    "tags": [],
    "deepnote_to_be_reexecuted": false,
    "source_hash": "98aff8ca",
    "execution_start": 1645722601564,
    "execution_millis": 76,
    "deepnote_cell_type": "code"
   },
   "source": "df.Age.value_counts(normalize=True)",
   "outputs": [
    {
     "output_type": "execute_result",
     "execution_count": 17,
     "data": {
      "text/plain": "25-34 years old       0.427303\n18-24 years old       0.241319\n35-44 years old       0.212938\n45-54 years old       0.070398\nUnder 18 years old    0.030442\n55-64 years old       0.013794\nPrefer not to say     0.002537\n65 years or older     0.001268\nName: Age, dtype: float64"
     },
     "metadata": {}
    }
   ],
   "execution_count": null
  },
  {
   "cell_type": "code",
   "metadata": {
    "cell_id": "90564676-8467-4804-9daf-8e463fb6c903",
    "tags": [],
    "deepnote_to_be_reexecuted": false,
    "source_hash": "ba1ee9f9",
    "execution_start": 1645722601617,
    "execution_millis": 48,
    "deepnote_cell_type": "code"
   },
   "source": "df.Age.where(~(df.Age.isin(['45-54 years old', '55-64 years old', '65 years or older'])), '> 45 years old', inplace=True)\ndf.drop(df.Age[df.Age == 'Prefer not to say'].index, inplace=True)\ndf.Age.value_counts(normalize=True)",
   "outputs": [
    {
     "output_type": "execute_result",
     "execution_count": 18,
     "data": {
      "text/plain": "25-34 years old       0.428390\n18-24 years old       0.241933\n35-44 years old       0.213480\n> 45 years old        0.085678\nUnder 18 years old    0.030520\nName: Age, dtype: float64"
     },
     "metadata": {}
    }
   ],
   "execution_count": null
  },
  {
   "cell_type": "markdown",
   "source": "#### Sexuality",
   "metadata": {
    "cell_id": "e2eb8e87-9cf4-4d17-ba00-2c83473284f0",
    "tags": [],
    "deepnote_cell_type": "markdown"
   }
  },
  {
   "cell_type": "code",
   "metadata": {
    "cell_id": "bd3f318d-292b-4d97-8fb9-4de911af2f2c",
    "tags": [],
    "deepnote_to_be_reexecuted": false,
    "source_hash": "c715ee4a",
    "execution_start": 1645722601619,
    "execution_millis": 46,
    "deepnote_cell_type": "code"
   },
   "source": "df.Sexuality.value_counts(normalize=True)",
   "outputs": [
    {
     "output_type": "execute_result",
     "execution_count": 19,
     "data": {
      "text/plain": "Straight / Heterosexual                                   0.862862\nBisexual                                                  0.048211\nPrefer not to say                                         0.028450\nGay or Lesbian                                            0.026576\nPrefer to self-describe:                                  0.013118\nStraight / Heterosexual;Bisexual                          0.007155\nQueer                                                     0.003578\nStraight / Heterosexual;Prefer to self-describe:          0.002726\nBisexual;Queer                                            0.002215\nBisexual;Gay or Lesbian                                   0.001022\nGay or Lesbian;Queer                                      0.000681\nBisexual;Prefer to self-describe:                         0.000681\nStraight / Heterosexual;Queer                             0.000511\nBisexual;Gay or Lesbian;Queer                             0.000511\nStraight / Heterosexual;Bisexual;Gay or Lesbian           0.000341\nPrefer to self-describe:;Queer                            0.000341\nBisexual;Prefer to self-describe:;Gay or Lesbian;Queer    0.000341\nStraight / Heterosexual;Bisexual;Queer                    0.000170\nPrefer to self-describe:;Gay or Lesbian;Queer             0.000170\nBisexual;Prefer to self-describe:;Queer                   0.000170\nStraight / Heterosexual;Bisexual;Gay or Lesbian;Queer     0.000170\nName: Sexuality, dtype: float64"
     },
     "metadata": {}
    }
   ],
   "execution_count": null
  },
  {
   "cell_type": "code",
   "metadata": {
    "cell_id": "8fdc9d72-cb95-4645-8ea9-92277295a10e",
    "tags": [],
    "deepnote_to_be_reexecuted": false,
    "source_hash": "600337db",
    "execution_start": 1645722601621,
    "execution_millis": 45,
    "deepnote_cell_type": "code"
   },
   "source": "df.Sexuality.where(df.Sexuality.isin(['Straight / Heterosexual']), 'LGBT / Non-hetero', inplace=True)\ndf.Sexuality.value_counts(normalize=True)",
   "outputs": [
    {
     "output_type": "execute_result",
     "execution_count": 20,
     "data": {
      "text/plain": "Straight / Heterosexual    0.801297\nLGBT / Non-hetero          0.198703\nName: Sexuality, dtype: float64"
     },
     "metadata": {}
    }
   ],
   "execution_count": null
  },
  {
   "cell_type": "markdown",
   "source": "#### Edad de la primera línea de código",
   "metadata": {
    "cell_id": "9bbccf67-0078-4379-8dc9-172f1b71ad44",
    "tags": [],
    "deepnote_cell_type": "markdown"
   }
  },
  {
   "cell_type": "code",
   "metadata": {
    "cell_id": "bae3dae7-8c14-4e8e-9ea3-901897438eda",
    "tags": [],
    "deepnote_to_be_reexecuted": false,
    "source_hash": "b36ad41f",
    "execution_start": 1645722601624,
    "execution_millis": 42,
    "deepnote_cell_type": "code"
   },
   "source": "df.Age1stCode.value_counts(normalize=True)",
   "outputs": [
    {
     "output_type": "execute_result",
     "execution_count": 21,
     "data": {
      "text/plain": "11 - 17 years           0.534685\n18 - 24 years           0.278904\n5 - 10 years            0.095819\n25 - 34 years           0.050048\n35 - 44 years           0.020114\n45 - 54 years           0.008869\nYounger than 5 years    0.007761\n55 - 64 years           0.003484\nOlder than 64 years     0.000317\nName: Age1stCode, dtype: float64"
     },
     "metadata": {}
    }
   ],
   "execution_count": null
  },
  {
   "cell_type": "code",
   "metadata": {
    "cell_id": "4774c7b9-0c25-4aaf-af9a-9cf95faff861",
    "tags": [],
    "deepnote_to_be_reexecuted": false,
    "source_hash": "f53544ac",
    "execution_start": 1645722601625,
    "execution_millis": 43,
    "deepnote_cell_type": "code"
   },
   "source": "df.Age1stCode.where(~(df.Age1stCode.isin(['45 - 54 years', '55 - 64 years', 'Older than 64 years'])), '> 45 years', inplace=True)\ndf.Age1stCode.where(~(df.Age1stCode.isin(['5 - 10 years', 'Younger than 5 years'])), '< 10 years', inplace=True)\ndf.Age1stCode.where(~(df.Age1stCode.isin(['25 - 34 years', '35 - 44 years'])), '25 - 44 years', inplace=True)\ndf.Age1stCode.value_counts(normalize=True)",
   "outputs": [
    {
     "output_type": "execute_result",
     "execution_count": 22,
     "data": {
      "text/plain": "11 - 17 years    0.534685\n18 - 24 years    0.278904\n< 10 years       0.103579\n25 - 44 years    0.070162\n> 45 years       0.012670\nName: Age1stCode, dtype: float64"
     },
     "metadata": {}
    }
   ],
   "execution_count": null
  },
  {
   "cell_type": "markdown",
   "source": "#### Empleo",
   "metadata": {
    "cell_id": "c6a4d989-f82b-464c-8909-8a20207de040",
    "tags": [],
    "deepnote_cell_type": "markdown"
   }
  },
  {
   "cell_type": "code",
   "metadata": {
    "cell_id": "c482204e-088b-40dc-9074-0277cc82b4e4",
    "tags": [],
    "deepnote_to_be_reexecuted": false,
    "source_hash": "c1ebf45b",
    "execution_start": 1645722601653,
    "execution_millis": 49,
    "deepnote_cell_type": "code"
   },
   "source": "df.Employment.value_counts(normalize=True)",
   "outputs": [
    {
     "output_type": "execute_result",
     "execution_count": 23,
     "data": {
      "text/plain": "Employed full-time                                      0.693148\nIndependent contractor, freelancer, or self-employed    0.121855\nStudent, full-time                                      0.081025\nEmployed part-time                                      0.034657\nNot employed, but looking for work                      0.033075\nStudent, part-time                                      0.022788\nNot employed, and not looking for work                  0.007913\nI prefer not to say                                     0.004115\nRetired                                                 0.001424\nName: Employment, dtype: float64"
     },
     "metadata": {}
    }
   ],
   "execution_count": null
  },
  {
   "cell_type": "code",
   "metadata": {
    "cell_id": "ac75eadf-a363-4c81-a129-19afeeb44b36",
    "tags": [],
    "deepnote_to_be_reexecuted": false,
    "source_hash": "96df75a1",
    "execution_start": 1645722601655,
    "execution_millis": 48,
    "deepnote_cell_type": "code"
   },
   "source": "df.Employment.where(~(df.Employment.isin(['Employed full-time', 'Employed part-time'])), 'Employed', inplace=True)\ndf.Employment.where(~(df.Employment.isin(['Student, full-time', 'Student, part-time'])), 'Student', inplace=True)\ndf.Employment.where(~(df.Employment.isin(['Not employed, but looking for work', 'Not employed, and not looking for work', 'Retired'])), \\\n                    'Not employed', inplace=True)\ndf.drop(df.Employment[df.Employment == 'I prefer not to say'].index, inplace=True)  \ndf.Employment.value_counts(normalize=True)",
   "outputs": [
    {
     "output_type": "execute_result",
     "execution_count": 24,
     "data": {
      "text/plain": "Employed                                                0.730812\nIndependent contractor, freelancer, or self-employed    0.122358\nStudent                                                 0.104243\nNot employed                                            0.042587\nName: Employment, dtype: float64"
     },
     "metadata": {}
    }
   ],
   "execution_count": null
  },
  {
   "cell_type": "markdown",
   "source": "### Múltiples respuestas\n\n`DevType` y ` LearnCode` las tienen, quizá no se pueda limpiar directamente, pero más adelante se puede aplicar esta función para crear DataFrames nuevos y analizarlas por separado:\n\n```\ndef split_multicolumn(col_series):\n    result_df = col_series.to_frame()\n    options = []\n    # Iterate over the column\n    for idx, value  in col_series[col_series.notnull()].iteritems():\n        # Break each value into list of options\n        for option in value.split(';'):\n            # Add the option as a column to result\n            if not option in result_df.columns:\n                options.append(option)\n                result_df[option] = False\n            # Mark the value in the option column as True\n            result_df.at[idx, option] = True\n    return result_df[options]\n```",
   "metadata": {
    "cell_id": "282dc2ee-8e54-47aa-9f7d-f10ad18c3e6b",
    "tags": [],
    "deepnote_cell_type": "markdown"
   }
  },
  {
   "cell_type": "markdown",
   "source": "#### Tipo de desarrollador",
   "metadata": {
    "cell_id": "b017c84c-a542-40f2-b9a3-99418a35dc1b",
    "tags": [],
    "deepnote_cell_type": "markdown"
   }
  },
  {
   "cell_type": "code",
   "metadata": {
    "cell_id": "7e2f638f-d195-4a18-b116-85cf1646c4ab",
    "tags": [],
    "deepnote_to_be_reexecuted": false,
    "source_hash": "3825d352",
    "execution_start": 1645722601656,
    "execution_millis": 47,
    "deepnote_cell_type": "code"
   },
   "source": "df.DevType.value_counts(normalize=True)",
   "outputs": [
    {
     "output_type": "execute_result",
     "execution_count": 25,
     "data": {
      "text/plain": "Developer, full-stack                                                                                                                                                                                                                                                                   0.123986\nDeveloper, back-end                                                                                                                                                                                                                                                                     0.085781\nDeveloper, front-end;Developer, full-stack;Developer, back-end                                                                                                                                                                                                                          0.032799\nDeveloper, front-end                                                                                                                                                                                                                                                                    0.032799\nDeveloper, full-stack;Developer, back-end                                                                                                                                                                                                                                               0.028654\n                                                                                                                                                                                                                                                                                          ...   \nDeveloper, front-end;Developer, full-stack;Data scientist or machine learning specialist;Developer, back-end                                                                                                                                                                            0.000180\nDeveloper, mobile;Developer, front-end;Developer, full-stack;Engineer, data;Data scientist or machine learning specialist;Developer, back-end;Database administrator;Developer, game or graphics;Data or business analyst;Designer;Engineering manager;System administrator;Educator    0.000180\nDeveloper, front-end;Developer, full-stack;Engineer, data;Developer, back-end;Database administrator;DevOps specialist                                                                                                                                                                  0.000180\nDeveloper, full-stack;Data scientist or machine learning specialist;Product manager                                                                                                                                                                                                     0.000180\nDeveloper, mobile;Developer, full-stack;Database administrator;Product manager                                                                                                                                                                                                          0.000180\nName: DevType, Length: 1516, dtype: float64"
     },
     "metadata": {}
    }
   ],
   "execution_count": null
  },
  {
   "cell_type": "markdown",
   "source": "#### Dónde aprendió a programar\n\nSe cambia las categorías por 3: `Tradicional`, `No tradicional`, `Ambos`",
   "metadata": {
    "cell_id": "55fefee8-688a-4fe0-9d21-81840b0e25e9",
    "tags": [],
    "deepnote_cell_type": "markdown"
   }
  },
  {
   "cell_type": "code",
   "metadata": {
    "cell_id": "84f377f0-c8c0-4d96-a4dc-d9ce8382f846",
    "tags": [],
    "deepnote_to_be_reexecuted": false,
    "source_hash": "7650561b",
    "execution_start": 1645722601658,
    "execution_millis": 45,
    "deepnote_cell_type": "code"
   },
   "source": "df.LearnCode.value_counts(normalize=True)",
   "outputs": [
    {
     "output_type": "execute_result",
     "execution_count": 26,
     "data": {
      "text/plain": "School                                                                                                                                                          0.097355\nOther online resources (ex: videos, blogs, etc)                                                                                                                 0.040153\nBooks / Physical media                                                                                                                                          0.035851\nSchool;Books / Physical media                                                                                                                                   0.031549\nOther online resources (ex: videos, blogs, etc);School;Online Courses or Certification;Books / Physical media                                                   0.027884\n                                                                                                                                                                  ...   \nOther online resources (ex: videos, blogs, etc);School;Friend or family member;Other (please specify):                                                          0.000159\nCoding Bootcamp;Friend or family member;Online Courses or Certification;Colleague;Books / Physical media                                                        0.000159\nOther online resources (ex: videos, blogs, etc);Online Forum;Other (please specify):;Colleague;Books / Physical media                                           0.000159\nOther online resources (ex: videos, blogs, etc);School;Online Forum;Online Courses or Certification;Other (please specify):;Colleague;Books / Physical media    0.000159\nCoding Bootcamp;School;Online Forum;Online Courses or Certification;Colleague;Books / Physical media                                                            0.000159\nName: LearnCode, Length: 305, dtype: float64"
     },
     "metadata": {}
    }
   ],
   "execution_count": null
  },
  {
   "cell_type": "code",
   "metadata": {
    "cell_id": "80c388e5-cd78-4a4f-b070-f20b95c005df",
    "tags": [],
    "deepnote_to_be_reexecuted": false,
    "source_hash": "8afe11ce",
    "execution_start": 1645722601659,
    "execution_millis": 1,
    "deepnote_cell_type": "code"
   },
   "source": "typeEdu = []\nfor i in list(df.LearnCode.values):\n    if pd.isnull(i):\n        typeEdu.append(np.nan)\n    elif i == ('School'):\n        typeEdu.append('Traditional')\n    elif str(i).find('School') == -1:\n        typeEdu.append('Non-traditional')\n    else:\n        typeEdu.append('Both')\n\ndf['LearnCode'] = typeEdu",
   "outputs": [],
   "execution_count": null
  },
  {
   "cell_type": "markdown",
   "source": "### Agregar data\n\nColumna para conocer cuántos años tomó desde que se aprendió a programar hasta que se lo hizo profesionalmente.",
   "metadata": {
    "cell_id": "ce8e0f15-eebb-44d3-8006-5a226cad2d2a",
    "tags": [],
    "deepnote_cell_type": "markdown"
   }
  },
  {
   "cell_type": "code",
   "metadata": {
    "cell_id": "b2b748ef-0b57-4e5a-ac25-67bbd4424854",
    "tags": [],
    "deepnote_to_be_reexecuted": false,
    "source_hash": "81648d82",
    "execution_start": 1645722601661,
    "execution_millis": 24,
    "deepnote_cell_type": "code"
   },
   "source": "df['YearsLearnPro'] = abs(df.YearsCode - df.YearsCodePro)",
   "outputs": [],
   "execution_count": null
  },
  {
   "cell_type": "code",
   "source": "df.EdLevel.value_counts()",
   "metadata": {
    "cell_id": "7104969c-38b3-4018-b764-19b7e029e4f9",
    "tags": [],
    "deepnote_to_be_reexecuted": false,
    "source_hash": "16e615e9",
    "execution_start": 1645722601689,
    "execution_millis": 18,
    "deepnote_cell_type": "code"
   },
   "outputs": [
    {
     "output_type": "execute_result",
     "execution_count": 29,
     "data": {
      "text/plain": "Bachelor’s degree (B.A., B.S., B.Eng., etc.)                                          2529\nSome college/university study without earning a degree                                1303\nMaster’s degree (M.A., M.S., M.Eng., MBA, etc.)                                        910\nSecondary school (e.g. American high school, German Realschule or Gymnasium, etc.)     529\nProfessional degree (JD, MD, etc.)                                                     430\nAssociate degree (A.A., A.S., etc.)                                                    264\nOther doctoral degree (Ph.D., Ed.D., etc.)                                             148\nPrimary/elementary school                                                               92\nSomething else                                                                          79\nName: EdLevel, dtype: int64"
     },
     "metadata": {}
    }
   ],
   "execution_count": null
  },
  {
   "cell_type": "markdown",
   "source": "Conocer si tiene o no un título universitario.",
   "metadata": {
    "cell_id": "87ab5a36-c5a4-43f6-a8f0-ef2fa8ac34da",
    "tags": [],
    "deepnote_to_be_reexecuted": false,
    "source_hash": "dd1b531b",
    "execution_start": 1645721960540,
    "execution_millis": 13,
    "deepnote_cell_type": "markdown"
   },
   "outputs": [],
   "execution_count": 35
  },
  {
   "cell_type": "code",
   "source": "not_degree = ['Some college/university study without earning a degree', 'Primary/elementary school',\n              'Secondary school (e.g. American high school, German Realschule or Gymnasium, etc.)', 'Something else']\n\ndf['Degree'] = df.EdLevel.where(df.EdLevel.isin(not_degree), 'Yes')\ndf['Degree'] = df.Degree.where(df.Degree == 'Yes', 'No')",
   "metadata": {
    "cell_id": "9afa0b7e-148f-4235-9d2b-225c7318cbb4",
    "tags": [],
    "deepnote_to_be_reexecuted": false,
    "source_hash": "481457fa",
    "execution_start": 1645722601691,
    "execution_millis": 0,
    "deepnote_cell_type": "code"
   },
   "outputs": [],
   "execution_count": null
  },
  {
   "cell_type": "code",
   "source": "df.Degree.value_counts(normalize=True)",
   "metadata": {
    "cell_id": "fd940d8a-da3b-431c-a39f-393fc1817b2f",
    "tags": [],
    "deepnote_to_be_reexecuted": false,
    "source_hash": "ad988381",
    "execution_start": 1645722601692,
    "execution_millis": 15,
    "deepnote_cell_type": "code"
   },
   "outputs": [
    {
     "output_type": "execute_result",
     "execution_count": 31,
     "data": {
      "text/plain": "Yes    0.681811\nNo     0.318189\nName: Degree, dtype: float64"
     },
     "metadata": {}
    }
   ],
   "execution_count": null
  },
  {
   "cell_type": "code",
   "metadata": {
    "cell_id": "ad0a3d30-ae68-4a63-a8f5-4e9b79911a61",
    "tags": [],
    "deepnote_to_be_reexecuted": false,
    "source_hash": "de1e323c",
    "execution_start": 1645722601693,
    "execution_millis": 14,
    "deepnote_cell_type": "code"
   },
   "source": "df.info()",
   "outputs": [
    {
     "name": "stdout",
     "text": "<class 'pandas.core.frame.DataFrame'>\nInt64Index: 6295 entries, 11 to 83438\nData columns (total 17 columns):\n #   Column               Non-Null Count  Dtype  \n---  ------               --------------  -----  \n 0   ResponseId           6295 non-null   int64  \n 1   Age                  6269 non-null   object \n 2   Gender               6295 non-null   object \n 3   Trans                6207 non-null   object \n 4   Sexuality            6295 non-null   object \n 5   Country              6295 non-null   object \n 6   EdLevel              6284 non-null   object \n 7   Age1stCode           6290 non-null   object \n 8   LearnCode            6276 non-null   object \n 9   YearsCode            6220 non-null   float64\n 10  YearsCodePro         5155 non-null   float64\n 11  MainBranch           6295 non-null   object \n 12  Employment           6293 non-null   object \n 13  DevType              5549 non-null   object \n 14  ConvertedCompYearly  4388 non-null   float64\n 15  YearsLearnPro        5147 non-null   float64\n 16  Degree               6295 non-null   object \ndtypes: float64(4), int64(1), object(12)\nmemory usage: 885.2+ KB\n",
     "output_type": "stream"
    }
   ],
   "execution_count": null
  },
  {
   "cell_type": "code",
   "metadata": {
    "cell_id": "45a49123-50ef-4ef1-b637-10c7ca57db1a",
    "tags": [],
    "deepnote_to_be_reexecuted": false,
    "source_hash": "f804c160",
    "execution_start": 1645722601694,
    "execution_millis": 79,
    "deepnote_cell_type": "code"
   },
   "source": "df",
   "outputs": [
    {
     "output_type": "execute_result",
     "execution_count": 33,
     "data": {
      "application/vnd.deepnote.dataframe.v3+json": {
       "column_count": 17,
       "row_count": 6295,
       "columns": [
        {
         "name": "ResponseId",
         "dtype": "int64",
         "stats": {
          "unique_count": 6295,
          "nan_count": 0,
          "min": "12",
          "max": "83439",
          "histogram": [
           {
            "bin_start": 12,
            "bin_end": 8354.7,
            "count": 530
           },
           {
            "bin_start": 8354.7,
            "bin_end": 16697.4,
            "count": 418
           },
           {
            "bin_start": 16697.4,
            "bin_end": 25040.100000000002,
            "count": 617
           },
           {
            "bin_start": 25040.100000000002,
            "bin_end": 33382.8,
            "count": 1017
           },
           {
            "bin_start": 33382.8,
            "bin_end": 41725.5,
            "count": 645
           },
           {
            "bin_start": 41725.5,
            "bin_end": 50068.200000000004,
            "count": 601
           },
           {
            "bin_start": 50068.200000000004,
            "bin_end": 58410.90000000001,
            "count": 666
           },
           {
            "bin_start": 58410.90000000001,
            "bin_end": 66753.6,
            "count": 645
           },
           {
            "bin_start": 66753.6,
            "bin_end": 75096.3,
            "count": 606
           },
           {
            "bin_start": 75096.3,
            "bin_end": 83439,
            "count": 550
           }
          ]
         }
        },
        {
         "name": "Age",
         "dtype": "object",
         "stats": {
          "unique_count": 5,
          "nan_count": 26,
          "categories": [
           {
            "name": "25-34 years old",
            "count": 2691
           },
           {
            "name": "4 others",
            "count": 3578
           },
           {
            "name": "Missing",
            "count": 26
           }
          ]
         }
        },
        {
         "name": "Gender",
         "dtype": "object",
         "stats": {
          "unique_count": 3,
          "nan_count": 0,
          "categories": [
           {
            "name": "Man",
            "count": 5838
           },
           {
            "name": "Woman",
            "count": 249
           },
           {
            "name": "Other",
            "count": 208
           }
          ]
         }
        },
        {
         "name": "Trans",
         "dtype": "object",
         "stats": {
          "unique_count": 4,
          "nan_count": 88,
          "categories": [
           {
            "name": "No",
            "count": 6047
           },
           {
            "name": "3 others",
            "count": 160
           },
           {
            "name": "Missing",
            "count": 88
           }
          ]
         }
        },
        {
         "name": "Sexuality",
         "dtype": "object",
         "stats": {
          "unique_count": 2,
          "nan_count": 0,
          "categories": [
           {
            "name": "Straight / Heterosexual",
            "count": 5052
           },
           {
            "name": "LGBT / Non-hetero",
            "count": 1243
           }
          ]
         }
        },
        {
         "name": "Country",
         "dtype": "object",
         "stats": {
          "unique_count": 16,
          "nan_count": 0,
          "categories": [
           {
            "name": "Brazil",
            "count": 2240
           },
           {
            "name": "Spain",
            "count": 1480
           },
           {
            "name": "14 others",
            "count": 2575
           }
          ]
         }
        },
        {
         "name": "EdLevel",
         "dtype": "object",
         "stats": {
          "unique_count": 9,
          "nan_count": 11,
          "categories": [
           {
            "name": "Bachelor’s degree (B.A., B.S., B.Eng., etc.)",
            "count": 2529
           },
           {
            "name": "8 others",
            "count": 3755
           },
           {
            "name": "Missing",
            "count": 11
           }
          ]
         }
        },
        {
         "name": "Age1stCode",
         "dtype": "object",
         "stats": {
          "unique_count": 5,
          "nan_count": 5,
          "categories": [
           {
            "name": "11 - 17 years",
            "count": 3366
           },
           {
            "name": "4 others",
            "count": 2924
           },
           {
            "name": "Missing",
            "count": 5
           }
          ]
         }
        },
        {
         "name": "LearnCode",
         "dtype": "object",
         "stats": {
          "unique_count": 3,
          "nan_count": 19,
          "categories": [
           {
            "name": "Non-traditional",
            "count": 3224
           },
           {
            "name": "2 others",
            "count": 3052
           },
           {
            "name": "Missing",
            "count": 19
           }
          ]
         }
        },
        {
         "name": "YearsCode",
         "dtype": "float64",
         "stats": {
          "unique_count": 50,
          "nan_count": 75,
          "min": "0.5",
          "max": "50.0",
          "histogram": [
           {
            "bin_start": 0.5,
            "bin_end": 5.45,
            "count": 1517
           },
           {
            "bin_start": 5.45,
            "bin_end": 10.4,
            "count": 1895
           },
           {
            "bin_start": 10.4,
            "bin_end": 15.350000000000001,
            "count": 1178
           },
           {
            "bin_start": 15.350000000000001,
            "bin_end": 20.3,
            "count": 691
           },
           {
            "bin_start": 20.3,
            "bin_end": 25.25,
            "count": 416
           },
           {
            "bin_start": 25.25,
            "bin_end": 30.200000000000003,
            "count": 252
           },
           {
            "bin_start": 30.200000000000003,
            "bin_end": 35.15,
            "count": 143
           },
           {
            "bin_start": 35.15,
            "bin_end": 40.1,
            "count": 107
           },
           {
            "bin_start": 40.1,
            "bin_end": 45.050000000000004,
            "count": 15
           },
           {
            "bin_start": 45.050000000000004,
            "bin_end": 50,
            "count": 6
           }
          ]
         }
        },
        {
         "name": "YearsCodePro",
         "dtype": "float64",
         "stats": {
          "unique_count": 43,
          "nan_count": 1140,
          "min": "0.5",
          "max": "50.0",
          "histogram": [
           {
            "bin_start": 0.5,
            "bin_end": 5.45,
            "count": 2273
           },
           {
            "bin_start": 5.45,
            "bin_end": 10.4,
            "count": 1306
           },
           {
            "bin_start": 10.4,
            "bin_end": 15.350000000000001,
            "count": 717
           },
           {
            "bin_start": 15.350000000000001,
            "bin_end": 20.3,
            "count": 439
           },
           {
            "bin_start": 20.3,
            "bin_end": 25.25,
            "count": 242
           },
           {
            "bin_start": 25.25,
            "bin_end": 30.200000000000003,
            "count": 104
           },
           {
            "bin_start": 30.200000000000003,
            "bin_end": 35.15,
            "count": 46
           },
           {
            "bin_start": 35.15,
            "bin_end": 40.1,
            "count": 24
           },
           {
            "bin_start": 40.1,
            "bin_end": 45.050000000000004,
            "count": 3
           },
           {
            "bin_start": 45.050000000000004,
            "bin_end": 50,
            "count": 1
           }
          ]
         }
        },
        {
         "name": "MainBranch",
         "dtype": "object",
         "stats": {
          "unique_count": 6,
          "nan_count": 0,
          "categories": [
           {
            "name": "I am a developer by profession",
            "count": 4842
           },
           {
            "name": "I am a student who is learning to code",
            "count": 593
           },
           {
            "name": "4 others",
            "count": 860
           }
          ]
         }
        },
        {
         "name": "Employment",
         "dtype": "object",
         "stats": {
          "unique_count": 4,
          "nan_count": 2,
          "categories": [
           {
            "name": "Employed",
            "count": 4599
           },
           {
            "name": "3 others",
            "count": 1694
           },
           {
            "name": "Missing",
            "count": 2
           }
          ]
         }
        },
        {
         "name": "DevType",
         "dtype": "object",
         "stats": {
          "unique_count": 1516,
          "nan_count": 746,
          "categories": [
           {
            "name": "Developer, full-stack",
            "count": 688
           },
           {
            "name": "1515 others",
            "count": 4861
           },
           {
            "name": "Missing",
            "count": 746
           }
          ]
         }
        },
        {
         "name": "ConvertedCompYearly",
         "dtype": "float64",
         "stats": {
          "unique_count": 1364,
          "nan_count": 1907,
          "min": "12.0",
          "max": "4656132.0",
          "histogram": [
           {
            "bin_start": 12,
            "bin_end": 465624,
            "count": 4338
           },
           {
            "bin_start": 465624,
            "bin_end": 931236,
            "count": 36
           },
           {
            "bin_start": 931236,
            "bin_end": 1396848,
            "count": 6
           },
           {
            "bin_start": 1396848,
            "bin_end": 1862460,
            "count": 4
           },
           {
            "bin_start": 1862460,
            "bin_end": 2328072,
            "count": 1
           },
           {
            "bin_start": 2328072,
            "bin_end": 2793684,
            "count": 1
           },
           {
            "bin_start": 2793684,
            "bin_end": 3259296,
            "count": 0
           },
           {
            "bin_start": 3259296,
            "bin_end": 3724908,
            "count": 1
           },
           {
            "bin_start": 3724908,
            "bin_end": 4190520,
            "count": 0
           },
           {
            "bin_start": 4190520,
            "bin_end": 4656132,
            "count": 1
           }
          ]
         }
        },
        {
         "name": "YearsLearnPro",
         "dtype": "float64"
        },
        {
         "name": "Degree",
         "dtype": "object"
        },
        {
         "name": "_deepnote_index_column",
         "dtype": "int64"
        }
       ],
       "rows": [
        {
         "ResponseId": 12,
         "Age": "25-34 years old",
         "Gender": "Man",
         "Trans": "No",
         "Sexuality": "Straight / Heterosexual",
         "Country": "Spain",
         "EdLevel": "Bachelor’s degree (B.A., B.S., B.Eng., etc.)",
         "Age1stCode": "11 - 17 years",
         "LearnCode": "Both",
         "YearsCode": 12,
         "YearsCodePro": 5,
         "MainBranch": "I am a developer by profession",
         "Employment": "Employed",
         "DevType": "Developer, back-end",
         "ConvertedCompYearly": 46482,
         "YearsLearnPro": 7,
         "Degree": "Yes",
         "_deepnote_index_column": 11
        },
        {
         "ResponseId": 20,
         "Age": "25-34 years old",
         "Gender": "Man",
         "Trans": "No",
         "Sexuality": "Straight / Heterosexual",
         "Country": "Brazil",
         "EdLevel": "Bachelor’s degree (B.A., B.S., B.Eng., etc.)",
         "Age1stCode": "11 - 17 years",
         "LearnCode": "Non-traditional",
         "YearsCode": 12,
         "YearsCodePro": 9,
         "MainBranch": "I used to be a developer by profession, but no longer am",
         "Employment": "Employed",
         "DevType": "Other (please specify):",
         "ConvertedCompYearly": "nan",
         "YearsLearnPro": 3,
         "Degree": "Yes",
         "_deepnote_index_column": 19
        },
        {
         "ResponseId": 46,
         "Age": "35-44 years old",
         "Gender": "Man",
         "Trans": "No",
         "Sexuality": "Straight / Heterosexual",
         "Country": "Brazil",
         "EdLevel": "Bachelor’s degree (B.A., B.S., B.Eng., etc.)",
         "Age1stCode": "11 - 17 years",
         "LearnCode": "Non-traditional",
         "YearsCode": 22,
         "YearsCodePro": 15,
         "MainBranch": "I am a developer by profession",
         "Employment": "Employed",
         "DevType": "Developer, desktop or enterprise applications;Developer, full-stack;Developer, back-end",
         "ConvertedCompYearly": 60480,
         "YearsLearnPro": 7,
         "Degree": "Yes",
         "_deepnote_index_column": 45
        },
        {
         "ResponseId": 69,
         "Age": "35-44 years old",
         "Gender": "Man",
         "Trans": "No",
         "Sexuality": "Straight / Heterosexual",
         "Country": "Spain",
         "EdLevel": "Master’s degree (M.A., M.S., M.Eng., MBA, etc.)",
         "Age1stCode": "11 - 17 years",
         "LearnCode": "Traditional",
         "YearsCode": 20,
         "YearsCodePro": 10,
         "MainBranch": "I am a developer by profession",
         "Employment": "Employed",
         "DevType": "Developer, back-end",
         "ConvertedCompYearly": 58373,
         "YearsLearnPro": 10,
         "Degree": "Yes",
         "_deepnote_index_column": 68
        },
        {
         "ResponseId": 80,
         "Age": "18-24 years old",
         "Gender": "Man",
         "Trans": "No",
         "Sexuality": "Straight / Heterosexual",
         "Country": "Spain",
         "EdLevel": "Associate degree (A.A., A.S., etc.)",
         "Age1stCode": "11 - 17 years",
         "LearnCode": "Non-traditional",
         "YearsCode": "nan",
         "YearsCodePro": "nan",
         "MainBranch": "I am a developer by profession",
         "Employment": "Employed",
         "DevType": "Developer, back-end",
         "ConvertedCompYearly": 21620,
         "YearsLearnPro": "nan",
         "Degree": "Yes",
         "_deepnote_index_column": 79
        },
        {
         "ResponseId": 109,
         "Age": "25-34 years old",
         "Gender": "Man",
         "Trans": "No",
         "Sexuality": "Straight / Heterosexual",
         "Country": "Spain",
         "EdLevel": "Associate degree (A.A., A.S., etc.)",
         "Age1stCode": "25 - 44 years",
         "LearnCode": "Both",
         "YearsCode": 10,
         "YearsCodePro": 8,
         "MainBranch": "I am a developer by profession",
         "Employment": "Employed",
         "DevType": "Developer, full-stack;Developer, back-end;Product manager",
         "ConvertedCompYearly": 38915,
         "YearsLearnPro": 2,
         "Degree": "Yes",
         "_deepnote_index_column": 108
        },
        {
         "ResponseId": 202,
         "Age": "35-44 years old",
         "Gender": "Man",
         "Trans": "No",
         "Sexuality": "Straight / Heterosexual",
         "Country": "Colombia",
         "EdLevel": "Bachelor’s degree (B.A., B.S., B.Eng., etc.)",
         "Age1stCode": "18 - 24 years",
         "LearnCode": "Traditional",
         "YearsCode": 20,
         "YearsCodePro": 20,
         "MainBranch": "I am a developer by profession",
         "Employment": "Employed",
         "DevType": "Developer, front-end;Developer, full-stack;Developer, back-end;System administrator",
         "ConvertedCompYearly": 21600,
         "YearsLearnPro": 0,
         "Degree": "Yes",
         "_deepnote_index_column": 201
        },
        {
         "ResponseId": 226,
         "Age": "18-24 years old",
         "Gender": "Man",
         "Trans": "No",
         "Sexuality": "Straight / Heterosexual",
         "Country": "Chile",
         "EdLevel": "Bachelor’s degree (B.A., B.S., B.Eng., etc.)",
         "Age1stCode": "18 - 24 years",
         "LearnCode": "Non-traditional",
         "YearsCode": 6,
         "YearsCodePro": 2,
         "MainBranch": "I am a developer by profession",
         "Employment": "Employed",
         "DevType": "Developer, front-end;Developer, full-stack;Developer, back-end;Database administrator;Data or busin…",
         "ConvertedCompYearly": 22584,
         "YearsLearnPro": 4,
         "Degree": "Yes",
         "_deepnote_index_column": 225
        },
        {
         "ResponseId": 268,
         "Age": "35-44 years old",
         "Gender": "Man",
         "Trans": "No",
         "Sexuality": "Straight / Heterosexual",
         "Country": "Spain",
         "EdLevel": "Bachelor’s degree (B.A., B.S., B.Eng., etc.)",
         "Age1stCode": "11 - 17 years",
         "LearnCode": "Non-traditional",
         "YearsCode": 27,
         "YearsCodePro": 13,
         "MainBranch": "I am a developer by profession",
         "Employment": "Employed",
         "DevType": "Developer, full-stack",
         "ConvertedCompYearly": "nan",
         "YearsLearnPro": 14,
         "Degree": "Yes",
         "_deepnote_index_column": 267
        },
        {
         "ResponseId": 270,
         "Age": "25-34 years old",
         "Gender": "Man",
         "Trans": "No",
         "Sexuality": "Straight / Heterosexual",
         "Country": "Spain",
         "EdLevel": "Master’s degree (M.A., M.S., M.Eng., MBA, etc.)",
         "Age1stCode": "< 10 years",
         "LearnCode": "Non-traditional",
         "YearsCode": 10,
         "YearsCodePro": 4,
         "MainBranch": "I am a developer by profession",
         "Employment": "Employed",
         "DevType": "Developer, back-end;Academic researcher;Database administrator",
         "ConvertedCompYearly": "nan",
         "YearsLearnPro": 6,
         "Degree": "Yes",
         "_deepnote_index_column": 269
        }
       ]
      },
      "text/plain": "       ResponseId              Age Gender Trans                Sexuality  \\\n11             12  25-34 years old    Man    No  Straight / Heterosexual   \n19             20  25-34 years old    Man    No  Straight / Heterosexual   \n45             46  35-44 years old    Man    No  Straight / Heterosexual   \n68             69  35-44 years old    Man    No  Straight / Heterosexual   \n79             80  18-24 years old    Man    No  Straight / Heterosexual   \n...           ...              ...    ...   ...                      ...   \n83390       83391  35-44 years old    Man    No  Straight / Heterosexual   \n83392       83393  25-34 years old    Man    No  Straight / Heterosexual   \n83428       83429  25-34 years old    Man    No  Straight / Heterosexual   \n83433       83434  25-34 years old    Man    No  Straight / Heterosexual   \n83438       83439  18-24 years old    Man    No  Straight / Heterosexual   \n\n      Country                                          EdLevel     Age1stCode  \\\n11      Spain     Bachelor’s degree (B.A., B.S., B.Eng., etc.)  11 - 17 years   \n19     Brazil     Bachelor’s degree (B.A., B.S., B.Eng., etc.)  11 - 17 years   \n45     Brazil     Bachelor’s degree (B.A., B.S., B.Eng., etc.)  11 - 17 years   \n68      Spain  Master’s degree (M.A., M.S., M.Eng., MBA, etc.)  11 - 17 years   \n79      Spain              Associate degree (A.A., A.S., etc.)  11 - 17 years   \n...       ...                                              ...            ...   \n83390  Brazil     Bachelor’s degree (B.A., B.S., B.Eng., etc.)  11 - 17 years   \n83392  Brazil     Bachelor’s degree (B.A., B.S., B.Eng., etc.)  25 - 44 years   \n83428  Brazil  Master’s degree (M.A., M.S., M.Eng., MBA, etc.)  18 - 24 years   \n83433  Brazil     Bachelor’s degree (B.A., B.S., B.Eng., etc.)  18 - 24 years   \n83438  Brazil               Professional degree (JD, MD, etc.)  11 - 17 years   \n\n             LearnCode  YearsCode  YearsCodePro  \\\n11                Both       12.0           5.0   \n19     Non-traditional       12.0           9.0   \n45     Non-traditional       22.0          15.0   \n68         Traditional       20.0          10.0   \n79     Non-traditional        NaN           NaN   \n...                ...        ...           ...   \n83390             Both       21.0          18.0   \n83392      Traditional        7.0           5.0   \n83428      Traditional       12.0           7.0   \n83433  Non-traditional       15.0          11.0   \n83438      Traditional       14.0           4.0   \n\n                                              MainBranch  \\\n11                        I am a developer by profession   \n19     I used to be a developer by profession, but no...   \n45                        I am a developer by profession   \n68                        I am a developer by profession   \n79                        I am a developer by profession   \n...                                                  ...   \n83390                     I am a developer by profession   \n83392                     I am a developer by profession   \n83428                     I am a developer by profession   \n83433                     I am a developer by profession   \n83438                     I am a developer by profession   \n\n                                              Employment  \\\n11                                              Employed   \n19                                              Employed   \n45                                              Employed   \n68                                              Employed   \n79                                              Employed   \n...                                                  ...   \n83390                                           Employed   \n83392                                           Employed   \n83428                                           Employed   \n83433  Independent contractor, freelancer, or self-em...   \n83438                                           Employed   \n\n                                                 DevType  ConvertedCompYearly  \\\n11                                   Developer, back-end              46482.0   \n19                               Other (please specify):                  NaN   \n45     Developer, desktop or enterprise applications;...              60480.0   \n68                                   Developer, back-end              58373.0   \n79                                   Developer, back-end              21620.0   \n...                                                  ...                  ...   \n83390  Developer, front-end;Developer, full-stack;Dev...              27492.0   \n83392  Data scientist or machine learning specialist;...              68721.0   \n83428               Senior Executive (C-Suite, VP, etc.)              41232.0   \n83433  Developer, mobile;Developer, front-end;Develop...              18326.0   \n83438  Developer, front-end;Developer, full-stack;Dev...              21168.0   \n\n       YearsLearnPro Degree  \n11               7.0    Yes  \n19               3.0    Yes  \n45               7.0    Yes  \n68              10.0    Yes  \n79               NaN    Yes  \n...              ...    ...  \n83390            3.0    Yes  \n83392            2.0    Yes  \n83428            5.0    Yes  \n83433            4.0    Yes  \n83438           10.0    Yes  \n\n[6295 rows x 17 columns]",
      "text/html": "<div>\n<style scoped>\n    .dataframe tbody tr th:only-of-type {\n        vertical-align: middle;\n    }\n\n    .dataframe tbody tr th {\n        vertical-align: top;\n    }\n\n    .dataframe thead th {\n        text-align: right;\n    }\n</style>\n<table border=\"1\" class=\"dataframe\">\n  <thead>\n    <tr style=\"text-align: right;\">\n      <th></th>\n      <th>ResponseId</th>\n      <th>Age</th>\n      <th>Gender</th>\n      <th>Trans</th>\n      <th>Sexuality</th>\n      <th>Country</th>\n      <th>EdLevel</th>\n      <th>Age1stCode</th>\n      <th>LearnCode</th>\n      <th>YearsCode</th>\n      <th>YearsCodePro</th>\n      <th>MainBranch</th>\n      <th>Employment</th>\n      <th>DevType</th>\n      <th>ConvertedCompYearly</th>\n      <th>YearsLearnPro</th>\n      <th>Degree</th>\n    </tr>\n  </thead>\n  <tbody>\n    <tr>\n      <th>11</th>\n      <td>12</td>\n      <td>25-34 years old</td>\n      <td>Man</td>\n      <td>No</td>\n      <td>Straight / Heterosexual</td>\n      <td>Spain</td>\n      <td>Bachelor’s degree (B.A., B.S., B.Eng., etc.)</td>\n      <td>11 - 17 years</td>\n      <td>Both</td>\n      <td>12.0</td>\n      <td>5.0</td>\n      <td>I am a developer by profession</td>\n      <td>Employed</td>\n      <td>Developer, back-end</td>\n      <td>46482.0</td>\n      <td>7.0</td>\n      <td>Yes</td>\n    </tr>\n    <tr>\n      <th>19</th>\n      <td>20</td>\n      <td>25-34 years old</td>\n      <td>Man</td>\n      <td>No</td>\n      <td>Straight / Heterosexual</td>\n      <td>Brazil</td>\n      <td>Bachelor’s degree (B.A., B.S., B.Eng., etc.)</td>\n      <td>11 - 17 years</td>\n      <td>Non-traditional</td>\n      <td>12.0</td>\n      <td>9.0</td>\n      <td>I used to be a developer by profession, but no...</td>\n      <td>Employed</td>\n      <td>Other (please specify):</td>\n      <td>NaN</td>\n      <td>3.0</td>\n      <td>Yes</td>\n    </tr>\n    <tr>\n      <th>45</th>\n      <td>46</td>\n      <td>35-44 years old</td>\n      <td>Man</td>\n      <td>No</td>\n      <td>Straight / Heterosexual</td>\n      <td>Brazil</td>\n      <td>Bachelor’s degree (B.A., B.S., B.Eng., etc.)</td>\n      <td>11 - 17 years</td>\n      <td>Non-traditional</td>\n      <td>22.0</td>\n      <td>15.0</td>\n      <td>I am a developer by profession</td>\n      <td>Employed</td>\n      <td>Developer, desktop or enterprise applications;...</td>\n      <td>60480.0</td>\n      <td>7.0</td>\n      <td>Yes</td>\n    </tr>\n    <tr>\n      <th>68</th>\n      <td>69</td>\n      <td>35-44 years old</td>\n      <td>Man</td>\n      <td>No</td>\n      <td>Straight / Heterosexual</td>\n      <td>Spain</td>\n      <td>Master’s degree (M.A., M.S., M.Eng., MBA, etc.)</td>\n      <td>11 - 17 years</td>\n      <td>Traditional</td>\n      <td>20.0</td>\n      <td>10.0</td>\n      <td>I am a developer by profession</td>\n      <td>Employed</td>\n      <td>Developer, back-end</td>\n      <td>58373.0</td>\n      <td>10.0</td>\n      <td>Yes</td>\n    </tr>\n    <tr>\n      <th>79</th>\n      <td>80</td>\n      <td>18-24 years old</td>\n      <td>Man</td>\n      <td>No</td>\n      <td>Straight / Heterosexual</td>\n      <td>Spain</td>\n      <td>Associate degree (A.A., A.S., etc.)</td>\n      <td>11 - 17 years</td>\n      <td>Non-traditional</td>\n      <td>NaN</td>\n      <td>NaN</td>\n      <td>I am a developer by profession</td>\n      <td>Employed</td>\n      <td>Developer, back-end</td>\n      <td>21620.0</td>\n      <td>NaN</td>\n      <td>Yes</td>\n    </tr>\n    <tr>\n      <th>...</th>\n      <td>...</td>\n      <td>...</td>\n      <td>...</td>\n      <td>...</td>\n      <td>...</td>\n      <td>...</td>\n      <td>...</td>\n      <td>...</td>\n      <td>...</td>\n      <td>...</td>\n      <td>...</td>\n      <td>...</td>\n      <td>...</td>\n      <td>...</td>\n      <td>...</td>\n      <td>...</td>\n      <td>...</td>\n    </tr>\n    <tr>\n      <th>83390</th>\n      <td>83391</td>\n      <td>35-44 years old</td>\n      <td>Man</td>\n      <td>No</td>\n      <td>Straight / Heterosexual</td>\n      <td>Brazil</td>\n      <td>Bachelor’s degree (B.A., B.S., B.Eng., etc.)</td>\n      <td>11 - 17 years</td>\n      <td>Both</td>\n      <td>21.0</td>\n      <td>18.0</td>\n      <td>I am a developer by profession</td>\n      <td>Employed</td>\n      <td>Developer, front-end;Developer, full-stack;Dev...</td>\n      <td>27492.0</td>\n      <td>3.0</td>\n      <td>Yes</td>\n    </tr>\n    <tr>\n      <th>83392</th>\n      <td>83393</td>\n      <td>25-34 years old</td>\n      <td>Man</td>\n      <td>No</td>\n      <td>Straight / Heterosexual</td>\n      <td>Brazil</td>\n      <td>Bachelor’s degree (B.A., B.S., B.Eng., etc.)</td>\n      <td>25 - 44 years</td>\n      <td>Traditional</td>\n      <td>7.0</td>\n      <td>5.0</td>\n      <td>I am a developer by profession</td>\n      <td>Employed</td>\n      <td>Data scientist or machine learning specialist;...</td>\n      <td>68721.0</td>\n      <td>2.0</td>\n      <td>Yes</td>\n    </tr>\n    <tr>\n      <th>83428</th>\n      <td>83429</td>\n      <td>25-34 years old</td>\n      <td>Man</td>\n      <td>No</td>\n      <td>Straight / Heterosexual</td>\n      <td>Brazil</td>\n      <td>Master’s degree (M.A., M.S., M.Eng., MBA, etc.)</td>\n      <td>18 - 24 years</td>\n      <td>Traditional</td>\n      <td>12.0</td>\n      <td>7.0</td>\n      <td>I am a developer by profession</td>\n      <td>Employed</td>\n      <td>Senior Executive (C-Suite, VP, etc.)</td>\n      <td>41232.0</td>\n      <td>5.0</td>\n      <td>Yes</td>\n    </tr>\n    <tr>\n      <th>83433</th>\n      <td>83434</td>\n      <td>25-34 years old</td>\n      <td>Man</td>\n      <td>No</td>\n      <td>Straight / Heterosexual</td>\n      <td>Brazil</td>\n      <td>Bachelor’s degree (B.A., B.S., B.Eng., etc.)</td>\n      <td>18 - 24 years</td>\n      <td>Non-traditional</td>\n      <td>15.0</td>\n      <td>11.0</td>\n      <td>I am a developer by profession</td>\n      <td>Independent contractor, freelancer, or self-em...</td>\n      <td>Developer, mobile;Developer, front-end;Develop...</td>\n      <td>18326.0</td>\n      <td>4.0</td>\n      <td>Yes</td>\n    </tr>\n    <tr>\n      <th>83438</th>\n      <td>83439</td>\n      <td>18-24 years old</td>\n      <td>Man</td>\n      <td>No</td>\n      <td>Straight / Heterosexual</td>\n      <td>Brazil</td>\n      <td>Professional degree (JD, MD, etc.)</td>\n      <td>11 - 17 years</td>\n      <td>Traditional</td>\n      <td>14.0</td>\n      <td>4.0</td>\n      <td>I am a developer by profession</td>\n      <td>Employed</td>\n      <td>Developer, front-end;Developer, full-stack;Dev...</td>\n      <td>21168.0</td>\n      <td>10.0</td>\n      <td>Yes</td>\n    </tr>\n  </tbody>\n</table>\n<p>6295 rows × 17 columns</p>\n</div>"
     },
     "metadata": {}
    }
   ],
   "execution_count": null
  },
  {
   "cell_type": "markdown",
   "source": "El dataset está listo para poder trabajar.",
   "metadata": {
    "cell_id": "6a1bcd29-5c40-4408-80a9-62da9f2bd069",
    "tags": [],
    "deepnote_cell_type": "markdown"
   }
  },
  {
   "cell_type": "code",
   "metadata": {
    "cell_id": "b866c922-e4d7-4d8c-86e3-5b90f36c9fd2",
    "tags": [],
    "deepnote_to_be_reexecuted": false,
    "source_hash": "94584e49",
    "execution_start": 1645722601772,
    "execution_millis": 61,
    "deepnote_cell_type": "code"
   },
   "source": "path_processed = os.path.join(os.getcwd(), os.pardir, 'data', 'processed')\ndf.to_csv(os.path.join(path_processed, 'survey.csv'), index=None)",
   "outputs": [],
   "execution_count": null
  },
  {
   "cell_type": "markdown",
   "source": "<a style='text-decoration:none;line-height:16px;display:flex;color:#5B5B62;padding:10px;justify-content:end;' href='https://deepnote.com?utm_source=created-in-deepnote-cell&projectId=09491c61-3767-4289-98fd-88aee19bb45d' target=\"_blank\">\n<img alt='Created in deepnote.com' style='display:inline;max-height:16px;margin:0px;margin-right:7.5px;' src='data:image/svg+xml;base64,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' > </img>\nCreated in <span style='font-weight:600;margin-left:4px;'>Deepnote</span></a>",
   "metadata": {
    "tags": [],
    "created_in_deepnote_cell": true,
    "deepnote_cell_type": "markdown"
   }
  }
 ],
 "nbformat": 4,
 "nbformat_minor": 2,
 "metadata": {
  "orig_nbformat": 2,
  "deepnote": {
   "is_reactive": false
  },
  "deepnote_notebook_id": "d3fed0ed-e687-4e56-bf32-385f5fb6f308",
  "deepnote_execution_queue": []
 }
}