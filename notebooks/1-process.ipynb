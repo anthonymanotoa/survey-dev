{
 "cells": [
  {
   "cell_type": "markdown",
   "source": "# Procesamiento de datos",
   "metadata": {
    "cell_id": "dcf6b326-6955-49c9-9cc2-bedea44ab81d",
    "tags": [],
    "deepnote_cell_type": "markdown"
   }
  },
  {
   "cell_type": "code",
   "metadata": {
    "tags": [],
    "cell_id": "273f43e0-7ea3-4218-b9cf-458cb76017a7",
    "deepnote_to_be_reexecuted": false,
    "source_hash": "1f95c16d",
    "execution_start": 1645639843618,
    "execution_millis": 1785,
    "deepnote_cell_type": "code"
   },
   "source": "import numpy as np\nimport pandas as pd\nimport seaborn as sns\nimport matplotlib.pyplot as plt\nimport os",
   "outputs": [],
   "execution_count": null
  },
  {
   "cell_type": "code",
   "metadata": {
    "cell_id": "31a5dd80-5c4b-4aae-b4a6-94c2e8e2a7cd",
    "tags": [],
    "deepnote_to_be_reexecuted": false,
    "source_hash": "a1e324eb",
    "execution_start": 1645639845410,
    "execution_millis": 1232,
    "deepnote_cell_type": "code"
   },
   "source": "# Read de data\npath = os.path.join(os.getcwd(), os.pardir, 'data', 'raw')\ndf_schema = pd.read_csv(os.path.join(path, 'survey_results_schema.csv'))\ndf_survey = pd.read_csv(os.path.join(path, 'survey_results_public.csv'))",
   "outputs": [],
   "execution_count": null
  },
  {
   "cell_type": "markdown",
   "source": "### Filtro de datos\n\nEl `df_schema` contiene las preguntas usadas en la encuesta.",
   "metadata": {
    "cell_id": "2ae9495a-b87d-471b-8692-7d909e98250d",
    "tags": [],
    "deepnote_cell_type": "markdown"
   }
  },
  {
   "cell_type": "code",
   "metadata": {
    "cell_id": "c751c12e-9b4a-400f-8d26-bc1101db8991",
    "tags": [],
    "deepnote_to_be_reexecuted": false,
    "source_hash": "366e7cf0",
    "execution_start": 1645639846656,
    "execution_millis": 13,
    "deepnote_cell_type": "code"
   },
   "source": "# Explore what data to use\ncols = ['qname', 'question']\ndf_schema[cols]",
   "outputs": [
    {
     "output_type": "execute_result",
     "execution_count": 3,
     "data": {
      "application/vnd.deepnote.dataframe.v3+json": {
       "column_count": 2,
       "row_count": 48,
       "columns": [
        {
         "name": "qname",
         "dtype": "object",
         "stats": {
          "unique_count": 48,
          "nan_count": 0,
          "categories": [
           {
            "name": "S0",
            "count": 1
           },
           {
            "name": "MetaInfo",
            "count": 1
           },
           {
            "name": "46 others",
            "count": 46
           }
          ]
         }
        },
        {
         "name": "question",
         "dtype": "object",
         "stats": {
          "unique_count": 45,
          "nan_count": 0,
          "categories": [
           {
            "name": "Which of the following describe you, if any? Please check all that apply.",
            "count": 3
           },
           {
            "name": "Which of the following describe you, if any? Please check all that apply. ",
            "count": 2
           },
           {
            "name": "43 others",
            "count": 43
           }
          ]
         }
        },
        {
         "name": "_deepnote_index_column",
         "dtype": "int64"
        }
       ],
       "rows": [
        {
         "qname": "S0",
         "question": "<div><span style=\"font-size:19px;\"><strong>Hello world! </strong></span></div>\n\n<div> </div>\n\n<div>…",
         "_deepnote_index_column": 0
        },
        {
         "qname": "MetaInfo",
         "question": "Browser Meta Info",
         "_deepnote_index_column": 1
        },
        {
         "qname": "S1",
         "question": "<span style=\"font-size:22px; font-family: arial,helvetica,sans-serif; font-weight: 700;\">Basic Info…",
         "_deepnote_index_column": 2
        },
        {
         "qname": "MainBranch",
         "question": "Which of the following options best describes you today? Here, by \"developer\" we mean \"someone who …",
         "_deepnote_index_column": 3
        },
        {
         "qname": "Employment",
         "question": "Which of the following best describes your current <b>employment status</b>?",
         "_deepnote_index_column": 4
        },
        {
         "qname": "Country",
         "question": "Where do you live? <span style=\"font-weight: bolder;\">*</span>",
         "_deepnote_index_column": 5
        },
        {
         "qname": "US_State",
         "question": "<p>In which state or territory of the USA do you live? <i>This information will be kept private.</i…",
         "_deepnote_index_column": 6
        },
        {
         "qname": "UK_Country",
         "question": "In which part of the United Kingdom do you live? <i>This information will be kept private.</i>",
         "_deepnote_index_column": 7
        },
        {
         "qname": "S2",
         "question": "<span style=\"font-size:22px; font-family: arial,helvetica,sans-serif; font-weight: 700;\">Education,…",
         "_deepnote_index_column": 8
        },
        {
         "qname": "EdLevel",
         "question": "Which of the following best describes the highest level of formal education that you’ve completed? *",
         "_deepnote_index_column": 9
        }
       ]
      },
      "text/plain": "                 qname                                           question\n0                   S0  <div><span style=\"font-size:19px;\"><strong>Hel...\n1             MetaInfo                                  Browser Meta Info\n2                   S1  <span style=\"font-size:22px; font-family: aria...\n3           MainBranch  Which of the following options best describes ...\n4           Employment  Which of the following best describes your cur...\n5              Country  Where do you live? <span style=\"font-weight: b...\n6             US_State  <p>In which state or territory of the USA do y...\n7           UK_Country  In which part of the United Kingdom do you liv...\n8                   S2  <span style=\"font-size:22px; font-family: aria...\n9              EdLevel  Which of the following best describes the high...\n10          Age1stCode  At what age did you write your first line of c...\n11           LearnCode  How did you learn to code? Select all that apply.\n12           YearsCode  Including any education, how many years have y...\n13        YearsCodePro  NOT including education, how many years have y...\n14             DevType  Which of the following describes your current ...\n15             OrgSize  Approximately how many people are employed by ...\n16            Currency  Which currency do you use day-to-day? If your ...\n17           CompTotal  What is your current total compensation (salar...\n18            CompFreq   Is that compensation weekly, monthly, or yearly?\n19                  S3  <span style=\"font-size:22px; font-family: aria...\n20            Language  Which <b>programming, scripting, and markup la...\n21            Database  Which <b>database environments </b>have you do...\n22            Platform  Which <b>cloud platforms</b> have you done ext...\n23            Webframe  Which <strong>web frameworks </strong><span st...\n24            MiscTech  Which <b>other frameworks and libraries</b> ha...\n25           ToolsTech  Which <strong>tools</strong> have you done ext...\n26      NEWCollabTools  Which <strong>development environments</strong...\n27               OpSys  What is the primary operating system in which ...\n28            NEWStuck  What do you do when you get stuck on a problem...\n29                  S4  <span style=\"font-size:22px; font-family: aria...\n30          NEWSOSites  Which of the following Stack Overflow sites ha...\n31         SOVisitFreq  How frequently would you say you visit Stack O...\n32           SOAccount              Do you have a Stack Overflow account?\n33          SOPartFreq  How frequently would you say you participate i...\n34              SOComm  Do you consider yourself a member of the Stack...\n35       NEWOtherComms  Are you a member of any other online developer...\n36  NEWOtherCommsNames  Please name up to 5 other online developer com...\n37                  S5  <span style=\"font-size:22px; font-family: aria...\n38                 Age                                  What is your age?\n39              Gender  Which of the following describe you, if any? P...\n40               Trans                    Do you identify as transgender?\n41           Sexuality  Which of the following describe you, if any? P...\n42           Ethnicity  Which of the following describe you, if any? P...\n43       Accessibility  Which of the following describe you, if any? P...\n44        MentalHealth  Which of the following describe you, if any? P...\n45                  S6  <span style=\"font-size:22px;\"><strong>Final Qu...\n46        SurveyLength  How do you feel about the length of the survey...\n47          SurveyEase  How easy or difficult was this survey to compl...",
      "text/html": "<div>\n<style scoped>\n    .dataframe tbody tr th:only-of-type {\n        vertical-align: middle;\n    }\n\n    .dataframe tbody tr th {\n        vertical-align: top;\n    }\n\n    .dataframe thead th {\n        text-align: right;\n    }\n</style>\n<table border=\"1\" class=\"dataframe\">\n  <thead>\n    <tr style=\"text-align: right;\">\n      <th></th>\n      <th>qname</th>\n      <th>question</th>\n    </tr>\n  </thead>\n  <tbody>\n    <tr>\n      <th>0</th>\n      <td>S0</td>\n      <td>&lt;div&gt;&lt;span style=\"font-size:19px;\"&gt;&lt;strong&gt;Hel...</td>\n    </tr>\n    <tr>\n      <th>1</th>\n      <td>MetaInfo</td>\n      <td>Browser Meta Info</td>\n    </tr>\n    <tr>\n      <th>2</th>\n      <td>S1</td>\n      <td>&lt;span style=\"font-size:22px; font-family: aria...</td>\n    </tr>\n    <tr>\n      <th>3</th>\n      <td>MainBranch</td>\n      <td>Which of the following options best describes ...</td>\n    </tr>\n    <tr>\n      <th>4</th>\n      <td>Employment</td>\n      <td>Which of the following best describes your cur...</td>\n    </tr>\n    <tr>\n      <th>5</th>\n      <td>Country</td>\n      <td>Where do you live? &lt;span style=\"font-weight: b...</td>\n    </tr>\n    <tr>\n      <th>6</th>\n      <td>US_State</td>\n      <td>&lt;p&gt;In which state or territory of the USA do y...</td>\n    </tr>\n    <tr>\n      <th>7</th>\n      <td>UK_Country</td>\n      <td>In which part of the United Kingdom do you liv...</td>\n    </tr>\n    <tr>\n      <th>8</th>\n      <td>S2</td>\n      <td>&lt;span style=\"font-size:22px; font-family: aria...</td>\n    </tr>\n    <tr>\n      <th>9</th>\n      <td>EdLevel</td>\n      <td>Which of the following best describes the high...</td>\n    </tr>\n    <tr>\n      <th>10</th>\n      <td>Age1stCode</td>\n      <td>At what age did you write your first line of c...</td>\n    </tr>\n    <tr>\n      <th>11</th>\n      <td>LearnCode</td>\n      <td>How did you learn to code? Select all that apply.</td>\n    </tr>\n    <tr>\n      <th>12</th>\n      <td>YearsCode</td>\n      <td>Including any education, how many years have y...</td>\n    </tr>\n    <tr>\n      <th>13</th>\n      <td>YearsCodePro</td>\n      <td>NOT including education, how many years have y...</td>\n    </tr>\n    <tr>\n      <th>14</th>\n      <td>DevType</td>\n      <td>Which of the following describes your current ...</td>\n    </tr>\n    <tr>\n      <th>15</th>\n      <td>OrgSize</td>\n      <td>Approximately how many people are employed by ...</td>\n    </tr>\n    <tr>\n      <th>16</th>\n      <td>Currency</td>\n      <td>Which currency do you use day-to-day? If your ...</td>\n    </tr>\n    <tr>\n      <th>17</th>\n      <td>CompTotal</td>\n      <td>What is your current total compensation (salar...</td>\n    </tr>\n    <tr>\n      <th>18</th>\n      <td>CompFreq</td>\n      <td>Is that compensation weekly, monthly, or yearly?</td>\n    </tr>\n    <tr>\n      <th>19</th>\n      <td>S3</td>\n      <td>&lt;span style=\"font-size:22px; font-family: aria...</td>\n    </tr>\n    <tr>\n      <th>20</th>\n      <td>Language</td>\n      <td>Which &lt;b&gt;programming, scripting, and markup la...</td>\n    </tr>\n    <tr>\n      <th>21</th>\n      <td>Database</td>\n      <td>Which &lt;b&gt;database environments &lt;/b&gt;have you do...</td>\n    </tr>\n    <tr>\n      <th>22</th>\n      <td>Platform</td>\n      <td>Which &lt;b&gt;cloud platforms&lt;/b&gt; have you done ext...</td>\n    </tr>\n    <tr>\n      <th>23</th>\n      <td>Webframe</td>\n      <td>Which &lt;strong&gt;web frameworks &lt;/strong&gt;&lt;span st...</td>\n    </tr>\n    <tr>\n      <th>24</th>\n      <td>MiscTech</td>\n      <td>Which &lt;b&gt;other frameworks and libraries&lt;/b&gt; ha...</td>\n    </tr>\n    <tr>\n      <th>25</th>\n      <td>ToolsTech</td>\n      <td>Which &lt;strong&gt;tools&lt;/strong&gt; have you done ext...</td>\n    </tr>\n    <tr>\n      <th>26</th>\n      <td>NEWCollabTools</td>\n      <td>Which &lt;strong&gt;development environments&lt;/strong...</td>\n    </tr>\n    <tr>\n      <th>27</th>\n      <td>OpSys</td>\n      <td>What is the primary operating system in which ...</td>\n    </tr>\n    <tr>\n      <th>28</th>\n      <td>NEWStuck</td>\n      <td>What do you do when you get stuck on a problem...</td>\n    </tr>\n    <tr>\n      <th>29</th>\n      <td>S4</td>\n      <td>&lt;span style=\"font-size:22px; font-family: aria...</td>\n    </tr>\n    <tr>\n      <th>30</th>\n      <td>NEWSOSites</td>\n      <td>Which of the following Stack Overflow sites ha...</td>\n    </tr>\n    <tr>\n      <th>31</th>\n      <td>SOVisitFreq</td>\n      <td>How frequently would you say you visit Stack O...</td>\n    </tr>\n    <tr>\n      <th>32</th>\n      <td>SOAccount</td>\n      <td>Do you have a Stack Overflow account?</td>\n    </tr>\n    <tr>\n      <th>33</th>\n      <td>SOPartFreq</td>\n      <td>How frequently would you say you participate i...</td>\n    </tr>\n    <tr>\n      <th>34</th>\n      <td>SOComm</td>\n      <td>Do you consider yourself a member of the Stack...</td>\n    </tr>\n    <tr>\n      <th>35</th>\n      <td>NEWOtherComms</td>\n      <td>Are you a member of any other online developer...</td>\n    </tr>\n    <tr>\n      <th>36</th>\n      <td>NEWOtherCommsNames</td>\n      <td>Please name up to 5 other online developer com...</td>\n    </tr>\n    <tr>\n      <th>37</th>\n      <td>S5</td>\n      <td>&lt;span style=\"font-size:22px; font-family: aria...</td>\n    </tr>\n    <tr>\n      <th>38</th>\n      <td>Age</td>\n      <td>What is your age?</td>\n    </tr>\n    <tr>\n      <th>39</th>\n      <td>Gender</td>\n      <td>Which of the following describe you, if any? P...</td>\n    </tr>\n    <tr>\n      <th>40</th>\n      <td>Trans</td>\n      <td>Do you identify as transgender?</td>\n    </tr>\n    <tr>\n      <th>41</th>\n      <td>Sexuality</td>\n      <td>Which of the following describe you, if any? P...</td>\n    </tr>\n    <tr>\n      <th>42</th>\n      <td>Ethnicity</td>\n      <td>Which of the following describe you, if any? P...</td>\n    </tr>\n    <tr>\n      <th>43</th>\n      <td>Accessibility</td>\n      <td>Which of the following describe you, if any? P...</td>\n    </tr>\n    <tr>\n      <th>44</th>\n      <td>MentalHealth</td>\n      <td>Which of the following describe you, if any? P...</td>\n    </tr>\n    <tr>\n      <th>45</th>\n      <td>S6</td>\n      <td>&lt;span style=\"font-size:22px;\"&gt;&lt;strong&gt;Final Qu...</td>\n    </tr>\n    <tr>\n      <th>46</th>\n      <td>SurveyLength</td>\n      <td>How do you feel about the length of the survey...</td>\n    </tr>\n    <tr>\n      <th>47</th>\n      <td>SurveyEase</td>\n      <td>How easy or difficult was this survey to compl...</td>\n    </tr>\n  </tbody>\n</table>\n</div>"
     },
     "metadata": {}
    }
   ],
   "execution_count": null
  },
  {
   "cell_type": "code",
   "metadata": {
    "cell_id": "737489f0-3b4a-4848-b0c1-74ab74469ea8",
    "tags": [],
    "deepnote_to_be_reexecuted": false,
    "source_hash": "77e67714",
    "execution_start": 1645639846674,
    "execution_millis": 124,
    "deepnote_cell_type": "code"
   },
   "source": "df_survey.sample(5)",
   "outputs": [
    {
     "output_type": "execute_result",
     "execution_count": 4,
     "data": {
      "application/vnd.deepnote.dataframe.v3+json": {
       "column_count": 48,
       "row_count": 5,
       "columns": [
        {
         "name": "ResponseId",
         "dtype": "int64",
         "stats": {
          "unique_count": 5,
          "nan_count": 0,
          "min": "1123",
          "max": "77707",
          "histogram": [
           {
            "bin_start": 1123,
            "bin_end": 8781.4,
            "count": 1
           },
           {
            "bin_start": 8781.4,
            "bin_end": 16439.8,
            "count": 2
           },
           {
            "bin_start": 16439.8,
            "bin_end": 24098.199999999997,
            "count": 0
           },
           {
            "bin_start": 24098.199999999997,
            "bin_end": 31756.6,
            "count": 0
           },
           {
            "bin_start": 31756.6,
            "bin_end": 39415,
            "count": 0
           },
           {
            "bin_start": 39415,
            "bin_end": 47073.399999999994,
            "count": 0
           },
           {
            "bin_start": 47073.399999999994,
            "bin_end": 54731.799999999996,
            "count": 0
           },
           {
            "bin_start": 54731.799999999996,
            "bin_end": 62390.2,
            "count": 0
           },
           {
            "bin_start": 62390.2,
            "bin_end": 70048.59999999999,
            "count": 0
           },
           {
            "bin_start": 70048.59999999999,
            "bin_end": 77707,
            "count": 2
           }
          ]
         }
        },
        {
         "name": "MainBranch",
         "dtype": "object",
         "stats": {
          "unique_count": 3,
          "nan_count": 0,
          "categories": [
           {
            "name": "I am a developer by profession",
            "count": 3
           },
           {
            "name": "I am not primarily a developer, but I write code sometimes as part of my work",
            "count": 1
           },
           {
            "name": "I am a student who is learning to code",
            "count": 1
           }
          ]
         }
        },
        {
         "name": "Employment",
         "dtype": "object",
         "stats": {
          "unique_count": 2,
          "nan_count": 0,
          "categories": [
           {
            "name": "Employed full-time",
            "count": 3
           },
           {
            "name": "Student, full-time",
            "count": 2
           }
          ]
         }
        },
        {
         "name": "Country",
         "dtype": "object",
         "stats": {
          "unique_count": 4,
          "nan_count": 0,
          "categories": [
           {
            "name": "India",
            "count": 2
           },
           {
            "name": "Saudi Arabia",
            "count": 1
           },
           {
            "name": "2 others",
            "count": 2
           }
          ]
         }
        },
        {
         "name": "US_State",
         "dtype": "object",
         "stats": {
          "unique_count": 0,
          "nan_count": 5,
          "categories": [
           {
            "name": "Missing",
            "count": 5
           }
          ]
         }
        },
        {
         "name": "UK_Country",
         "dtype": "object",
         "stats": {
          "unique_count": 0,
          "nan_count": 5,
          "categories": [
           {
            "name": "Missing",
            "count": 5
           }
          ]
         }
        },
        {
         "name": "EdLevel",
         "dtype": "object",
         "stats": {
          "unique_count": 3,
          "nan_count": 0,
          "categories": [
           {
            "name": "Some college/university study without earning a degree",
            "count": 2
           },
           {
            "name": "Master’s degree (M.A., M.S., M.Eng., MBA, etc.)",
            "count": 2
           },
           {
            "name": "Secondary school (e.g. American high school, German Realschule or Gymnasium, etc.)",
            "count": 1
           }
          ]
         }
        },
        {
         "name": "Age1stCode",
         "dtype": "object",
         "stats": {
          "unique_count": 2,
          "nan_count": 0,
          "categories": [
           {
            "name": "11 - 17 years",
            "count": 4
           },
           {
            "name": "18 - 24 years",
            "count": 1
           }
          ]
         }
        },
        {
         "name": "LearnCode",
         "dtype": "object",
         "stats": {
          "unique_count": 5,
          "nan_count": 0,
          "categories": [
           {
            "name": "Other online resources (ex: videos, blogs, etc);Books / Physical media",
            "count": 1
           },
           {
            "name": "Other online resources (ex: videos, blogs, etc);School;Online Forum;Books / Physical media",
            "count": 1
           },
           {
            "name": "3 others",
            "count": 3
           }
          ]
         }
        },
        {
         "name": "YearsCode",
         "dtype": "object",
         "stats": {
          "unique_count": 4,
          "nan_count": 0,
          "categories": [
           {
            "name": "5",
            "count": 2
           },
           {
            "name": "2",
            "count": 1
           },
           {
            "name": "2 others",
            "count": 2
           }
          ]
         }
        },
        {
         "name": "YearsCodePro",
         "dtype": "object",
         "stats": {
          "unique_count": 2,
          "nan_count": 2,
          "categories": [
           {
            "name": "4",
            "count": 2
           },
           {
            "name": "9",
            "count": 1
           },
           {
            "name": "Missing",
            "count": 2
           }
          ]
         }
        },
        {
         "name": "DevType",
         "dtype": "object",
         "stats": {
          "unique_count": 3,
          "nan_count": 2,
          "categories": [
           {
            "name": "Developer, full-stack",
            "count": 1
           },
           {
            "name": "2 others",
            "count": 2
           },
           {
            "name": "Missing",
            "count": 2
           }
          ]
         }
        },
        {
         "name": "OrgSize",
         "dtype": "object",
         "stats": {
          "unique_count": 3,
          "nan_count": 2,
          "categories": [
           {
            "name": "2 to 9 employees",
            "count": 1
           },
           {
            "name": "2 others",
            "count": 2
           },
           {
            "name": "Missing",
            "count": 2
           }
          ]
         }
        },
        {
         "name": "Currency",
         "dtype": "object",
         "stats": {
          "unique_count": 2,
          "nan_count": 2,
          "categories": [
           {
            "name": "INR\tIndian rupee",
            "count": 2
           },
           {
            "name": "USD\tUnited States dollar",
            "count": 1
           },
           {
            "name": "Missing",
            "count": 2
           }
          ]
         }
        },
        {
         "name": "CompTotal",
         "dtype": "float64",
         "stats": {
          "unique_count": 1,
          "nan_count": 4,
          "min": "2400.0",
          "max": "2400.0",
          "histogram": [
           {
            "bin_start": 2399.5,
            "bin_end": 2399.6,
            "count": 0
           },
           {
            "bin_start": 2399.6,
            "bin_end": 2399.7,
            "count": 0
           },
           {
            "bin_start": 2399.7,
            "bin_end": 2399.8,
            "count": 0
           },
           {
            "bin_start": 2399.8,
            "bin_end": 2399.9,
            "count": 0
           },
           {
            "bin_start": 2399.9,
            "bin_end": 2400,
            "count": 0
           },
           {
            "bin_start": 2400,
            "bin_end": 2400.1,
            "count": 1
           },
           {
            "bin_start": 2400.1,
            "bin_end": 2400.2,
            "count": 0
           },
           {
            "bin_start": 2400.2,
            "bin_end": 2400.3,
            "count": 0
           },
           {
            "bin_start": 2400.3,
            "bin_end": 2400.4,
            "count": 0
           },
           {
            "bin_start": 2400.4,
            "bin_end": 2400.5,
            "count": 0
           }
          ]
         }
        },
        {
         "name": "CompFreq",
         "dtype": "object",
         "stats": {
          "unique_count": 1,
          "nan_count": 3,
          "categories": [
           {
            "name": "Monthly",
            "count": 2
           },
           {
            "name": "Missing",
            "count": 3
           }
          ]
         }
        },
        {
         "name": "LanguageHaveWorkedWith",
         "dtype": "object",
         "stats": {
          "unique_count": 5,
          "nan_count": 0,
          "categories": [
           {
            "name": "Dart;F#;Node.js",
            "count": 1
           },
           {
            "name": "C;C#;C++;Haskell;Java;Python",
            "count": 1
           },
           {
            "name": "3 others",
            "count": 3
           }
          ]
         }
        },
        {
         "name": "LanguageWantToWorkWith",
         "dtype": "object",
         "stats": {
          "unique_count": 5,
          "nan_count": 0,
          "categories": [
           {
            "name": "C;Clojure",
            "count": 1
           },
           {
            "name": "C#;C++;Python",
            "count": 1
           },
           {
            "name": "3 others",
            "count": 3
           }
          ]
         }
        },
        {
         "name": "DatabaseHaveWorkedWith",
         "dtype": "object",
         "stats": {
          "unique_count": 3,
          "nan_count": 2,
          "categories": [
           {
            "name": "MongoDB",
            "count": 1
           },
           {
            "name": "2 others",
            "count": 2
           },
           {
            "name": "Missing",
            "count": 2
           }
          ]
         }
        },
        {
         "name": "DatabaseWantToWorkWith",
         "dtype": "object",
         "stats": {
          "unique_count": 3,
          "nan_count": 2,
          "categories": [
           {
            "name": "MongoDB",
            "count": 1
           },
           {
            "name": "2 others",
            "count": 2
           },
           {
            "name": "Missing",
            "count": 2
           }
          ]
         }
        },
        {
         "name": "PlatformHaveWorkedWith",
         "dtype": "object",
         "stats": {
          "unique_count": 1,
          "nan_count": 4,
          "categories": [
           {
            "name": "Google Cloud Platform;Heroku",
            "count": 1
           },
           {
            "name": "Missing",
            "count": 4
           }
          ]
         }
        },
        {
         "name": "PlatformWantToWorkWith",
         "dtype": "object",
         "stats": {
          "unique_count": 1,
          "nan_count": 4,
          "categories": [
           {
            "name": "DigitalOcean;Google Cloud Platform;Heroku;Microsoft Azure",
            "count": 1
           },
           {
            "name": "Missing",
            "count": 4
           }
          ]
         }
        },
        {
         "name": "WebframeHaveWorkedWith",
         "dtype": "object",
         "stats": {
          "unique_count": 3,
          "nan_count": 2,
          "categories": [
           {
            "name": "Gatsby;Vue.js",
            "count": 1
           },
           {
            "name": "2 others",
            "count": 2
           },
           {
            "name": "Missing",
            "count": 2
           }
          ]
         }
        },
        {
         "name": "WebframeWantToWorkWith",
         "dtype": "object",
         "stats": {
          "unique_count": 3,
          "nan_count": 2,
          "categories": [
           {
            "name": "Flask;Svelte",
            "count": 1
           },
           {
            "name": "2 others",
            "count": 2
           },
           {
            "name": "Missing",
            "count": 2
           }
          ]
         }
        },
        {
         "name": "MiscTechHaveWorkedWith",
         "dtype": "object",
         "stats": {
          "unique_count": 3,
          "nan_count": 2,
          "categories": [
           {
            "name": "Flutter",
            "count": 1
           },
           {
            "name": "2 others",
            "count": 2
           },
           {
            "name": "Missing",
            "count": 2
           }
          ]
         }
        },
        {
         "name": "MiscTechWantToWorkWith",
         "dtype": "object",
         "stats": {
          "unique_count": 3,
          "nan_count": 2,
          "categories": [
           {
            "name": "Flutter",
            "count": 1
           },
           {
            "name": "2 others",
            "count": 2
           },
           {
            "name": "Missing",
            "count": 2
           }
          ]
         }
        },
        {
         "name": "ToolsTechHaveWorkedWith",
         "dtype": "object",
         "stats": {
          "unique_count": 2,
          "nan_count": 1,
          "categories": [
           {
            "name": "Git",
            "count": 3
           },
           {
            "name": "Docker;Git;Yarn",
            "count": 1
           },
           {
            "name": "Missing",
            "count": 1
           }
          ]
         }
        },
        {
         "name": "ToolsTechWantToWorkWith",
         "dtype": "object",
         "stats": {
          "unique_count": 2,
          "nan_count": 1,
          "categories": [
           {
            "name": "Git",
            "count": 3
           },
           {
            "name": "Docker;Git;Kubernetes;Unity 3D;Yarn",
            "count": 1
           },
           {
            "name": "Missing",
            "count": 1
           }
          ]
         }
        },
        {
         "name": "NEWCollabToolsHaveWorkedWith",
         "dtype": "object",
         "stats": {
          "unique_count": 5,
          "nan_count": 0,
          "categories": [
           {
            "name": "Vim;Visual Studio Code",
            "count": 1
           },
           {
            "name": "Vim;Visual Studio;Visual Studio Code",
            "count": 1
           },
           {
            "name": "3 others",
            "count": 3
           }
          ]
         }
        },
        {
         "name": "NEWCollabToolsWantToWorkWith",
         "dtype": "object",
         "stats": {
          "unique_count": 5,
          "nan_count": 0,
          "categories": [
           {
            "name": "Vim;Visual Studio Code",
            "count": 1
           },
           {
            "name": "Vim;Visual Studio;Visual Studio Code",
            "count": 1
           },
           {
            "name": "3 others",
            "count": 3
           }
          ]
         }
        },
        {
         "name": "OpSys",
         "dtype": "object",
         "stats": {
          "unique_count": 3,
          "nan_count": 0,
          "categories": [
           {
            "name": "Linux-based",
            "count": 3
           },
           {
            "name": "Windows",
            "count": 1
           },
           {
            "name": "MacOS",
            "count": 1
           }
          ]
         }
        },
        {
         "name": "NEWStuck",
         "dtype": "object",
         "stats": {
          "unique_count": 4,
          "nan_count": 0,
          "categories": [
           {
            "name": "Visit Stack Overflow;Google it;Watch help / tutorial videos",
            "count": 2
           },
           {
            "name": "Go for a walk or other physical activity;Google it;Watch help / tutorial videos;Do other work and come back later;Other (please specify):",
            "count": 1
           },
           {
            "name": "2 others",
            "count": 2
           }
          ]
         }
        },
        {
         "name": "NEWSOSites",
         "dtype": "object",
         "stats": {
          "unique_count": 2,
          "nan_count": 0,
          "categories": [
           {
            "name": "Stack Overflow;Stack Exchange",
            "count": 3
           },
           {
            "name": "Stack Overflow",
            "count": 2
           }
          ]
         }
        },
        {
         "name": "SOVisitFreq",
         "dtype": "object",
         "stats": {
          "unique_count": 3,
          "nan_count": 0,
          "categories": [
           {
            "name": "A few times per week",
            "count": 2
           },
           {
            "name": "Multiple times per day",
            "count": 2
           },
           {
            "name": "Daily or almost daily",
            "count": 1
           }
          ]
         }
        },
        {
         "name": "SOAccount",
         "dtype": "object",
         "stats": {
          "unique_count": 2,
          "nan_count": 0,
          "categories": [
           {
            "name": "Yes",
            "count": 4
           },
           {
            "name": "No",
            "count": 1
           }
          ]
         }
        },
        {
         "name": "SOPartFreq",
         "dtype": "object",
         "stats": {
          "unique_count": 3,
          "nan_count": 1,
          "categories": [
           {
            "name": "I have never participated in Q&A on Stack Overflow",
            "count": 2
           },
           {
            "name": "2 others",
            "count": 2
           },
           {
            "name": "Missing",
            "count": 1
           }
          ]
         }
        },
        {
         "name": "SOComm",
         "dtype": "object",
         "stats": {
          "unique_count": 3,
          "nan_count": 0,
          "categories": [
           {
            "name": "Yes, definitely",
            "count": 3
           },
           {
            "name": "No, not really",
            "count": 1
           },
           {
            "name": "Neutral",
            "count": 1
           }
          ]
         }
        },
        {
         "name": "NEWOtherComms",
         "dtype": "object",
         "stats": {
          "unique_count": 2,
          "nan_count": 0,
          "categories": [
           {
            "name": "No",
            "count": 3
           },
           {
            "name": "Yes",
            "count": 2
           }
          ]
         }
        },
        {
         "name": "Age",
         "dtype": "object",
         "stats": {
          "unique_count": 3,
          "nan_count": 0,
          "categories": [
           {
            "name": "18-24 years old",
            "count": 2
           },
           {
            "name": "25-34 years old",
            "count": 2
           },
           {
            "name": "Prefer not to say",
            "count": 1
           }
          ]
         }
        },
        {
         "name": "Gender",
         "dtype": "object",
         "stats": {
          "unique_count": 2,
          "nan_count": 0,
          "categories": [
           {
            "name": "Man",
            "count": 4
           },
           {
            "name": "Prefer not to say",
            "count": 1
           }
          ]
         }
        },
        {
         "name": "Trans",
         "dtype": "object",
         "stats": {
          "unique_count": 2,
          "nan_count": 0,
          "categories": [
           {
            "name": "No",
            "count": 4
           },
           {
            "name": "Prefer not to say",
            "count": 1
           }
          ]
         }
        },
        {
         "name": "Sexuality",
         "dtype": "object",
         "stats": {
          "unique_count": 2,
          "nan_count": 1,
          "categories": [
           {
            "name": "Straight / Heterosexual",
            "count": 3
           },
           {
            "name": "Prefer not to say",
            "count": 1
           },
           {
            "name": "Missing",
            "count": 1
           }
          ]
         }
        },
        {
         "name": "Ethnicity",
         "dtype": "object",
         "stats": {
          "unique_count": 4,
          "nan_count": 0,
          "categories": [
           {
            "name": "White or of European descent",
            "count": 2
           },
           {
            "name": "Middle Eastern",
            "count": 1
           },
           {
            "name": "2 others",
            "count": 2
           }
          ]
         }
        },
        {
         "name": "Accessibility",
         "dtype": "object",
         "stats": {
          "unique_count": 2,
          "nan_count": 1,
          "categories": [
           {
            "name": "None of the above",
            "count": 3
           },
           {
            "name": "Prefer not to say",
            "count": 1
           },
           {
            "name": "Missing",
            "count": 1
           }
          ]
         }
        },
        {
         "name": "MentalHealth",
         "dtype": "object",
         "stats": {
          "unique_count": 2,
          "nan_count": 1,
          "categories": [
           {
            "name": "None of the above",
            "count": 3
           },
           {
            "name": "Prefer not to say",
            "count": 1
           },
           {
            "name": "Missing",
            "count": 1
           }
          ]
         }
        },
        {
         "name": "SurveyLength",
         "dtype": "object",
         "stats": {
          "unique_count": 2,
          "nan_count": 1,
          "categories": [
           {
            "name": "Appropriate in length",
            "count": 3
           },
           {
            "name": "Too short",
            "count": 1
           },
           {
            "name": "Missing",
            "count": 1
           }
          ]
         }
        },
        {
         "name": "SurveyEase",
         "dtype": "object",
         "stats": {
          "unique_count": 1,
          "nan_count": 1,
          "categories": [
           {
            "name": "Easy",
            "count": 4
           },
           {
            "name": "Missing",
            "count": 1
           }
          ]
         }
        },
        {
         "name": "ConvertedCompYearly",
         "dtype": "float64",
         "stats": {
          "unique_count": 1,
          "nan_count": 4,
          "min": "28800.0",
          "max": "28800.0",
          "histogram": [
           {
            "bin_start": 28799.5,
            "bin_end": 28799.6,
            "count": 0
           },
           {
            "bin_start": 28799.6,
            "bin_end": 28799.7,
            "count": 0
           },
           {
            "bin_start": 28799.7,
            "bin_end": 28799.8,
            "count": 0
           },
           {
            "bin_start": 28799.8,
            "bin_end": 28799.9,
            "count": 0
           },
           {
            "bin_start": 28799.9,
            "bin_end": 28800,
            "count": 0
           },
           {
            "bin_start": 28800,
            "bin_end": 28800.1,
            "count": 1
           },
           {
            "bin_start": 28800.1,
            "bin_end": 28800.2,
            "count": 0
           },
           {
            "bin_start": 28800.2,
            "bin_end": 28800.3,
            "count": 0
           },
           {
            "bin_start": 28800.3,
            "bin_end": 28800.4,
            "count": 0
           },
           {
            "bin_start": 28800.4,
            "bin_end": 28800.5,
            "count": 0
           }
          ]
         }
        },
        {
         "name": "_deepnote_index_column",
         "dtype": "int64"
        }
       ],
       "rows": [
        {
         "ResponseId": 12142,
         "MainBranch": "I am not primarily a developer, but I write code sometimes as part of my work",
         "Employment": "Student, full-time",
         "Country": "Saudi Arabia",
         "US_State": "nan",
         "UK_Country": "nan",
         "EdLevel": "Secondary school (e.g. American high school, German Realschule or Gymnasium, etc.)",
         "Age1stCode": "11 - 17 years",
         "LearnCode": "Other online resources (ex: videos, blogs, etc);Books / Physical media",
         "YearsCode": "2",
         "YearsCodePro": "nan",
         "DevType": "nan",
         "OrgSize": "nan",
         "Currency": "nan",
         "CompTotal": "nan",
         "CompFreq": "nan",
         "LanguageHaveWorkedWith": "Dart;F#;Node.js",
         "LanguageWantToWorkWith": "C;Clojure",
         "DatabaseHaveWorkedWith": "nan",
         "DatabaseWantToWorkWith": "nan",
         "PlatformHaveWorkedWith": "nan",
         "PlatformWantToWorkWith": "nan",
         "WebframeHaveWorkedWith": "Gatsby;Vue.js",
         "WebframeWantToWorkWith": "Flask;Svelte",
         "MiscTechHaveWorkedWith": "Flutter",
         "MiscTechWantToWorkWith": "Flutter",
         "ToolsTechHaveWorkedWith": "nan",
         "ToolsTechWantToWorkWith": "nan",
         "NEWCollabToolsHaveWorkedWith": "Vim;Visual Studio Code",
         "NEWCollabToolsWantToWorkWith": "Vim;Visual Studio Code",
         "OpSys": "Linux-based",
         "NEWStuck": "Go for a walk or other physical activity;Google it;Watch help / tutorial videos;Do other work and c…",
         "NEWSOSites": "Stack Overflow",
         "SOVisitFreq": "A few times per week",
         "SOAccount": "Yes",
         "SOPartFreq": "I have never participated in Q&A on Stack Overflow",
         "SOComm": "No, not really",
         "NEWOtherComms": "Yes",
         "Age": "18-24 years old",
         "Gender": "Man",
         "Trans": "No",
         "Sexuality": "nan",
         "Ethnicity": "Middle Eastern",
         "Accessibility": "nan",
         "MentalHealth": "nan",
         "SurveyLength": "nan",
         "SurveyEase": "nan",
         "ConvertedCompYearly": "nan",
         "_deepnote_index_column": 12141
        },
        {
         "ResponseId": 9238,
         "MainBranch": "I am a student who is learning to code",
         "Employment": "Student, full-time",
         "Country": "Germany",
         "US_State": "nan",
         "UK_Country": "nan",
         "EdLevel": "Some college/university study without earning a degree",
         "Age1stCode": "11 - 17 years",
         "LearnCode": "Other online resources (ex: videos, blogs, etc);School;Online Forum;Books / Physical media",
         "YearsCode": "5",
         "YearsCodePro": "nan",
         "DevType": "nan",
         "OrgSize": "nan",
         "Currency": "nan",
         "CompTotal": "nan",
         "CompFreq": "nan",
         "LanguageHaveWorkedWith": "C;C#;C++;Haskell;Java;Python",
         "LanguageWantToWorkWith": "C#;C++;Python",
         "DatabaseHaveWorkedWith": "nan",
         "DatabaseWantToWorkWith": "nan",
         "PlatformHaveWorkedWith": "nan",
         "PlatformWantToWorkWith": "nan",
         "WebframeHaveWorkedWith": "nan",
         "WebframeWantToWorkWith": "nan",
         "MiscTechHaveWorkedWith": ".NET Framework;.NET Core / .NET 5;NumPy",
         "MiscTechWantToWorkWith": ".NET Framework;.NET Core / .NET 5;Keras;NumPy;Pandas;TensorFlow",
         "ToolsTechHaveWorkedWith": "Git",
         "ToolsTechWantToWorkWith": "Git",
         "NEWCollabToolsHaveWorkedWith": "Vim;Visual Studio;Visual Studio Code",
         "NEWCollabToolsWantToWorkWith": "Vim;Visual Studio;Visual Studio Code",
         "OpSys": "Windows",
         "NEWStuck": "Visit Stack Overflow;Go for a walk or other physical activity;Google it;Watch help / tutorial video…",
         "NEWSOSites": "Stack Overflow",
         "SOVisitFreq": "A few times per week",
         "SOAccount": "Yes",
         "SOPartFreq": "I have never participated in Q&A on Stack Overflow",
         "SOComm": "Yes, definitely",
         "NEWOtherComms": "No",
         "Age": "18-24 years old",
         "Gender": "Man",
         "Trans": "No",
         "Sexuality": "Straight / Heterosexual",
         "Ethnicity": "White or of European descent",
         "Accessibility": "None of the above",
         "MentalHealth": "None of the above",
         "SurveyLength": "Appropriate in length",
         "SurveyEase": "Easy",
         "ConvertedCompYearly": "nan",
         "_deepnote_index_column": 9237
        },
        {
         "ResponseId": 72633,
         "MainBranch": "I am a developer by profession",
         "Employment": "Employed full-time",
         "Country": "India",
         "US_State": "nan",
         "UK_Country": "nan",
         "EdLevel": "Some college/university study without earning a degree",
         "Age1stCode": "18 - 24 years",
         "LearnCode": "Online Forum;Friend or family member;Colleague",
         "YearsCode": "5",
         "YearsCodePro": "4",
         "DevType": "Developer, full-stack",
         "OrgSize": "2 to 9 employees",
         "Currency": "INR\tIndian rupee",
         "CompTotal": "nan",
         "CompFreq": "Monthly",
         "LanguageHaveWorkedWith": "HTML/CSS;JavaScript;Node.js;TypeScript",
         "LanguageWantToWorkWith": "HTML/CSS;JavaScript;Node.js;TypeScript",
         "DatabaseHaveWorkedWith": "MongoDB",
         "DatabaseWantToWorkWith": "MongoDB",
         "PlatformHaveWorkedWith": "nan",
         "PlatformWantToWorkWith": "nan",
         "WebframeHaveWorkedWith": "Angular;jQuery",
         "WebframeWantToWorkWith": "Angular;jQuery",
         "MiscTechHaveWorkedWith": "nan",
         "MiscTechWantToWorkWith": "nan",
         "ToolsTechHaveWorkedWith": "Git",
         "ToolsTechWantToWorkWith": "Git",
         "NEWCollabToolsHaveWorkedWith": "Visual Studio Code",
         "NEWCollabToolsWantToWorkWith": "Visual Studio Code",
         "OpSys": "Linux-based",
         "NEWStuck": "Visit Stack Overflow;Google it;Watch help / tutorial videos",
         "NEWSOSites": "Stack Overflow;Stack Exchange",
         "SOVisitFreq": "Multiple times per day",
         "SOAccount": "No",
         "SOPartFreq": "nan",
         "SOComm": "Neutral",
         "NEWOtherComms": "No",
         "Age": "25-34 years old",
         "Gender": "Man",
         "Trans": "No",
         "Sexuality": "Straight / Heterosexual",
         "Ethnicity": "Or, in your own words:",
         "Accessibility": "None of the above",
         "MentalHealth": "None of the above",
         "SurveyLength": "Appropriate in length",
         "SurveyEase": "Easy",
         "ConvertedCompYearly": "nan",
         "_deepnote_index_column": 72632
        },
        {
         "ResponseId": 77707,
         "MainBranch": "I am a developer by profession",
         "Employment": "Employed full-time",
         "Country": "Russian Federation",
         "US_State": "nan",
         "UK_Country": "nan",
         "EdLevel": "Master’s degree (M.A., M.S., M.Eng., MBA, etc.)",
         "Age1stCode": "11 - 17 years",
         "LearnCode": "School;Books / Physical media",
         "YearsCode": "20",
         "YearsCodePro": "9",
         "DevType": "Developer, mobile",
         "OrgSize": "500 to 999 employees",
         "Currency": "USD\tUnited States dollar",
         "CompTotal": 2400,
         "CompFreq": "Monthly",
         "LanguageHaveWorkedWith": "Bash/Shell;HTML/CSS;JavaScript;Objective-C;Python;SQL;Swift",
         "LanguageWantToWorkWith": "Bash/Shell;JavaScript;Objective-C;SQL",
         "DatabaseHaveWorkedWith": "SQLite",
         "DatabaseWantToWorkWith": "SQLite",
         "PlatformHaveWorkedWith": "nan",
         "PlatformWantToWorkWith": "nan",
         "WebframeHaveWorkedWith": "nan",
         "WebframeWantToWorkWith": "nan",
         "MiscTechHaveWorkedWith": "nan",
         "MiscTechWantToWorkWith": "nan",
         "ToolsTechHaveWorkedWith": "Git",
         "ToolsTechWantToWorkWith": "Git",
         "NEWCollabToolsHaveWorkedWith": "Android Studio;Visual Studio Code;Xcode",
         "NEWCollabToolsWantToWorkWith": "Visual Studio Code;Xcode",
         "OpSys": "MacOS",
         "NEWStuck": "Visit Stack Overflow;Google it;Do other work and come back later",
         "NEWSOSites": "Stack Overflow;Stack Exchange",
         "SOVisitFreq": "Daily or almost daily",
         "SOAccount": "Yes",
         "SOPartFreq": "Less than once per month or monthly",
         "SOComm": "Yes, definitely",
         "NEWOtherComms": "No",
         "Age": "25-34 years old",
         "Gender": "Man",
         "Trans": "No",
         "Sexuality": "Straight / Heterosexual",
         "Ethnicity": "White or of European descent",
         "Accessibility": "None of the above",
         "MentalHealth": "None of the above",
         "SurveyLength": "Too short",
         "SurveyEase": "Easy",
         "ConvertedCompYearly": 28800,
         "_deepnote_index_column": 77706
        },
        {
         "ResponseId": 1123,
         "MainBranch": "I am a developer by profession",
         "Employment": "Employed full-time",
         "Country": "India",
         "US_State": "nan",
         "UK_Country": "nan",
         "EdLevel": "Master’s degree (M.A., M.S., M.Eng., MBA, etc.)",
         "Age1stCode": "11 - 17 years",
         "LearnCode": "Other online resources (ex: videos, blogs, etc);School;Online Forum;Friend or family member;Online …",
         "YearsCode": "8",
         "YearsCodePro": "4",
         "DevType": "Developer, mobile;Developer, front-end;Developer, desktop or enterprise applications;Developer, ful…",
         "OrgSize": "I don’t know",
         "Currency": "INR\tIndian rupee",
         "CompTotal": "nan",
         "CompFreq": "nan",
         "LanguageHaveWorkedWith": "Assembly;C;C++;HTML/CSS;Java;JavaScript;Node.js;PHP;SQL;TypeScript;VBA",
         "LanguageWantToWorkWith": "Go;HTML/CSS;Java;JavaScript;Kotlin;Python;Swift",
         "DatabaseHaveWorkedWith": "Firebase;Microsoft SQL Server;MySQL;Oracle;PostgreSQL",
         "DatabaseWantToWorkWith": "Firebase;Microsoft SQL Server;MongoDB;MySQL;Oracle;PostgreSQL;Redis;SQLite",
         "PlatformHaveWorkedWith": "Google Cloud Platform;Heroku",
         "PlatformWantToWorkWith": "DigitalOcean;Google Cloud Platform;Heroku;Microsoft Azure",
         "WebframeHaveWorkedWith": "Angular;Angular.js;Express;React.js",
         "WebframeWantToWorkWith": "Django;Express;React.js;Vue.js",
         "MiscTechHaveWorkedWith": ".NET Framework;.NET Core / .NET 5;Cordova;React Native",
         "MiscTechWantToWorkWith": "Cordova;Flutter;React Native",
         "ToolsTechHaveWorkedWith": "Docker;Git;Yarn",
         "ToolsTechWantToWorkWith": "Docker;Git;Kubernetes;Unity 3D;Yarn",
         "NEWCollabToolsHaveWorkedWith": "Android Studio;Atom;Eclipse;IntelliJ;NetBeans;Notepad++;Sublime Text;Visual Studio;Visual Studio Co…",
         "NEWCollabToolsWantToWorkWith": "Android Studio;Atom;Eclipse;IntelliJ;NetBeans;Notepad++;Sublime Text;Visual Studio;Visual Studio Co…",
         "OpSys": "Linux-based",
         "NEWStuck": "Visit Stack Overflow;Google it;Watch help / tutorial videos",
         "NEWSOSites": "Stack Overflow;Stack Exchange",
         "SOVisitFreq": "Multiple times per day",
         "SOAccount": "Yes",
         "SOPartFreq": "A few times per month or weekly",
         "SOComm": "Yes, definitely",
         "NEWOtherComms": "Yes",
         "Age": "Prefer not to say",
         "Gender": "Prefer not to say",
         "Trans": "Prefer not to say",
         "Sexuality": "Prefer not to say",
         "Ethnicity": "Prefer not to say",
         "Accessibility": "Prefer not to say",
         "MentalHealth": "Prefer not to say",
         "SurveyLength": "Appropriate in length",
         "SurveyEase": "Easy",
         "ConvertedCompYearly": "nan",
         "_deepnote_index_column": 1122
        }
       ]
      },
      "text/plain": "       ResponseId                                         MainBranch  \\\n12141       12142  I am not primarily a developer, but I write co...   \n9237         9238             I am a student who is learning to code   \n72632       72633                     I am a developer by profession   \n77706       77707                     I am a developer by profession   \n1122         1123                     I am a developer by profession   \n\n               Employment             Country US_State UK_Country  \\\n12141  Student, full-time        Saudi Arabia      NaN        NaN   \n9237   Student, full-time             Germany      NaN        NaN   \n72632  Employed full-time               India      NaN        NaN   \n77706  Employed full-time  Russian Federation      NaN        NaN   \n1122   Employed full-time               India      NaN        NaN   \n\n                                                 EdLevel     Age1stCode  \\\n12141  Secondary school (e.g. American high school, G...  11 - 17 years   \n9237   Some college/university study without earning ...  11 - 17 years   \n72632  Some college/university study without earning ...  18 - 24 years   \n77706    Master’s degree (M.A., M.S., M.Eng., MBA, etc.)  11 - 17 years   \n1122     Master’s degree (M.A., M.S., M.Eng., MBA, etc.)  11 - 17 years   \n\n                                               LearnCode YearsCode  ...  \\\n12141  Other online resources (ex: videos, blogs, etc...         2  ...   \n9237   Other online resources (ex: videos, blogs, etc...         5  ...   \n72632     Online Forum;Friend or family member;Colleague         5  ...   \n77706                      School;Books / Physical media        20  ...   \n1122   Other online resources (ex: videos, blogs, etc...         8  ...   \n\n                     Age             Gender              Trans  \\\n12141    18-24 years old                Man                 No   \n9237     18-24 years old                Man                 No   \n72632    25-34 years old                Man                 No   \n77706    25-34 years old                Man                 No   \n1122   Prefer not to say  Prefer not to say  Prefer not to say   \n\n                     Sexuality                     Ethnicity  \\\n12141                      NaN                Middle Eastern   \n9237   Straight / Heterosexual  White or of European descent   \n72632  Straight / Heterosexual        Or, in your own words:   \n77706  Straight / Heterosexual  White or of European descent   \n1122         Prefer not to say             Prefer not to say   \n\n           Accessibility       MentalHealth           SurveyLength SurveyEase  \\\n12141                NaN                NaN                    NaN        NaN   \n9237   None of the above  None of the above  Appropriate in length       Easy   \n72632  None of the above  None of the above  Appropriate in length       Easy   \n77706  None of the above  None of the above              Too short       Easy   \n1122   Prefer not to say  Prefer not to say  Appropriate in length       Easy   \n\n      ConvertedCompYearly  \n12141                 NaN  \n9237                  NaN  \n72632                 NaN  \n77706             28800.0  \n1122                  NaN  \n\n[5 rows x 48 columns]",
      "text/html": "<div>\n<style scoped>\n    .dataframe tbody tr th:only-of-type {\n        vertical-align: middle;\n    }\n\n    .dataframe tbody tr th {\n        vertical-align: top;\n    }\n\n    .dataframe thead th {\n        text-align: right;\n    }\n</style>\n<table border=\"1\" class=\"dataframe\">\n  <thead>\n    <tr style=\"text-align: right;\">\n      <th></th>\n      <th>ResponseId</th>\n      <th>MainBranch</th>\n      <th>Employment</th>\n      <th>Country</th>\n      <th>US_State</th>\n      <th>UK_Country</th>\n      <th>EdLevel</th>\n      <th>Age1stCode</th>\n      <th>LearnCode</th>\n      <th>YearsCode</th>\n      <th>...</th>\n      <th>Age</th>\n      <th>Gender</th>\n      <th>Trans</th>\n      <th>Sexuality</th>\n      <th>Ethnicity</th>\n      <th>Accessibility</th>\n      <th>MentalHealth</th>\n      <th>SurveyLength</th>\n      <th>SurveyEase</th>\n      <th>ConvertedCompYearly</th>\n    </tr>\n  </thead>\n  <tbody>\n    <tr>\n      <th>12141</th>\n      <td>12142</td>\n      <td>I am not primarily a developer, but I write co...</td>\n      <td>Student, full-time</td>\n      <td>Saudi Arabia</td>\n      <td>NaN</td>\n      <td>NaN</td>\n      <td>Secondary school (e.g. American high school, G...</td>\n      <td>11 - 17 years</td>\n      <td>Other online resources (ex: videos, blogs, etc...</td>\n      <td>2</td>\n      <td>...</td>\n      <td>18-24 years old</td>\n      <td>Man</td>\n      <td>No</td>\n      <td>NaN</td>\n      <td>Middle Eastern</td>\n      <td>NaN</td>\n      <td>NaN</td>\n      <td>NaN</td>\n      <td>NaN</td>\n      <td>NaN</td>\n    </tr>\n    <tr>\n      <th>9237</th>\n      <td>9238</td>\n      <td>I am a student who is learning to code</td>\n      <td>Student, full-time</td>\n      <td>Germany</td>\n      <td>NaN</td>\n      <td>NaN</td>\n      <td>Some college/university study without earning ...</td>\n      <td>11 - 17 years</td>\n      <td>Other online resources (ex: videos, blogs, etc...</td>\n      <td>5</td>\n      <td>...</td>\n      <td>18-24 years old</td>\n      <td>Man</td>\n      <td>No</td>\n      <td>Straight / Heterosexual</td>\n      <td>White or of European descent</td>\n      <td>None of the above</td>\n      <td>None of the above</td>\n      <td>Appropriate in length</td>\n      <td>Easy</td>\n      <td>NaN</td>\n    </tr>\n    <tr>\n      <th>72632</th>\n      <td>72633</td>\n      <td>I am a developer by profession</td>\n      <td>Employed full-time</td>\n      <td>India</td>\n      <td>NaN</td>\n      <td>NaN</td>\n      <td>Some college/university study without earning ...</td>\n      <td>18 - 24 years</td>\n      <td>Online Forum;Friend or family member;Colleague</td>\n      <td>5</td>\n      <td>...</td>\n      <td>25-34 years old</td>\n      <td>Man</td>\n      <td>No</td>\n      <td>Straight / Heterosexual</td>\n      <td>Or, in your own words:</td>\n      <td>None of the above</td>\n      <td>None of the above</td>\n      <td>Appropriate in length</td>\n      <td>Easy</td>\n      <td>NaN</td>\n    </tr>\n    <tr>\n      <th>77706</th>\n      <td>77707</td>\n      <td>I am a developer by profession</td>\n      <td>Employed full-time</td>\n      <td>Russian Federation</td>\n      <td>NaN</td>\n      <td>NaN</td>\n      <td>Master’s degree (M.A., M.S., M.Eng., MBA, etc.)</td>\n      <td>11 - 17 years</td>\n      <td>School;Books / Physical media</td>\n      <td>20</td>\n      <td>...</td>\n      <td>25-34 years old</td>\n      <td>Man</td>\n      <td>No</td>\n      <td>Straight / Heterosexual</td>\n      <td>White or of European descent</td>\n      <td>None of the above</td>\n      <td>None of the above</td>\n      <td>Too short</td>\n      <td>Easy</td>\n      <td>28800.0</td>\n    </tr>\n    <tr>\n      <th>1122</th>\n      <td>1123</td>\n      <td>I am a developer by profession</td>\n      <td>Employed full-time</td>\n      <td>India</td>\n      <td>NaN</td>\n      <td>NaN</td>\n      <td>Master’s degree (M.A., M.S., M.Eng., MBA, etc.)</td>\n      <td>11 - 17 years</td>\n      <td>Other online resources (ex: videos, blogs, etc...</td>\n      <td>8</td>\n      <td>...</td>\n      <td>Prefer not to say</td>\n      <td>Prefer not to say</td>\n      <td>Prefer not to say</td>\n      <td>Prefer not to say</td>\n      <td>Prefer not to say</td>\n      <td>Prefer not to say</td>\n      <td>Prefer not to say</td>\n      <td>Appropriate in length</td>\n      <td>Easy</td>\n      <td>NaN</td>\n    </tr>\n  </tbody>\n</table>\n<p>5 rows × 48 columns</p>\n</div>"
     },
     "metadata": {}
    }
   ],
   "execution_count": null
  },
  {
   "cell_type": "markdown",
   "source": "Seleccionar las columnas que pueden ayudar a contestar las preguntas (mostradas en el siguiente notebook). Y también los países hispanohablantes para filtrar la data (también se incluyó a Brasil).",
   "metadata": {
    "cell_id": "560413b1-9f1c-4445-bc54-dede3316235e",
    "tags": [],
    "deepnote_cell_type": "markdown"
   }
  },
  {
   "cell_type": "code",
   "metadata": {
    "cell_id": "ad6bc086-52e3-45b5-9e56-1fef3e644e22",
    "tags": [],
    "deepnote_to_be_reexecuted": false,
    "source_hash": "353ce130",
    "execution_start": 1645639846803,
    "execution_millis": 11,
    "deepnote_cell_type": "code"
   },
   "source": "# Select columns\ncolumns = ['ResponseId', 'Age', 'Gender', 'Trans', 'Sexuality', 'Country',\n            'EdLevel', 'Age1stCode', 'LearnCode', 'YearsCode', 'YearsCodePro',\n            'MainBranch', 'Employment', 'DevType', 'ConvertedCompYearly']\n\n# Filter registers by countries\nlatam = ['Peru', 'Colombia', 'Chile', 'Argentina', 'Costa Rica', 'Bolivia',\n            'Uruguay', 'Mexico', 'Venezuela, Bolivarian Republic of...'\n            'Dominican Republic', 'Ecuador', 'Guatemala', 'Paraguay', 'Panama',\n            'El Salvador', 'Nicaragua', 'Brazil', 'Spain']\n\n# New dataset\nin_latam = df_survey.Country.isin(latam)\ndf = df_survey[in_latam][columns]",
   "outputs": [],
   "execution_count": null
  },
  {
   "cell_type": "code",
   "metadata": {
    "cell_id": "49fdfe8a-344a-44bb-ab16-01603888694d",
    "tags": [],
    "deepnote_to_be_reexecuted": false,
    "source_hash": "48bf3b4d",
    "execution_start": 1645639846818,
    "execution_millis": 5,
    "deepnote_cell_type": "code"
   },
   "source": "s = df.shape\np = s[0] / df_survey.shape[0] * 100\nprint(f'Registros: {s[0]}')\nprint(f'Porcentaje total del dataset: {round(p,2)}%')\nprint(f'Preguntas: {s[1]}')",
   "outputs": [
    {
     "name": "stdout",
     "text": "Registros: 6337\nPorcentaje total del dataset: 7.59%\nPreguntas: 15\n",
     "output_type": "stream"
    }
   ],
   "execution_count": null
  },
  {
   "cell_type": "markdown",
   "source": "Veamos los tipos de datos y qué contienen las variables",
   "metadata": {
    "cell_id": "d576ea7e-f1ec-4ca4-8a50-993acbdbd1d2",
    "tags": [],
    "deepnote_to_be_reexecuted": false,
    "source_hash": "1d89ab00",
    "execution_start": 1645585403819,
    "execution_millis": 6,
    "deepnote_cell_type": "markdown"
   }
  },
  {
   "cell_type": "code",
   "metadata": {
    "cell_id": "16ee751e-5197-4c1e-9470-e73178fb5fe7",
    "tags": [],
    "deepnote_to_be_reexecuted": false,
    "source_hash": "de1e323c",
    "execution_start": 1645639846833,
    "execution_millis": 63,
    "deepnote_cell_type": "code"
   },
   "source": "df.info()",
   "outputs": [
    {
     "name": "stdout",
     "text": "<class 'pandas.core.frame.DataFrame'>\nInt64Index: 6337 entries, 11 to 83438\nData columns (total 15 columns):\n #   Column               Non-Null Count  Dtype  \n---  ------               --------------  -----  \n 0   ResponseId           6337 non-null   int64  \n 1   Age                  6307 non-null   object \n 2   Gender               6305 non-null   object \n 3   Trans                6244 non-null   object \n 4   Sexuality            5885 non-null   object \n 5   Country              6337 non-null   object \n 6   EdLevel              6322 non-null   object \n 7   Age1stCode           6330 non-null   object \n 8   LearnCode            6316 non-null   object \n 9   YearsCode            6254 non-null   object \n 10  YearsCodePro         5160 non-null   object \n 11  MainBranch           6337 non-null   object \n 12  Employment           6335 non-null   object \n 13  DevType              5554 non-null   object \n 14  ConvertedCompYearly  4389 non-null   float64\ndtypes: float64(1), int64(1), object(13)\nmemory usage: 792.1+ KB\n",
     "output_type": "stream"
    }
   ],
   "execution_count": null
  },
  {
   "cell_type": "code",
   "metadata": {
    "cell_id": "53827ed4-8dba-488e-a0c1-3fe976d55865",
    "tags": [],
    "deepnote_to_be_reexecuted": false,
    "source_hash": "b1cecf2d",
    "execution_start": 1645639846879,
    "execution_millis": 72,
    "deepnote_cell_type": "code"
   },
   "source": "df.describe(include='all')",
   "outputs": [
    {
     "output_type": "execute_result",
     "execution_count": 8,
     "data": {
      "application/vnd.deepnote.dataframe.v3+json": {
       "column_count": 15,
       "row_count": 11,
       "columns": [
        {
         "name": "ResponseId",
         "dtype": "float64",
         "stats": {
          "unique_count": 8,
          "nan_count": 3,
          "min": "12.0",
          "max": "83439.0",
          "histogram": [
           {
            "bin_start": 12,
            "bin_end": 8354.7,
            "count": 2
           },
           {
            "bin_start": 8354.7,
            "bin_end": 16697.4,
            "count": 0
           },
           {
            "bin_start": 16697.4,
            "bin_end": 25040.100000000002,
            "count": 1
           },
           {
            "bin_start": 25040.100000000002,
            "bin_end": 33382.8,
            "count": 1
           },
           {
            "bin_start": 33382.8,
            "bin_end": 41725.5,
            "count": 1
           },
           {
            "bin_start": 41725.5,
            "bin_end": 50068.200000000004,
            "count": 1
           },
           {
            "bin_start": 50068.200000000004,
            "bin_end": 58410.90000000001,
            "count": 0
           },
           {
            "bin_start": 58410.90000000001,
            "bin_end": 66753.6,
            "count": 1
           },
           {
            "bin_start": 66753.6,
            "bin_end": 75096.3,
            "count": 0
           },
           {
            "bin_start": 75096.3,
            "bin_end": 83439,
            "count": 1
           }
          ]
         }
        },
        {
         "name": "Age",
         "dtype": "object",
         "stats": {
          "unique_count": 4,
          "nan_count": 7,
          "categories": [
           {
            "name": "6307",
            "count": 1
           },
           {
            "name": "3 others",
            "count": 3
           },
           {
            "name": "Missing",
            "count": 7
           }
          ]
         }
        },
        {
         "name": "Gender",
         "dtype": "object",
         "stats": {
          "unique_count": 4,
          "nan_count": 7,
          "categories": [
           {
            "name": "6305",
            "count": 1
           },
           {
            "name": "3 others",
            "count": 3
           },
           {
            "name": "Missing",
            "count": 7
           }
          ]
         }
        },
        {
         "name": "Trans",
         "dtype": "object",
         "stats": {
          "unique_count": 4,
          "nan_count": 7,
          "categories": [
           {
            "name": "6244",
            "count": 1
           },
           {
            "name": "3 others",
            "count": 3
           },
           {
            "name": "Missing",
            "count": 7
           }
          ]
         }
        },
        {
         "name": "Sexuality",
         "dtype": "object",
         "stats": {
          "unique_count": 4,
          "nan_count": 7,
          "categories": [
           {
            "name": "5885",
            "count": 1
           },
           {
            "name": "3 others",
            "count": 3
           },
           {
            "name": "Missing",
            "count": 7
           }
          ]
         }
        },
        {
         "name": "Country",
         "dtype": "object",
         "stats": {
          "unique_count": 4,
          "nan_count": 7,
          "categories": [
           {
            "name": "6337",
            "count": 1
           },
           {
            "name": "3 others",
            "count": 3
           },
           {
            "name": "Missing",
            "count": 7
           }
          ]
         }
        },
        {
         "name": "EdLevel",
         "dtype": "object",
         "stats": {
          "unique_count": 4,
          "nan_count": 7,
          "categories": [
           {
            "name": "6322",
            "count": 1
           },
           {
            "name": "3 others",
            "count": 3
           },
           {
            "name": "Missing",
            "count": 7
           }
          ]
         }
        },
        {
         "name": "Age1stCode",
         "dtype": "object",
         "stats": {
          "unique_count": 4,
          "nan_count": 7,
          "categories": [
           {
            "name": "6330",
            "count": 1
           },
           {
            "name": "3 others",
            "count": 3
           },
           {
            "name": "Missing",
            "count": 7
           }
          ]
         }
        },
        {
         "name": "LearnCode",
         "dtype": "object",
         "stats": {
          "unique_count": 4,
          "nan_count": 7,
          "categories": [
           {
            "name": "6316",
            "count": 1
           },
           {
            "name": "3 others",
            "count": 3
           },
           {
            "name": "Missing",
            "count": 7
           }
          ]
         }
        },
        {
         "name": "YearsCode",
         "dtype": "object",
         "stats": {
          "unique_count": 4,
          "nan_count": 7,
          "categories": [
           {
            "name": "6254",
            "count": 1
           },
           {
            "name": "3 others",
            "count": 3
           },
           {
            "name": "Missing",
            "count": 7
           }
          ]
         }
        },
        {
         "name": "YearsCodePro",
         "dtype": "object",
         "stats": {
          "unique_count": 4,
          "nan_count": 7,
          "categories": [
           {
            "name": "5160",
            "count": 1
           },
           {
            "name": "3 others",
            "count": 3
           },
           {
            "name": "Missing",
            "count": 7
           }
          ]
         }
        },
        {
         "name": "MainBranch",
         "dtype": "object",
         "stats": {
          "unique_count": 4,
          "nan_count": 7,
          "categories": [
           {
            "name": "6337",
            "count": 1
           },
           {
            "name": "3 others",
            "count": 3
           },
           {
            "name": "Missing",
            "count": 7
           }
          ]
         }
        },
        {
         "name": "Employment",
         "dtype": "object",
         "stats": {
          "unique_count": 4,
          "nan_count": 7,
          "categories": [
           {
            "name": "6335",
            "count": 1
           },
           {
            "name": "3 others",
            "count": 3
           },
           {
            "name": "Missing",
            "count": 7
           }
          ]
         }
        },
        {
         "name": "DevType",
         "dtype": "object",
         "stats": {
          "unique_count": 4,
          "nan_count": 7,
          "categories": [
           {
            "name": "5554",
            "count": 1
           },
           {
            "name": "3 others",
            "count": 3
           },
           {
            "name": "Missing",
            "count": 7
           }
          ]
         }
        },
        {
         "name": "ConvertedCompYearly",
         "dtype": "float64",
         "stats": {
          "unique_count": 8,
          "nan_count": 3,
          "min": "12.0",
          "max": "4656132.0",
          "histogram": [
           {
            "bin_start": 12,
            "bin_end": 465624,
            "count": 7
           },
           {
            "bin_start": 465624,
            "bin_end": 931236,
            "count": 0
           },
           {
            "bin_start": 931236,
            "bin_end": 1396848,
            "count": 0
           },
           {
            "bin_start": 1396848,
            "bin_end": 1862460,
            "count": 0
           },
           {
            "bin_start": 1862460,
            "bin_end": 2328072,
            "count": 0
           },
           {
            "bin_start": 2328072,
            "bin_end": 2793684,
            "count": 0
           },
           {
            "bin_start": 2793684,
            "bin_end": 3259296,
            "count": 0
           },
           {
            "bin_start": 3259296,
            "bin_end": 3724908,
            "count": 0
           },
           {
            "bin_start": 3724908,
            "bin_end": 4190520,
            "count": 0
           },
           {
            "bin_start": 4190520,
            "bin_end": 4656132,
            "count": 1
           }
          ]
         }
        },
        {
         "name": "_deepnote_index_column",
         "dtype": "object"
        }
       ],
       "rows": [
        {
         "ResponseId": 6337,
         "Age": "6307",
         "Gender": "6305",
         "Trans": "6244",
         "Sexuality": "5885",
         "Country": "6337",
         "EdLevel": "6322",
         "Age1stCode": "6330",
         "LearnCode": "6316",
         "YearsCode": "6254",
         "YearsCodePro": "5160",
         "MainBranch": "6337",
         "Employment": "6335",
         "DevType": "5554",
         "ConvertedCompYearly": 4389,
         "_deepnote_index_column": "count"
        },
        {
         "ResponseId": "nan",
         "Age": "8",
         "Gender": "11",
         "Trans": "4",
         "Sexuality": "21",
         "Country": "16",
         "EdLevel": "9",
         "Age1stCode": "9",
         "LearnCode": "306",
         "YearsCode": "51",
         "YearsCodePro": "43",
         "MainBranch": "6",
         "Employment": "9",
         "DevType": "1519",
         "ConvertedCompYearly": "nan",
         "_deepnote_index_column": "unique"
        },
        {
         "ResponseId": "nan",
         "Age": "25-34 years old",
         "Gender": "Man",
         "Trans": "No",
         "Sexuality": "Straight / Heterosexual",
         "Country": "Brazil",
         "EdLevel": "Bachelor’s degree (B.A., B.S., B.Eng., etc.)",
         "Age1stCode": "11 - 17 years",
         "LearnCode": "School",
         "YearsCode": "10",
         "YearsCodePro": "3",
         "MainBranch": "I am a developer by profession",
         "Employment": "Employed full-time",
         "DevType": "Developer, full-stack",
         "ConvertedCompYearly": "nan",
         "_deepnote_index_column": "top"
        },
        {
         "ResponseId": "nan",
         "Age": "2695",
         "Gender": "5870",
         "Trans": "6075",
         "Sexuality": "5070",
         "Country": "2254",
         "EdLevel": "2535",
         "Age1stCode": "3384",
         "LearnCode": "614",
         "YearsCode": "514",
         "YearsCodePro": "481",
         "MainBranch": "4848",
         "Employment": "4381",
         "DevType": "688",
         "ConvertedCompYearly": "nan",
         "_deepnote_index_column": "freq"
        },
        {
         "ResponseId": 41783.38030613855,
         "Age": "nan",
         "Gender": "nan",
         "Trans": "nan",
         "Sexuality": "nan",
         "Country": "nan",
         "EdLevel": "nan",
         "Age1stCode": "nan",
         "LearnCode": "nan",
         "YearsCode": "nan",
         "YearsCodePro": "nan",
         "MainBranch": "nan",
         "Employment": "nan",
         "DevType": "nan",
         "ConvertedCompYearly": 49063.98313966735,
         "_deepnote_index_column": "mean"
        },
        {
         "ResponseId": 22858.4583871424,
         "Age": "nan",
         "Gender": "nan",
         "Trans": "nan",
         "Sexuality": "nan",
         "Country": "nan",
         "EdLevel": "nan",
         "Age1stCode": "nan",
         "LearnCode": "nan",
         "YearsCode": "nan",
         "YearsCodePro": "nan",
         "MainBranch": "nan",
         "Employment": "nan",
         "DevType": "nan",
         "ConvertedCompYearly": 137150.89512152993,
         "_deepnote_index_column": "std"
        },
        {
         "ResponseId": 12,
         "Age": "nan",
         "Gender": "nan",
         "Trans": "nan",
         "Sexuality": "nan",
         "Country": "nan",
         "EdLevel": "nan",
         "Age1stCode": "nan",
         "LearnCode": "nan",
         "YearsCode": "nan",
         "YearsCodePro": "nan",
         "MainBranch": "nan",
         "Employment": "nan",
         "DevType": "nan",
         "ConvertedCompYearly": 12,
         "_deepnote_index_column": "min"
        },
        {
         "ResponseId": 25064,
         "Age": "nan",
         "Gender": "nan",
         "Trans": "nan",
         "Sexuality": "nan",
         "Country": "nan",
         "EdLevel": "nan",
         "Age1stCode": "nan",
         "LearnCode": "nan",
         "YearsCode": "nan",
         "YearsCodePro": "nan",
         "MainBranch": "nan",
         "Employment": "nan",
         "DevType": "nan",
         "ConvertedCompYearly": 15672,
         "_deepnote_index_column": "25%"
        },
        {
         "ResponseId": 40617,
         "Age": "nan",
         "Gender": "nan",
         "Trans": "nan",
         "Sexuality": "nan",
         "Country": "nan",
         "EdLevel": "nan",
         "Age1stCode": "nan",
         "LearnCode": "nan",
         "YearsCode": "nan",
         "YearsCodePro": "nan",
         "MainBranch": "nan",
         "Employment": "nan",
         "DevType": "nan",
         "ConvertedCompYearly": 28105,
         "_deepnote_index_column": "50%"
        },
        {
         "ResponseId": 60783,
         "Age": "nan",
         "Gender": "nan",
         "Trans": "nan",
         "Sexuality": "nan",
         "Country": "nan",
         "EdLevel": "nan",
         "Age1stCode": "nan",
         "LearnCode": "nan",
         "YearsCode": "nan",
         "YearsCodePro": "nan",
         "MainBranch": "nan",
         "Employment": "nan",
         "DevType": "nan",
         "ConvertedCompYearly": 47184,
         "_deepnote_index_column": "75%"
        }
       ]
      },
      "text/plain": "          ResponseId              Age Gender Trans                Sexuality  \\\ncount    6337.000000             6307   6305  6244                     5885   \nunique           NaN                8     11     4                       21   \ntop              NaN  25-34 years old    Man    No  Straight / Heterosexual   \nfreq             NaN             2695   5870  6075                     5070   \nmean    41783.380306              NaN    NaN   NaN                      NaN   \nstd     22858.458387              NaN    NaN   NaN                      NaN   \nmin        12.000000              NaN    NaN   NaN                      NaN   \n25%     25064.000000              NaN    NaN   NaN                      NaN   \n50%     40617.000000              NaN    NaN   NaN                      NaN   \n75%     60783.000000              NaN    NaN   NaN                      NaN   \nmax     83439.000000              NaN    NaN   NaN                      NaN   \n\n       Country                                       EdLevel     Age1stCode  \\\ncount     6337                                          6322           6330   \nunique      16                                             9              9   \ntop     Brazil  Bachelor’s degree (B.A., B.S., B.Eng., etc.)  11 - 17 years   \nfreq      2254                                          2535           3384   \nmean       NaN                                           NaN            NaN   \nstd        NaN                                           NaN            NaN   \nmin        NaN                                           NaN            NaN   \n25%        NaN                                           NaN            NaN   \n50%        NaN                                           NaN            NaN   \n75%        NaN                                           NaN            NaN   \nmax        NaN                                           NaN            NaN   \n\n       LearnCode YearsCode YearsCodePro                      MainBranch  \\\ncount       6316      6254         5160                            6337   \nunique       306        51           43                               6   \ntop       School        10            3  I am a developer by profession   \nfreq         614       514          481                            4848   \nmean         NaN       NaN          NaN                             NaN   \nstd          NaN       NaN          NaN                             NaN   \nmin          NaN       NaN          NaN                             NaN   \n25%          NaN       NaN          NaN                             NaN   \n50%          NaN       NaN          NaN                             NaN   \n75%          NaN       NaN          NaN                             NaN   \nmax          NaN       NaN          NaN                             NaN   \n\n                Employment                DevType  ConvertedCompYearly  \ncount                 6335                   5554         4.389000e+03  \nunique                   9                   1519                  NaN  \ntop     Employed full-time  Developer, full-stack                  NaN  \nfreq                  4381                    688                  NaN  \nmean                   NaN                    NaN         4.906398e+04  \nstd                    NaN                    NaN         1.371509e+05  \nmin                    NaN                    NaN         1.200000e+01  \n25%                    NaN                    NaN         1.567200e+04  \n50%                    NaN                    NaN         2.810500e+04  \n75%                    NaN                    NaN         4.718400e+04  \nmax                    NaN                    NaN         4.656132e+06  ",
      "text/html": "<div>\n<style scoped>\n    .dataframe tbody tr th:only-of-type {\n        vertical-align: middle;\n    }\n\n    .dataframe tbody tr th {\n        vertical-align: top;\n    }\n\n    .dataframe thead th {\n        text-align: right;\n    }\n</style>\n<table border=\"1\" class=\"dataframe\">\n  <thead>\n    <tr style=\"text-align: right;\">\n      <th></th>\n      <th>ResponseId</th>\n      <th>Age</th>\n      <th>Gender</th>\n      <th>Trans</th>\n      <th>Sexuality</th>\n      <th>Country</th>\n      <th>EdLevel</th>\n      <th>Age1stCode</th>\n      <th>LearnCode</th>\n      <th>YearsCode</th>\n      <th>YearsCodePro</th>\n      <th>MainBranch</th>\n      <th>Employment</th>\n      <th>DevType</th>\n      <th>ConvertedCompYearly</th>\n    </tr>\n  </thead>\n  <tbody>\n    <tr>\n      <th>count</th>\n      <td>6337.000000</td>\n      <td>6307</td>\n      <td>6305</td>\n      <td>6244</td>\n      <td>5885</td>\n      <td>6337</td>\n      <td>6322</td>\n      <td>6330</td>\n      <td>6316</td>\n      <td>6254</td>\n      <td>5160</td>\n      <td>6337</td>\n      <td>6335</td>\n      <td>5554</td>\n      <td>4.389000e+03</td>\n    </tr>\n    <tr>\n      <th>unique</th>\n      <td>NaN</td>\n      <td>8</td>\n      <td>11</td>\n      <td>4</td>\n      <td>21</td>\n      <td>16</td>\n      <td>9</td>\n      <td>9</td>\n      <td>306</td>\n      <td>51</td>\n      <td>43</td>\n      <td>6</td>\n      <td>9</td>\n      <td>1519</td>\n      <td>NaN</td>\n    </tr>\n    <tr>\n      <th>top</th>\n      <td>NaN</td>\n      <td>25-34 years old</td>\n      <td>Man</td>\n      <td>No</td>\n      <td>Straight / Heterosexual</td>\n      <td>Brazil</td>\n      <td>Bachelor’s degree (B.A., B.S., B.Eng., etc.)</td>\n      <td>11 - 17 years</td>\n      <td>School</td>\n      <td>10</td>\n      <td>3</td>\n      <td>I am a developer by profession</td>\n      <td>Employed full-time</td>\n      <td>Developer, full-stack</td>\n      <td>NaN</td>\n    </tr>\n    <tr>\n      <th>freq</th>\n      <td>NaN</td>\n      <td>2695</td>\n      <td>5870</td>\n      <td>6075</td>\n      <td>5070</td>\n      <td>2254</td>\n      <td>2535</td>\n      <td>3384</td>\n      <td>614</td>\n      <td>514</td>\n      <td>481</td>\n      <td>4848</td>\n      <td>4381</td>\n      <td>688</td>\n      <td>NaN</td>\n    </tr>\n    <tr>\n      <th>mean</th>\n      <td>41783.380306</td>\n      <td>NaN</td>\n      <td>NaN</td>\n      <td>NaN</td>\n      <td>NaN</td>\n      <td>NaN</td>\n      <td>NaN</td>\n      <td>NaN</td>\n      <td>NaN</td>\n      <td>NaN</td>\n      <td>NaN</td>\n      <td>NaN</td>\n      <td>NaN</td>\n      <td>NaN</td>\n      <td>4.906398e+04</td>\n    </tr>\n    <tr>\n      <th>std</th>\n      <td>22858.458387</td>\n      <td>NaN</td>\n      <td>NaN</td>\n      <td>NaN</td>\n      <td>NaN</td>\n      <td>NaN</td>\n      <td>NaN</td>\n      <td>NaN</td>\n      <td>NaN</td>\n      <td>NaN</td>\n      <td>NaN</td>\n      <td>NaN</td>\n      <td>NaN</td>\n      <td>NaN</td>\n      <td>1.371509e+05</td>\n    </tr>\n    <tr>\n      <th>min</th>\n      <td>12.000000</td>\n      <td>NaN</td>\n      <td>NaN</td>\n      <td>NaN</td>\n      <td>NaN</td>\n      <td>NaN</td>\n      <td>NaN</td>\n      <td>NaN</td>\n      <td>NaN</td>\n      <td>NaN</td>\n      <td>NaN</td>\n      <td>NaN</td>\n      <td>NaN</td>\n      <td>NaN</td>\n      <td>1.200000e+01</td>\n    </tr>\n    <tr>\n      <th>25%</th>\n      <td>25064.000000</td>\n      <td>NaN</td>\n      <td>NaN</td>\n      <td>NaN</td>\n      <td>NaN</td>\n      <td>NaN</td>\n      <td>NaN</td>\n      <td>NaN</td>\n      <td>NaN</td>\n      <td>NaN</td>\n      <td>NaN</td>\n      <td>NaN</td>\n      <td>NaN</td>\n      <td>NaN</td>\n      <td>1.567200e+04</td>\n    </tr>\n    <tr>\n      <th>50%</th>\n      <td>40617.000000</td>\n      <td>NaN</td>\n      <td>NaN</td>\n      <td>NaN</td>\n      <td>NaN</td>\n      <td>NaN</td>\n      <td>NaN</td>\n      <td>NaN</td>\n      <td>NaN</td>\n      <td>NaN</td>\n      <td>NaN</td>\n      <td>NaN</td>\n      <td>NaN</td>\n      <td>NaN</td>\n      <td>2.810500e+04</td>\n    </tr>\n    <tr>\n      <th>75%</th>\n      <td>60783.000000</td>\n      <td>NaN</td>\n      <td>NaN</td>\n      <td>NaN</td>\n      <td>NaN</td>\n      <td>NaN</td>\n      <td>NaN</td>\n      <td>NaN</td>\n      <td>NaN</td>\n      <td>NaN</td>\n      <td>NaN</td>\n      <td>NaN</td>\n      <td>NaN</td>\n      <td>NaN</td>\n      <td>4.718400e+04</td>\n    </tr>\n    <tr>\n      <th>max</th>\n      <td>83439.000000</td>\n      <td>NaN</td>\n      <td>NaN</td>\n      <td>NaN</td>\n      <td>NaN</td>\n      <td>NaN</td>\n      <td>NaN</td>\n      <td>NaN</td>\n      <td>NaN</td>\n      <td>NaN</td>\n      <td>NaN</td>\n      <td>NaN</td>\n      <td>NaN</td>\n      <td>NaN</td>\n      <td>4.656132e+06</td>\n    </tr>\n  </tbody>\n</table>\n</div>"
     },
     "metadata": {}
    }
   ],
   "execution_count": null
  },
  {
   "cell_type": "markdown",
   "source": "Hay algunas columnas que podrían ser numéricas, pero están como categóricas, ¿por qué?",
   "metadata": {
    "cell_id": "d4c043e7-c1d3-434e-bb82-1afa071bd6de",
    "tags": [],
    "deepnote_to_be_reexecuted": false,
    "source_hash": "98a4e821",
    "execution_start": 1645582744382,
    "execution_millis": 4,
    "deepnote_cell_type": "markdown"
   }
  },
  {
   "cell_type": "code",
   "metadata": {
    "cell_id": "c585b081-f82d-4fe1-8c36-cbedfeb47f11",
    "tags": [],
    "deepnote_to_be_reexecuted": false,
    "source_hash": "781be1ef",
    "execution_start": 1645639846952,
    "execution_millis": 25,
    "deepnote_cell_type": "code"
   },
   "source": "df.YearsCode.value_counts().sort_values().head()",
   "outputs": [
    {
     "output_type": "execute_result",
     "execution_count": 9,
     "data": {
      "text/plain": "48                    1\n50                    1\nMore than 50 years    1\n47                    1\n44                    2\nName: YearsCode, dtype: int64"
     },
     "metadata": {}
    }
   ],
   "execution_count": null
  },
  {
   "cell_type": "code",
   "metadata": {
    "cell_id": "94420460-adb6-4126-aeb3-bbbb5541e286",
    "tags": [],
    "deepnote_to_be_reexecuted": false,
    "source_hash": "f55248f5",
    "execution_start": 1645639846960,
    "execution_millis": 31,
    "deepnote_cell_type": "code"
   },
   "source": "df.YearsCodePro.value_counts().sort_values().head()",
   "outputs": [
    {
     "output_type": "execute_result",
     "execution_count": 10,
     "data": {
      "text/plain": "38                    1\n43                    1\nMore than 50 years    1\n42                    2\n34                    5\nName: YearsCodePro, dtype: int64"
     },
     "metadata": {}
    }
   ],
   "execution_count": null
  },
  {
   "cell_type": "markdown",
   "source": "Como solo hay 1 valor de \"más de 50 años\" para cada columna, se lo reemplazará con `50`. Y los valores de \"menos de 1 año\" con `0.5`. De esa manera se podrá tener columnas numéricas.",
   "metadata": {
    "cell_id": "5e8229fa-bbe2-4c8d-8288-e84b87947c54",
    "tags": [],
    "deepnote_cell_type": "markdown"
   }
  },
  {
   "cell_type": "code",
   "metadata": {
    "cell_id": "c20c7104-ea5d-4508-af49-8cfecead88bb",
    "tags": [],
    "deepnote_to_be_reexecuted": false,
    "source_hash": "a99a61c7",
    "execution_start": 1645639846961,
    "execution_millis": 0,
    "deepnote_cell_type": "code"
   },
   "source": "df['YearsCode'] = pd.to_numeric(df.YearsCode.replace(['More than 50 years', 'Less than 1 year'], [50, 0.5]))\ndf['YearsCodePro'] = pd.to_numeric(df.YearsCodePro.replace(['More than 50 years', 'Less than 1 year'], [50, 0.5]))",
   "outputs": [],
   "execution_count": null
  },
  {
   "cell_type": "markdown",
   "source": "Otro estadístico que podría sesgar los datos es el salario, tiene una desviación estándar muy grande (137150). Revisemos los valores:",
   "metadata": {
    "cell_id": "a0eb62f5-ee85-4087-9061-326ce7c84879",
    "tags": [],
    "deepnote_cell_type": "markdown"
   }
  },
  {
   "cell_type": "code",
   "metadata": {
    "cell_id": "06eaa51a-7cb1-4523-8d9a-1ddbb1cc53b6",
    "tags": [],
    "deepnote_to_be_reexecuted": false,
    "source_hash": "d12a2ca4",
    "execution_start": 1645639846981,
    "execution_millis": 138,
    "deepnote_cell_type": "code"
   },
   "source": "sns.boxplot(x='ConvertedCompYearly', data=df)\nplt.show()",
   "outputs": [
    {
     "data": {
      "text/plain": "<Figure size 432x288 with 1 Axes>",
      "image/png": "[encoded data removed]"
     },
     "metadata": {
      "needs_background": "light",
      "image/png": {
       "width": 352,
       "height": 262
      }
     },
     "output_type": "display_data"
    }
   ],
   "execution_count": null
  },
  {
   "cell_type": "markdown",
   "source": "El dataset tiene varios outliers en el sueldo. No son útiles para fines de esta investigación, así que se eliminará los valores superiores al 97.5% percentil.",
   "metadata": {
    "cell_id": "bc3f57c8-6acb-4ff1-895c-536e6e818ce3",
    "tags": [],
    "deepnote_cell_type": "markdown"
   }
  },
  {
   "cell_type": "code",
   "metadata": {
    "cell_id": "215a3dcf-88fe-466a-9851-86de04f604ad",
    "tags": [],
    "deepnote_to_be_reexecuted": false,
    "source_hash": "4ef4dd25",
    "execution_start": 1645639847116,
    "execution_millis": 7,
    "deepnote_cell_type": "code"
   },
   "source": "df.ConvertedCompYearly.dropna().describe(percentiles=[0.975])",
   "outputs": [
    {
     "output_type": "execute_result",
     "execution_count": 13,
     "data": {
      "text/plain": "count    4.389000e+03\nmean     4.906398e+04\nstd      1.371509e+05\nmin      1.200000e+01\n50%      2.810500e+04\n97.5%    2.000000e+05\nmax      4.656132e+06\nName: ConvertedCompYearly, dtype: float64"
     },
     "metadata": {}
    }
   ],
   "execution_count": null
  },
  {
   "cell_type": "code",
   "metadata": {
    "cell_id": "11e38e80-9abe-4b78-b498-f985cbbe42cb",
    "tags": [],
    "deepnote_to_be_reexecuted": false,
    "source_hash": "8be92010",
    "execution_start": 1645639847117,
    "execution_millis": 179,
    "deepnote_cell_type": "code"
   },
   "source": "df.drop(df[df.ConvertedCompYearly > 200000].index, inplace=True)\nsns.boxplot(x='ConvertedCompYearly', data=df)\nplt.show()",
   "outputs": [
    {
     "data": {
      "text/plain": "<Figure size 432x288 with 1 Axes>",
      "image/png": "[encoded data removed]"
     },
     "metadata": {
      "needs_background": "light",
      "image/png": {
       "width": 356,
       "height": 262
      }
     },
     "output_type": "display_data"
    }
   ],
   "execution_count": null
  },
  {
   "cell_type": "markdown",
   "source": "### Reducir categorías\n\nHay varias preguntas que tienen múltiples opciones, pero son bajas porcentualmente. Se las reducirá a menos categorías para simplificar el análisis.",
   "metadata": {
    "cell_id": "90d67c94-bd47-4b31-9cd3-9a8947bd85fd",
    "tags": [],
    "deepnote_cell_type": "markdown"
   }
  },
  {
   "cell_type": "markdown",
   "source": "#### Género",
   "metadata": {
    "cell_id": "27a2fd08-434a-4f26-825d-622da5cabb0c",
    "tags": [],
    "deepnote_cell_type": "markdown"
   }
  },
  {
   "cell_type": "code",
   "metadata": {
    "cell_id": "ed40c769-dae5-4d3b-9be6-2de75b91f695",
    "tags": [],
    "deepnote_to_be_reexecuted": false,
    "source_hash": "7b71ac80",
    "execution_start": 1645639847320,
    "execution_millis": 14,
    "deepnote_cell_type": "code"
   },
   "source": "df.Gender.value_counts(normalize=True)",
   "outputs": [
    {
     "output_type": "execute_result",
     "execution_count": 15,
     "data": {
      "text/plain": "Man                                                                         0.930923\nWoman                                                                       0.039380\nPrefer not to say                                                           0.009522\nNon-binary, genderqueer, or gender non-conforming                           0.007586\nMan;Or, in your own words:                                                  0.004035\nOr, in your own words:                                                      0.003389\nMan;Non-binary, genderqueer, or gender non-conforming                       0.002905\nWoman;Non-binary, genderqueer, or gender non-conforming                     0.001453\nMan;Woman;Non-binary, genderqueer, or gender non-conforming                 0.000323\nNon-binary, genderqueer, or gender non-conforming;Or, in your own words:    0.000323\nMan;Woman                                                                   0.000161\nName: Gender, dtype: float64"
     },
     "metadata": {}
    }
   ],
   "execution_count": null
  },
  {
   "cell_type": "code",
   "metadata": {
    "cell_id": "c19e60b4-2440-49a5-8e79-d0a0bd18b153",
    "tags": [],
    "deepnote_to_be_reexecuted": false,
    "source_hash": "b840ec0e",
    "execution_start": 1645639847321,
    "execution_millis": 13,
    "deepnote_cell_type": "code"
   },
   "source": "df.Gender.where(df.Gender.isin(['Man', 'Woman']), 'Other', inplace=True)\ndf.Gender.value_counts(normalize=True)",
   "outputs": [
    {
     "output_type": "execute_result",
     "execution_count": 16,
     "data": {
      "text/plain": "Man      0.926140\nWoman    0.039178\nOther    0.034682\nName: Gender, dtype: float64"
     },
     "metadata": {}
    }
   ],
   "execution_count": null
  },
  {
   "cell_type": "markdown",
   "source": "#### Edad",
   "metadata": {
    "cell_id": "c6d5bf25-b727-4ce3-af60-72d0eb2b43f8",
    "tags": [],
    "deepnote_cell_type": "markdown"
   }
  },
  {
   "cell_type": "code",
   "metadata": {
    "cell_id": "3761515e-ee8e-4d90-a0a4-eff97e962a3a",
    "tags": [],
    "deepnote_to_be_reexecuted": false,
    "source_hash": "98aff8ca",
    "execution_start": 1645639847322,
    "execution_millis": 13,
    "deepnote_cell_type": "code"
   },
   "source": "df.Age.value_counts(normalize=True)",
   "outputs": [
    {
     "output_type": "execute_result",
     "execution_count": 17,
     "data": {
      "text/plain": "25-34 years old       0.424907\n18-24 years old       0.244556\n35-44 years old       0.211808\n45-54 years old       0.070173\nUnder 18 years old    0.030973\n55-64 years old       0.013712\nPrefer not to say     0.002581\n65 years or older     0.001291\nName: Age, dtype: float64"
     },
     "metadata": {}
    }
   ],
   "execution_count": null
  },
  {
   "cell_type": "code",
   "metadata": {
    "cell_id": "90564676-8467-4804-9daf-8e463fb6c903",
    "tags": [],
    "deepnote_to_be_reexecuted": false,
    "source_hash": "ffc026a0",
    "execution_start": 1645639847337,
    "execution_millis": 9,
    "deepnote_cell_type": "code"
   },
   "source": "df.Age.where(~(df.Age.isin(['45-54 years old', '55-64 years old', '65 years or older'])), '> 45 years old', inplace=True)\ndf.Age.value_counts(normalize=True)",
   "outputs": [
    {
     "output_type": "execute_result",
     "execution_count": 18,
     "data": {
      "text/plain": "25-34 years old       0.424907\n18-24 years old       0.244556\n35-44 years old       0.211808\n> 45 years old        0.085175\nUnder 18 years old    0.030973\nPrefer not to say     0.002581\nName: Age, dtype: float64"
     },
     "metadata": {}
    }
   ],
   "execution_count": null
  },
  {
   "cell_type": "markdown",
   "source": "#### Sexuality",
   "metadata": {
    "cell_id": "e2eb8e87-9cf4-4d17-ba00-2c83473284f0",
    "tags": [],
    "deepnote_cell_type": "markdown"
   }
  },
  {
   "cell_type": "code",
   "metadata": {
    "cell_id": "bd3f318d-292b-4d97-8fb9-4de911af2f2c",
    "tags": [],
    "deepnote_to_be_reexecuted": false,
    "source_hash": "c715ee4a",
    "execution_start": 1645639847345,
    "execution_millis": 12,
    "deepnote_cell_type": "code"
   },
   "source": "df.Sexuality.value_counts(normalize=True)",
   "outputs": [
    {
     "output_type": "execute_result",
     "execution_count": 19,
     "data": {
      "text/plain": "Straight / Heterosexual                                   0.861515\nBisexual                                                  0.048064\nPrefer not to say                                         0.030256\nGay or Lesbian                                            0.026107\nPrefer to self-describe:                                  0.013140\nStraight / Heterosexual;Bisexual                          0.007261\nQueer                                                     0.003631\nStraight / Heterosexual;Prefer to self-describe:          0.002766\nBisexual;Queer                                            0.002248\nBisexual;Gay or Lesbian                                   0.000864\nBisexual;Prefer to self-describe:                         0.000692\nGay or Lesbian;Queer                                      0.000692\nBisexual;Gay or Lesbian;Queer                             0.000519\nStraight / Heterosexual;Queer                             0.000519\nBisexual;Prefer to self-describe:;Gay or Lesbian;Queer    0.000346\nStraight / Heterosexual;Bisexual;Gay or Lesbian           0.000346\nPrefer to self-describe:;Queer                            0.000346\nStraight / Heterosexual;Bisexual;Gay or Lesbian;Queer     0.000173\nBisexual;Prefer to self-describe:;Queer                   0.000173\nStraight / Heterosexual;Bisexual;Queer                    0.000173\nPrefer to self-describe:;Gay or Lesbian;Queer             0.000173\nName: Sexuality, dtype: float64"
     },
     "metadata": {}
    }
   ],
   "execution_count": null
  },
  {
   "cell_type": "code",
   "metadata": {
    "cell_id": "8fdc9d72-cb95-4645-8ea9-92277295a10e",
    "tags": [],
    "deepnote_to_be_reexecuted": false,
    "source_hash": "600337db",
    "execution_start": 1645639847352,
    "execution_millis": 6,
    "deepnote_cell_type": "code"
   },
   "source": "df.Sexuality.where(df.Sexuality.isin(['Straight / Heterosexual']), 'LGBT / Non-hetero', inplace=True)\ndf.Sexuality.value_counts(normalize=True)",
   "outputs": [
    {
     "output_type": "execute_result",
     "execution_count": 20,
     "data": {
      "text/plain": "Straight / Heterosexual    0.800096\nLGBT / Non-hetero          0.199904\nName: Sexuality, dtype: float64"
     },
     "metadata": {}
    }
   ],
   "execution_count": null
  },
  {
   "cell_type": "markdown",
   "source": "#### Edad de la primera línea de código",
   "metadata": {
    "cell_id": "9bbccf67-0078-4379-8dc9-172f1b71ad44",
    "tags": [],
    "deepnote_cell_type": "markdown"
   }
  },
  {
   "cell_type": "code",
   "metadata": {
    "cell_id": "bae3dae7-8c14-4e8e-9ea3-901897438eda",
    "tags": [],
    "deepnote_to_be_reexecuted": false,
    "source_hash": "b36ad41f",
    "execution_start": 1645639847353,
    "execution_millis": 5,
    "deepnote_cell_type": "code"
   },
   "source": "df.Age1stCode.value_counts(normalize=True)",
   "outputs": [
    {
     "output_type": "execute_result",
     "execution_count": 21,
     "data": {
      "text/plain": "11 - 17 years           0.535284\n18 - 24 years           0.278251\n5 - 10 years            0.096769\n25 - 34 years           0.049670\n35 - 44 years           0.019450\n45 - 54 years           0.009002\nYounger than 5 years    0.007555\n55 - 64 years           0.003536\nOlder than 64 years     0.000482\nName: Age1stCode, dtype: float64"
     },
     "metadata": {}
    }
   ],
   "execution_count": null
  },
  {
   "cell_type": "code",
   "metadata": {
    "cell_id": "4774c7b9-0c25-4aaf-af9a-9cf95faff861",
    "tags": [],
    "deepnote_to_be_reexecuted": false,
    "source_hash": "f53544ac",
    "execution_start": 1645639847360,
    "execution_millis": 8,
    "deepnote_cell_type": "code"
   },
   "source": "df.Age1stCode.where(~(df.Age1stCode.isin(['45 - 54 years', '55 - 64 years', 'Older than 64 years'])), '> 45 years', inplace=True)\ndf.Age1stCode.where(~(df.Age1stCode.isin(['5 - 10 years', 'Younger than 5 years'])), '< 10 years', inplace=True)\ndf.Age1stCode.where(~(df.Age1stCode.isin(['25 - 34 years', '35 - 44 years'])), '25 - 44 years', inplace=True)\ndf.Age1stCode.value_counts(normalize=True)",
   "outputs": [
    {
     "output_type": "execute_result",
     "execution_count": 22,
     "data": {
      "text/plain": "11 - 17 years    0.535284\n18 - 24 years    0.278251\n< 10 years       0.104324\n25 - 44 years    0.069121\n> 45 years       0.013020\nName: Age1stCode, dtype: float64"
     },
     "metadata": {}
    }
   ],
   "execution_count": null
  },
  {
   "cell_type": "markdown",
   "source": "#### Empleo",
   "metadata": {
    "cell_id": "c6a4d989-f82b-464c-8909-8a20207de040",
    "tags": [],
    "deepnote_cell_type": "markdown"
   },
   "outputs": [],
   "execution_count": null
  },
  {
   "cell_type": "code",
   "source": "df.Employment.value_counts(normalize=True)",
   "metadata": {
    "cell_id": "c482204e-088b-40dc-9074-0277cc82b4e4",
    "tags": [],
    "deepnote_to_be_reexecuted": false,
    "source_hash": "c1ebf45b",
    "execution_start": 1645639847369,
    "execution_millis": 6,
    "deepnote_cell_type": "code"
   },
   "outputs": [
    {
     "output_type": "execute_result",
     "execution_count": 23,
     "data": {
      "text/plain": "Employed full-time                                      0.688082\nIndependent contractor, freelancer, or self-employed    0.122069\nStudent, full-time                                      0.082878\nEmployed part-time                                      0.035496\nNot employed, but looking for work                      0.033569\nStudent, part-time                                      0.023450\nNot employed, and not looking for work                  0.008191\nI prefer not to say                                     0.004819\nRetired                                                 0.001446\nName: Employment, dtype: float64"
     },
     "metadata": {}
    }
   ],
   "execution_count": null
  },
  {
   "cell_type": "code",
   "source": "df.Employment.where(~(df.Employment.isin(['Employed full-time', 'Employed part-time'])), 'Employed', inplace=True)\ndf.Employment.where(~(df.Employment.isin(['Student, full-time', 'Student, part-time'])), 'Student', inplace=True)\ndf.Employment.where(~(df.Employment.isin(['Not employed, but looking for work', 'Not employed, and not looking for work', 'Retired'])), \\\n                    'Not employed', inplace=True)\ndf.Employment.value_counts(normalize=True)",
   "metadata": {
    "cell_id": "ac75eadf-a363-4c81-a129-19afeeb44b36",
    "tags": [],
    "deepnote_to_be_reexecuted": false,
    "source_hash": "d1c6243b",
    "execution_start": 1645639847389,
    "execution_millis": 11,
    "deepnote_cell_type": "code"
   },
   "outputs": [
    {
     "output_type": "execute_result",
     "execution_count": 24,
     "data": {
      "text/plain": "Employed                                                0.723579\nIndependent contractor, freelancer, or self-employed    0.122069\nStudent                                                 0.106328\nNot employed                                            0.043206\nI prefer not to say                                     0.004819\nName: Employment, dtype: float64"
     },
     "metadata": {}
    }
   ],
   "execution_count": null
  },
  {
   "cell_type": "markdown",
   "source": "### Múltiples respuestas\n\n`DevType` y ` LearnCode` las tienen, quizá no se pueda limpiar directamente, pero más adelante se puede aplicar esta función para crear DataFrames nuevos y analizarlas por separado:\n\n```\ndef split_multicolumn(col_series):\n    result_df = col_series.to_frame()\n    options = []\n    # Iterate over the column\n    for idx, value  in col_series[col_series.notnull()].iteritems():\n        # Break each value into list of options\n        for option in value.split(';'):\n            # Add the option as a column to result\n            if not option in result_df.columns:\n                options.append(option)\n                result_df[option] = False\n            # Mark the value in the option column as True\n            result_df.at[idx, option] = True\n    return result_df[options]\n```",
   "metadata": {
    "cell_id": "282dc2ee-8e54-47aa-9f7d-f10ad18c3e6b",
    "tags": [],
    "deepnote_cell_type": "markdown"
   },
   "outputs": [],
   "execution_count": null
  },
  {
   "cell_type": "markdown",
   "source": "#### Tipo de desarrollador",
   "metadata": {
    "cell_id": "b017c84c-a542-40f2-b9a3-99418a35dc1b",
    "tags": [],
    "deepnote_cell_type": "markdown"
   },
   "outputs": [],
   "execution_count": null
  },
  {
   "cell_type": "code",
   "source": "df.DevType.value_counts(normalize=True)",
   "metadata": {
    "cell_id": "7e2f638f-d195-4a18-b116-85cf1646c4ab",
    "tags": [],
    "deepnote_to_be_reexecuted": false,
    "source_hash": "3825d352",
    "execution_start": 1645639847398,
    "execution_millis": 10,
    "deepnote_cell_type": "code"
   },
   "outputs": [
    {
     "output_type": "execute_result",
     "execution_count": 25,
     "data": {
      "text/plain": "Developer, full-stack                                                                                                                                                                                   0.123416\nDeveloper, back-end                                                                                                                                                                                     0.086318\nDeveloper, front-end                                                                                                                                                                                    0.032507\nDeveloper, front-end;Developer, full-stack;Developer, back-end                                                                                                                                          0.032140\nDeveloper, full-stack;Developer, back-end                                                                                                                                                               0.028650\n                                                                                                                                                                                                          ...   \nOther (please specify):;Data scientist or machine learning specialist;Scientist;Developer, embedded applications or devices;DevOps specialist;Data or business analyst;System administrator;Educator    0.000184\nDeveloper, mobile;Developer, full-stack;Data scientist or machine learning specialist;Data or business analyst                                                                                          0.000184\nDeveloper, mobile;Developer, front-end;Developer, back-end;Database administrator;Developer, embedded applications or devices;Data or business analyst;Designer;System administrator                    0.000184\nDeveloper, mobile;Developer, desktop or enterprise applications;Developer, full-stack;Developer, back-end;Developer, game or graphics                                                                   0.000184\nDeveloper, full-stack;Engineer, data;Data or business analyst;Engineering manager                                                                                                                       0.000184\nName: DevType, Length: 1490, dtype: float64"
     },
     "metadata": {}
    }
   ],
   "execution_count": null
  },
  {
   "cell_type": "markdown",
   "source": "#### Dónde aprendió a programar\n\n`[]` Aquí hay que agrupar por tradicional, online o autodidacta. Hay que hacer recuento para poder sacar el porcentaje de cada uno.",
   "metadata": {
    "cell_id": "55fefee8-688a-4fe0-9d21-81840b0e25e9",
    "tags": [],
    "deepnote_cell_type": "markdown"
   }
  },
  {
   "cell_type": "code",
   "metadata": {
    "cell_id": "84f377f0-c8c0-4d96-a4dc-d9ce8382f846",
    "tags": [],
    "deepnote_to_be_reexecuted": false,
    "source_hash": "7650561b",
    "execution_start": 1645639847423,
    "execution_millis": 5,
    "deepnote_cell_type": "code"
   },
   "source": "df.LearnCode.value_counts(normalize=True)",
   "outputs": [
    {
     "output_type": "execute_result",
     "execution_count": 26,
     "data": {
      "text/plain": "School                                                                                                                                                                 0.096343\nOther online resources (ex: videos, blogs, etc)                                                                                                                        0.041083\nBooks / Physical media                                                                                                                                                 0.035605\nSchool;Books / Physical media                                                                                                                                          0.031738\nOther online resources (ex: videos, blogs, etc);School;Online Courses or Certification;Books / Physical media                                                          0.028033\n                                                                                                                                                                         ...   \nSchool;Online Forum;Other (please specify):;Colleague                                                                                                                  0.000161\nOnline Forum;Online Courses or Certification;Other (please specify):;Colleague                                                                                         0.000161\nCoding Bootcamp;Online Forum;Colleague                                                                                                                                 0.000161\nCoding Bootcamp;Other online resources (ex: videos, blogs, etc);Colleague;Books / Physical media                                                                       0.000161\nCoding Bootcamp;Other online resources (ex: videos, blogs, etc);School;Online Forum;Friend or family member;Online Courses or Certification;Other (please specify):    0.000161\nName: LearnCode, Length: 306, dtype: float64"
     },
     "metadata": {}
    }
   ],
   "execution_count": null
  },
  {
   "cell_type": "markdown",
   "source": "### Agregar data\n\nColumna para conocer cuántos años tomó desde que se aprendió a programar hasta que se lo hizo profesionalmente.",
   "metadata": {
    "cell_id": "ce8e0f15-eebb-44d3-8006-5a226cad2d2a",
    "tags": [],
    "deepnote_cell_type": "markdown"
   },
   "outputs": [],
   "execution_count": null
  },
  {
   "cell_type": "code",
   "source": "df['YearsLearnPro'] = abs(df.YearsCode - df.YearsCodePro)",
   "metadata": {
    "cell_id": "b2b748ef-0b57-4e5a-ac25-67bbd4424854",
    "tags": [],
    "deepnote_to_be_reexecuted": false,
    "source_hash": "81648d82",
    "execution_start": 1645639847429,
    "execution_millis": 0,
    "deepnote_cell_type": "code"
   },
   "outputs": [],
   "execution_count": null
  },
  {
   "cell_type": "code",
   "metadata": {
    "cell_id": "ad0a3d30-ae68-4a63-a8f5-4e9b79911a61",
    "tags": [],
    "deepnote_to_be_reexecuted": false,
    "source_hash": "de1e323c",
    "execution_start": 1645639847430,
    "execution_millis": 33,
    "deepnote_cell_type": "code"
   },
   "source": "df.info()",
   "outputs": [
    {
     "name": "stdout",
     "text": "<class 'pandas.core.frame.DataFrame'>\nInt64Index: 6228 entries, 11 to 83438\nData columns (total 16 columns):\n #   Column               Non-Null Count  Dtype  \n---  ------               --------------  -----  \n 0   ResponseId           6228 non-null   int64  \n 1   Age                  6199 non-null   object \n 2   Gender               6228 non-null   object \n 3   Trans                6135 non-null   object \n 4   Sexuality            6228 non-null   object \n 5   Country              6228 non-null   object \n 6   EdLevel              6213 non-null   object \n 7   Age1stCode           6221 non-null   object \n 8   LearnCode            6207 non-null   object \n 9   YearsCode            6145 non-null   float64\n 10  YearsCodePro         5052 non-null   float64\n 11  MainBranch           6228 non-null   object \n 12  Employment           6226 non-null   object \n 13  DevType              5445 non-null   object \n 14  ConvertedCompYearly  4280 non-null   float64\n 15  YearsLearnPro        5044 non-null   float64\ndtypes: float64(4), int64(1), object(11)\nmemory usage: 827.2+ KB\n",
     "output_type": "stream"
    }
   ],
   "execution_count": null
  },
  {
   "cell_type": "markdown",
   "source": "El dataset está listo para poder trabajar.",
   "metadata": {
    "cell_id": "6a1bcd29-5c40-4408-80a9-62da9f2bd069",
    "tags": [],
    "deepnote_cell_type": "markdown"
   }
  },
  {
   "cell_type": "code",
   "metadata": {
    "cell_id": "b866c922-e4d7-4d8c-86e3-5b90f36c9fd2",
    "tags": [],
    "deepnote_to_be_reexecuted": false,
    "source_hash": "94584e49",
    "execution_start": 1645639847457,
    "execution_millis": 59,
    "deepnote_cell_type": "code"
   },
   "source": "path_processed = os.path.join(os.getcwd(), os.pardir, 'data', 'processed')\ndf.to_csv(os.path.join(path_processed, 'survey.csv'), index=None)",
   "outputs": [],
   "execution_count": null
  },
  {
   "cell_type": "markdown",
   "source": "<a style='text-decoration:none;line-height:16px;display:flex;color:#5B5B62;padding:10px;justify-content:end;' href='https://deepnote.com?utm_source=created-in-deepnote-cell&projectId=09491c61-3767-4289-98fd-88aee19bb45d' target=\"_blank\">\n<img alt='Created in deepnote.com' style='display:inline;max-height:16px;margin:0px;margin-right:7.5px;' src='data:image/svg+xml;base64,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' > </img>\nCreated in <span style='font-weight:600;margin-left:4px;'>Deepnote</span></a>",
   "metadata": {
    "tags": [],
    "created_in_deepnote_cell": true,
    "deepnote_cell_type": "markdown"
   }
  }
 ],
 "nbformat": 4,
 "nbformat_minor": 2,
 "metadata": {
  "orig_nbformat": 2,
  "deepnote": {
   "is_reactive": false
  },
  "deepnote_notebook_id": "d3fed0ed-e687-4e56-bf32-385f5fb6f308",
  "deepnote_execution_queue": []
 }
}