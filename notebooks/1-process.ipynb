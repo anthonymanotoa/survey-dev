{
 "cells": [
  {
   "cell_type": "markdown",
   "source": "# Procesamiento de datos",
   "metadata": {
    "cell_id": "dcf6b326-6955-49c9-9cc2-bedea44ab81d",
    "tags": [],
    "deepnote_cell_type": "markdown"
   }
  },
  {
   "cell_type": "code",
   "metadata": {
    "tags": [],
    "cell_id": "273f43e0-7ea3-4218-b9cf-458cb76017a7",
    "deepnote_to_be_reexecuted": false,
    "source_hash": "ca95b7f9",
    "execution_start": 1645585346503,
    "execution_millis": 41,
    "deepnote_cell_type": "code"
   },
   "source": "import pandas as pd\nimport os",
   "execution_count": 1,
   "outputs": []
  },
  {
   "cell_type": "code",
   "metadata": {
    "cell_id": "31a5dd80-5c4b-4aae-b4a6-94c2e8e2a7cd",
    "tags": [],
    "deepnote_to_be_reexecuted": false,
    "source_hash": "a1e324eb",
    "execution_start": 1645585346544,
    "execution_millis": 1610,
    "deepnote_cell_type": "code"
   },
   "source": "# Read de data\npath = os.path.join(os.getcwd(), os.pardir, 'data', 'raw')\ndf_schema = pd.read_csv(os.path.join(path, 'survey_results_schema.csv'))\ndf_survey = pd.read_csv(os.path.join(path, 'survey_results_public.csv'))",
   "execution_count": 2,
   "outputs": []
  },
  {
   "cell_type": "markdown",
   "source": "El `df_schema` contiene las preguntas usadas en la encuesta.",
   "metadata": {
    "cell_id": "2ae9495a-b87d-471b-8692-7d909e98250d",
    "tags": [],
    "deepnote_cell_type": "markdown"
   }
  },
  {
   "cell_type": "code",
   "metadata": {
    "cell_id": "c751c12e-9b4a-400f-8d26-bc1101db8991",
    "tags": [],
    "deepnote_to_be_reexecuted": false,
    "source_hash": "366e7cf0",
    "execution_start": 1645585348180,
    "execution_millis": 44,
    "deepnote_cell_type": "code"
   },
   "source": "# Explore what data to use\ncols = ['qname', 'question']\ndf_schema[cols]",
   "execution_count": 3,
   "outputs": [
    {
     "output_type": "execute_result",
     "execution_count": 3,
     "data": {
      "application/vnd.deepnote.dataframe.v3+json": {
       "column_count": 2,
       "row_count": 48,
       "columns": [
        {
         "name": "qname",
         "dtype": "object",
         "stats": {
          "unique_count": 48,
          "nan_count": 0,
          "categories": [
           {
            "name": "S0",
            "count": 1
           },
           {
            "name": "MetaInfo",
            "count": 1
           },
           {
            "name": "46 others",
            "count": 46
           }
          ]
         }
        },
        {
         "name": "question",
         "dtype": "object",
         "stats": {
          "unique_count": 45,
          "nan_count": 0,
          "categories": [
           {
            "name": "Which of the following describe you, if any? Please check all that apply.",
            "count": 3
           },
           {
            "name": "Which of the following describe you, if any? Please check all that apply. ",
            "count": 2
           },
           {
            "name": "43 others",
            "count": 43
           }
          ]
         }
        },
        {
         "name": "_deepnote_index_column",
         "dtype": "int64"
        }
       ],
       "rows": [
        {
         "qname": "S0",
         "question": "<div><span style=\"font-size:19px;\"><strong>Hello world! </strong></span></div>\n\n<div> </div>\n\n<div>…",
         "_deepnote_index_column": 0
        },
        {
         "qname": "MetaInfo",
         "question": "Browser Meta Info",
         "_deepnote_index_column": 1
        },
        {
         "qname": "S1",
         "question": "<span style=\"font-size:22px; font-family: arial,helvetica,sans-serif; font-weight: 700;\">Basic Info…",
         "_deepnote_index_column": 2
        },
        {
         "qname": "MainBranch",
         "question": "Which of the following options best describes you today? Here, by \"developer\" we mean \"someone who …",
         "_deepnote_index_column": 3
        },
        {
         "qname": "Employment",
         "question": "Which of the following best describes your current <b>employment status</b>?",
         "_deepnote_index_column": 4
        },
        {
         "qname": "Country",
         "question": "Where do you live? <span style=\"font-weight: bolder;\">*</span>",
         "_deepnote_index_column": 5
        },
        {
         "qname": "US_State",
         "question": "<p>In which state or territory of the USA do you live? <i>This information will be kept private.</i…",
         "_deepnote_index_column": 6
        },
        {
         "qname": "UK_Country",
         "question": "In which part of the United Kingdom do you live? <i>This information will be kept private.</i>",
         "_deepnote_index_column": 7
        },
        {
         "qname": "S2",
         "question": "<span style=\"font-size:22px; font-family: arial,helvetica,sans-serif; font-weight: 700;\">Education,…",
         "_deepnote_index_column": 8
        },
        {
         "qname": "EdLevel",
         "question": "Which of the following best describes the highest level of formal education that you’ve completed? *",
         "_deepnote_index_column": 9
        }
       ]
      },
      "text/plain": "                 qname                                           question\n0                   S0  <div><span style=\"font-size:19px;\"><strong>Hel...\n1             MetaInfo                                  Browser Meta Info\n2                   S1  <span style=\"font-size:22px; font-family: aria...\n3           MainBranch  Which of the following options best describes ...\n4           Employment  Which of the following best describes your cur...\n5              Country  Where do you live? <span style=\"font-weight: b...\n6             US_State  <p>In which state or territory of the USA do y...\n7           UK_Country  In which part of the United Kingdom do you liv...\n8                   S2  <span style=\"font-size:22px; font-family: aria...\n9              EdLevel  Which of the following best describes the high...\n10          Age1stCode  At what age did you write your first line of c...\n11           LearnCode  How did you learn to code? Select all that apply.\n12           YearsCode  Including any education, how many years have y...\n13        YearsCodePro  NOT including education, how many years have y...\n14             DevType  Which of the following describes your current ...\n15             OrgSize  Approximately how many people are employed by ...\n16            Currency  Which currency do you use day-to-day? If your ...\n17           CompTotal  What is your current total compensation (salar...\n18            CompFreq   Is that compensation weekly, monthly, or yearly?\n19                  S3  <span style=\"font-size:22px; font-family: aria...\n20            Language  Which <b>programming, scripting, and markup la...\n21            Database  Which <b>database environments </b>have you do...\n22            Platform  Which <b>cloud platforms</b> have you done ext...\n23            Webframe  Which <strong>web frameworks </strong><span st...\n24            MiscTech  Which <b>other frameworks and libraries</b> ha...\n25           ToolsTech  Which <strong>tools</strong> have you done ext...\n26      NEWCollabTools  Which <strong>development environments</strong...\n27               OpSys  What is the primary operating system in which ...\n28            NEWStuck  What do you do when you get stuck on a problem...\n29                  S4  <span style=\"font-size:22px; font-family: aria...\n30          NEWSOSites  Which of the following Stack Overflow sites ha...\n31         SOVisitFreq  How frequently would you say you visit Stack O...\n32           SOAccount              Do you have a Stack Overflow account?\n33          SOPartFreq  How frequently would you say you participate i...\n34              SOComm  Do you consider yourself a member of the Stack...\n35       NEWOtherComms  Are you a member of any other online developer...\n36  NEWOtherCommsNames  Please name up to 5 other online developer com...\n37                  S5  <span style=\"font-size:22px; font-family: aria...\n38                 Age                                  What is your age?\n39              Gender  Which of the following describe you, if any? P...\n40               Trans                    Do you identify as transgender?\n41           Sexuality  Which of the following describe you, if any? P...\n42           Ethnicity  Which of the following describe you, if any? P...\n43       Accessibility  Which of the following describe you, if any? P...\n44        MentalHealth  Which of the following describe you, if any? P...\n45                  S6  <span style=\"font-size:22px;\"><strong>Final Qu...\n46        SurveyLength  How do you feel about the length of the survey...\n47          SurveyEase  How easy or difficult was this survey to compl...",
      "text/html": "<div>\n<style scoped>\n    .dataframe tbody tr th:only-of-type {\n        vertical-align: middle;\n    }\n\n    .dataframe tbody tr th {\n        vertical-align: top;\n    }\n\n    .dataframe thead th {\n        text-align: right;\n    }\n</style>\n<table border=\"1\" class=\"dataframe\">\n  <thead>\n    <tr style=\"text-align: right;\">\n      <th></th>\n      <th>qname</th>\n      <th>question</th>\n    </tr>\n  </thead>\n  <tbody>\n    <tr>\n      <th>0</th>\n      <td>S0</td>\n      <td>&lt;div&gt;&lt;span style=\"font-size:19px;\"&gt;&lt;strong&gt;Hel...</td>\n    </tr>\n    <tr>\n      <th>1</th>\n      <td>MetaInfo</td>\n      <td>Browser Meta Info</td>\n    </tr>\n    <tr>\n      <th>2</th>\n      <td>S1</td>\n      <td>&lt;span style=\"font-size:22px; font-family: aria...</td>\n    </tr>\n    <tr>\n      <th>3</th>\n      <td>MainBranch</td>\n      <td>Which of the following options best describes ...</td>\n    </tr>\n    <tr>\n      <th>4</th>\n      <td>Employment</td>\n      <td>Which of the following best describes your cur...</td>\n    </tr>\n    <tr>\n      <th>5</th>\n      <td>Country</td>\n      <td>Where do you live? &lt;span style=\"font-weight: b...</td>\n    </tr>\n    <tr>\n      <th>6</th>\n      <td>US_State</td>\n      <td>&lt;p&gt;In which state or territory of the USA do y...</td>\n    </tr>\n    <tr>\n      <th>7</th>\n      <td>UK_Country</td>\n      <td>In which part of the United Kingdom do you liv...</td>\n    </tr>\n    <tr>\n      <th>8</th>\n      <td>S2</td>\n      <td>&lt;span style=\"font-size:22px; font-family: aria...</td>\n    </tr>\n    <tr>\n      <th>9</th>\n      <td>EdLevel</td>\n      <td>Which of the following best describes the high...</td>\n    </tr>\n    <tr>\n      <th>10</th>\n      <td>Age1stCode</td>\n      <td>At what age did you write your first line of c...</td>\n    </tr>\n    <tr>\n      <th>11</th>\n      <td>LearnCode</td>\n      <td>How did you learn to code? Select all that apply.</td>\n    </tr>\n    <tr>\n      <th>12</th>\n      <td>YearsCode</td>\n      <td>Including any education, how many years have y...</td>\n    </tr>\n    <tr>\n      <th>13</th>\n      <td>YearsCodePro</td>\n      <td>NOT including education, how many years have y...</td>\n    </tr>\n    <tr>\n      <th>14</th>\n      <td>DevType</td>\n      <td>Which of the following describes your current ...</td>\n    </tr>\n    <tr>\n      <th>15</th>\n      <td>OrgSize</td>\n      <td>Approximately how many people are employed by ...</td>\n    </tr>\n    <tr>\n      <th>16</th>\n      <td>Currency</td>\n      <td>Which currency do you use day-to-day? If your ...</td>\n    </tr>\n    <tr>\n      <th>17</th>\n      <td>CompTotal</td>\n      <td>What is your current total compensation (salar...</td>\n    </tr>\n    <tr>\n      <th>18</th>\n      <td>CompFreq</td>\n      <td>Is that compensation weekly, monthly, or yearly?</td>\n    </tr>\n    <tr>\n      <th>19</th>\n      <td>S3</td>\n      <td>&lt;span style=\"font-size:22px; font-family: aria...</td>\n    </tr>\n    <tr>\n      <th>20</th>\n      <td>Language</td>\n      <td>Which &lt;b&gt;programming, scripting, and markup la...</td>\n    </tr>\n    <tr>\n      <th>21</th>\n      <td>Database</td>\n      <td>Which &lt;b&gt;database environments &lt;/b&gt;have you do...</td>\n    </tr>\n    <tr>\n      <th>22</th>\n      <td>Platform</td>\n      <td>Which &lt;b&gt;cloud platforms&lt;/b&gt; have you done ext...</td>\n    </tr>\n    <tr>\n      <th>23</th>\n      <td>Webframe</td>\n      <td>Which &lt;strong&gt;web frameworks &lt;/strong&gt;&lt;span st...</td>\n    </tr>\n    <tr>\n      <th>24</th>\n      <td>MiscTech</td>\n      <td>Which &lt;b&gt;other frameworks and libraries&lt;/b&gt; ha...</td>\n    </tr>\n    <tr>\n      <th>25</th>\n      <td>ToolsTech</td>\n      <td>Which &lt;strong&gt;tools&lt;/strong&gt; have you done ext...</td>\n    </tr>\n    <tr>\n      <th>26</th>\n      <td>NEWCollabTools</td>\n      <td>Which &lt;strong&gt;development environments&lt;/strong...</td>\n    </tr>\n    <tr>\n      <th>27</th>\n      <td>OpSys</td>\n      <td>What is the primary operating system in which ...</td>\n    </tr>\n    <tr>\n      <th>28</th>\n      <td>NEWStuck</td>\n      <td>What do you do when you get stuck on a problem...</td>\n    </tr>\n    <tr>\n      <th>29</th>\n      <td>S4</td>\n      <td>&lt;span style=\"font-size:22px; font-family: aria...</td>\n    </tr>\n    <tr>\n      <th>30</th>\n      <td>NEWSOSites</td>\n      <td>Which of the following Stack Overflow sites ha...</td>\n    </tr>\n    <tr>\n      <th>31</th>\n      <td>SOVisitFreq</td>\n      <td>How frequently would you say you visit Stack O...</td>\n    </tr>\n    <tr>\n      <th>32</th>\n      <td>SOAccount</td>\n      <td>Do you have a Stack Overflow account?</td>\n    </tr>\n    <tr>\n      <th>33</th>\n      <td>SOPartFreq</td>\n      <td>How frequently would you say you participate i...</td>\n    </tr>\n    <tr>\n      <th>34</th>\n      <td>SOComm</td>\n      <td>Do you consider yourself a member of the Stack...</td>\n    </tr>\n    <tr>\n      <th>35</th>\n      <td>NEWOtherComms</td>\n      <td>Are you a member of any other online developer...</td>\n    </tr>\n    <tr>\n      <th>36</th>\n      <td>NEWOtherCommsNames</td>\n      <td>Please name up to 5 other online developer com...</td>\n    </tr>\n    <tr>\n      <th>37</th>\n      <td>S5</td>\n      <td>&lt;span style=\"font-size:22px; font-family: aria...</td>\n    </tr>\n    <tr>\n      <th>38</th>\n      <td>Age</td>\n      <td>What is your age?</td>\n    </tr>\n    <tr>\n      <th>39</th>\n      <td>Gender</td>\n      <td>Which of the following describe you, if any? P...</td>\n    </tr>\n    <tr>\n      <th>40</th>\n      <td>Trans</td>\n      <td>Do you identify as transgender?</td>\n    </tr>\n    <tr>\n      <th>41</th>\n      <td>Sexuality</td>\n      <td>Which of the following describe you, if any? P...</td>\n    </tr>\n    <tr>\n      <th>42</th>\n      <td>Ethnicity</td>\n      <td>Which of the following describe you, if any? P...</td>\n    </tr>\n    <tr>\n      <th>43</th>\n      <td>Accessibility</td>\n      <td>Which of the following describe you, if any? P...</td>\n    </tr>\n    <tr>\n      <th>44</th>\n      <td>MentalHealth</td>\n      <td>Which of the following describe you, if any? P...</td>\n    </tr>\n    <tr>\n      <th>45</th>\n      <td>S6</td>\n      <td>&lt;span style=\"font-size:22px;\"&gt;&lt;strong&gt;Final Qu...</td>\n    </tr>\n    <tr>\n      <th>46</th>\n      <td>SurveyLength</td>\n      <td>How do you feel about the length of the survey...</td>\n    </tr>\n    <tr>\n      <th>47</th>\n      <td>SurveyEase</td>\n      <td>How easy or difficult was this survey to compl...</td>\n    </tr>\n  </tbody>\n</table>\n</div>"
     },
     "metadata": {}
    }
   ]
  },
  {
   "cell_type": "code",
   "metadata": {
    "cell_id": "737489f0-3b4a-4848-b0c1-74ab74469ea8",
    "tags": [],
    "deepnote_to_be_reexecuted": false,
    "source_hash": "77e67714",
    "execution_start": 1645585348254,
    "execution_millis": 157,
    "deepnote_cell_type": "code"
   },
   "source": "df_survey.sample(5)",
   "execution_count": 4,
   "outputs": [
    {
     "output_type": "execute_result",
     "execution_count": 4,
     "data": {
      "application/vnd.deepnote.dataframe.v3+json": {
       "column_count": 48,
       "row_count": 5,
       "columns": [
        {
         "name": "ResponseId",
         "dtype": "int64",
         "stats": {
          "unique_count": 5,
          "nan_count": 0,
          "min": "27098",
          "max": "64728",
          "histogram": [
           {
            "bin_start": 27098,
            "bin_end": 30861,
            "count": 2
           },
           {
            "bin_start": 30861,
            "bin_end": 34624,
            "count": 0
           },
           {
            "bin_start": 34624,
            "bin_end": 38387,
            "count": 0
           },
           {
            "bin_start": 38387,
            "bin_end": 42150,
            "count": 0
           },
           {
            "bin_start": 42150,
            "bin_end": 45913,
            "count": 0
           },
           {
            "bin_start": 45913,
            "bin_end": 49676,
            "count": 0
           },
           {
            "bin_start": 49676,
            "bin_end": 53439,
            "count": 0
           },
           {
            "bin_start": 53439,
            "bin_end": 57202,
            "count": 1
           },
           {
            "bin_start": 57202,
            "bin_end": 60965,
            "count": 0
           },
           {
            "bin_start": 60965,
            "bin_end": 64728,
            "count": 2
           }
          ]
         }
        },
        {
         "name": "MainBranch",
         "dtype": "object",
         "stats": {
          "unique_count": 1,
          "nan_count": 0,
          "categories": [
           {
            "name": "I am a developer by profession",
            "count": 5
           }
          ]
         }
        },
        {
         "name": "Employment",
         "dtype": "object",
         "stats": {
          "unique_count": 3,
          "nan_count": 0,
          "categories": [
           {
            "name": "Employed full-time",
            "count": 3
           },
           {
            "name": "Independent contractor, freelancer, or self-employed",
            "count": 1
           },
           {
            "name": "Employed part-time",
            "count": 1
           }
          ]
         }
        },
        {
         "name": "Country",
         "dtype": "object",
         "stats": {
          "unique_count": 5,
          "nan_count": 0,
          "categories": [
           {
            "name": "United States of America",
            "count": 1
           },
           {
            "name": "India",
            "count": 1
           },
           {
            "name": "3 others",
            "count": 3
           }
          ]
         }
        },
        {
         "name": "US_State",
         "dtype": "object",
         "stats": {
          "unique_count": 1,
          "nan_count": 4,
          "categories": [
           {
            "name": "Georgia",
            "count": 1
           },
           {
            "name": "Missing",
            "count": 4
           }
          ]
         }
        },
        {
         "name": "UK_Country",
         "dtype": "object",
         "stats": {
          "unique_count": 0,
          "nan_count": 5,
          "categories": [
           {
            "name": "Missing",
            "count": 5
           }
          ]
         }
        },
        {
         "name": "EdLevel",
         "dtype": "object",
         "stats": {
          "unique_count": 3,
          "nan_count": 0,
          "categories": [
           {
            "name": "Bachelor’s degree (B.A., B.S., B.Eng., etc.)",
            "count": 3
           },
           {
            "name": "Some college/university study without earning a degree",
            "count": 1
           },
           {
            "name": "Master’s degree (M.A., M.S., M.Eng., MBA, etc.)",
            "count": 1
           }
          ]
         }
        },
        {
         "name": "Age1stCode",
         "dtype": "object",
         "stats": {
          "unique_count": 3,
          "nan_count": 0,
          "categories": [
           {
            "name": "18 - 24 years",
            "count": 3
           },
           {
            "name": "35 - 44 years",
            "count": 1
           },
           {
            "name": "11 - 17 years",
            "count": 1
           }
          ]
         }
        },
        {
         "name": "LearnCode",
         "dtype": "object",
         "stats": {
          "unique_count": 5,
          "nan_count": 0,
          "categories": [
           {
            "name": "School;Online Courses or Certification;Books / Physical media",
            "count": 1
           },
           {
            "name": "Coding Bootcamp;School",
            "count": 1
           },
           {
            "name": "3 others",
            "count": 3
           }
          ]
         }
        },
        {
         "name": "YearsCode",
         "dtype": "object",
         "stats": {
          "unique_count": 5,
          "nan_count": 0,
          "categories": [
           {
            "name": "10",
            "count": 1
           },
           {
            "name": "6",
            "count": 1
           },
           {
            "name": "3 others",
            "count": 3
           }
          ]
         }
        },
        {
         "name": "YearsCodePro",
         "dtype": "object",
         "stats": {
          "unique_count": 5,
          "nan_count": 0,
          "categories": [
           {
            "name": "9",
            "count": 1
           },
           {
            "name": "1",
            "count": 1
           },
           {
            "name": "3 others",
            "count": 3
           }
          ]
         }
        },
        {
         "name": "DevType",
         "dtype": "object",
         "stats": {
          "unique_count": 3,
          "nan_count": 0,
          "categories": [
           {
            "name": "Developer, full-stack",
            "count": 3
           },
           {
            "name": "Developer, full-stack;Other (please specify):;Developer, back-end",
            "count": 1
           },
           {
            "name": "Developer, full-stack;Student",
            "count": 1
           }
          ]
         }
        },
        {
         "name": "OrgSize",
         "dtype": "object",
         "stats": {
          "unique_count": 4,
          "nan_count": 0,
          "categories": [
           {
            "name": "1,000 to 4,999 employees",
            "count": 2
           },
           {
            "name": "10,000 or more employees",
            "count": 1
           },
           {
            "name": "2 others",
            "count": 2
           }
          ]
         }
        },
        {
         "name": "Currency",
         "dtype": "object",
         "stats": {
          "unique_count": 3,
          "nan_count": 0,
          "categories": [
           {
            "name": "USD\tUnited States dollar",
            "count": 2
           },
           {
            "name": "EUR European Euro",
            "count": 2
           },
           {
            "name": "INR\tIndian rupee",
            "count": 1
           }
          ]
         }
        },
        {
         "name": "CompTotal",
         "dtype": "float64",
         "stats": {
          "unique_count": 5,
          "nan_count": 0,
          "min": "5400.0",
          "max": "400000.0",
          "histogram": [
           {
            "bin_start": 5400,
            "bin_end": 44860,
            "count": 2
           },
           {
            "bin_start": 44860,
            "bin_end": 84320,
            "count": 1
           },
           {
            "bin_start": 84320,
            "bin_end": 123780,
            "count": 0
           },
           {
            "bin_start": 123780,
            "bin_end": 163240,
            "count": 0
           },
           {
            "bin_start": 163240,
            "bin_end": 202700,
            "count": 1
           },
           {
            "bin_start": 202700,
            "bin_end": 242160,
            "count": 0
           },
           {
            "bin_start": 242160,
            "bin_end": 281620,
            "count": 0
           },
           {
            "bin_start": 281620,
            "bin_end": 321080,
            "count": 0
           },
           {
            "bin_start": 321080,
            "bin_end": 360540,
            "count": 0
           },
           {
            "bin_start": 360540,
            "bin_end": 400000,
            "count": 1
           }
          ]
         }
        },
        {
         "name": "CompFreq",
         "dtype": "object",
         "stats": {
          "unique_count": 2,
          "nan_count": 0,
          "categories": [
           {
            "name": "Yearly",
            "count": 4
           },
           {
            "name": "Monthly",
            "count": 1
           }
          ]
         }
        },
        {
         "name": "LanguageHaveWorkedWith",
         "dtype": "object",
         "stats": {
          "unique_count": 5,
          "nan_count": 0,
          "categories": [
           {
            "name": "Assembly;HTML/CSS;JavaScript;Python;Ruby;Rust;SQL",
            "count": 1
           },
           {
            "name": "HTML/CSS;Java;JavaScript;Ruby;SQL",
            "count": 1
           },
           {
            "name": "3 others",
            "count": 3
           }
          ]
         }
        },
        {
         "name": "LanguageWantToWorkWith",
         "dtype": "object",
         "stats": {
          "unique_count": 5,
          "nan_count": 0,
          "categories": [
           {
            "name": "HTML/CSS;JavaScript;Ruby;Rust;SQL",
            "count": 1
           },
           {
            "name": "HTML/CSS;Java;JavaScript;SQL",
            "count": 1
           },
           {
            "name": "3 others",
            "count": 3
           }
          ]
         }
        },
        {
         "name": "DatabaseHaveWorkedWith",
         "dtype": "object",
         "stats": {
          "unique_count": 4,
          "nan_count": 1,
          "categories": [
           {
            "name": "Elasticsearch;PostgreSQL;Redis",
            "count": 1
           },
           {
            "name": "3 others",
            "count": 3
           },
           {
            "name": "Missing",
            "count": 1
           }
          ]
         }
        },
        {
         "name": "DatabaseWantToWorkWith",
         "dtype": "object",
         "stats": {
          "unique_count": 3,
          "nan_count": 2,
          "categories": [
           {
            "name": "Elasticsearch;PostgreSQL;Redis",
            "count": 1
           },
           {
            "name": "2 others",
            "count": 2
           },
           {
            "name": "Missing",
            "count": 2
           }
          ]
         }
        },
        {
         "name": "PlatformHaveWorkedWith",
         "dtype": "object",
         "stats": {
          "unique_count": 3,
          "nan_count": 1,
          "categories": [
           {
            "name": "Microsoft Azure",
            "count": 2
           },
           {
            "name": "2 others",
            "count": 2
           },
           {
            "name": "Missing",
            "count": 1
           }
          ]
         }
        },
        {
         "name": "PlatformWantToWorkWith",
         "dtype": "object",
         "stats": {
          "unique_count": 2,
          "nan_count": 3,
          "categories": [
           {
            "name": "Microsoft Azure",
            "count": 1
           },
           {
            "name": "AWS;DigitalOcean;Heroku",
            "count": 1
           },
           {
            "name": "Missing",
            "count": 3
           }
          ]
         }
        },
        {
         "name": "WebframeHaveWorkedWith",
         "dtype": "object",
         "stats": {
          "unique_count": 5,
          "nan_count": 0,
          "categories": [
           {
            "name": "React.js;Ruby on Rails;Vue.js",
            "count": 1
           },
           {
            "name": "jQuery;Spring",
            "count": 1
           },
           {
            "name": "3 others",
            "count": 3
           }
          ]
         }
        },
        {
         "name": "WebframeWantToWorkWith",
         "dtype": "object",
         "stats": {
          "unique_count": 4,
          "nan_count": 0,
          "categories": [
           {
            "name": "React.js",
            "count": 2
           },
           {
            "name": "Ruby on Rails;Vue.js",
            "count": 1
           },
           {
            "name": "2 others",
            "count": 2
           }
          ]
         }
        },
        {
         "name": "MiscTechHaveWorkedWith",
         "dtype": "object",
         "stats": {
          "unique_count": 2,
          "nan_count": 3,
          "categories": [
           {
            "name": "Cordova;React Native",
            "count": 1
           },
           {
            "name": "Cordova;Keras;NumPy;Pandas;TensorFlow",
            "count": 1
           },
           {
            "name": "Missing",
            "count": 3
           }
          ]
         }
        },
        {
         "name": "MiscTechWantToWorkWith",
         "dtype": "object",
         "stats": {
          "unique_count": 1,
          "nan_count": 4,
          "categories": [
           {
            "name": "Keras;NumPy;Pandas;TensorFlow",
            "count": 1
           },
           {
            "name": "Missing",
            "count": 4
           }
          ]
         }
        },
        {
         "name": "ToolsTechHaveWorkedWith",
         "dtype": "object",
         "stats": {
          "unique_count": 3,
          "nan_count": 0,
          "categories": [
           {
            "name": "Docker;Git;Yarn",
            "count": 2
           },
           {
            "name": "Docker;Git",
            "count": 2
           },
           {
            "name": "Ansible;Chef;Docker;Git;Terraform",
            "count": 1
           }
          ]
         }
        },
        {
         "name": "ToolsTechWantToWorkWith",
         "dtype": "object",
         "stats": {
          "unique_count": 3,
          "nan_count": 0,
          "categories": [
           {
            "name": "Docker;Git",
            "count": 3
           },
           {
            "name": "Docker;Git;Terraform",
            "count": 1
           },
           {
            "name": "Deno;Docker;Git;Yarn",
            "count": 1
           }
          ]
         }
        },
        {
         "name": "NEWCollabToolsHaveWorkedWith",
         "dtype": "object",
         "stats": {
          "unique_count": 5,
          "nan_count": 0,
          "categories": [
           {
            "name": "Visual Studio Code",
            "count": 1
           },
           {
            "name": "Eclipse;Notepad++;Visual Studio Code",
            "count": 1
           },
           {
            "name": "3 others",
            "count": 3
           }
          ]
         }
        },
        {
         "name": "NEWCollabToolsWantToWorkWith",
         "dtype": "object",
         "stats": {
          "unique_count": 5,
          "nan_count": 0,
          "categories": [
           {
            "name": "Visual Studio Code",
            "count": 1
           },
           {
            "name": "Eclipse;Notepad++;Visual Studio Code",
            "count": 1
           },
           {
            "name": "3 others",
            "count": 3
           }
          ]
         }
        },
        {
         "name": "OpSys",
         "dtype": "object",
         "stats": {
          "unique_count": 3,
          "nan_count": 0,
          "categories": [
           {
            "name": "Windows Subsystem for Linux (WSL)",
            "count": 2
           },
           {
            "name": "MacOS",
            "count": 2
           },
           {
            "name": "Windows",
            "count": 1
           }
          ]
         }
        },
        {
         "name": "NEWStuck",
         "dtype": "object",
         "stats": {
          "unique_count": 5,
          "nan_count": 0,
          "categories": [
           {
            "name": "Call a coworker or friend;Visit Stack Overflow;Go for a walk or other physical activity;Google it",
            "count": 1
           },
           {
            "name": "Visit Stack Overflow;Google it",
            "count": 1
           },
           {
            "name": "3 others",
            "count": 3
           }
          ]
         }
        },
        {
         "name": "NEWSOSites",
         "dtype": "object",
         "stats": {
          "unique_count": 2,
          "nan_count": 0,
          "categories": [
           {
            "name": "Stack Overflow;Stack Exchange",
            "count": 3
           },
           {
            "name": "Stack Overflow",
            "count": 2
           }
          ]
         }
        },
        {
         "name": "SOVisitFreq",
         "dtype": "object",
         "stats": {
          "unique_count": 4,
          "nan_count": 0,
          "categories": [
           {
            "name": "Multiple times per day",
            "count": 2
           },
           {
            "name": "A few times per month or weekly",
            "count": 1
           },
           {
            "name": "2 others",
            "count": 2
           }
          ]
         }
        },
        {
         "name": "SOAccount",
         "dtype": "object",
         "stats": {
          "unique_count": 2,
          "nan_count": 0,
          "categories": [
           {
            "name": "Yes",
            "count": 4
           },
           {
            "name": "No",
            "count": 1
           }
          ]
         }
        },
        {
         "name": "SOPartFreq",
         "dtype": "object",
         "stats": {
          "unique_count": 2,
          "nan_count": 1,
          "categories": [
           {
            "name": "I have never participated in Q&A on Stack Overflow",
            "count": 3
           },
           {
            "name": "Less than once per month or monthly",
            "count": 1
           },
           {
            "name": "Missing",
            "count": 1
           }
          ]
         }
        },
        {
         "name": "SOComm",
         "dtype": "object",
         "stats": {
          "unique_count": 2,
          "nan_count": 0,
          "categories": [
           {
            "name": "No, not really",
            "count": 3
           },
           {
            "name": "Neutral",
            "count": 2
           }
          ]
         }
        },
        {
         "name": "NEWOtherComms",
         "dtype": "object",
         "stats": {
          "unique_count": 2,
          "nan_count": 0,
          "categories": [
           {
            "name": "Yes",
            "count": 3
           },
           {
            "name": "No",
            "count": 2
           }
          ]
         }
        },
        {
         "name": "Age",
         "dtype": "object",
         "stats": {
          "unique_count": 3,
          "nan_count": 0,
          "categories": [
           {
            "name": "25-34 years old",
            "count": 3
           },
           {
            "name": "18-24 years old",
            "count": 1
           },
           {
            "name": "35-44 years old",
            "count": 1
           }
          ]
         }
        },
        {
         "name": "Gender",
         "dtype": "object",
         "stats": {
          "unique_count": 2,
          "nan_count": 0,
          "categories": [
           {
            "name": "Man",
            "count": 3
           },
           {
            "name": "Woman",
            "count": 2
           }
          ]
         }
        },
        {
         "name": "Trans",
         "dtype": "object",
         "stats": {
          "unique_count": 1,
          "nan_count": 0,
          "categories": [
           {
            "name": "No",
            "count": 5
           }
          ]
         }
        },
        {
         "name": "Sexuality",
         "dtype": "object",
         "stats": {
          "unique_count": 4,
          "nan_count": 0,
          "categories": [
           {
            "name": "Straight / Heterosexual",
            "count": 2
           },
           {
            "name": "Straight / Heterosexual;Bisexual",
            "count": 1
           },
           {
            "name": "2 others",
            "count": 2
           }
          ]
         }
        },
        {
         "name": "Ethnicity",
         "dtype": "object",
         "stats": {
          "unique_count": 3,
          "nan_count": 0,
          "categories": [
           {
            "name": "White or of European descent",
            "count": 3
           },
           {
            "name": "South Asian",
            "count": 1
           },
           {
            "name": "Prefer not to say",
            "count": 1
           }
          ]
         }
        },
        {
         "name": "Accessibility",
         "dtype": "object",
         "stats": {
          "unique_count": 2,
          "nan_count": 0,
          "categories": [
           {
            "name": "None of the above",
            "count": 4
           },
           {
            "name": "Prefer not to say",
            "count": 1
           }
          ]
         }
        },
        {
         "name": "MentalHealth",
         "dtype": "object",
         "stats": {
          "unique_count": 5,
          "nan_count": 0,
          "categories": [
           {
            "name": "I have an anxiety disorder",
            "count": 1
           },
           {
            "name": "None of the above",
            "count": 1
           },
           {
            "name": "3 others",
            "count": 3
           }
          ]
         }
        },
        {
         "name": "SurveyLength",
         "dtype": "object",
         "stats": {
          "unique_count": 1,
          "nan_count": 0,
          "categories": [
           {
            "name": "Appropriate in length",
            "count": 5
           }
          ]
         }
        },
        {
         "name": "SurveyEase",
         "dtype": "object",
         "stats": {
          "unique_count": 2,
          "nan_count": 0,
          "categories": [
           {
            "name": "Easy",
            "count": 4
           },
           {
            "name": "Neither easy nor difficult",
            "count": 1
           }
          ]
         }
        },
        {
         "name": "ConvertedCompYearly",
         "dtype": "float64",
         "stats": {
          "unique_count": 5,
          "nan_count": 0,
          "min": "5585.0",
          "max": "175000.0",
          "histogram": [
           {
            "bin_start": 5585,
            "bin_end": 22526.5,
            "count": 1
           },
           {
            "bin_start": 22526.5,
            "bin_end": 39468,
            "count": 0
           },
           {
            "bin_start": 39468,
            "bin_end": 56409.5,
            "count": 1
           },
           {
            "bin_start": 56409.5,
            "bin_end": 73351,
            "count": 1
           },
           {
            "bin_start": 73351,
            "bin_end": 90292.5,
            "count": 1
           },
           {
            "bin_start": 90292.5,
            "bin_end": 107234,
            "count": 0
           },
           {
            "bin_start": 107234,
            "bin_end": 124175.5,
            "count": 0
           },
           {
            "bin_start": 124175.5,
            "bin_end": 141117,
            "count": 0
           },
           {
            "bin_start": 141117,
            "bin_end": 158058.5,
            "count": 0
           },
           {
            "bin_start": 158058.5,
            "bin_end": 175000,
            "count": 1
           }
          ]
         }
        },
        {
         "name": "_deepnote_index_column",
         "dtype": "int64"
        }
       ],
       "rows": [
        {
         "ResponseId": 61130,
         "MainBranch": "I am a developer by profession",
         "Employment": "Employed full-time",
         "Country": "United States of America",
         "US_State": "Georgia",
         "UK_Country": "nan",
         "EdLevel": "Bachelor’s degree (B.A., B.S., B.Eng., etc.)",
         "Age1stCode": "18 - 24 years",
         "LearnCode": "School;Online Courses or Certification;Books / Physical media",
         "YearsCode": "10",
         "YearsCodePro": "9",
         "DevType": "Developer, full-stack;Other (please specify):;Developer, back-end",
         "OrgSize": "1,000 to 4,999 employees",
         "Currency": "USD\tUnited States dollar",
         "CompTotal": 175000,
         "CompFreq": "Yearly",
         "LanguageHaveWorkedWith": "Assembly;HTML/CSS;JavaScript;Python;Ruby;Rust;SQL",
         "LanguageWantToWorkWith": "HTML/CSS;JavaScript;Ruby;Rust;SQL",
         "DatabaseHaveWorkedWith": "Elasticsearch;PostgreSQL;Redis",
         "DatabaseWantToWorkWith": "Elasticsearch;PostgreSQL;Redis",
         "PlatformHaveWorkedWith": "Heroku",
         "PlatformWantToWorkWith": "nan",
         "WebframeHaveWorkedWith": "React.js;Ruby on Rails;Vue.js",
         "WebframeWantToWorkWith": "Ruby on Rails;Vue.js",
         "MiscTechHaveWorkedWith": "nan",
         "MiscTechWantToWorkWith": "nan",
         "ToolsTechHaveWorkedWith": "Docker;Git;Yarn",
         "ToolsTechWantToWorkWith": "Docker;Git",
         "NEWCollabToolsHaveWorkedWith": "Visual Studio Code",
         "NEWCollabToolsWantToWorkWith": "Visual Studio Code",
         "OpSys": "Windows Subsystem for Linux (WSL)",
         "NEWStuck": "Call a coworker or friend;Visit Stack Overflow;Go for a walk or other physical activity;Google it",
         "NEWSOSites": "Stack Overflow;Stack Exchange",
         "SOVisitFreq": "A few times per month or weekly",
         "SOAccount": "Yes",
         "SOPartFreq": "I have never participated in Q&A on Stack Overflow",
         "SOComm": "No, not really",
         "NEWOtherComms": "Yes",
         "Age": "25-34 years old",
         "Gender": "Woman",
         "Trans": "No",
         "Sexuality": "Straight / Heterosexual;Bisexual",
         "Ethnicity": "White or of European descent",
         "Accessibility": "None of the above",
         "MentalHealth": "I have an anxiety disorder",
         "SurveyLength": "Appropriate in length",
         "SurveyEase": "Easy",
         "ConvertedCompYearly": 175000,
         "_deepnote_index_column": 61129
        },
        {
         "ResponseId": 27098,
         "MainBranch": "I am a developer by profession",
         "Employment": "Employed full-time",
         "Country": "India",
         "US_State": "nan",
         "UK_Country": "nan",
         "EdLevel": "Bachelor’s degree (B.A., B.S., B.Eng., etc.)",
         "Age1stCode": "18 - 24 years",
         "LearnCode": "Coding Bootcamp;School",
         "YearsCode": "6",
         "YearsCodePro": "1",
         "DevType": "Developer, full-stack",
         "OrgSize": "10,000 or more employees",
         "Currency": "INR\tIndian rupee",
         "CompTotal": 400000,
         "CompFreq": "Yearly",
         "LanguageHaveWorkedWith": "HTML/CSS;Java;JavaScript;Ruby;SQL",
         "LanguageWantToWorkWith": "HTML/CSS;Java;JavaScript;SQL",
         "DatabaseHaveWorkedWith": "Microsoft SQL Server;Oracle",
         "DatabaseWantToWorkWith": "Microsoft SQL Server;MySQL;Oracle",
         "PlatformHaveWorkedWith": "Microsoft Azure",
         "PlatformWantToWorkWith": "Microsoft Azure",
         "WebframeHaveWorkedWith": "jQuery;Spring",
         "WebframeWantToWorkWith": "Angular;jQuery;Spring",
         "MiscTechHaveWorkedWith": "nan",
         "MiscTechWantToWorkWith": "nan",
         "ToolsTechHaveWorkedWith": "Docker;Git",
         "ToolsTechWantToWorkWith": "Docker;Git",
         "NEWCollabToolsHaveWorkedWith": "Eclipse;Notepad++;Visual Studio Code",
         "NEWCollabToolsWantToWorkWith": "Eclipse;Notepad++;Visual Studio Code",
         "OpSys": "Windows",
         "NEWStuck": "Visit Stack Overflow;Google it",
         "NEWSOSites": "Stack Overflow",
         "SOVisitFreq": "Daily or almost daily",
         "SOAccount": "Yes",
         "SOPartFreq": "Less than once per month or monthly",
         "SOComm": "Neutral",
         "NEWOtherComms": "Yes",
         "Age": "18-24 years old",
         "Gender": "Man",
         "Trans": "No",
         "Sexuality": "Straight / Heterosexual",
         "Ethnicity": "South Asian",
         "Accessibility": "None of the above",
         "MentalHealth": "None of the above",
         "SurveyLength": "Appropriate in length",
         "SurveyEase": "Easy",
         "ConvertedCompYearly": 5585,
         "_deepnote_index_column": 27097
        },
        {
         "ResponseId": 64728,
         "MainBranch": "I am a developer by profession",
         "Employment": "Independent contractor, freelancer, or self-employed",
         "Country": "Italy",
         "US_State": "nan",
         "UK_Country": "nan",
         "EdLevel": "Bachelor’s degree (B.A., B.S., B.Eng., etc.)",
         "Age1stCode": "35 - 44 years",
         "LearnCode": "Other online resources (ex: videos, blogs, etc);Online Courses or Certification;Colleague",
         "YearsCode": "18",
         "YearsCodePro": "15",
         "DevType": "Developer, full-stack",
         "OrgSize": "100 to 499 employees",
         "Currency": "USD\tUnited States dollar",
         "CompTotal": 75000,
         "CompFreq": "Yearly",
         "LanguageHaveWorkedWith": "HTML/CSS;JavaScript;Node.js;PHP;TypeScript",
         "LanguageWantToWorkWith": "HTML/CSS;JavaScript;Node.js;PHP;TypeScript",
         "DatabaseHaveWorkedWith": "MariaDB;PostgreSQL;Redis;SQLite",
         "DatabaseWantToWorkWith": "MariaDB;PostgreSQL;Redis",
         "PlatformHaveWorkedWith": "AWS;DigitalOcean;Heroku",
         "PlatformWantToWorkWith": "AWS;DigitalOcean;Heroku",
         "WebframeHaveWorkedWith": "Angular;Angular.js;Gatsby;jQuery;Laravel;React.js;Symfony;Vue.js",
         "WebframeWantToWorkWith": "Gatsby;jQuery;Laravel;React.js",
         "MiscTechHaveWorkedWith": "Cordova;React Native",
         "MiscTechWantToWorkWith": "nan",
         "ToolsTechHaveWorkedWith": "Ansible;Chef;Docker;Git;Terraform",
         "ToolsTechWantToWorkWith": "Docker;Git;Terraform",
         "NEWCollabToolsHaveWorkedWith": "PHPStorm;Vim;Visual Studio Code",
         "NEWCollabToolsWantToWorkWith": "Vim;Visual Studio Code",
         "OpSys": "MacOS",
         "NEWStuck": "Visit Stack Overflow;Google it;Meditate",
         "NEWSOSites": "Stack Overflow",
         "SOVisitFreq": "Less than once per month or monthly",
         "SOAccount": "Yes",
         "SOPartFreq": "I have never participated in Q&A on Stack Overflow",
         "SOComm": "No, not really",
         "NEWOtherComms": "Yes",
         "Age": "35-44 years old",
         "Gender": "Man",
         "Trans": "No",
         "Sexuality": "Prefer not to say",
         "Ethnicity": "Prefer not to say",
         "Accessibility": "Prefer not to say",
         "MentalHealth": "Prefer not to say",
         "SurveyLength": "Appropriate in length",
         "SurveyEase": "Neither easy nor difficult",
         "ConvertedCompYearly": 75000,
         "_deepnote_index_column": 64727
        },
        {
         "ResponseId": 56573,
         "MainBranch": "I am a developer by profession",
         "Employment": "Employed full-time",
         "Country": "Germany",
         "US_State": "nan",
         "UK_Country": "nan",
         "EdLevel": "Some college/university study without earning a degree",
         "Age1stCode": "18 - 24 years",
         "LearnCode": "Coding Bootcamp;Other online resources (ex: videos, blogs, etc);Online Courses or Certification",
         "YearsCode": "5",
         "YearsCodePro": "3",
         "DevType": "Developer, full-stack",
         "OrgSize": "10 to 19 employees",
         "Currency": "EUR European Euro",
         "CompTotal": 5400,
         "CompFreq": "Monthly",
         "LanguageHaveWorkedWith": "Go;HTML/CSS;JavaScript;Node.js;PowerShell;TypeScript",
         "LanguageWantToWorkWith": "HTML/CSS;JavaScript;Node.js;TypeScript",
         "DatabaseHaveWorkedWith": "nan",
         "DatabaseWantToWorkWith": "nan",
         "PlatformHaveWorkedWith": "nan",
         "PlatformWantToWorkWith": "nan",
         "WebframeHaveWorkedWith": "React.js",
         "WebframeWantToWorkWith": "React.js",
         "MiscTechHaveWorkedWith": "nan",
         "MiscTechWantToWorkWith": "nan",
         "ToolsTechHaveWorkedWith": "Docker;Git;Yarn",
         "ToolsTechWantToWorkWith": "Deno;Docker;Git;Yarn",
         "NEWCollabToolsHaveWorkedWith": "Visual Studio Code;Webstorm",
         "NEWCollabToolsWantToWorkWith": "Visual Studio Code;Webstorm",
         "OpSys": "Windows Subsystem for Linux (WSL)",
         "NEWStuck": "Call a coworker or friend;Visit Stack Overflow;Google it;Watch help / tutorial videos;Panic",
         "NEWSOSites": "Stack Overflow;Stack Exchange",
         "SOVisitFreq": "Multiple times per day",
         "SOAccount": "Yes",
         "SOPartFreq": "I have never participated in Q&A on Stack Overflow",
         "SOComm": "Neutral",
         "NEWOtherComms": "No",
         "Age": "25-34 years old",
         "Gender": "Man",
         "Trans": "No",
         "Sexuality": "Straight / Heterosexual",
         "Ethnicity": "White or of European descent",
         "Accessibility": "None of the above",
         "MentalHealth": "I have a mood or emotional disorder (e.g. depression, bipolar disorder);I have an anxiety disorder",
         "SurveyLength": "Appropriate in length",
         "SurveyEase": "Easy",
         "ConvertedCompYearly": 70044,
         "_deepnote_index_column": 56572
        },
        {
         "ResponseId": 28608,
         "MainBranch": "I am a developer by profession",
         "Employment": "Employed part-time",
         "Country": "France",
         "US_State": "nan",
         "UK_Country": "nan",
         "EdLevel": "Master’s degree (M.A., M.S., M.Eng., MBA, etc.)",
         "Age1stCode": "11 - 17 years",
         "LearnCode": "Coding Bootcamp;Other online resources (ex: videos, blogs, etc);School;Online Courses or Certificat…",
         "YearsCode": "8",
         "YearsCodePro": "6",
         "DevType": "Developer, full-stack;Student",
         "OrgSize": "1,000 to 4,999 employees",
         "Currency": "EUR European Euro",
         "CompTotal": 41000,
         "CompFreq": "Yearly",
         "LanguageHaveWorkedWith": "Bash/Shell;HTML/CSS;JavaScript;Matlab;Node.js;Python;SQL;TypeScript",
         "LanguageWantToWorkWith": "Bash/Shell;HTML/CSS;JavaScript;Node.js;Python;R;TypeScript",
         "DatabaseHaveWorkedWith": "Firebase;MongoDB;MySQL;PostgreSQL",
         "DatabaseWantToWorkWith": "nan",
         "PlatformHaveWorkedWith": "Microsoft Azure",
         "PlatformWantToWorkWith": "nan",
         "WebframeHaveWorkedWith": "Angular;Express",
         "WebframeWantToWorkWith": "React.js",
         "MiscTechHaveWorkedWith": "Cordova;Keras;NumPy;Pandas;TensorFlow",
         "MiscTechWantToWorkWith": "Keras;NumPy;Pandas;TensorFlow",
         "ToolsTechHaveWorkedWith": "Docker;Git",
         "ToolsTechWantToWorkWith": "Docker;Git",
         "NEWCollabToolsHaveWorkedWith": "IntelliJ;IPython/Jupyter;Vim;Webstorm;Xcode",
         "NEWCollabToolsWantToWorkWith": "IntelliJ;IPython/Jupyter;Vim;Webstorm",
         "OpSys": "MacOS",
         "NEWStuck": "Call a coworker or friend;Visit Stack Overflow;Google it;Watch help / tutorial videos;Do other work…",
         "NEWSOSites": "Stack Overflow;Stack Exchange",
         "SOVisitFreq": "Multiple times per day",
         "SOAccount": "No",
         "SOPartFreq": "nan",
         "SOComm": "No, not really",
         "NEWOtherComms": "No",
         "Age": "25-34 years old",
         "Gender": "Woman",
         "Trans": "No",
         "Sexuality": "Bisexual",
         "Ethnicity": "White or of European descent",
         "Accessibility": "None of the above",
         "MentalHealth": "I have a concentration and/or memory disorder (e.g. ADHD);I have an anxiety disorder",
         "SurveyLength": "Appropriate in length",
         "SurveyEase": "Easy",
         "ConvertedCompYearly": 44320,
         "_deepnote_index_column": 28607
        }
       ]
      },
      "text/plain": "       ResponseId                      MainBranch  \\\n61129       61130  I am a developer by profession   \n27097       27098  I am a developer by profession   \n64727       64728  I am a developer by profession   \n56572       56573  I am a developer by profession   \n28607       28608  I am a developer by profession   \n\n                                              Employment  \\\n61129                                 Employed full-time   \n27097                                 Employed full-time   \n64727  Independent contractor, freelancer, or self-em...   \n56572                                 Employed full-time   \n28607                                 Employed part-time   \n\n                        Country US_State UK_Country  \\\n61129  United States of America  Georgia        NaN   \n27097                     India      NaN        NaN   \n64727                     Italy      NaN        NaN   \n56572                   Germany      NaN        NaN   \n28607                    France      NaN        NaN   \n\n                                                 EdLevel     Age1stCode  \\\n61129       Bachelor’s degree (B.A., B.S., B.Eng., etc.)  18 - 24 years   \n27097       Bachelor’s degree (B.A., B.S., B.Eng., etc.)  18 - 24 years   \n64727       Bachelor’s degree (B.A., B.S., B.Eng., etc.)  35 - 44 years   \n56572  Some college/university study without earning ...  18 - 24 years   \n28607    Master’s degree (M.A., M.S., M.Eng., MBA, etc.)  11 - 17 years   \n\n                                               LearnCode YearsCode  ...  \\\n61129  School;Online Courses or Certification;Books /...        10  ...   \n27097                             Coding Bootcamp;School         6  ...   \n64727  Other online resources (ex: videos, blogs, etc...        18  ...   \n56572  Coding Bootcamp;Other online resources (ex: vi...         5  ...   \n28607  Coding Bootcamp;Other online resources (ex: vi...         8  ...   \n\n                   Age Gender Trans                         Sexuality  \\\n61129  25-34 years old  Woman    No  Straight / Heterosexual;Bisexual   \n27097  18-24 years old    Man    No           Straight / Heterosexual   \n64727  35-44 years old    Man    No                 Prefer not to say   \n56572  25-34 years old    Man    No           Straight / Heterosexual   \n28607  25-34 years old  Woman    No                          Bisexual   \n\n                          Ethnicity      Accessibility  \\\n61129  White or of European descent  None of the above   \n27097                   South Asian  None of the above   \n64727             Prefer not to say  Prefer not to say   \n56572  White or of European descent  None of the above   \n28607  White or of European descent  None of the above   \n\n                                            MentalHealth  \\\n61129                         I have an anxiety disorder   \n27097                                  None of the above   \n64727                                  Prefer not to say   \n56572  I have a mood or emotional disorder (e.g. depr...   \n28607  I have a concentration and/or memory disorder ...   \n\n                SurveyLength                  SurveyEase ConvertedCompYearly  \n61129  Appropriate in length                        Easy            175000.0  \n27097  Appropriate in length                        Easy              5585.0  \n64727  Appropriate in length  Neither easy nor difficult             75000.0  \n56572  Appropriate in length                        Easy             70044.0  \n28607  Appropriate in length                        Easy             44320.0  \n\n[5 rows x 48 columns]",
      "text/html": "<div>\n<style scoped>\n    .dataframe tbody tr th:only-of-type {\n        vertical-align: middle;\n    }\n\n    .dataframe tbody tr th {\n        vertical-align: top;\n    }\n\n    .dataframe thead th {\n        text-align: right;\n    }\n</style>\n<table border=\"1\" class=\"dataframe\">\n  <thead>\n    <tr style=\"text-align: right;\">\n      <th></th>\n      <th>ResponseId</th>\n      <th>MainBranch</th>\n      <th>Employment</th>\n      <th>Country</th>\n      <th>US_State</th>\n      <th>UK_Country</th>\n      <th>EdLevel</th>\n      <th>Age1stCode</th>\n      <th>LearnCode</th>\n      <th>YearsCode</th>\n      <th>...</th>\n      <th>Age</th>\n      <th>Gender</th>\n      <th>Trans</th>\n      <th>Sexuality</th>\n      <th>Ethnicity</th>\n      <th>Accessibility</th>\n      <th>MentalHealth</th>\n      <th>SurveyLength</th>\n      <th>SurveyEase</th>\n      <th>ConvertedCompYearly</th>\n    </tr>\n  </thead>\n  <tbody>\n    <tr>\n      <th>61129</th>\n      <td>61130</td>\n      <td>I am a developer by profession</td>\n      <td>Employed full-time</td>\n      <td>United States of America</td>\n      <td>Georgia</td>\n      <td>NaN</td>\n      <td>Bachelor’s degree (B.A., B.S., B.Eng., etc.)</td>\n      <td>18 - 24 years</td>\n      <td>School;Online Courses or Certification;Books /...</td>\n      <td>10</td>\n      <td>...</td>\n      <td>25-34 years old</td>\n      <td>Woman</td>\n      <td>No</td>\n      <td>Straight / Heterosexual;Bisexual</td>\n      <td>White or of European descent</td>\n      <td>None of the above</td>\n      <td>I have an anxiety disorder</td>\n      <td>Appropriate in length</td>\n      <td>Easy</td>\n      <td>175000.0</td>\n    </tr>\n    <tr>\n      <th>27097</th>\n      <td>27098</td>\n      <td>I am a developer by profession</td>\n      <td>Employed full-time</td>\n      <td>India</td>\n      <td>NaN</td>\n      <td>NaN</td>\n      <td>Bachelor’s degree (B.A., B.S., B.Eng., etc.)</td>\n      <td>18 - 24 years</td>\n      <td>Coding Bootcamp;School</td>\n      <td>6</td>\n      <td>...</td>\n      <td>18-24 years old</td>\n      <td>Man</td>\n      <td>No</td>\n      <td>Straight / Heterosexual</td>\n      <td>South Asian</td>\n      <td>None of the above</td>\n      <td>None of the above</td>\n      <td>Appropriate in length</td>\n      <td>Easy</td>\n      <td>5585.0</td>\n    </tr>\n    <tr>\n      <th>64727</th>\n      <td>64728</td>\n      <td>I am a developer by profession</td>\n      <td>Independent contractor, freelancer, or self-em...</td>\n      <td>Italy</td>\n      <td>NaN</td>\n      <td>NaN</td>\n      <td>Bachelor’s degree (B.A., B.S., B.Eng., etc.)</td>\n      <td>35 - 44 years</td>\n      <td>Other online resources (ex: videos, blogs, etc...</td>\n      <td>18</td>\n      <td>...</td>\n      <td>35-44 years old</td>\n      <td>Man</td>\n      <td>No</td>\n      <td>Prefer not to say</td>\n      <td>Prefer not to say</td>\n      <td>Prefer not to say</td>\n      <td>Prefer not to say</td>\n      <td>Appropriate in length</td>\n      <td>Neither easy nor difficult</td>\n      <td>75000.0</td>\n    </tr>\n    <tr>\n      <th>56572</th>\n      <td>56573</td>\n      <td>I am a developer by profession</td>\n      <td>Employed full-time</td>\n      <td>Germany</td>\n      <td>NaN</td>\n      <td>NaN</td>\n      <td>Some college/university study without earning ...</td>\n      <td>18 - 24 years</td>\n      <td>Coding Bootcamp;Other online resources (ex: vi...</td>\n      <td>5</td>\n      <td>...</td>\n      <td>25-34 years old</td>\n      <td>Man</td>\n      <td>No</td>\n      <td>Straight / Heterosexual</td>\n      <td>White or of European descent</td>\n      <td>None of the above</td>\n      <td>I have a mood or emotional disorder (e.g. depr...</td>\n      <td>Appropriate in length</td>\n      <td>Easy</td>\n      <td>70044.0</td>\n    </tr>\n    <tr>\n      <th>28607</th>\n      <td>28608</td>\n      <td>I am a developer by profession</td>\n      <td>Employed part-time</td>\n      <td>France</td>\n      <td>NaN</td>\n      <td>NaN</td>\n      <td>Master’s degree (M.A., M.S., M.Eng., MBA, etc.)</td>\n      <td>11 - 17 years</td>\n      <td>Coding Bootcamp;Other online resources (ex: vi...</td>\n      <td>8</td>\n      <td>...</td>\n      <td>25-34 years old</td>\n      <td>Woman</td>\n      <td>No</td>\n      <td>Bisexual</td>\n      <td>White or of European descent</td>\n      <td>None of the above</td>\n      <td>I have a concentration and/or memory disorder ...</td>\n      <td>Appropriate in length</td>\n      <td>Easy</td>\n      <td>44320.0</td>\n    </tr>\n  </tbody>\n</table>\n<p>5 rows × 48 columns</p>\n</div>"
     },
     "metadata": {}
    }
   ]
  },
  {
   "cell_type": "markdown",
   "source": "Seleccionar las columnas que pueden ayudar a contestar las preguntas (mostradas en el siguiente notebook). Y también los países hispanohablantes para filtrar la data (también se incluyó a Brasil).",
   "metadata": {
    "cell_id": "560413b1-9f1c-4445-bc54-dede3316235e",
    "tags": [],
    "deepnote_cell_type": "markdown"
   }
  },
  {
   "cell_type": "code",
   "metadata": {
    "cell_id": "ad6bc086-52e3-45b5-9e56-1fef3e644e22",
    "tags": [],
    "deepnote_to_be_reexecuted": false,
    "source_hash": "353ce130",
    "execution_start": 1645585348422,
    "execution_millis": 8,
    "deepnote_cell_type": "code"
   },
   "source": "# Select columns\ncolumns = ['ResponseId', 'Age', 'Gender', 'Trans', 'Sexuality', 'Country',\n            'EdLevel', 'Age1stCode', 'LearnCode', 'YearsCode', 'YearsCodePro',\n            'MainBranch', 'Employment', 'DevType', 'ConvertedCompYearly']\n\n# Filter registers by countries\nlatam = ['Peru', 'Colombia', 'Chile', 'Argentina', 'Costa Rica', 'Bolivia',\n            'Uruguay', 'Mexico', 'Venezuela, Bolivarian Republic of...'\n            'Dominican Republic', 'Ecuador', 'Guatemala', 'Paraguay', 'Panama',\n            'El Salvador', 'Nicaragua', 'Brazil', 'Spain']\n\n# New dataset\nin_latam = df_survey.Country.isin(latam)\ndf = df_survey[in_latam][columns]",
   "execution_count": 5,
   "outputs": []
  },
  {
   "cell_type": "code",
   "metadata": {
    "cell_id": "49fdfe8a-344a-44bb-ab16-01603888694d",
    "tags": [],
    "deepnote_to_be_reexecuted": false,
    "source_hash": "48bf3b4d",
    "execution_start": 1645585348480,
    "execution_millis": 4,
    "deepnote_cell_type": "code"
   },
   "source": "s = df.shape\np = s[0] / df_survey.shape[0] * 100\nprint(f'Registros: {s[0]}')\nprint(f'Porcentaje total del dataset: {round(p,2)}%')\nprint(f'Preguntas: {s[1]}')",
   "execution_count": 6,
   "outputs": [
    {
     "name": "stdout",
     "text": "Registros: 6337\nPorcentaje total del dataset: 7.59%\nPreguntas: 15\n",
     "output_type": "stream"
    }
   ]
  },
  {
   "cell_type": "markdown",
   "source": "Veamos los tipos de datos y qué contienen las variables",
   "metadata": {
    "cell_id": "d576ea7e-f1ec-4ca4-8a50-993acbdbd1d2",
    "tags": [],
    "deepnote_to_be_reexecuted": false,
    "source_hash": "1d89ab00",
    "execution_start": 1645585403819,
    "execution_millis": 6,
    "deepnote_cell_type": "markdown"
   },
   "outputs": [],
   "execution_count": 13
  },
  {
   "cell_type": "code",
   "metadata": {
    "cell_id": "16ee751e-5197-4c1e-9470-e73178fb5fe7",
    "tags": [],
    "deepnote_to_be_reexecuted": false,
    "source_hash": "de1e323c",
    "execution_start": 1645585348481,
    "execution_millis": 3,
    "deepnote_cell_type": "code"
   },
   "source": "df.info()",
   "execution_count": 7,
   "outputs": [
    {
     "name": "stdout",
     "text": "<class 'pandas.core.frame.DataFrame'>\nInt64Index: 6337 entries, 11 to 83438\nData columns (total 15 columns):\n #   Column               Non-Null Count  Dtype  \n---  ------               --------------  -----  \n 0   ResponseId           6337 non-null   int64  \n 1   Age                  6307 non-null   object \n 2   Gender               6305 non-null   object \n 3   Trans                6244 non-null   object \n 4   Sexuality            5885 non-null   object \n 5   Country              6337 non-null   object \n 6   EdLevel              6322 non-null   object \n 7   Age1stCode           6330 non-null   object \n 8   LearnCode            6316 non-null   object \n 9   YearsCode            6254 non-null   object \n 10  YearsCodePro         5160 non-null   object \n 11  MainBranch           6337 non-null   object \n 12  Employment           6335 non-null   object \n 13  DevType              5554 non-null   object \n 14  ConvertedCompYearly  4389 non-null   float64\ndtypes: float64(1), int64(1), object(13)\nmemory usage: 792.1+ KB\n",
     "output_type": "stream"
    }
   ]
  },
  {
   "cell_type": "code",
   "metadata": {
    "cell_id": "53827ed4-8dba-488e-a0c1-3fe976d55865",
    "tags": [],
    "deepnote_to_be_reexecuted": false,
    "source_hash": "b1cecf2d",
    "execution_start": 1645585348523,
    "execution_millis": 85,
    "deepnote_cell_type": "code"
   },
   "source": "df.describe(include='all')",
   "execution_count": 8,
   "outputs": [
    {
     "output_type": "execute_result",
     "execution_count": 8,
     "data": {
      "application/vnd.deepnote.dataframe.v3+json": {
       "column_count": 15,
       "row_count": 11,
       "columns": [
        {
         "name": "ResponseId",
         "dtype": "float64",
         "stats": {
          "unique_count": 8,
          "nan_count": 3,
          "min": "12.0",
          "max": "83439.0",
          "histogram": [
           {
            "bin_start": 12,
            "bin_end": 8354.7,
            "count": 2
           },
           {
            "bin_start": 8354.7,
            "bin_end": 16697.4,
            "count": 0
           },
           {
            "bin_start": 16697.4,
            "bin_end": 25040.100000000002,
            "count": 1
           },
           {
            "bin_start": 25040.100000000002,
            "bin_end": 33382.8,
            "count": 1
           },
           {
            "bin_start": 33382.8,
            "bin_end": 41725.5,
            "count": 1
           },
           {
            "bin_start": 41725.5,
            "bin_end": 50068.200000000004,
            "count": 1
           },
           {
            "bin_start": 50068.200000000004,
            "bin_end": 58410.90000000001,
            "count": 0
           },
           {
            "bin_start": 58410.90000000001,
            "bin_end": 66753.6,
            "count": 1
           },
           {
            "bin_start": 66753.6,
            "bin_end": 75096.3,
            "count": 0
           },
           {
            "bin_start": 75096.3,
            "bin_end": 83439,
            "count": 1
           }
          ]
         }
        },
        {
         "name": "Age",
         "dtype": "object",
         "stats": {
          "unique_count": 4,
          "nan_count": 7,
          "categories": [
           {
            "name": "6307",
            "count": 1
           },
           {
            "name": "3 others",
            "count": 3
           },
           {
            "name": "Missing",
            "count": 7
           }
          ]
         }
        },
        {
         "name": "Gender",
         "dtype": "object",
         "stats": {
          "unique_count": 4,
          "nan_count": 7,
          "categories": [
           {
            "name": "6305",
            "count": 1
           },
           {
            "name": "3 others",
            "count": 3
           },
           {
            "name": "Missing",
            "count": 7
           }
          ]
         }
        },
        {
         "name": "Trans",
         "dtype": "object",
         "stats": {
          "unique_count": 4,
          "nan_count": 7,
          "categories": [
           {
            "name": "6244",
            "count": 1
           },
           {
            "name": "3 others",
            "count": 3
           },
           {
            "name": "Missing",
            "count": 7
           }
          ]
         }
        },
        {
         "name": "Sexuality",
         "dtype": "object",
         "stats": {
          "unique_count": 4,
          "nan_count": 7,
          "categories": [
           {
            "name": "5885",
            "count": 1
           },
           {
            "name": "3 others",
            "count": 3
           },
           {
            "name": "Missing",
            "count": 7
           }
          ]
         }
        },
        {
         "name": "Country",
         "dtype": "object",
         "stats": {
          "unique_count": 4,
          "nan_count": 7,
          "categories": [
           {
            "name": "6337",
            "count": 1
           },
           {
            "name": "3 others",
            "count": 3
           },
           {
            "name": "Missing",
            "count": 7
           }
          ]
         }
        },
        {
         "name": "EdLevel",
         "dtype": "object",
         "stats": {
          "unique_count": 4,
          "nan_count": 7,
          "categories": [
           {
            "name": "6322",
            "count": 1
           },
           {
            "name": "3 others",
            "count": 3
           },
           {
            "name": "Missing",
            "count": 7
           }
          ]
         }
        },
        {
         "name": "Age1stCode",
         "dtype": "object",
         "stats": {
          "unique_count": 4,
          "nan_count": 7,
          "categories": [
           {
            "name": "6330",
            "count": 1
           },
           {
            "name": "3 others",
            "count": 3
           },
           {
            "name": "Missing",
            "count": 7
           }
          ]
         }
        },
        {
         "name": "LearnCode",
         "dtype": "object",
         "stats": {
          "unique_count": 4,
          "nan_count": 7,
          "categories": [
           {
            "name": "6316",
            "count": 1
           },
           {
            "name": "3 others",
            "count": 3
           },
           {
            "name": "Missing",
            "count": 7
           }
          ]
         }
        },
        {
         "name": "YearsCode",
         "dtype": "object",
         "stats": {
          "unique_count": 4,
          "nan_count": 7,
          "categories": [
           {
            "name": "6254",
            "count": 1
           },
           {
            "name": "3 others",
            "count": 3
           },
           {
            "name": "Missing",
            "count": 7
           }
          ]
         }
        },
        {
         "name": "YearsCodePro",
         "dtype": "object",
         "stats": {
          "unique_count": 4,
          "nan_count": 7,
          "categories": [
           {
            "name": "5160",
            "count": 1
           },
           {
            "name": "3 others",
            "count": 3
           },
           {
            "name": "Missing",
            "count": 7
           }
          ]
         }
        },
        {
         "name": "MainBranch",
         "dtype": "object",
         "stats": {
          "unique_count": 4,
          "nan_count": 7,
          "categories": [
           {
            "name": "6337",
            "count": 1
           },
           {
            "name": "3 others",
            "count": 3
           },
           {
            "name": "Missing",
            "count": 7
           }
          ]
         }
        },
        {
         "name": "Employment",
         "dtype": "object",
         "stats": {
          "unique_count": 4,
          "nan_count": 7,
          "categories": [
           {
            "name": "6335",
            "count": 1
           },
           {
            "name": "3 others",
            "count": 3
           },
           {
            "name": "Missing",
            "count": 7
           }
          ]
         }
        },
        {
         "name": "DevType",
         "dtype": "object",
         "stats": {
          "unique_count": 4,
          "nan_count": 7,
          "categories": [
           {
            "name": "5554",
            "count": 1
           },
           {
            "name": "3 others",
            "count": 3
           },
           {
            "name": "Missing",
            "count": 7
           }
          ]
         }
        },
        {
         "name": "ConvertedCompYearly",
         "dtype": "float64",
         "stats": {
          "unique_count": 8,
          "nan_count": 3,
          "min": "12.0",
          "max": "4656132.0",
          "histogram": [
           {
            "bin_start": 12,
            "bin_end": 465624,
            "count": 7
           },
           {
            "bin_start": 465624,
            "bin_end": 931236,
            "count": 0
           },
           {
            "bin_start": 931236,
            "bin_end": 1396848,
            "count": 0
           },
           {
            "bin_start": 1396848,
            "bin_end": 1862460,
            "count": 0
           },
           {
            "bin_start": 1862460,
            "bin_end": 2328072,
            "count": 0
           },
           {
            "bin_start": 2328072,
            "bin_end": 2793684,
            "count": 0
           },
           {
            "bin_start": 2793684,
            "bin_end": 3259296,
            "count": 0
           },
           {
            "bin_start": 3259296,
            "bin_end": 3724908,
            "count": 0
           },
           {
            "bin_start": 3724908,
            "bin_end": 4190520,
            "count": 0
           },
           {
            "bin_start": 4190520,
            "bin_end": 4656132,
            "count": 1
           }
          ]
         }
        },
        {
         "name": "_deepnote_index_column",
         "dtype": "object"
        }
       ],
       "rows": [
        {
         "ResponseId": 6337,
         "Age": "6307",
         "Gender": "6305",
         "Trans": "6244",
         "Sexuality": "5885",
         "Country": "6337",
         "EdLevel": "6322",
         "Age1stCode": "6330",
         "LearnCode": "6316",
         "YearsCode": "6254",
         "YearsCodePro": "5160",
         "MainBranch": "6337",
         "Employment": "6335",
         "DevType": "5554",
         "ConvertedCompYearly": 4389,
         "_deepnote_index_column": "count"
        },
        {
         "ResponseId": "nan",
         "Age": "8",
         "Gender": "11",
         "Trans": "4",
         "Sexuality": "21",
         "Country": "16",
         "EdLevel": "9",
         "Age1stCode": "9",
         "LearnCode": "306",
         "YearsCode": "51",
         "YearsCodePro": "43",
         "MainBranch": "6",
         "Employment": "9",
         "DevType": "1519",
         "ConvertedCompYearly": "nan",
         "_deepnote_index_column": "unique"
        },
        {
         "ResponseId": "nan",
         "Age": "25-34 years old",
         "Gender": "Man",
         "Trans": "No",
         "Sexuality": "Straight / Heterosexual",
         "Country": "Brazil",
         "EdLevel": "Bachelor’s degree (B.A., B.S., B.Eng., etc.)",
         "Age1stCode": "11 - 17 years",
         "LearnCode": "School",
         "YearsCode": "10",
         "YearsCodePro": "3",
         "MainBranch": "I am a developer by profession",
         "Employment": "Employed full-time",
         "DevType": "Developer, full-stack",
         "ConvertedCompYearly": "nan",
         "_deepnote_index_column": "top"
        },
        {
         "ResponseId": "nan",
         "Age": "2695",
         "Gender": "5870",
         "Trans": "6075",
         "Sexuality": "5070",
         "Country": "2254",
         "EdLevel": "2535",
         "Age1stCode": "3384",
         "LearnCode": "614",
         "YearsCode": "514",
         "YearsCodePro": "481",
         "MainBranch": "4848",
         "Employment": "4381",
         "DevType": "688",
         "ConvertedCompYearly": "nan",
         "_deepnote_index_column": "freq"
        },
        {
         "ResponseId": 41783.38030613855,
         "Age": "nan",
         "Gender": "nan",
         "Trans": "nan",
         "Sexuality": "nan",
         "Country": "nan",
         "EdLevel": "nan",
         "Age1stCode": "nan",
         "LearnCode": "nan",
         "YearsCode": "nan",
         "YearsCodePro": "nan",
         "MainBranch": "nan",
         "Employment": "nan",
         "DevType": "nan",
         "ConvertedCompYearly": 49063.98313966735,
         "_deepnote_index_column": "mean"
        },
        {
         "ResponseId": 22858.4583871424,
         "Age": "nan",
         "Gender": "nan",
         "Trans": "nan",
         "Sexuality": "nan",
         "Country": "nan",
         "EdLevel": "nan",
         "Age1stCode": "nan",
         "LearnCode": "nan",
         "YearsCode": "nan",
         "YearsCodePro": "nan",
         "MainBranch": "nan",
         "Employment": "nan",
         "DevType": "nan",
         "ConvertedCompYearly": 137150.89512152993,
         "_deepnote_index_column": "std"
        },
        {
         "ResponseId": 12,
         "Age": "nan",
         "Gender": "nan",
         "Trans": "nan",
         "Sexuality": "nan",
         "Country": "nan",
         "EdLevel": "nan",
         "Age1stCode": "nan",
         "LearnCode": "nan",
         "YearsCode": "nan",
         "YearsCodePro": "nan",
         "MainBranch": "nan",
         "Employment": "nan",
         "DevType": "nan",
         "ConvertedCompYearly": 12,
         "_deepnote_index_column": "min"
        },
        {
         "ResponseId": 25064,
         "Age": "nan",
         "Gender": "nan",
         "Trans": "nan",
         "Sexuality": "nan",
         "Country": "nan",
         "EdLevel": "nan",
         "Age1stCode": "nan",
         "LearnCode": "nan",
         "YearsCode": "nan",
         "YearsCodePro": "nan",
         "MainBranch": "nan",
         "Employment": "nan",
         "DevType": "nan",
         "ConvertedCompYearly": 15672,
         "_deepnote_index_column": "25%"
        },
        {
         "ResponseId": 40617,
         "Age": "nan",
         "Gender": "nan",
         "Trans": "nan",
         "Sexuality": "nan",
         "Country": "nan",
         "EdLevel": "nan",
         "Age1stCode": "nan",
         "LearnCode": "nan",
         "YearsCode": "nan",
         "YearsCodePro": "nan",
         "MainBranch": "nan",
         "Employment": "nan",
         "DevType": "nan",
         "ConvertedCompYearly": 28105,
         "_deepnote_index_column": "50%"
        },
        {
         "ResponseId": 60783,
         "Age": "nan",
         "Gender": "nan",
         "Trans": "nan",
         "Sexuality": "nan",
         "Country": "nan",
         "EdLevel": "nan",
         "Age1stCode": "nan",
         "LearnCode": "nan",
         "YearsCode": "nan",
         "YearsCodePro": "nan",
         "MainBranch": "nan",
         "Employment": "nan",
         "DevType": "nan",
         "ConvertedCompYearly": 47184,
         "_deepnote_index_column": "75%"
        }
       ]
      },
      "text/plain": "          ResponseId              Age Gender Trans                Sexuality  \\\ncount    6337.000000             6307   6305  6244                     5885   \nunique           NaN                8     11     4                       21   \ntop              NaN  25-34 years old    Man    No  Straight / Heterosexual   \nfreq             NaN             2695   5870  6075                     5070   \nmean    41783.380306              NaN    NaN   NaN                      NaN   \nstd     22858.458387              NaN    NaN   NaN                      NaN   \nmin        12.000000              NaN    NaN   NaN                      NaN   \n25%     25064.000000              NaN    NaN   NaN                      NaN   \n50%     40617.000000              NaN    NaN   NaN                      NaN   \n75%     60783.000000              NaN    NaN   NaN                      NaN   \nmax     83439.000000              NaN    NaN   NaN                      NaN   \n\n       Country                                       EdLevel     Age1stCode  \\\ncount     6337                                          6322           6330   \nunique      16                                             9              9   \ntop     Brazil  Bachelor’s degree (B.A., B.S., B.Eng., etc.)  11 - 17 years   \nfreq      2254                                          2535           3384   \nmean       NaN                                           NaN            NaN   \nstd        NaN                                           NaN            NaN   \nmin        NaN                                           NaN            NaN   \n25%        NaN                                           NaN            NaN   \n50%        NaN                                           NaN            NaN   \n75%        NaN                                           NaN            NaN   \nmax        NaN                                           NaN            NaN   \n\n       LearnCode YearsCode YearsCodePro                      MainBranch  \\\ncount       6316      6254         5160                            6337   \nunique       306        51           43                               6   \ntop       School        10            3  I am a developer by profession   \nfreq         614       514          481                            4848   \nmean         NaN       NaN          NaN                             NaN   \nstd          NaN       NaN          NaN                             NaN   \nmin          NaN       NaN          NaN                             NaN   \n25%          NaN       NaN          NaN                             NaN   \n50%          NaN       NaN          NaN                             NaN   \n75%          NaN       NaN          NaN                             NaN   \nmax          NaN       NaN          NaN                             NaN   \n\n                Employment                DevType  ConvertedCompYearly  \ncount                 6335                   5554         4.389000e+03  \nunique                   9                   1519                  NaN  \ntop     Employed full-time  Developer, full-stack                  NaN  \nfreq                  4381                    688                  NaN  \nmean                   NaN                    NaN         4.906398e+04  \nstd                    NaN                    NaN         1.371509e+05  \nmin                    NaN                    NaN         1.200000e+01  \n25%                    NaN                    NaN         1.567200e+04  \n50%                    NaN                    NaN         2.810500e+04  \n75%                    NaN                    NaN         4.718400e+04  \nmax                    NaN                    NaN         4.656132e+06  ",
      "text/html": "<div>\n<style scoped>\n    .dataframe tbody tr th:only-of-type {\n        vertical-align: middle;\n    }\n\n    .dataframe tbody tr th {\n        vertical-align: top;\n    }\n\n    .dataframe thead th {\n        text-align: right;\n    }\n</style>\n<table border=\"1\" class=\"dataframe\">\n  <thead>\n    <tr style=\"text-align: right;\">\n      <th></th>\n      <th>ResponseId</th>\n      <th>Age</th>\n      <th>Gender</th>\n      <th>Trans</th>\n      <th>Sexuality</th>\n      <th>Country</th>\n      <th>EdLevel</th>\n      <th>Age1stCode</th>\n      <th>LearnCode</th>\n      <th>YearsCode</th>\n      <th>YearsCodePro</th>\n      <th>MainBranch</th>\n      <th>Employment</th>\n      <th>DevType</th>\n      <th>ConvertedCompYearly</th>\n    </tr>\n  </thead>\n  <tbody>\n    <tr>\n      <th>count</th>\n      <td>6337.000000</td>\n      <td>6307</td>\n      <td>6305</td>\n      <td>6244</td>\n      <td>5885</td>\n      <td>6337</td>\n      <td>6322</td>\n      <td>6330</td>\n      <td>6316</td>\n      <td>6254</td>\n      <td>5160</td>\n      <td>6337</td>\n      <td>6335</td>\n      <td>5554</td>\n      <td>4.389000e+03</td>\n    </tr>\n    <tr>\n      <th>unique</th>\n      <td>NaN</td>\n      <td>8</td>\n      <td>11</td>\n      <td>4</td>\n      <td>21</td>\n      <td>16</td>\n      <td>9</td>\n      <td>9</td>\n      <td>306</td>\n      <td>51</td>\n      <td>43</td>\n      <td>6</td>\n      <td>9</td>\n      <td>1519</td>\n      <td>NaN</td>\n    </tr>\n    <tr>\n      <th>top</th>\n      <td>NaN</td>\n      <td>25-34 years old</td>\n      <td>Man</td>\n      <td>No</td>\n      <td>Straight / Heterosexual</td>\n      <td>Brazil</td>\n      <td>Bachelor’s degree (B.A., B.S., B.Eng., etc.)</td>\n      <td>11 - 17 years</td>\n      <td>School</td>\n      <td>10</td>\n      <td>3</td>\n      <td>I am a developer by profession</td>\n      <td>Employed full-time</td>\n      <td>Developer, full-stack</td>\n      <td>NaN</td>\n    </tr>\n    <tr>\n      <th>freq</th>\n      <td>NaN</td>\n      <td>2695</td>\n      <td>5870</td>\n      <td>6075</td>\n      <td>5070</td>\n      <td>2254</td>\n      <td>2535</td>\n      <td>3384</td>\n      <td>614</td>\n      <td>514</td>\n      <td>481</td>\n      <td>4848</td>\n      <td>4381</td>\n      <td>688</td>\n      <td>NaN</td>\n    </tr>\n    <tr>\n      <th>mean</th>\n      <td>41783.380306</td>\n      <td>NaN</td>\n      <td>NaN</td>\n      <td>NaN</td>\n      <td>NaN</td>\n      <td>NaN</td>\n      <td>NaN</td>\n      <td>NaN</td>\n      <td>NaN</td>\n      <td>NaN</td>\n      <td>NaN</td>\n      <td>NaN</td>\n      <td>NaN</td>\n      <td>NaN</td>\n      <td>4.906398e+04</td>\n    </tr>\n    <tr>\n      <th>std</th>\n      <td>22858.458387</td>\n      <td>NaN</td>\n      <td>NaN</td>\n      <td>NaN</td>\n      <td>NaN</td>\n      <td>NaN</td>\n      <td>NaN</td>\n      <td>NaN</td>\n      <td>NaN</td>\n      <td>NaN</td>\n      <td>NaN</td>\n      <td>NaN</td>\n      <td>NaN</td>\n      <td>NaN</td>\n      <td>1.371509e+05</td>\n    </tr>\n    <tr>\n      <th>min</th>\n      <td>12.000000</td>\n      <td>NaN</td>\n      <td>NaN</td>\n      <td>NaN</td>\n      <td>NaN</td>\n      <td>NaN</td>\n      <td>NaN</td>\n      <td>NaN</td>\n      <td>NaN</td>\n      <td>NaN</td>\n      <td>NaN</td>\n      <td>NaN</td>\n      <td>NaN</td>\n      <td>NaN</td>\n      <td>1.200000e+01</td>\n    </tr>\n    <tr>\n      <th>25%</th>\n      <td>25064.000000</td>\n      <td>NaN</td>\n      <td>NaN</td>\n      <td>NaN</td>\n      <td>NaN</td>\n      <td>NaN</td>\n      <td>NaN</td>\n      <td>NaN</td>\n      <td>NaN</td>\n      <td>NaN</td>\n      <td>NaN</td>\n      <td>NaN</td>\n      <td>NaN</td>\n      <td>NaN</td>\n      <td>1.567200e+04</td>\n    </tr>\n    <tr>\n      <th>50%</th>\n      <td>40617.000000</td>\n      <td>NaN</td>\n      <td>NaN</td>\n      <td>NaN</td>\n      <td>NaN</td>\n      <td>NaN</td>\n      <td>NaN</td>\n      <td>NaN</td>\n      <td>NaN</td>\n      <td>NaN</td>\n      <td>NaN</td>\n      <td>NaN</td>\n      <td>NaN</td>\n      <td>NaN</td>\n      <td>2.810500e+04</td>\n    </tr>\n    <tr>\n      <th>75%</th>\n      <td>60783.000000</td>\n      <td>NaN</td>\n      <td>NaN</td>\n      <td>NaN</td>\n      <td>NaN</td>\n      <td>NaN</td>\n      <td>NaN</td>\n      <td>NaN</td>\n      <td>NaN</td>\n      <td>NaN</td>\n      <td>NaN</td>\n      <td>NaN</td>\n      <td>NaN</td>\n      <td>NaN</td>\n      <td>4.718400e+04</td>\n    </tr>\n    <tr>\n      <th>max</th>\n      <td>83439.000000</td>\n      <td>NaN</td>\n      <td>NaN</td>\n      <td>NaN</td>\n      <td>NaN</td>\n      <td>NaN</td>\n      <td>NaN</td>\n      <td>NaN</td>\n      <td>NaN</td>\n      <td>NaN</td>\n      <td>NaN</td>\n      <td>NaN</td>\n      <td>NaN</td>\n      <td>NaN</td>\n      <td>4.656132e+06</td>\n    </tr>\n  </tbody>\n</table>\n</div>"
     },
     "metadata": {}
    }
   ]
  },
  {
   "cell_type": "markdown",
   "source": "Hay algunas columnas que podrían ser numéricas, pero están como categóricas, ¿por qué?",
   "metadata": {
    "cell_id": "d4c043e7-c1d3-434e-bb82-1afa071bd6de",
    "tags": [],
    "deepnote_to_be_reexecuted": false,
    "source_hash": "98a4e821",
    "execution_start": 1645582744382,
    "execution_millis": 4,
    "deepnote_cell_type": "markdown"
   }
  },
  {
   "cell_type": "code",
   "metadata": {
    "cell_id": "c585b081-f82d-4fe1-8c36-cbedfeb47f11",
    "tags": [],
    "deepnote_to_be_reexecuted": false,
    "source_hash": "781be1ef",
    "execution_start": 1645585348660,
    "execution_millis": 3,
    "deepnote_cell_type": "code"
   },
   "source": "df.YearsCode.value_counts().sort_values().head()",
   "execution_count": 9,
   "outputs": [
    {
     "output_type": "execute_result",
     "execution_count": 9,
     "data": {
      "text/plain": "50                    1\nMore than 50 years    1\n47                    1\n48                    1\n41                    2\nName: YearsCode, dtype: int64"
     },
     "metadata": {}
    }
   ]
  },
  {
   "cell_type": "code",
   "metadata": {
    "cell_id": "94420460-adb6-4126-aeb3-bbbb5541e286",
    "tags": [],
    "deepnote_to_be_reexecuted": false,
    "source_hash": "f55248f5",
    "execution_start": 1645585348661,
    "execution_millis": 2,
    "deepnote_cell_type": "code"
   },
   "source": "df.YearsCodePro.value_counts().sort_values().head()",
   "execution_count": 10,
   "outputs": [
    {
     "output_type": "execute_result",
     "execution_count": 10,
     "data": {
      "text/plain": "38                    1\n43                    1\nMore than 50 years    1\n42                    2\n34                    5\nName: YearsCodePro, dtype: int64"
     },
     "metadata": {}
    }
   ]
  },
  {
   "cell_type": "markdown",
   "source": "Como solo hay 1 valor de \"más de 50 años\" para cada columna, se lo reemplazará con `50`. Y los valores de \"menos de 1 año\" con `0.5`. De esa manera se podrá tener columnas numéricas.",
   "metadata": {
    "cell_id": "5e8229fa-bbe2-4c8d-8288-e84b87947c54",
    "tags": [],
    "deepnote_cell_type": "markdown"
   }
  },
  {
   "cell_type": "code",
   "metadata": {
    "cell_id": "c20c7104-ea5d-4508-af49-8cfecead88bb",
    "tags": [],
    "deepnote_to_be_reexecuted": false,
    "source_hash": "a99a61c7",
    "execution_start": 1645585348661,
    "execution_millis": 43,
    "deepnote_cell_type": "code"
   },
   "source": "df['YearsCode'] = pd.to_numeric(df.YearsCode.replace(['More than 50 years', 'Less than 1 year'], [50, 0.5]))\ndf['YearsCodePro'] = pd.to_numeric(df.YearsCodePro.replace(['More than 50 years', 'Less than 1 year'], [50, 0.5]))",
   "execution_count": 11,
   "outputs": []
  },
  {
   "cell_type": "code",
   "metadata": {
    "cell_id": "ad0a3d30-ae68-4a63-a8f5-4e9b79911a61",
    "tags": [],
    "deepnote_to_be_reexecuted": false,
    "source_hash": "de1e323c",
    "execution_start": 1645585439226,
    "execution_millis": 9,
    "deepnote_cell_type": "code"
   },
   "source": "df.info()",
   "execution_count": 14,
   "outputs": [
    {
     "name": "stdout",
     "text": "<class 'pandas.core.frame.DataFrame'>\nInt64Index: 6337 entries, 11 to 83438\nData columns (total 15 columns):\n #   Column               Non-Null Count  Dtype  \n---  ------               --------------  -----  \n 0   ResponseId           6337 non-null   int64  \n 1   Age                  6307 non-null   object \n 2   Gender               6305 non-null   object \n 3   Trans                6244 non-null   object \n 4   Sexuality            5885 non-null   object \n 5   Country              6337 non-null   object \n 6   EdLevel              6322 non-null   object \n 7   Age1stCode           6330 non-null   object \n 8   LearnCode            6316 non-null   object \n 9   YearsCode            6254 non-null   float64\n 10  YearsCodePro         5160 non-null   float64\n 11  MainBranch           6337 non-null   object \n 12  Employment           6335 non-null   object \n 13  DevType              5554 non-null   object \n 14  ConvertedCompYearly  4389 non-null   float64\ndtypes: float64(3), int64(1), object(11)\nmemory usage: 792.1+ KB\n",
     "output_type": "stream"
    }
   ]
  },
  {
   "cell_type": "markdown",
   "source": "El dataset está listo para poder trabajar.",
   "metadata": {
    "cell_id": "6a1bcd29-5c40-4408-80a9-62da9f2bd069",
    "tags": [],
    "deepnote_cell_type": "markdown"
   },
   "outputs": [],
   "execution_count": null
  },
  {
   "cell_type": "code",
   "source": "path_processed = os.path.join(os.getcwd(), os.pardir, 'data', 'processed')\ndf.to_csv(os.path.join(path_processed, 'survey.csv'))",
   "metadata": {
    "cell_id": "b866c922-e4d7-4d8c-86e3-5b90f36c9fd2",
    "tags": [],
    "deepnote_to_be_reexecuted": false,
    "source_hash": "29073edd",
    "execution_start": 1645585573311,
    "execution_millis": 55,
    "deepnote_cell_type": "code"
   },
   "outputs": [],
   "execution_count": 15
  },
  {
   "cell_type": "markdown",
   "source": "<a style='text-decoration:none;line-height:16px;display:flex;color:#5B5B62;padding:10px;justify-content:end;' href='https://deepnote.com?utm_source=created-in-deepnote-cell&projectId=09491c61-3767-4289-98fd-88aee19bb45d' target=\"_blank\">\n<img alt='Created in deepnote.com' style='display:inline;max-height:16px;margin:0px;margin-right:7.5px;' src='data:image/svg+xml;base64,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' > </img>\nCreated in <span style='font-weight:600;margin-left:4px;'>Deepnote</span></a>",
   "metadata": {
    "tags": [],
    "created_in_deepnote_cell": true,
    "deepnote_cell_type": "markdown"
   }
  }
 ],
 "nbformat": 4,
 "nbformat_minor": 2,
 "metadata": {
  "orig_nbformat": 2,
  "deepnote": {
   "is_reactive": false
  },
  "deepnote_notebook_id": "d3fed0ed-e687-4e56-bf32-385f5fb6f308",
  "deepnote_execution_queue": []
 }
}