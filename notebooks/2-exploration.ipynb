{
 "cells": [
  {
   "cell_type": "markdown",
   "metadata": {
    "tags": [],
    "cell_id": "60e8dd0a-f768-4b26-b535-f141908f6532",
    "deepnote_cell_type": "markdown"
   },
   "source": "## Preguntas posibles\n\n1. Si estudié computer science gano más que si no?\n2. Las personas que aprendieron a programar más jóvenes, consiguieron un puesto senior más pronto?\n3. Diferencia de salario entre trans y heteros (y si fueron a las universidades)?\n4. Diferencia de salario entre hombres y mujeres\n5. Qué cargos tienes según dónde estudiaste\n6. Lenguajes de programación aprendidos por tipo de aprendizaje\n7. Cuánto tiempo te tomó desde que aprendiste código hasta que programaste profesionlamente?\n\n- Extraer algo para mejorar esto y cerrar la brecha\n\n### Accionables:\n- Cómo disminuir esta brecha de género",
   "execution_count": null
  },
  {
   "cell_type": "code",
   "source": "import pandas as pd\nimport numpy as np\nimport matplotlib.pyplot as plt\nimport seaborn as sns\nimport os\nfrom scipy import stats",
   "metadata": {
    "cell_id": "feb8a2d3-9f4b-450e-92dc-e20b17221d36",
    "tags": [],
    "deepnote_to_be_reexecuted": false,
    "source_hash": "5f5b679c",
    "execution_start": 1645585632646,
    "execution_millis": 0,
    "deepnote_cell_type": "code"
   },
   "outputs": [],
   "execution_count": 21
  },
  {
   "cell_type": "code",
   "source": "# Read de data\npath = os.path.join(os.getcwd(), os.pardir, 'data', 'processed')\ndf = pd.read_csv(os.path.join(path, 'survey.csv'))",
   "metadata": {
    "cell_id": "c3a413aa-58db-4b9d-9550-3acefe18089c",
    "tags": [],
    "deepnote_to_be_reexecuted": false,
    "source_hash": "da27ec0",
    "execution_start": 1645585632675,
    "execution_millis": 87,
    "deepnote_cell_type": "code"
   },
   "outputs": [],
   "execution_count": 22
  },
  {
   "cell_type": "code",
   "source": "df",
   "metadata": {
    "cell_id": "3e888805-8343-4eea-88b7-1310f8b83257",
    "tags": [],
    "deepnote_to_be_reexecuted": false,
    "source_hash": "f804c160",
    "execution_start": 1645585632925,
    "execution_millis": 220,
    "deepnote_cell_type": "code"
   },
   "outputs": [
    {
     "output_type": "execute_result",
     "execution_count": 24,
     "data": {
      "application/vnd.deepnote.dataframe.v3+json": {
       "column_count": 16,
       "row_count": 6337,
       "columns": [
        {
         "name": "Unnamed: 0",
         "dtype": "int64",
         "stats": {
          "unique_count": 6337,
          "nan_count": 0,
          "min": "11",
          "max": "83438",
          "histogram": [
           {
            "bin_start": 11,
            "bin_end": 8353.7,
            "count": 536
           },
           {
            "bin_start": 8353.7,
            "bin_end": 16696.4,
            "count": 422
           },
           {
            "bin_start": 16696.4,
            "bin_end": 25039.100000000002,
            "count": 622
           },
           {
            "bin_start": 25039.100000000002,
            "bin_end": 33381.8,
            "count": 1021
           },
           {
            "bin_start": 33381.8,
            "bin_end": 41724.5,
            "count": 649
           },
           {
            "bin_start": 41724.5,
            "bin_end": 50067.200000000004,
            "count": 601
           },
           {
            "bin_start": 50067.200000000004,
            "bin_end": 58409.90000000001,
            "count": 669
           },
           {
            "bin_start": 58409.90000000001,
            "bin_end": 66752.6,
            "count": 653
           },
           {
            "bin_start": 66752.6,
            "bin_end": 75095.3,
            "count": 609
           },
           {
            "bin_start": 75095.3,
            "bin_end": 83438,
            "count": 555
           }
          ]
         }
        },
        {
         "name": "ResponseId",
         "dtype": "int64",
         "stats": {
          "unique_count": 6337,
          "nan_count": 0,
          "min": "12",
          "max": "83439",
          "histogram": [
           {
            "bin_start": 12,
            "bin_end": 8354.7,
            "count": 536
           },
           {
            "bin_start": 8354.7,
            "bin_end": 16697.4,
            "count": 422
           },
           {
            "bin_start": 16697.4,
            "bin_end": 25040.100000000002,
            "count": 622
           },
           {
            "bin_start": 25040.100000000002,
            "bin_end": 33382.8,
            "count": 1021
           },
           {
            "bin_start": 33382.8,
            "bin_end": 41725.5,
            "count": 649
           },
           {
            "bin_start": 41725.5,
            "bin_end": 50068.200000000004,
            "count": 601
           },
           {
            "bin_start": 50068.200000000004,
            "bin_end": 58410.90000000001,
            "count": 669
           },
           {
            "bin_start": 58410.90000000001,
            "bin_end": 66753.6,
            "count": 653
           },
           {
            "bin_start": 66753.6,
            "bin_end": 75096.3,
            "count": 609
           },
           {
            "bin_start": 75096.3,
            "bin_end": 83439,
            "count": 555
           }
          ]
         }
        },
        {
         "name": "Age",
         "dtype": "object",
         "stats": {
          "unique_count": 8,
          "nan_count": 30,
          "categories": [
           {
            "name": "25-34 years old",
            "count": 2695
           },
           {
            "name": "7 others",
            "count": 3612
           },
           {
            "name": "Missing",
            "count": 30
           }
          ]
         }
        },
        {
         "name": "Gender",
         "dtype": "object",
         "stats": {
          "unique_count": 11,
          "nan_count": 32,
          "categories": [
           {
            "name": "Man",
            "count": 5870
           },
           {
            "name": "10 others",
            "count": 435
           },
           {
            "name": "Missing",
            "count": 32
           }
          ]
         }
        },
        {
         "name": "Trans",
         "dtype": "object",
         "stats": {
          "unique_count": 4,
          "nan_count": 93,
          "categories": [
           {
            "name": "No",
            "count": 6075
           },
           {
            "name": "3 others",
            "count": 169
           },
           {
            "name": "Missing",
            "count": 93
           }
          ]
         }
        },
        {
         "name": "Sexuality",
         "dtype": "object",
         "stats": {
          "unique_count": 21,
          "nan_count": 452,
          "categories": [
           {
            "name": "Straight / Heterosexual",
            "count": 5070
           },
           {
            "name": "20 others",
            "count": 815
           },
           {
            "name": "Missing",
            "count": 452
           }
          ]
         }
        },
        {
         "name": "Country",
         "dtype": "object",
         "stats": {
          "unique_count": 16,
          "nan_count": 0,
          "categories": [
           {
            "name": "Brazil",
            "count": 2254
           },
           {
            "name": "Spain",
            "count": 1485
           },
           {
            "name": "14 others",
            "count": 2598
           }
          ]
         }
        },
        {
         "name": "EdLevel",
         "dtype": "object",
         "stats": {
          "unique_count": 9,
          "nan_count": 15,
          "categories": [
           {
            "name": "Bachelor’s degree (B.A., B.S., B.Eng., etc.)",
            "count": 2535
           },
           {
            "name": "8 others",
            "count": 3787
           },
           {
            "name": "Missing",
            "count": 15
           }
          ]
         }
        },
        {
         "name": "Age1stCode",
         "dtype": "object",
         "stats": {
          "unique_count": 9,
          "nan_count": 7,
          "categories": [
           {
            "name": "11 - 17 years",
            "count": 3384
           },
           {
            "name": "8 others",
            "count": 2946
           },
           {
            "name": "Missing",
            "count": 7
           }
          ]
         }
        },
        {
         "name": "LearnCode",
         "dtype": "object",
         "stats": {
          "unique_count": 306,
          "nan_count": 21,
          "categories": [
           {
            "name": "School",
            "count": 614
           },
           {
            "name": "305 others",
            "count": 5702
           },
           {
            "name": "Missing",
            "count": 21
           }
          ]
         }
        },
        {
         "name": "YearsCode",
         "dtype": "float64",
         "stats": {
          "unique_count": 50,
          "nan_count": 83,
          "min": "0.5",
          "max": "50.0",
          "histogram": [
           {
            "bin_start": 0.5,
            "bin_end": 5.45,
            "count": 1533
           },
           {
            "bin_start": 5.45,
            "bin_end": 10.4,
            "count": 1903
           },
           {
            "bin_start": 10.4,
            "bin_end": 15.350000000000001,
            "count": 1183
           },
           {
            "bin_start": 15.350000000000001,
            "bin_end": 20.3,
            "count": 693
           },
           {
            "bin_start": 20.3,
            "bin_end": 25.25,
            "count": 418
           },
           {
            "bin_start": 25.25,
            "bin_end": 30.200000000000003,
            "count": 252
           },
           {
            "bin_start": 30.200000000000003,
            "bin_end": 35.15,
            "count": 143
           },
           {
            "bin_start": 35.15,
            "bin_end": 40.1,
            "count": 108
           },
           {
            "bin_start": 40.1,
            "bin_end": 45.050000000000004,
            "count": 15
           },
           {
            "bin_start": 45.050000000000004,
            "bin_end": 50,
            "count": 6
           }
          ]
         }
        },
        {
         "name": "YearsCodePro",
         "dtype": "float64",
         "stats": {
          "unique_count": 43,
          "nan_count": 1177,
          "min": "0.5",
          "max": "50.0",
          "histogram": [
           {
            "bin_start": 0.5,
            "bin_end": 5.45,
            "count": 2273
           },
           {
            "bin_start": 5.45,
            "bin_end": 10.4,
            "count": 1308
           },
           {
            "bin_start": 10.4,
            "bin_end": 15.350000000000001,
            "count": 720
           },
           {
            "bin_start": 15.350000000000001,
            "bin_end": 20.3,
            "count": 439
           },
           {
            "bin_start": 20.3,
            "bin_end": 25.25,
            "count": 242
           },
           {
            "bin_start": 25.25,
            "bin_end": 30.200000000000003,
            "count": 104
           },
           {
            "bin_start": 30.200000000000003,
            "bin_end": 35.15,
            "count": 46
           },
           {
            "bin_start": 35.15,
            "bin_end": 40.1,
            "count": 24
           },
           {
            "bin_start": 40.1,
            "bin_end": 45.050000000000004,
            "count": 3
           },
           {
            "bin_start": 45.050000000000004,
            "bin_end": 50,
            "count": 1
           }
          ]
         }
        },
        {
         "name": "MainBranch",
         "dtype": "object",
         "stats": {
          "unique_count": 6,
          "nan_count": 0,
          "categories": [
           {
            "name": "I am a developer by profession",
            "count": 4848
           },
           {
            "name": "I am a student who is learning to code",
            "count": 606
           },
           {
            "name": "4 others",
            "count": 883
           }
          ]
         }
        },
        {
         "name": "Employment",
         "dtype": "object",
         "stats": {
          "unique_count": 9,
          "nan_count": 2,
          "categories": [
           {
            "name": "Employed full-time",
            "count": 4381
           },
           {
            "name": "8 others",
            "count": 1954
           },
           {
            "name": "Missing",
            "count": 2
           }
          ]
         }
        },
        {
         "name": "DevType",
         "dtype": "object",
         "stats": {
          "unique_count": 1519,
          "nan_count": 783,
          "categories": [
           {
            "name": "Developer, full-stack",
            "count": 688
           },
           {
            "name": "1518 others",
            "count": 4866
           },
           {
            "name": "Missing",
            "count": 783
           }
          ]
         }
        },
        {
         "name": "ConvertedCompYearly",
         "dtype": "float64"
        },
        {
         "name": "_deepnote_index_column",
         "dtype": "int64"
        }
       ],
       "rows": [
        {
         "Unnamed: 0": 11,
         "ResponseId": 12,
         "Age": "25-34 years old",
         "Gender": "Man",
         "Trans": "No",
         "Sexuality": "Straight / Heterosexual",
         "Country": "Spain",
         "EdLevel": "Bachelor’s degree (B.A., B.S., B.Eng., etc.)",
         "Age1stCode": "11 - 17 years",
         "LearnCode": "Other online resources (ex: videos, blogs, etc);School;Friend or family member",
         "YearsCode": 12,
         "YearsCodePro": 5,
         "MainBranch": "I am a developer by profession",
         "Employment": "Employed full-time",
         "DevType": "Developer, back-end",
         "ConvertedCompYearly": 46482,
         "_deepnote_index_column": 0
        },
        {
         "Unnamed: 0": 13,
         "ResponseId": 14,
         "Age": "Prefer not to say",
         "Gender": "Prefer not to say",
         "Trans": "Prefer not to say",
         "Sexuality": "Prefer not to say",
         "Country": "Peru",
         "EdLevel": "Master’s degree (M.A., M.S., M.Eng., MBA, etc.)",
         "Age1stCode": "5 - 10 years",
         "LearnCode": "School",
         "YearsCode": 10,
         "YearsCodePro": "nan",
         "MainBranch": "I am a student who is learning to code",
         "Employment": "Employed full-time",
         "DevType": "Data scientist or machine learning specialist",
         "ConvertedCompYearly": "nan",
         "_deepnote_index_column": 1
        },
        {
         "Unnamed: 0": 19,
         "ResponseId": 20,
         "Age": "25-34 years old",
         "Gender": "Man",
         "Trans": "No",
         "Sexuality": "Straight / Heterosexual",
         "Country": "Brazil",
         "EdLevel": "Bachelor’s degree (B.A., B.S., B.Eng., etc.)",
         "Age1stCode": "11 - 17 years",
         "LearnCode": "Other online resources (ex: videos, blogs, etc);Online Forum;Friend or family member;Online Courses…",
         "YearsCode": 12,
         "YearsCodePro": 9,
         "MainBranch": "I used to be a developer by profession, but no longer am",
         "Employment": "Employed full-time",
         "DevType": "Other (please specify):",
         "ConvertedCompYearly": "nan",
         "_deepnote_index_column": 2
        },
        {
         "Unnamed: 0": 45,
         "ResponseId": 46,
         "Age": "35-44 years old",
         "Gender": "Man",
         "Trans": "No",
         "Sexuality": "Straight / Heterosexual",
         "Country": "Brazil",
         "EdLevel": "Bachelor’s degree (B.A., B.S., B.Eng., etc.)",
         "Age1stCode": "11 - 17 years",
         "LearnCode": "Coding Bootcamp",
         "YearsCode": 22,
         "YearsCodePro": 15,
         "MainBranch": "I am a developer by profession",
         "Employment": "Employed full-time",
         "DevType": "Developer, desktop or enterprise applications;Developer, full-stack;Developer, back-end",
         "ConvertedCompYearly": 60480,
         "_deepnote_index_column": 3
        },
        {
         "Unnamed: 0": 46,
         "ResponseId": 47,
         "Age": "25-34 years old",
         "Gender": "Man",
         "Trans": "No",
         "Sexuality": "Straight / Heterosexual",
         "Country": "Peru",
         "EdLevel": "Bachelor’s degree (B.A., B.S., B.Eng., etc.)",
         "Age1stCode": "11 - 17 years",
         "LearnCode": "Other online resources (ex: videos, blogs, etc)",
         "YearsCode": 2,
         "YearsCodePro": "nan",
         "MainBranch": "I code primarily as a hobby",
         "Employment": "I prefer not to say",
         "DevType": "nan",
         "ConvertedCompYearly": "nan",
         "_deepnote_index_column": 4
        },
        {
         "Unnamed: 0": 68,
         "ResponseId": 69,
         "Age": "35-44 years old",
         "Gender": "Man",
         "Trans": "No",
         "Sexuality": "Straight / Heterosexual",
         "Country": "Spain",
         "EdLevel": "Master’s degree (M.A., M.S., M.Eng., MBA, etc.)",
         "Age1stCode": "11 - 17 years",
         "LearnCode": "School",
         "YearsCode": 20,
         "YearsCodePro": 10,
         "MainBranch": "I am a developer by profession",
         "Employment": "Employed full-time",
         "DevType": "Developer, back-end",
         "ConvertedCompYearly": 58373,
         "_deepnote_index_column": 5
        },
        {
         "Unnamed: 0": 79,
         "ResponseId": 80,
         "Age": "18-24 years old",
         "Gender": "Man",
         "Trans": "No",
         "Sexuality": "Straight / Heterosexual",
         "Country": "Spain",
         "EdLevel": "Associate degree (A.A., A.S., etc.)",
         "Age1stCode": "11 - 17 years",
         "LearnCode": "Online Courses or Certification",
         "YearsCode": "nan",
         "YearsCodePro": "nan",
         "MainBranch": "I am a developer by profession",
         "Employment": "Employed full-time",
         "DevType": "Developer, back-end",
         "ConvertedCompYearly": 21620,
         "_deepnote_index_column": 6
        },
        {
         "Unnamed: 0": 108,
         "ResponseId": 109,
         "Age": "25-34 years old",
         "Gender": "Man",
         "Trans": "No",
         "Sexuality": "Straight / Heterosexual",
         "Country": "Spain",
         "EdLevel": "Associate degree (A.A., A.S., etc.)",
         "Age1stCode": "25 - 34 years",
         "LearnCode": "Coding Bootcamp;School",
         "YearsCode": 10,
         "YearsCodePro": 8,
         "MainBranch": "I am a developer by profession",
         "Employment": "Employed full-time",
         "DevType": "Developer, full-stack;Developer, back-end;Product manager",
         "ConvertedCompYearly": 38915,
         "_deepnote_index_column": 7
        },
        {
         "Unnamed: 0": 201,
         "ResponseId": 202,
         "Age": "35-44 years old",
         "Gender": "Man",
         "Trans": "No",
         "Sexuality": "Straight / Heterosexual",
         "Country": "Colombia",
         "EdLevel": "Bachelor’s degree (B.A., B.S., B.Eng., etc.)",
         "Age1stCode": "18 - 24 years",
         "LearnCode": "School",
         "YearsCode": 20,
         "YearsCodePro": 20,
         "MainBranch": "I am a developer by profession",
         "Employment": "Employed full-time",
         "DevType": "Developer, front-end;Developer, full-stack;Developer, back-end;System administrator",
         "ConvertedCompYearly": 21600,
         "_deepnote_index_column": 8
        },
        {
         "Unnamed: 0": 225,
         "ResponseId": 226,
         "Age": "18-24 years old",
         "Gender": "Man",
         "Trans": "No",
         "Sexuality": "Straight / Heterosexual",
         "Country": "Chile",
         "EdLevel": "Bachelor’s degree (B.A., B.S., B.Eng., etc.)",
         "Age1stCode": "18 - 24 years",
         "LearnCode": "Colleague",
         "YearsCode": 6,
         "YearsCodePro": 2,
         "MainBranch": "I am a developer by profession",
         "Employment": "Employed full-time",
         "DevType": "Developer, front-end;Developer, full-stack;Developer, back-end;Database administrator;Data or busin…",
         "ConvertedCompYearly": 22584,
         "_deepnote_index_column": 9
        }
       ]
      },
      "text/plain": "      Unnamed: 0  ResponseId                Age             Gender  \\\n0             11          12    25-34 years old                Man   \n1             13          14  Prefer not to say  Prefer not to say   \n2             19          20    25-34 years old                Man   \n3             45          46    35-44 years old                Man   \n4             46          47    25-34 years old                Man   \n...          ...         ...                ...                ...   \n6332       83390       83391    35-44 years old                Man   \n6333       83392       83393    25-34 years old                Man   \n6334       83428       83429    25-34 years old                Man   \n6335       83433       83434    25-34 years old                Man   \n6336       83438       83439    18-24 years old                Man   \n\n                  Trans                Sexuality Country  \\\n0                    No  Straight / Heterosexual   Spain   \n1     Prefer not to say        Prefer not to say    Peru   \n2                    No  Straight / Heterosexual  Brazil   \n3                    No  Straight / Heterosexual  Brazil   \n4                    No  Straight / Heterosexual    Peru   \n...                 ...                      ...     ...   \n6332                 No  Straight / Heterosexual  Brazil   \n6333                 No  Straight / Heterosexual  Brazil   \n6334                 No  Straight / Heterosexual  Brazil   \n6335                 No  Straight / Heterosexual  Brazil   \n6336                 No  Straight / Heterosexual  Brazil   \n\n                                              EdLevel     Age1stCode  \\\n0        Bachelor’s degree (B.A., B.S., B.Eng., etc.)  11 - 17 years   \n1     Master’s degree (M.A., M.S., M.Eng., MBA, etc.)   5 - 10 years   \n2        Bachelor’s degree (B.A., B.S., B.Eng., etc.)  11 - 17 years   \n3        Bachelor’s degree (B.A., B.S., B.Eng., etc.)  11 - 17 years   \n4        Bachelor’s degree (B.A., B.S., B.Eng., etc.)  11 - 17 years   \n...                                               ...            ...   \n6332     Bachelor’s degree (B.A., B.S., B.Eng., etc.)  11 - 17 years   \n6333     Bachelor’s degree (B.A., B.S., B.Eng., etc.)  25 - 34 years   \n6334  Master’s degree (M.A., M.S., M.Eng., MBA, etc.)  18 - 24 years   \n6335     Bachelor’s degree (B.A., B.S., B.Eng., etc.)  18 - 24 years   \n6336               Professional degree (JD, MD, etc.)  11 - 17 years   \n\n                                              LearnCode  YearsCode  \\\n0     Other online resources (ex: videos, blogs, etc...       12.0   \n1                                                School       10.0   \n2     Other online resources (ex: videos, blogs, etc...       12.0   \n3                                       Coding Bootcamp       22.0   \n4       Other online resources (ex: videos, blogs, etc)        2.0   \n...                                                 ...        ...   \n6332  Other online resources (ex: videos, blogs, etc...       21.0   \n6333                                             School        7.0   \n6334                                             School       12.0   \n6335  Online Forum;Online Courses or Certification;O...       15.0   \n6336                                             School       14.0   \n\n      YearsCodePro                                         MainBranch  \\\n0              5.0                     I am a developer by profession   \n1              NaN             I am a student who is learning to code   \n2              9.0  I used to be a developer by profession, but no...   \n3             15.0                     I am a developer by profession   \n4              NaN                        I code primarily as a hobby   \n...            ...                                                ...   \n6332          18.0                     I am a developer by profession   \n6333           5.0                     I am a developer by profession   \n6334           7.0                     I am a developer by profession   \n6335          11.0                     I am a developer by profession   \n6336           4.0                     I am a developer by profession   \n\n                                             Employment  \\\n0                                    Employed full-time   \n1                                    Employed full-time   \n2                                    Employed full-time   \n3                                    Employed full-time   \n4                                   I prefer not to say   \n...                                                 ...   \n6332                                 Employed full-time   \n6333                                 Employed full-time   \n6334                                 Employed full-time   \n6335  Independent contractor, freelancer, or self-em...   \n6336                                 Employed full-time   \n\n                                                DevType  ConvertedCompYearly  \n0                                   Developer, back-end              46482.0  \n1         Data scientist or machine learning specialist                  NaN  \n2                               Other (please specify):                  NaN  \n3     Developer, desktop or enterprise applications;...              60480.0  \n4                                                   NaN                  NaN  \n...                                                 ...                  ...  \n6332  Developer, front-end;Developer, full-stack;Dev...              27492.0  \n6333  Data scientist or machine learning specialist;...              68721.0  \n6334               Senior Executive (C-Suite, VP, etc.)              41232.0  \n6335  Developer, mobile;Developer, front-end;Develop...              18326.0  \n6336  Developer, front-end;Developer, full-stack;Dev...              21168.0  \n\n[6337 rows x 16 columns]",
      "text/html": "<div>\n<style scoped>\n    .dataframe tbody tr th:only-of-type {\n        vertical-align: middle;\n    }\n\n    .dataframe tbody tr th {\n        vertical-align: top;\n    }\n\n    .dataframe thead th {\n        text-align: right;\n    }\n</style>\n<table border=\"1\" class=\"dataframe\">\n  <thead>\n    <tr style=\"text-align: right;\">\n      <th></th>\n      <th>Unnamed: 0</th>\n      <th>ResponseId</th>\n      <th>Age</th>\n      <th>Gender</th>\n      <th>Trans</th>\n      <th>Sexuality</th>\n      <th>Country</th>\n      <th>EdLevel</th>\n      <th>Age1stCode</th>\n      <th>LearnCode</th>\n      <th>YearsCode</th>\n      <th>YearsCodePro</th>\n      <th>MainBranch</th>\n      <th>Employment</th>\n      <th>DevType</th>\n      <th>ConvertedCompYearly</th>\n    </tr>\n  </thead>\n  <tbody>\n    <tr>\n      <th>0</th>\n      <td>11</td>\n      <td>12</td>\n      <td>25-34 years old</td>\n      <td>Man</td>\n      <td>No</td>\n      <td>Straight / Heterosexual</td>\n      <td>Spain</td>\n      <td>Bachelor’s degree (B.A., B.S., B.Eng., etc.)</td>\n      <td>11 - 17 years</td>\n      <td>Other online resources (ex: videos, blogs, etc...</td>\n      <td>12.0</td>\n      <td>5.0</td>\n      <td>I am a developer by profession</td>\n      <td>Employed full-time</td>\n      <td>Developer, back-end</td>\n      <td>46482.0</td>\n    </tr>\n    <tr>\n      <th>1</th>\n      <td>13</td>\n      <td>14</td>\n      <td>Prefer not to say</td>\n      <td>Prefer not to say</td>\n      <td>Prefer not to say</td>\n      <td>Prefer not to say</td>\n      <td>Peru</td>\n      <td>Master’s degree (M.A., M.S., M.Eng., MBA, etc.)</td>\n      <td>5 - 10 years</td>\n      <td>School</td>\n      <td>10.0</td>\n      <td>NaN</td>\n      <td>I am a student who is learning to code</td>\n      <td>Employed full-time</td>\n      <td>Data scientist or machine learning specialist</td>\n      <td>NaN</td>\n    </tr>\n    <tr>\n      <th>2</th>\n      <td>19</td>\n      <td>20</td>\n      <td>25-34 years old</td>\n      <td>Man</td>\n      <td>No</td>\n      <td>Straight / Heterosexual</td>\n      <td>Brazil</td>\n      <td>Bachelor’s degree (B.A., B.S., B.Eng., etc.)</td>\n      <td>11 - 17 years</td>\n      <td>Other online resources (ex: videos, blogs, etc...</td>\n      <td>12.0</td>\n      <td>9.0</td>\n      <td>I used to be a developer by profession, but no...</td>\n      <td>Employed full-time</td>\n      <td>Other (please specify):</td>\n      <td>NaN</td>\n    </tr>\n    <tr>\n      <th>3</th>\n      <td>45</td>\n      <td>46</td>\n      <td>35-44 years old</td>\n      <td>Man</td>\n      <td>No</td>\n      <td>Straight / Heterosexual</td>\n      <td>Brazil</td>\n      <td>Bachelor’s degree (B.A., B.S., B.Eng., etc.)</td>\n      <td>11 - 17 years</td>\n      <td>Coding Bootcamp</td>\n      <td>22.0</td>\n      <td>15.0</td>\n      <td>I am a developer by profession</td>\n      <td>Employed full-time</td>\n      <td>Developer, desktop or enterprise applications;...</td>\n      <td>60480.0</td>\n    </tr>\n    <tr>\n      <th>4</th>\n      <td>46</td>\n      <td>47</td>\n      <td>25-34 years old</td>\n      <td>Man</td>\n      <td>No</td>\n      <td>Straight / Heterosexual</td>\n      <td>Peru</td>\n      <td>Bachelor’s degree (B.A., B.S., B.Eng., etc.)</td>\n      <td>11 - 17 years</td>\n      <td>Other online resources (ex: videos, blogs, etc)</td>\n      <td>2.0</td>\n      <td>NaN</td>\n      <td>I code primarily as a hobby</td>\n      <td>I prefer not to say</td>\n      <td>NaN</td>\n      <td>NaN</td>\n    </tr>\n    <tr>\n      <th>...</th>\n      <td>...</td>\n      <td>...</td>\n      <td>...</td>\n      <td>...</td>\n      <td>...</td>\n      <td>...</td>\n      <td>...</td>\n      <td>...</td>\n      <td>...</td>\n      <td>...</td>\n      <td>...</td>\n      <td>...</td>\n      <td>...</td>\n      <td>...</td>\n      <td>...</td>\n      <td>...</td>\n    </tr>\n    <tr>\n      <th>6332</th>\n      <td>83390</td>\n      <td>83391</td>\n      <td>35-44 years old</td>\n      <td>Man</td>\n      <td>No</td>\n      <td>Straight / Heterosexual</td>\n      <td>Brazil</td>\n      <td>Bachelor’s degree (B.A., B.S., B.Eng., etc.)</td>\n      <td>11 - 17 years</td>\n      <td>Other online resources (ex: videos, blogs, etc...</td>\n      <td>21.0</td>\n      <td>18.0</td>\n      <td>I am a developer by profession</td>\n      <td>Employed full-time</td>\n      <td>Developer, front-end;Developer, full-stack;Dev...</td>\n      <td>27492.0</td>\n    </tr>\n    <tr>\n      <th>6333</th>\n      <td>83392</td>\n      <td>83393</td>\n      <td>25-34 years old</td>\n      <td>Man</td>\n      <td>No</td>\n      <td>Straight / Heterosexual</td>\n      <td>Brazil</td>\n      <td>Bachelor’s degree (B.A., B.S., B.Eng., etc.)</td>\n      <td>25 - 34 years</td>\n      <td>School</td>\n      <td>7.0</td>\n      <td>5.0</td>\n      <td>I am a developer by profession</td>\n      <td>Employed full-time</td>\n      <td>Data scientist or machine learning specialist;...</td>\n      <td>68721.0</td>\n    </tr>\n    <tr>\n      <th>6334</th>\n      <td>83428</td>\n      <td>83429</td>\n      <td>25-34 years old</td>\n      <td>Man</td>\n      <td>No</td>\n      <td>Straight / Heterosexual</td>\n      <td>Brazil</td>\n      <td>Master’s degree (M.A., M.S., M.Eng., MBA, etc.)</td>\n      <td>18 - 24 years</td>\n      <td>School</td>\n      <td>12.0</td>\n      <td>7.0</td>\n      <td>I am a developer by profession</td>\n      <td>Employed full-time</td>\n      <td>Senior Executive (C-Suite, VP, etc.)</td>\n      <td>41232.0</td>\n    </tr>\n    <tr>\n      <th>6335</th>\n      <td>83433</td>\n      <td>83434</td>\n      <td>25-34 years old</td>\n      <td>Man</td>\n      <td>No</td>\n      <td>Straight / Heterosexual</td>\n      <td>Brazil</td>\n      <td>Bachelor’s degree (B.A., B.S., B.Eng., etc.)</td>\n      <td>18 - 24 years</td>\n      <td>Online Forum;Online Courses or Certification;O...</td>\n      <td>15.0</td>\n      <td>11.0</td>\n      <td>I am a developer by profession</td>\n      <td>Independent contractor, freelancer, or self-em...</td>\n      <td>Developer, mobile;Developer, front-end;Develop...</td>\n      <td>18326.0</td>\n    </tr>\n    <tr>\n      <th>6336</th>\n      <td>83438</td>\n      <td>83439</td>\n      <td>18-24 years old</td>\n      <td>Man</td>\n      <td>No</td>\n      <td>Straight / Heterosexual</td>\n      <td>Brazil</td>\n      <td>Professional degree (JD, MD, etc.)</td>\n      <td>11 - 17 years</td>\n      <td>School</td>\n      <td>14.0</td>\n      <td>4.0</td>\n      <td>I am a developer by profession</td>\n      <td>Employed full-time</td>\n      <td>Developer, front-end;Developer, full-stack;Dev...</td>\n      <td>21168.0</td>\n    </tr>\n  </tbody>\n</table>\n<p>6337 rows × 16 columns</p>\n</div>"
     },
     "metadata": {}
    }
   ],
   "execution_count": 24
  },
  {
   "cell_type": "code",
   "source": "",
   "metadata": {
    "cell_id": "55892df8-c10d-464b-b722-1a43c0e0be3c",
    "tags": [],
    "deepnote_to_be_reexecuted": false,
    "source_hash": "b623e53d",
    "execution_start": 1645585632924,
    "deepnote_cell_type": "code"
   },
   "outputs": [],
   "execution_count": 23
  },
  {
   "cell_type": "markdown",
   "source": "<a style='text-decoration:none;line-height:16px;display:flex;color:#5B5B62;padding:10px;justify-content:end;' href='https://deepnote.com?utm_source=created-in-deepnote-cell&projectId=09491c61-3767-4289-98fd-88aee19bb45d' target=\"_blank\">\n<img alt='Created in deepnote.com' style='display:inline;max-height:16px;margin:0px;margin-right:7.5px;' src='data:image/svg+xml;base64,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' > </img>\nCreated in <span style='font-weight:600;margin-left:4px;'>Deepnote</span></a>",
   "metadata": {
    "tags": [],
    "created_in_deepnote_cell": true,
    "deepnote_cell_type": "markdown"
   }
  }
 ],
 "nbformat": 4,
 "nbformat_minor": 2,
 "metadata": {
  "orig_nbformat": 2,
  "deepnote": {
   "is_reactive": true
  },
  "deepnote_notebook_id": "724cde0d-7410-4265-8630-28856023f0fe",
  "deepnote_execution_queue": []
 }
}