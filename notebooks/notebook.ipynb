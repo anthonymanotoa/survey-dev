{
 "cells": [
  {
   "cell_type": "markdown",
   "source": "## Preguntas posibles\n\n1. Si estudié computer science gano más que si no?\n2. Las personas que aprendieron a programar más jóvenes, consiguieron un puesto senior más pronto?\n3. Diferencia de salario entre trans y heteros (y si fueron a las universidades)?\n4. Diferencia de salario entre hombres y mujeres\n5. Qué cargos tienes según dónde estudiaste\n6. Lenguajes de programación aprendidos por tipo de aprendizaje\n7. Cuánto tiempo te tomó desde que aprendiste código hasta que programaste profesionlamente?\n\n- Extraer algo para mejorar esto y cerrar la brecha\n\n### Accionables:\n- Cómo disminuir esta brecha de género",
   "metadata": {
    "cell_id": "dcf6b326-6955-49c9-9cc2-bedea44ab81d",
    "tags": [],
    "deepnote_cell_type": "markdown"
   }
  },
  {
   "cell_type": "code",
   "metadata": {
    "tags": [],
    "cell_id": "273f43e0-7ea3-4218-b9cf-458cb76017a7",
    "deepnote_to_be_reexecuted": false,
    "source_hash": "c835061e",
    "execution_start": 1645579376060,
    "execution_millis": 3022,
    "deepnote_cell_type": "code"
   },
   "source": "import pandas as pd\nimport numpy as np\nimport matplotlib.pyplot as plt\nimport seaborn as sns\nfrom scipy import stats",
   "execution_count": 1,
   "outputs": []
  },
  {
   "cell_type": "code",
   "metadata": {
    "cell_id": "31a5dd80-5c4b-4aae-b4a6-94c2e8e2a7cd",
    "tags": [],
    "deepnote_to_be_reexecuted": false,
    "source_hash": "5f2abaa8",
    "execution_start": 1645579379098,
    "execution_millis": 2570,
    "deepnote_cell_type": "code"
   },
   "source": "# Read de data\ndf_schema = pd.read_csv('/work/survey-dev/data/survey_results_schema.csv')\ndf_survey = pd.read_csv('/work/survey-dev/data/survey_results_public.csv')",
   "execution_count": 2,
   "outputs": []
  },
  {
   "cell_type": "markdown",
   "source": "El `df_schema` contiene las preguntas usadas en la encuesta.",
   "metadata": {
    "cell_id": "2ae9495a-b87d-471b-8692-7d909e98250d",
    "tags": [],
    "deepnote_cell_type": "markdown"
   }
  },
  {
   "cell_type": "code",
   "metadata": {
    "cell_id": "c751c12e-9b4a-400f-8d26-bc1101db8991",
    "tags": [],
    "deepnote_to_be_reexecuted": false,
    "source_hash": "366e7cf0",
    "execution_start": 1645579381669,
    "execution_millis": 43,
    "deepnote_cell_type": "code"
   },
   "source": "# Explore what data to use\ncols = ['qname', 'question']\ndf_schema[cols]",
   "execution_count": 3,
   "outputs": [
    {
     "output_type": "execute_result",
     "execution_count": 3,
     "data": {
      "application/vnd.deepnote.dataframe.v3+json": {
       "column_count": 2,
       "row_count": 48,
       "columns": [
        {
         "name": "qname",
         "dtype": "object",
         "stats": {
          "unique_count": 48,
          "nan_count": 0,
          "categories": [
           {
            "name": "S0",
            "count": 1
           },
           {
            "name": "MetaInfo",
            "count": 1
           },
           {
            "name": "46 others",
            "count": 46
           }
          ]
         }
        },
        {
         "name": "question",
         "dtype": "object",
         "stats": {
          "unique_count": 45,
          "nan_count": 0,
          "categories": [
           {
            "name": "Which of the following describe you, if any? Please check all that apply.",
            "count": 3
           },
           {
            "name": "Which of the following describe you, if any? Please check all that apply. ",
            "count": 2
           },
           {
            "name": "43 others",
            "count": 43
           }
          ]
         }
        },
        {
         "name": "_deepnote_index_column",
         "dtype": "int64"
        }
       ],
       "rows": [
        {
         "qname": "S0",
         "question": "<div><span style=\"font-size:19px;\"><strong>Hello world! </strong></span></div>\n\n<div> </div>\n\n<div>…",
         "_deepnote_index_column": 0
        },
        {
         "qname": "MetaInfo",
         "question": "Browser Meta Info",
         "_deepnote_index_column": 1
        },
        {
         "qname": "S1",
         "question": "<span style=\"font-size:22px; font-family: arial,helvetica,sans-serif; font-weight: 700;\">Basic Info…",
         "_deepnote_index_column": 2
        },
        {
         "qname": "MainBranch",
         "question": "Which of the following options best describes you today? Here, by \"developer\" we mean \"someone who …",
         "_deepnote_index_column": 3
        },
        {
         "qname": "Employment",
         "question": "Which of the following best describes your current <b>employment status</b>?",
         "_deepnote_index_column": 4
        },
        {
         "qname": "Country",
         "question": "Where do you live? <span style=\"font-weight: bolder;\">*</span>",
         "_deepnote_index_column": 5
        },
        {
         "qname": "US_State",
         "question": "<p>In which state or territory of the USA do you live? <i>This information will be kept private.</i…",
         "_deepnote_index_column": 6
        },
        {
         "qname": "UK_Country",
         "question": "In which part of the United Kingdom do you live? <i>This information will be kept private.</i>",
         "_deepnote_index_column": 7
        },
        {
         "qname": "S2",
         "question": "<span style=\"font-size:22px; font-family: arial,helvetica,sans-serif; font-weight: 700;\">Education,…",
         "_deepnote_index_column": 8
        },
        {
         "qname": "EdLevel",
         "question": "Which of the following best describes the highest level of formal education that you’ve completed? *",
         "_deepnote_index_column": 9
        }
       ]
      },
      "text/plain": "                 qname                                           question\n0                   S0  <div><span style=\"font-size:19px;\"><strong>Hel...\n1             MetaInfo                                  Browser Meta Info\n2                   S1  <span style=\"font-size:22px; font-family: aria...\n3           MainBranch  Which of the following options best describes ...\n4           Employment  Which of the following best describes your cur...\n5              Country  Where do you live? <span style=\"font-weight: b...\n6             US_State  <p>In which state or territory of the USA do y...\n7           UK_Country  In which part of the United Kingdom do you liv...\n8                   S2  <span style=\"font-size:22px; font-family: aria...\n9              EdLevel  Which of the following best describes the high...\n10          Age1stCode  At what age did you write your first line of c...\n11           LearnCode  How did you learn to code? Select all that apply.\n12           YearsCode  Including any education, how many years have y...\n13        YearsCodePro  NOT including education, how many years have y...\n14             DevType  Which of the following describes your current ...\n15             OrgSize  Approximately how many people are employed by ...\n16            Currency  Which currency do you use day-to-day? If your ...\n17           CompTotal  What is your current total compensation (salar...\n18            CompFreq   Is that compensation weekly, monthly, or yearly?\n19                  S3  <span style=\"font-size:22px; font-family: aria...\n20            Language  Which <b>programming, scripting, and markup la...\n21            Database  Which <b>database environments </b>have you do...\n22            Platform  Which <b>cloud platforms</b> have you done ext...\n23            Webframe  Which <strong>web frameworks </strong><span st...\n24            MiscTech  Which <b>other frameworks and libraries</b> ha...\n25           ToolsTech  Which <strong>tools</strong> have you done ext...\n26      NEWCollabTools  Which <strong>development environments</strong...\n27               OpSys  What is the primary operating system in which ...\n28            NEWStuck  What do you do when you get stuck on a problem...\n29                  S4  <span style=\"font-size:22px; font-family: aria...\n30          NEWSOSites  Which of the following Stack Overflow sites ha...\n31         SOVisitFreq  How frequently would you say you visit Stack O...\n32           SOAccount              Do you have a Stack Overflow account?\n33          SOPartFreq  How frequently would you say you participate i...\n34              SOComm  Do you consider yourself a member of the Stack...\n35       NEWOtherComms  Are you a member of any other online developer...\n36  NEWOtherCommsNames  Please name up to 5 other online developer com...\n37                  S5  <span style=\"font-size:22px; font-family: aria...\n38                 Age                                  What is your age?\n39              Gender  Which of the following describe you, if any? P...\n40               Trans                    Do you identify as transgender?\n41           Sexuality  Which of the following describe you, if any? P...\n42           Ethnicity  Which of the following describe you, if any? P...\n43       Accessibility  Which of the following describe you, if any? P...\n44        MentalHealth  Which of the following describe you, if any? P...\n45                  S6  <span style=\"font-size:22px;\"><strong>Final Qu...\n46        SurveyLength  How do you feel about the length of the survey...\n47          SurveyEase  How easy or difficult was this survey to compl...",
      "text/html": "<div>\n<style scoped>\n    .dataframe tbody tr th:only-of-type {\n        vertical-align: middle;\n    }\n\n    .dataframe tbody tr th {\n        vertical-align: top;\n    }\n\n    .dataframe thead th {\n        text-align: right;\n    }\n</style>\n<table border=\"1\" class=\"dataframe\">\n  <thead>\n    <tr style=\"text-align: right;\">\n      <th></th>\n      <th>qname</th>\n      <th>question</th>\n    </tr>\n  </thead>\n  <tbody>\n    <tr>\n      <th>0</th>\n      <td>S0</td>\n      <td>&lt;div&gt;&lt;span style=\"font-size:19px;\"&gt;&lt;strong&gt;Hel...</td>\n    </tr>\n    <tr>\n      <th>1</th>\n      <td>MetaInfo</td>\n      <td>Browser Meta Info</td>\n    </tr>\n    <tr>\n      <th>2</th>\n      <td>S1</td>\n      <td>&lt;span style=\"font-size:22px; font-family: aria...</td>\n    </tr>\n    <tr>\n      <th>3</th>\n      <td>MainBranch</td>\n      <td>Which of the following options best describes ...</td>\n    </tr>\n    <tr>\n      <th>4</th>\n      <td>Employment</td>\n      <td>Which of the following best describes your cur...</td>\n    </tr>\n    <tr>\n      <th>5</th>\n      <td>Country</td>\n      <td>Where do you live? &lt;span style=\"font-weight: b...</td>\n    </tr>\n    <tr>\n      <th>6</th>\n      <td>US_State</td>\n      <td>&lt;p&gt;In which state or territory of the USA do y...</td>\n    </tr>\n    <tr>\n      <th>7</th>\n      <td>UK_Country</td>\n      <td>In which part of the United Kingdom do you liv...</td>\n    </tr>\n    <tr>\n      <th>8</th>\n      <td>S2</td>\n      <td>&lt;span style=\"font-size:22px; font-family: aria...</td>\n    </tr>\n    <tr>\n      <th>9</th>\n      <td>EdLevel</td>\n      <td>Which of the following best describes the high...</td>\n    </tr>\n    <tr>\n      <th>10</th>\n      <td>Age1stCode</td>\n      <td>At what age did you write your first line of c...</td>\n    </tr>\n    <tr>\n      <th>11</th>\n      <td>LearnCode</td>\n      <td>How did you learn to code? Select all that apply.</td>\n    </tr>\n    <tr>\n      <th>12</th>\n      <td>YearsCode</td>\n      <td>Including any education, how many years have y...</td>\n    </tr>\n    <tr>\n      <th>13</th>\n      <td>YearsCodePro</td>\n      <td>NOT including education, how many years have y...</td>\n    </tr>\n    <tr>\n      <th>14</th>\n      <td>DevType</td>\n      <td>Which of the following describes your current ...</td>\n    </tr>\n    <tr>\n      <th>15</th>\n      <td>OrgSize</td>\n      <td>Approximately how many people are employed by ...</td>\n    </tr>\n    <tr>\n      <th>16</th>\n      <td>Currency</td>\n      <td>Which currency do you use day-to-day? If your ...</td>\n    </tr>\n    <tr>\n      <th>17</th>\n      <td>CompTotal</td>\n      <td>What is your current total compensation (salar...</td>\n    </tr>\n    <tr>\n      <th>18</th>\n      <td>CompFreq</td>\n      <td>Is that compensation weekly, monthly, or yearly?</td>\n    </tr>\n    <tr>\n      <th>19</th>\n      <td>S3</td>\n      <td>&lt;span style=\"font-size:22px; font-family: aria...</td>\n    </tr>\n    <tr>\n      <th>20</th>\n      <td>Language</td>\n      <td>Which &lt;b&gt;programming, scripting, and markup la...</td>\n    </tr>\n    <tr>\n      <th>21</th>\n      <td>Database</td>\n      <td>Which &lt;b&gt;database environments &lt;/b&gt;have you do...</td>\n    </tr>\n    <tr>\n      <th>22</th>\n      <td>Platform</td>\n      <td>Which &lt;b&gt;cloud platforms&lt;/b&gt; have you done ext...</td>\n    </tr>\n    <tr>\n      <th>23</th>\n      <td>Webframe</td>\n      <td>Which &lt;strong&gt;web frameworks &lt;/strong&gt;&lt;span st...</td>\n    </tr>\n    <tr>\n      <th>24</th>\n      <td>MiscTech</td>\n      <td>Which &lt;b&gt;other frameworks and libraries&lt;/b&gt; ha...</td>\n    </tr>\n    <tr>\n      <th>25</th>\n      <td>ToolsTech</td>\n      <td>Which &lt;strong&gt;tools&lt;/strong&gt; have you done ext...</td>\n    </tr>\n    <tr>\n      <th>26</th>\n      <td>NEWCollabTools</td>\n      <td>Which &lt;strong&gt;development environments&lt;/strong...</td>\n    </tr>\n    <tr>\n      <th>27</th>\n      <td>OpSys</td>\n      <td>What is the primary operating system in which ...</td>\n    </tr>\n    <tr>\n      <th>28</th>\n      <td>NEWStuck</td>\n      <td>What do you do when you get stuck on a problem...</td>\n    </tr>\n    <tr>\n      <th>29</th>\n      <td>S4</td>\n      <td>&lt;span style=\"font-size:22px; font-family: aria...</td>\n    </tr>\n    <tr>\n      <th>30</th>\n      <td>NEWSOSites</td>\n      <td>Which of the following Stack Overflow sites ha...</td>\n    </tr>\n    <tr>\n      <th>31</th>\n      <td>SOVisitFreq</td>\n      <td>How frequently would you say you visit Stack O...</td>\n    </tr>\n    <tr>\n      <th>32</th>\n      <td>SOAccount</td>\n      <td>Do you have a Stack Overflow account?</td>\n    </tr>\n    <tr>\n      <th>33</th>\n      <td>SOPartFreq</td>\n      <td>How frequently would you say you participate i...</td>\n    </tr>\n    <tr>\n      <th>34</th>\n      <td>SOComm</td>\n      <td>Do you consider yourself a member of the Stack...</td>\n    </tr>\n    <tr>\n      <th>35</th>\n      <td>NEWOtherComms</td>\n      <td>Are you a member of any other online developer...</td>\n    </tr>\n    <tr>\n      <th>36</th>\n      <td>NEWOtherCommsNames</td>\n      <td>Please name up to 5 other online developer com...</td>\n    </tr>\n    <tr>\n      <th>37</th>\n      <td>S5</td>\n      <td>&lt;span style=\"font-size:22px; font-family: aria...</td>\n    </tr>\n    <tr>\n      <th>38</th>\n      <td>Age</td>\n      <td>What is your age?</td>\n    </tr>\n    <tr>\n      <th>39</th>\n      <td>Gender</td>\n      <td>Which of the following describe you, if any? P...</td>\n    </tr>\n    <tr>\n      <th>40</th>\n      <td>Trans</td>\n      <td>Do you identify as transgender?</td>\n    </tr>\n    <tr>\n      <th>41</th>\n      <td>Sexuality</td>\n      <td>Which of the following describe you, if any? P...</td>\n    </tr>\n    <tr>\n      <th>42</th>\n      <td>Ethnicity</td>\n      <td>Which of the following describe you, if any? P...</td>\n    </tr>\n    <tr>\n      <th>43</th>\n      <td>Accessibility</td>\n      <td>Which of the following describe you, if any? P...</td>\n    </tr>\n    <tr>\n      <th>44</th>\n      <td>MentalHealth</td>\n      <td>Which of the following describe you, if any? P...</td>\n    </tr>\n    <tr>\n      <th>45</th>\n      <td>S6</td>\n      <td>&lt;span style=\"font-size:22px;\"&gt;&lt;strong&gt;Final Qu...</td>\n    </tr>\n    <tr>\n      <th>46</th>\n      <td>SurveyLength</td>\n      <td>How do you feel about the length of the survey...</td>\n    </tr>\n    <tr>\n      <th>47</th>\n      <td>SurveyEase</td>\n      <td>How easy or difficult was this survey to compl...</td>\n    </tr>\n  </tbody>\n</table>\n</div>"
     },
     "metadata": {}
    }
   ]
  },
  {
   "cell_type": "code",
   "metadata": {
    "cell_id": "737489f0-3b4a-4848-b0c1-74ab74469ea8",
    "tags": [],
    "deepnote_to_be_reexecuted": false,
    "source_hash": "77e67714",
    "execution_start": 1645579381717,
    "execution_millis": 236,
    "deepnote_cell_type": "code"
   },
   "source": "df_survey.sample(5)",
   "execution_count": 4,
   "outputs": [
    {
     "output_type": "execute_result",
     "execution_count": 4,
     "data": {
      "application/vnd.deepnote.dataframe.v3+json": {
       "column_count": 48,
       "row_count": 5,
       "columns": [
        {
         "name": "ResponseId",
         "dtype": "int64",
         "stats": {
          "unique_count": 5,
          "nan_count": 0,
          "min": "40431",
          "max": "77054",
          "histogram": [
           {
            "bin_start": 40431,
            "bin_end": 44093.3,
            "count": 2
           },
           {
            "bin_start": 44093.3,
            "bin_end": 47755.6,
            "count": 0
           },
           {
            "bin_start": 47755.6,
            "bin_end": 51417.9,
            "count": 0
           },
           {
            "bin_start": 51417.9,
            "bin_end": 55080.2,
            "count": 1
           },
           {
            "bin_start": 55080.2,
            "bin_end": 58742.5,
            "count": 0
           },
           {
            "bin_start": 58742.5,
            "bin_end": 62404.8,
            "count": 0
           },
           {
            "bin_start": 62404.8,
            "bin_end": 66067.1,
            "count": 1
           },
           {
            "bin_start": 66067.1,
            "bin_end": 69729.4,
            "count": 0
           },
           {
            "bin_start": 69729.4,
            "bin_end": 73391.70000000001,
            "count": 0
           },
           {
            "bin_start": 73391.70000000001,
            "bin_end": 77054,
            "count": 1
           }
          ]
         }
        },
        {
         "name": "MainBranch",
         "dtype": "object",
         "stats": {
          "unique_count": 3,
          "nan_count": 0,
          "categories": [
           {
            "name": "I am a developer by profession",
            "count": 3
           },
           {
            "name": "I am a student who is learning to code",
            "count": 1
           },
           {
            "name": "I code primarily as a hobby",
            "count": 1
           }
          ]
         }
        },
        {
         "name": "Employment",
         "dtype": "object",
         "stats": {
          "unique_count": 3,
          "nan_count": 0,
          "categories": [
           {
            "name": "Employed full-time",
            "count": 3
           },
           {
            "name": "Independent contractor, freelancer, or self-employed",
            "count": 1
           },
           {
            "name": "Student, full-time",
            "count": 1
           }
          ]
         }
        },
        {
         "name": "Country",
         "dtype": "object",
         "stats": {
          "unique_count": 3,
          "nan_count": 0,
          "categories": [
           {
            "name": "United States of America",
            "count": 3
           },
           {
            "name": "Germany",
            "count": 1
           },
           {
            "name": "Jordan",
            "count": 1
           }
          ]
         }
        },
        {
         "name": "US_State",
         "dtype": "object",
         "stats": {
          "unique_count": 3,
          "nan_count": 2,
          "categories": [
           {
            "name": "Colorado",
            "count": 1
           },
           {
            "name": "2 others",
            "count": 2
           },
           {
            "name": "Missing",
            "count": 2
           }
          ]
         }
        },
        {
         "name": "UK_Country",
         "dtype": "object",
         "stats": {
          "unique_count": 0,
          "nan_count": 5,
          "categories": [
           {
            "name": "Missing",
            "count": 5
           }
          ]
         }
        },
        {
         "name": "EdLevel",
         "dtype": "object",
         "stats": {
          "unique_count": 3,
          "nan_count": 0,
          "categories": [
           {
            "name": "Bachelor’s degree (B.A., B.S., B.Eng., etc.)",
            "count": 3
           },
           {
            "name": "Master’s degree (M.A., M.S., M.Eng., MBA, etc.)",
            "count": 1
           },
           {
            "name": "Primary/elementary school",
            "count": 1
           }
          ]
         }
        },
        {
         "name": "Age1stCode",
         "dtype": "object",
         "stats": {
          "unique_count": 3,
          "nan_count": 0,
          "categories": [
           {
            "name": "11 - 17 years",
            "count": 3
           },
           {
            "name": "18 - 24 years",
            "count": 1
           },
           {
            "name": "5 - 10 years",
            "count": 1
           }
          ]
         }
        },
        {
         "name": "LearnCode",
         "dtype": "object",
         "stats": {
          "unique_count": 4,
          "nan_count": 0,
          "categories": [
           {
            "name": "Other online resources (ex: videos, blogs, etc);School;Books / Physical media",
            "count": 2
           },
           {
            "name": "Online Forum;Books / Physical media",
            "count": 1
           },
           {
            "name": "2 others",
            "count": 2
           }
          ]
         }
        },
        {
         "name": "YearsCode",
         "dtype": "object",
         "stats": {
          "unique_count": 5,
          "nan_count": 0,
          "categories": [
           {
            "name": "20",
            "count": 1
           },
           {
            "name": "11",
            "count": 1
           },
           {
            "name": "3 others",
            "count": 3
           }
          ]
         }
        },
        {
         "name": "YearsCodePro",
         "dtype": "object",
         "stats": {
          "unique_count": 2,
          "nan_count": 2,
          "categories": [
           {
            "name": "8",
            "count": 2
           },
           {
            "name": "7",
            "count": 1
           },
           {
            "name": "Missing",
            "count": 2
           }
          ]
         }
        },
        {
         "name": "DevType",
         "dtype": "object",
         "stats": {
          "unique_count": 4,
          "nan_count": 1,
          "categories": [
           {
            "name": "Developer, mobile",
            "count": 1
           },
           {
            "name": "3 others",
            "count": 3
           },
           {
            "name": "Missing",
            "count": 1
           }
          ]
         }
        },
        {
         "name": "OrgSize",
         "dtype": "object",
         "stats": {
          "unique_count": 3,
          "nan_count": 2,
          "categories": [
           {
            "name": "5,000 to 9,999 employees",
            "count": 1
           },
           {
            "name": "2 others",
            "count": 2
           },
           {
            "name": "Missing",
            "count": 2
           }
          ]
         }
        },
        {
         "name": "Currency",
         "dtype": "object",
         "stats": {
          "unique_count": 2,
          "nan_count": 2,
          "categories": [
           {
            "name": "USD\tUnited States dollar",
            "count": 2
           },
           {
            "name": "EUR European Euro",
            "count": 1
           },
           {
            "name": "Missing",
            "count": 2
           }
          ]
         }
        },
        {
         "name": "CompTotal",
         "dtype": "float64",
         "stats": {
          "unique_count": 3,
          "nan_count": 2,
          "min": "75000.0",
          "max": "220000.0",
          "histogram": [
           {
            "bin_start": 75000,
            "bin_end": 89500,
            "count": 1
           },
           {
            "bin_start": 89500,
            "bin_end": 104000,
            "count": 0
           },
           {
            "bin_start": 104000,
            "bin_end": 118500,
            "count": 0
           },
           {
            "bin_start": 118500,
            "bin_end": 133000,
            "count": 0
           },
           {
            "bin_start": 133000,
            "bin_end": 147500,
            "count": 0
           },
           {
            "bin_start": 147500,
            "bin_end": 162000,
            "count": 0
           },
           {
            "bin_start": 162000,
            "bin_end": 176500,
            "count": 0
           },
           {
            "bin_start": 176500,
            "bin_end": 191000,
            "count": 1
           },
           {
            "bin_start": 191000,
            "bin_end": 205500,
            "count": 0
           },
           {
            "bin_start": 205500,
            "bin_end": 220000,
            "count": 1
           }
          ]
         }
        },
        {
         "name": "CompFreq",
         "dtype": "object",
         "stats": {
          "unique_count": 1,
          "nan_count": 2,
          "categories": [
           {
            "name": "Yearly",
            "count": 3
           },
           {
            "name": "Missing",
            "count": 2
           }
          ]
         }
        },
        {
         "name": "LanguageHaveWorkedWith",
         "dtype": "object",
         "stats": {
          "unique_count": 5,
          "nan_count": 0,
          "categories": [
           {
            "name": "Java;Kotlin;Rust",
            "count": 1
           },
           {
            "name": "Go;HTML/CSS;TypeScript",
            "count": 1
           },
           {
            "name": "3 others",
            "count": 3
           }
          ]
         }
        },
        {
         "name": "LanguageWantToWorkWith",
         "dtype": "object",
         "stats": {
          "unique_count": 5,
          "nan_count": 0,
          "categories": [
           {
            "name": "Kotlin;Rust",
            "count": 1
           },
           {
            "name": "C#;C++;Go;TypeScript",
            "count": 1
           },
           {
            "name": "3 others",
            "count": 3
           }
          ]
         }
        },
        {
         "name": "DatabaseHaveWorkedWith",
         "dtype": "object",
         "stats": {
          "unique_count": 4,
          "nan_count": 1,
          "categories": [
           {
            "name": "DynamoDB;PostgreSQL",
            "count": 1
           },
           {
            "name": "3 others",
            "count": 3
           },
           {
            "name": "Missing",
            "count": 1
           }
          ]
         }
        },
        {
         "name": "DatabaseWantToWorkWith",
         "dtype": "object",
         "stats": {
          "unique_count": 4,
          "nan_count": 1,
          "categories": [
           {
            "name": "DynamoDB;MySQL;PostgreSQL;Redis",
            "count": 1
           },
           {
            "name": "3 others",
            "count": 3
           },
           {
            "name": "Missing",
            "count": 1
           }
          ]
         }
        },
        {
         "name": "PlatformHaveWorkedWith",
         "dtype": "object",
         "stats": {
          "unique_count": 3,
          "nan_count": 1,
          "categories": [
           {
            "name": "AWS",
            "count": 2
           },
           {
            "name": "2 others",
            "count": 2
           },
           {
            "name": "Missing",
            "count": 1
           }
          ]
         }
        },
        {
         "name": "PlatformWantToWorkWith",
         "dtype": "object",
         "stats": {
          "unique_count": 4,
          "nan_count": 1,
          "categories": [
           {
            "name": "AWS;Google Cloud Platform;Heroku",
            "count": 1
           },
           {
            "name": "3 others",
            "count": 3
           },
           {
            "name": "Missing",
            "count": 1
           }
          ]
         }
        },
        {
         "name": "WebframeHaveWorkedWith",
         "dtype": "object",
         "stats": {
          "unique_count": 4,
          "nan_count": 1,
          "categories": [
           {
            "name": "React.js",
            "count": 1
           },
           {
            "name": "3 others",
            "count": 3
           },
           {
            "name": "Missing",
            "count": 1
           }
          ]
         }
        },
        {
         "name": "WebframeWantToWorkWith",
         "dtype": "object",
         "stats": {
          "unique_count": 4,
          "nan_count": 1,
          "categories": [
           {
            "name": "jQuery;React.js",
            "count": 1
           },
           {
            "name": "3 others",
            "count": 3
           },
           {
            "name": "Missing",
            "count": 1
           }
          ]
         }
        },
        {
         "name": "MiscTechHaveWorkedWith",
         "dtype": "object",
         "stats": {
          "unique_count": 1,
          "nan_count": 4,
          "categories": [
           {
            "name": ".NET Framework;.NET Core / .NET 5;Apache Spark;Cordova;Flutter;Keras;NumPy;React Native;TensorFlow;Torch/PyTorch",
            "count": 1
           },
           {
            "name": "Missing",
            "count": 4
           }
          ]
         }
        },
        {
         "name": "MiscTechWantToWorkWith",
         "dtype": "object",
         "stats": {
          "unique_count": 1,
          "nan_count": 4,
          "categories": [
           {
            "name": ".NET Framework;.NET Core / .NET 5;Apache Spark;Cordova;Flutter;Hadoop;Keras;NumPy;Pandas;Qt;React Native;TensorFlow;Torch/PyTorch",
            "count": 1
           },
           {
            "name": "Missing",
            "count": 4
           }
          ]
         }
        },
        {
         "name": "ToolsTechHaveWorkedWith",
         "dtype": "object",
         "stats": {
          "unique_count": 4,
          "nan_count": 0,
          "categories": [
           {
            "name": "Docker;Git",
            "count": 2
           },
           {
            "name": "Git;Terraform",
            "count": 1
           },
           {
            "name": "2 others",
            "count": 2
           }
          ]
         }
        },
        {
         "name": "ToolsTechWantToWorkWith",
         "dtype": "object",
         "stats": {
          "unique_count": 5,
          "nan_count": 0,
          "categories": [
           {
            "name": "Ansible;Docker;Git",
            "count": 1
           },
           {
            "name": "Docker;Git;Kubernetes;Terraform;Unity 3D;Unreal Engine",
            "count": 1
           },
           {
            "name": "3 others",
            "count": 3
           }
          ]
         }
        },
        {
         "name": "NEWCollabToolsHaveWorkedWith",
         "dtype": "object",
         "stats": {
          "unique_count": 5,
          "nan_count": 0,
          "categories": [
           {
            "name": "Android Studio;IntelliJ;Sublime Text;Vim",
            "count": 1
           },
           {
            "name": "Vim;Visual Studio Code",
            "count": 1
           },
           {
            "name": "3 others",
            "count": 3
           }
          ]
         }
        },
        {
         "name": "NEWCollabToolsWantToWorkWith",
         "dtype": "object",
         "stats": {
          "unique_count": 5,
          "nan_count": 0,
          "categories": [
           {
            "name": "Android Studio;IntelliJ;Sublime Text",
            "count": 1
           },
           {
            "name": "Vim;Visual Studio;Visual Studio Code",
            "count": 1
           },
           {
            "name": "3 others",
            "count": 3
           }
          ]
         }
        },
        {
         "name": "OpSys",
         "dtype": "object",
         "stats": {
          "unique_count": 4,
          "nan_count": 0,
          "categories": [
           {
            "name": "Windows",
            "count": 2
           },
           {
            "name": "Linux-based",
            "count": 1
           },
           {
            "name": "2 others",
            "count": 2
           }
          ]
         }
        },
        {
         "name": "NEWStuck",
         "dtype": "object",
         "stats": {
          "unique_count": 5,
          "nan_count": 0,
          "categories": [
           {
            "name": "Call a coworker or friend;Visit Stack Overflow;Go for a walk or other physical activity;Google it;Do other work and come back later",
            "count": 1
           },
           {
            "name": "Visit Stack Overflow;Google it;Watch help / tutorial videos",
            "count": 1
           },
           {
            "name": "3 others",
            "count": 3
           }
          ]
         }
        },
        {
         "name": "NEWSOSites",
         "dtype": "object",
         "stats": {
          "unique_count": 1,
          "nan_count": 0,
          "categories": [
           {
            "name": "Stack Overflow;Stack Exchange",
            "count": 5
           }
          ]
         }
        },
        {
         "name": "SOVisitFreq",
         "dtype": "object",
         "stats": {
          "unique_count": 2,
          "nan_count": 0,
          "categories": [
           {
            "name": "Daily or almost daily",
            "count": 4
           },
           {
            "name": "A few times per month or weekly",
            "count": 1
           }
          ]
         }
        },
        {
         "name": "SOAccount",
         "dtype": "object",
         "stats": {
          "unique_count": 2,
          "nan_count": 0,
          "categories": [
           {
            "name": "Yes",
            "count": 4
           },
           {
            "name": "No",
            "count": 1
           }
          ]
         }
        },
        {
         "name": "SOPartFreq",
         "dtype": "object",
         "stats": {
          "unique_count": 2,
          "nan_count": 1,
          "categories": [
           {
            "name": "Less than once per month or monthly",
            "count": 3
           },
           {
            "name": "A few times per month or weekly",
            "count": 1
           },
           {
            "name": "Missing",
            "count": 1
           }
          ]
         }
        },
        {
         "name": "SOComm",
         "dtype": "object",
         "stats": {
          "unique_count": 3,
          "nan_count": 0,
          "categories": [
           {
            "name": "Yes, somewhat",
            "count": 3
           },
           {
            "name": "No, not really",
            "count": 1
           },
           {
            "name": "Neutral",
            "count": 1
           }
          ]
         }
        },
        {
         "name": "NEWOtherComms",
         "dtype": "object",
         "stats": {
          "unique_count": 2,
          "nan_count": 0,
          "categories": [
           {
            "name": "No",
            "count": 3
           },
           {
            "name": "Yes",
            "count": 2
           }
          ]
         }
        },
        {
         "name": "Age",
         "dtype": "object",
         "stats": {
          "unique_count": 3,
          "nan_count": 0,
          "categories": [
           {
            "name": "25-34 years old",
            "count": 3
           },
           {
            "name": "35-44 years old",
            "count": 1
           },
           {
            "name": "Under 18 years old",
            "count": 1
           }
          ]
         }
        },
        {
         "name": "Gender",
         "dtype": "object",
         "stats": {
          "unique_count": 2,
          "nan_count": 0,
          "categories": [
           {
            "name": "Man",
            "count": 3
           },
           {
            "name": "Woman",
            "count": 2
           }
          ]
         }
        },
        {
         "name": "Trans",
         "dtype": "object",
         "stats": {
          "unique_count": 1,
          "nan_count": 0,
          "categories": [
           {
            "name": "No",
            "count": 5
           }
          ]
         }
        },
        {
         "name": "Sexuality",
         "dtype": "object",
         "stats": {
          "unique_count": 1,
          "nan_count": 0,
          "categories": [
           {
            "name": "Straight / Heterosexual",
            "count": 5
           }
          ]
         }
        },
        {
         "name": "Ethnicity",
         "dtype": "object",
         "stats": {
          "unique_count": 4,
          "nan_count": 0,
          "categories": [
           {
            "name": "White or of European descent",
            "count": 2
           },
           {
            "name": "Or, in your own words:",
            "count": 1
           },
           {
            "name": "2 others",
            "count": 2
           }
          ]
         }
        },
        {
         "name": "Accessibility",
         "dtype": "object",
         "stats": {
          "unique_count": 1,
          "nan_count": 1,
          "categories": [
           {
            "name": "None of the above",
            "count": 4
           },
           {
            "name": "Missing",
            "count": 1
           }
          ]
         }
        },
        {
         "name": "MentalHealth",
         "dtype": "object",
         "stats": {
          "unique_count": 2,
          "nan_count": 0,
          "categories": [
           {
            "name": "None of the above",
            "count": 4
           },
           {
            "name": "I have a mood or emotional disorder (e.g. depression, bipolar disorder)",
            "count": 1
           }
          ]
         }
        },
        {
         "name": "SurveyLength",
         "dtype": "object",
         "stats": {
          "unique_count": 2,
          "nan_count": 0,
          "categories": [
           {
            "name": "Appropriate in length",
            "count": 4
           },
           {
            "name": "Too short",
            "count": 1
           }
          ]
         }
        },
        {
         "name": "SurveyEase",
         "dtype": "object",
         "stats": {
          "unique_count": 1,
          "nan_count": 0,
          "categories": [
           {
            "name": "Easy",
            "count": 5
           }
          ]
         }
        },
        {
         "name": "ConvertedCompYearly",
         "dtype": "float64",
         "stats": {
          "unique_count": 3,
          "nan_count": 2,
          "min": "81074.0",
          "max": "220000.0",
          "histogram": [
           {
            "bin_start": 81074,
            "bin_end": 94966.6,
            "count": 1
           },
           {
            "bin_start": 94966.6,
            "bin_end": 108859.2,
            "count": 0
           },
           {
            "bin_start": 108859.2,
            "bin_end": 122751.8,
            "count": 0
           },
           {
            "bin_start": 122751.8,
            "bin_end": 136644.4,
            "count": 0
           },
           {
            "bin_start": 136644.4,
            "bin_end": 150537,
            "count": 0
           },
           {
            "bin_start": 150537,
            "bin_end": 164429.6,
            "count": 0
           },
           {
            "bin_start": 164429.6,
            "bin_end": 178322.2,
            "count": 1
           },
           {
            "bin_start": 178322.2,
            "bin_end": 192214.8,
            "count": 0
           },
           {
            "bin_start": 192214.8,
            "bin_end": 206107.40000000002,
            "count": 0
           },
           {
            "bin_start": 206107.40000000002,
            "bin_end": 220000,
            "count": 1
           }
          ]
         }
        },
        {
         "name": "_deepnote_index_column",
         "dtype": "int64"
        }
       ],
       "rows": [
        {
         "ResponseId": 52000,
         "MainBranch": "I am a developer by profession",
         "Employment": "Employed full-time",
         "Country": "United States of America",
         "US_State": "Colorado",
         "UK_Country": "nan",
         "EdLevel": "Bachelor’s degree (B.A., B.S., B.Eng., etc.)",
         "Age1stCode": "11 - 17 years",
         "LearnCode": "Other online resources (ex: videos, blogs, etc);School;Books / Physical media",
         "YearsCode": "20",
         "YearsCodePro": "8",
         "DevType": "Developer, mobile",
         "OrgSize": "5,000 to 9,999 employees",
         "Currency": "USD\tUnited States dollar",
         "CompTotal": 220000,
         "CompFreq": "Yearly",
         "LanguageHaveWorkedWith": "Java;Kotlin;Rust",
         "LanguageWantToWorkWith": "Kotlin;Rust",
         "DatabaseHaveWorkedWith": "nan",
         "DatabaseWantToWorkWith": "nan",
         "PlatformHaveWorkedWith": "nan",
         "PlatformWantToWorkWith": "nan",
         "WebframeHaveWorkedWith": "nan",
         "WebframeWantToWorkWith": "nan",
         "MiscTechHaveWorkedWith": "nan",
         "MiscTechWantToWorkWith": "nan",
         "ToolsTechHaveWorkedWith": "Docker;Git",
         "ToolsTechWantToWorkWith": "Ansible;Docker;Git",
         "NEWCollabToolsHaveWorkedWith": "Android Studio;IntelliJ;Sublime Text;Vim",
         "NEWCollabToolsWantToWorkWith": "Android Studio;IntelliJ;Sublime Text",
         "OpSys": "Linux-based",
         "NEWStuck": "Call a coworker or friend;Visit Stack Overflow;Go for a walk or other physical activity;Google it;D…",
         "NEWSOSites": "Stack Overflow;Stack Exchange",
         "SOVisitFreq": "A few times per month or weekly",
         "SOAccount": "Yes",
         "SOPartFreq": "Less than once per month or monthly",
         "SOComm": "No, not really",
         "NEWOtherComms": "Yes",
         "Age": "25-34 years old",
         "Gender": "Man",
         "Trans": "No",
         "Sexuality": "Straight / Heterosexual",
         "Ethnicity": "Or, in your own words:",
         "Accessibility": "nan",
         "MentalHealth": "I have a mood or emotional disorder (e.g. depression, bipolar disorder)",
         "SurveyLength": "Appropriate in length",
         "SurveyEase": "Easy",
         "ConvertedCompYearly": 220000,
         "_deepnote_index_column": 51999
        },
        {
         "ResponseId": 62857,
         "MainBranch": "I am a developer by profession",
         "Employment": "Employed full-time",
         "Country": "United States of America",
         "US_State": "California",
         "UK_Country": "nan",
         "EdLevel": "Bachelor’s degree (B.A., B.S., B.Eng., etc.)",
         "Age1stCode": "11 - 17 years",
         "LearnCode": "Other online resources (ex: videos, blogs, etc);School;Books / Physical media",
         "YearsCode": "11",
         "YearsCodePro": "7",
         "DevType": "Developer, full-stack;Developer, back-end",
         "OrgSize": "1,000 to 4,999 employees",
         "Currency": "USD\tUnited States dollar",
         "CompTotal": 178000,
         "CompFreq": "Yearly",
         "LanguageHaveWorkedWith": "Go;HTML/CSS;TypeScript",
         "LanguageWantToWorkWith": "C#;C++;Go;TypeScript",
         "DatabaseHaveWorkedWith": "DynamoDB;PostgreSQL",
         "DatabaseWantToWorkWith": "DynamoDB;MySQL;PostgreSQL;Redis",
         "PlatformHaveWorkedWith": "AWS",
         "PlatformWantToWorkWith": "AWS;Google Cloud Platform;Heroku",
         "WebframeHaveWorkedWith": "React.js",
         "WebframeWantToWorkWith": "jQuery;React.js",
         "MiscTechHaveWorkedWith": "nan",
         "MiscTechWantToWorkWith": "nan",
         "ToolsTechHaveWorkedWith": "Docker;Git",
         "ToolsTechWantToWorkWith": "Docker;Git;Kubernetes;Terraform;Unity 3D;Unreal Engine",
         "NEWCollabToolsHaveWorkedWith": "Vim;Visual Studio Code",
         "NEWCollabToolsWantToWorkWith": "Vim;Visual Studio;Visual Studio Code",
         "OpSys": "MacOS",
         "NEWStuck": "Visit Stack Overflow;Google it;Watch help / tutorial videos",
         "NEWSOSites": "Stack Overflow;Stack Exchange",
         "SOVisitFreq": "Daily or almost daily",
         "SOAccount": "No",
         "SOPartFreq": "nan",
         "SOComm": "Neutral",
         "NEWOtherComms": "No",
         "Age": "25-34 years old",
         "Gender": "Woman",
         "Trans": "No",
         "Sexuality": "Straight / Heterosexual",
         "Ethnicity": "East Asian",
         "Accessibility": "None of the above",
         "MentalHealth": "None of the above",
         "SurveyLength": "Appropriate in length",
         "SurveyEase": "Easy",
         "ConvertedCompYearly": 178000,
         "_deepnote_index_column": 62856
        },
        {
         "ResponseId": 77054,
         "MainBranch": "I am a developer by profession",
         "Employment": "Employed full-time",
         "Country": "Germany",
         "US_State": "nan",
         "UK_Country": "nan",
         "EdLevel": "Master’s degree (M.A., M.S., M.Eng., MBA, etc.)",
         "Age1stCode": "11 - 17 years",
         "LearnCode": "Online Forum;Books / Physical media",
         "YearsCode": "15",
         "YearsCodePro": "8",
         "DevType": "Developer, back-end;DevOps specialist",
         "OrgSize": "100 to 499 employees",
         "Currency": "EUR European Euro",
         "CompTotal": 75000,
         "CompFreq": "Yearly",
         "LanguageHaveWorkedWith": "Java;JavaScript;Node.js",
         "LanguageWantToWorkWith": "Java;JavaScript;Node.js;Rust",
         "DatabaseHaveWorkedWith": "DynamoDB;MySQL",
         "DatabaseWantToWorkWith": "DynamoDB",
         "PlatformHaveWorkedWith": "AWS",
         "PlatformWantToWorkWith": "AWS",
         "WebframeHaveWorkedWith": "Gatsby;React.js",
         "WebframeWantToWorkWith": "Gatsby;React.js",
         "MiscTechHaveWorkedWith": "nan",
         "MiscTechWantToWorkWith": "nan",
         "ToolsTechHaveWorkedWith": "Git;Terraform",
         "ToolsTechWantToWorkWith": "Git;Terraform",
         "NEWCollabToolsHaveWorkedWith": "IntelliJ;Visual Studio Code",
         "NEWCollabToolsWantToWorkWith": "IntelliJ;Visual Studio Code",
         "OpSys": "Windows",
         "NEWStuck": "Call a coworker or friend;Visit Stack Overflow;Google it;Do other work and come back later",
         "NEWSOSites": "Stack Overflow;Stack Exchange",
         "SOVisitFreq": "Daily or almost daily",
         "SOAccount": "Yes",
         "SOPartFreq": "Less than once per month or monthly",
         "SOComm": "Yes, somewhat",
         "NEWOtherComms": "No",
         "Age": "35-44 years old",
         "Gender": "Man",
         "Trans": "No",
         "Sexuality": "Straight / Heterosexual",
         "Ethnicity": "White or of European descent",
         "Accessibility": "None of the above",
         "MentalHealth": "None of the above",
         "SurveyLength": "Too short",
         "SurveyEase": "Easy",
         "ConvertedCompYearly": 81074,
         "_deepnote_index_column": 77053
        },
        {
         "ResponseId": 41458,
         "MainBranch": "I am a student who is learning to code",
         "Employment": "Independent contractor, freelancer, or self-employed",
         "Country": "United States of America",
         "US_State": "Indiana",
         "UK_Country": "nan",
         "EdLevel": "Bachelor’s degree (B.A., B.S., B.Eng., etc.)",
         "Age1stCode": "18 - 24 years",
         "LearnCode": "Coding Bootcamp;Other online resources (ex: videos, blogs, etc);School;Online Forum;Online Courses …",
         "YearsCode": "10",
         "YearsCodePro": "nan",
         "DevType": "Developer, full-stack;Database administrator;Student;Data or business analyst",
         "OrgSize": "nan",
         "Currency": "nan",
         "CompTotal": "nan",
         "CompFreq": "nan",
         "LanguageHaveWorkedWith": "Assembly;Bash/Shell;C#;C++;Dart;Elixir;Erlang;F#;Go;HTML/CSS;Java;JavaScript;Kotlin;LISP;Matlab;Nod…",
         "LanguageWantToWorkWith": "APL;Assembly;Bash/Shell;C;C#;C++;Clojure;COBOL;Crystal;Dart;Delphi;Elixir;Erlang;Go;Groovy;Haskell;…",
         "DatabaseHaveWorkedWith": "Cassandra;Couchbase;DynamoDB;Elasticsearch;Firebase;MariaDB;Microsoft SQL Server;MongoDB;MySQL;Orac…",
         "DatabaseWantToWorkWith": "Cassandra;Couchbase;DynamoDB;Elasticsearch;Firebase;IBM DB2;MariaDB;Microsoft SQL Server;MongoDB;My…",
         "PlatformHaveWorkedWith": "AWS;Google Cloud Platform;Heroku;Microsoft Azure",
         "PlatformWantToWorkWith": "AWS;DigitalOcean;Google Cloud Platform;Heroku;IBM Cloud or Watson;Microsoft Azure;Oracle Cloud Infr…",
         "WebframeHaveWorkedWith": "Angular;Angular.js;ASP.NET;ASP.NET Core ;Drupal;Flask;Gatsby;jQuery;Laravel;React.js;Ruby on Rails;…",
         "WebframeWantToWorkWith": "Angular;Angular.js;ASP.NET;ASP.NET Core ;Django;Drupal;Express;FastAPI;Flask;Gatsby;jQuery;Laravel;…",
         "MiscTechHaveWorkedWith": ".NET Framework;.NET Core / .NET 5;Apache Spark;Cordova;Flutter;Keras;NumPy;React Native;TensorFlow;…",
         "MiscTechWantToWorkWith": ".NET Framework;.NET Core / .NET 5;Apache Spark;Cordova;Flutter;Hadoop;Keras;NumPy;Pandas;Qt;React N…",
         "ToolsTechHaveWorkedWith": "Ansible;Docker;Flow;Git;Kubernetes;Terraform;Unity 3D;Unreal Engine;Xamarin;Yarn",
         "ToolsTechWantToWorkWith": "Ansible;Chef;Deno;Docker;Flow;Git;Kubernetes;Pulumi;Puppet;Terraform;Unity 3D;Unreal Engine;Xamarin…",
         "NEWCollabToolsHaveWorkedWith": "Android Studio;Atom;Eclipse;IntelliJ;IPython/Jupyter;Neovim;Notepad++;PHPStorm;PyCharm;RubyMine;Sub…",
         "NEWCollabToolsWantToWorkWith": "Android Studio;Atom;Eclipse;Emacs;IntelliJ;IPython/Jupyter;NetBeans;Neovim;Notepad++;PHPStorm;PyCha…",
         "OpSys": "Other (please specify):",
         "NEWStuck": "Visit Stack Overflow;Google it;Watch help / tutorial videos;Do other work and come back later;Visit…",
         "NEWSOSites": "Stack Overflow;Stack Exchange",
         "SOVisitFreq": "Daily or almost daily",
         "SOAccount": "Yes",
         "SOPartFreq": "A few times per month or weekly",
         "SOComm": "Yes, somewhat",
         "NEWOtherComms": "Yes",
         "Age": "25-34 years old",
         "Gender": "Woman",
         "Trans": "No",
         "Sexuality": "Straight / Heterosexual",
         "Ethnicity": "White or of European descent",
         "Accessibility": "None of the above",
         "MentalHealth": "None of the above",
         "SurveyLength": "Appropriate in length",
         "SurveyEase": "Easy",
         "ConvertedCompYearly": "nan",
         "_deepnote_index_column": 41457
        },
        {
         "ResponseId": 40431,
         "MainBranch": "I code primarily as a hobby",
         "Employment": "Student, full-time",
         "Country": "Jordan",
         "US_State": "nan",
         "UK_Country": "nan",
         "EdLevel": "Primary/elementary school",
         "Age1stCode": "5 - 10 years",
         "LearnCode": "Coding Bootcamp;Friend or family member;Online Courses or Certification;Books / Physical media",
         "YearsCode": "3",
         "YearsCodePro": "nan",
         "DevType": "nan",
         "OrgSize": "nan",
         "Currency": "nan",
         "CompTotal": "nan",
         "CompFreq": "nan",
         "LanguageHaveWorkedWith": "HTML/CSS;JavaScript;Node.js;PHP;Python;SQL",
         "LanguageWantToWorkWith": "C++;HTML/CSS;Java;JavaScript;Node.js;Python;SQL;Swift;TypeScript",
         "DatabaseHaveWorkedWith": "MongoDB;MySQL",
         "DatabaseWantToWorkWith": "MongoDB;MySQL",
         "PlatformHaveWorkedWith": "Heroku",
         "PlatformWantToWorkWith": "AWS;Google Cloud Platform;Heroku;Microsoft Azure",
         "WebframeHaveWorkedWith": "Express;jQuery;Laravel;React.js",
         "WebframeWantToWorkWith": "Angular;Angular.js;Django;Express;React.js",
         "MiscTechHaveWorkedWith": "nan",
         "MiscTechWantToWorkWith": "nan",
         "ToolsTechHaveWorkedWith": "Git",
         "ToolsTechWantToWorkWith": "Git",
         "NEWCollabToolsHaveWorkedWith": "Atom;Notepad++;Sublime Text;Visual Studio Code",
         "NEWCollabToolsWantToWorkWith": "Visual Studio Code",
         "OpSys": "Windows",
         "NEWStuck": "Visit Stack Overflow;Google it;Watch help / tutorial videos;Do other work and come back later",
         "NEWSOSites": "Stack Overflow;Stack Exchange",
         "SOVisitFreq": "Daily or almost daily",
         "SOAccount": "Yes",
         "SOPartFreq": "Less than once per month or monthly",
         "SOComm": "Yes, somewhat",
         "NEWOtherComms": "No",
         "Age": "Under 18 years old",
         "Gender": "Man",
         "Trans": "No",
         "Sexuality": "Straight / Heterosexual",
         "Ethnicity": "Middle Eastern",
         "Accessibility": "None of the above",
         "MentalHealth": "None of the above",
         "SurveyLength": "Appropriate in length",
         "SurveyEase": "Easy",
         "ConvertedCompYearly": "nan",
         "_deepnote_index_column": 40430
        }
       ]
      },
      "text/plain": "       ResponseId                              MainBranch  \\\n51999       52000          I am a developer by profession   \n62856       62857          I am a developer by profession   \n77053       77054          I am a developer by profession   \n41457       41458  I am a student who is learning to code   \n40430       40431             I code primarily as a hobby   \n\n                                              Employment  \\\n51999                                 Employed full-time   \n62856                                 Employed full-time   \n77053                                 Employed full-time   \n41457  Independent contractor, freelancer, or self-em...   \n40430                                 Student, full-time   \n\n                        Country    US_State UK_Country  \\\n51999  United States of America    Colorado        NaN   \n62856  United States of America  California        NaN   \n77053                   Germany         NaN        NaN   \n41457  United States of America     Indiana        NaN   \n40430                    Jordan         NaN        NaN   \n\n                                               EdLevel     Age1stCode  \\\n51999     Bachelor’s degree (B.A., B.S., B.Eng., etc.)  11 - 17 years   \n62856     Bachelor’s degree (B.A., B.S., B.Eng., etc.)  11 - 17 years   \n77053  Master’s degree (M.A., M.S., M.Eng., MBA, etc.)  11 - 17 years   \n41457     Bachelor’s degree (B.A., B.S., B.Eng., etc.)  18 - 24 years   \n40430                        Primary/elementary school   5 - 10 years   \n\n                                               LearnCode YearsCode  ...  \\\n51999  Other online resources (ex: videos, blogs, etc...        20  ...   \n62856  Other online resources (ex: videos, blogs, etc...        11  ...   \n77053                Online Forum;Books / Physical media        15  ...   \n41457  Coding Bootcamp;Other online resources (ex: vi...        10  ...   \n40430  Coding Bootcamp;Friend or family member;Online...         3  ...   \n\n                      Age Gender Trans                Sexuality  \\\n51999     25-34 years old    Man    No  Straight / Heterosexual   \n62856     25-34 years old  Woman    No  Straight / Heterosexual   \n77053     35-44 years old    Man    No  Straight / Heterosexual   \n41457     25-34 years old  Woman    No  Straight / Heterosexual   \n40430  Under 18 years old    Man    No  Straight / Heterosexual   \n\n                          Ethnicity      Accessibility  \\\n51999        Or, in your own words:                NaN   \n62856                    East Asian  None of the above   \n77053  White or of European descent  None of the above   \n41457  White or of European descent  None of the above   \n40430                Middle Eastern  None of the above   \n\n                                            MentalHealth  \\\n51999  I have a mood or emotional disorder (e.g. depr...   \n62856                                  None of the above   \n77053                                  None of the above   \n41457                                  None of the above   \n40430                                  None of the above   \n\n                SurveyLength SurveyEase ConvertedCompYearly  \n51999  Appropriate in length       Easy            220000.0  \n62856  Appropriate in length       Easy            178000.0  \n77053              Too short       Easy             81074.0  \n41457  Appropriate in length       Easy                 NaN  \n40430  Appropriate in length       Easy                 NaN  \n\n[5 rows x 48 columns]",
      "text/html": "<div>\n<style scoped>\n    .dataframe tbody tr th:only-of-type {\n        vertical-align: middle;\n    }\n\n    .dataframe tbody tr th {\n        vertical-align: top;\n    }\n\n    .dataframe thead th {\n        text-align: right;\n    }\n</style>\n<table border=\"1\" class=\"dataframe\">\n  <thead>\n    <tr style=\"text-align: right;\">\n      <th></th>\n      <th>ResponseId</th>\n      <th>MainBranch</th>\n      <th>Employment</th>\n      <th>Country</th>\n      <th>US_State</th>\n      <th>UK_Country</th>\n      <th>EdLevel</th>\n      <th>Age1stCode</th>\n      <th>LearnCode</th>\n      <th>YearsCode</th>\n      <th>...</th>\n      <th>Age</th>\n      <th>Gender</th>\n      <th>Trans</th>\n      <th>Sexuality</th>\n      <th>Ethnicity</th>\n      <th>Accessibility</th>\n      <th>MentalHealth</th>\n      <th>SurveyLength</th>\n      <th>SurveyEase</th>\n      <th>ConvertedCompYearly</th>\n    </tr>\n  </thead>\n  <tbody>\n    <tr>\n      <th>51999</th>\n      <td>52000</td>\n      <td>I am a developer by profession</td>\n      <td>Employed full-time</td>\n      <td>United States of America</td>\n      <td>Colorado</td>\n      <td>NaN</td>\n      <td>Bachelor’s degree (B.A., B.S., B.Eng., etc.)</td>\n      <td>11 - 17 years</td>\n      <td>Other online resources (ex: videos, blogs, etc...</td>\n      <td>20</td>\n      <td>...</td>\n      <td>25-34 years old</td>\n      <td>Man</td>\n      <td>No</td>\n      <td>Straight / Heterosexual</td>\n      <td>Or, in your own words:</td>\n      <td>NaN</td>\n      <td>I have a mood or emotional disorder (e.g. depr...</td>\n      <td>Appropriate in length</td>\n      <td>Easy</td>\n      <td>220000.0</td>\n    </tr>\n    <tr>\n      <th>62856</th>\n      <td>62857</td>\n      <td>I am a developer by profession</td>\n      <td>Employed full-time</td>\n      <td>United States of America</td>\n      <td>California</td>\n      <td>NaN</td>\n      <td>Bachelor’s degree (B.A., B.S., B.Eng., etc.)</td>\n      <td>11 - 17 years</td>\n      <td>Other online resources (ex: videos, blogs, etc...</td>\n      <td>11</td>\n      <td>...</td>\n      <td>25-34 years old</td>\n      <td>Woman</td>\n      <td>No</td>\n      <td>Straight / Heterosexual</td>\n      <td>East Asian</td>\n      <td>None of the above</td>\n      <td>None of the above</td>\n      <td>Appropriate in length</td>\n      <td>Easy</td>\n      <td>178000.0</td>\n    </tr>\n    <tr>\n      <th>77053</th>\n      <td>77054</td>\n      <td>I am a developer by profession</td>\n      <td>Employed full-time</td>\n      <td>Germany</td>\n      <td>NaN</td>\n      <td>NaN</td>\n      <td>Master’s degree (M.A., M.S., M.Eng., MBA, etc.)</td>\n      <td>11 - 17 years</td>\n      <td>Online Forum;Books / Physical media</td>\n      <td>15</td>\n      <td>...</td>\n      <td>35-44 years old</td>\n      <td>Man</td>\n      <td>No</td>\n      <td>Straight / Heterosexual</td>\n      <td>White or of European descent</td>\n      <td>None of the above</td>\n      <td>None of the above</td>\n      <td>Too short</td>\n      <td>Easy</td>\n      <td>81074.0</td>\n    </tr>\n    <tr>\n      <th>41457</th>\n      <td>41458</td>\n      <td>I am a student who is learning to code</td>\n      <td>Independent contractor, freelancer, or self-em...</td>\n      <td>United States of America</td>\n      <td>Indiana</td>\n      <td>NaN</td>\n      <td>Bachelor’s degree (B.A., B.S., B.Eng., etc.)</td>\n      <td>18 - 24 years</td>\n      <td>Coding Bootcamp;Other online resources (ex: vi...</td>\n      <td>10</td>\n      <td>...</td>\n      <td>25-34 years old</td>\n      <td>Woman</td>\n      <td>No</td>\n      <td>Straight / Heterosexual</td>\n      <td>White or of European descent</td>\n      <td>None of the above</td>\n      <td>None of the above</td>\n      <td>Appropriate in length</td>\n      <td>Easy</td>\n      <td>NaN</td>\n    </tr>\n    <tr>\n      <th>40430</th>\n      <td>40431</td>\n      <td>I code primarily as a hobby</td>\n      <td>Student, full-time</td>\n      <td>Jordan</td>\n      <td>NaN</td>\n      <td>NaN</td>\n      <td>Primary/elementary school</td>\n      <td>5 - 10 years</td>\n      <td>Coding Bootcamp;Friend or family member;Online...</td>\n      <td>3</td>\n      <td>...</td>\n      <td>Under 18 years old</td>\n      <td>Man</td>\n      <td>No</td>\n      <td>Straight / Heterosexual</td>\n      <td>Middle Eastern</td>\n      <td>None of the above</td>\n      <td>None of the above</td>\n      <td>Appropriate in length</td>\n      <td>Easy</td>\n      <td>NaN</td>\n    </tr>\n  </tbody>\n</table>\n<p>5 rows × 48 columns</p>\n</div>"
     },
     "metadata": {}
    }
   ]
  },
  {
   "cell_type": "markdown",
   "source": "Seleccionar las columnas que pueden ayudar a contestar las preguntas. Y también los países hispanohablantes para filtrar la data (también se incluyó a Brasil).",
   "metadata": {
    "cell_id": "560413b1-9f1c-4445-bc54-dede3316235e",
    "tags": [],
    "deepnote_cell_type": "markdown"
   }
  },
  {
   "cell_type": "code",
   "metadata": {
    "cell_id": "ad6bc086-52e3-45b5-9e56-1fef3e644e22",
    "tags": [],
    "deepnote_to_be_reexecuted": false,
    "source_hash": "353ce130",
    "execution_start": 1645579381960,
    "execution_millis": 26,
    "deepnote_cell_type": "code"
   },
   "source": "# Select columns\ncolumns = ['ResponseId', 'Age', 'Gender', 'Trans', 'Sexuality', 'Country',\n            'EdLevel', 'Age1stCode', 'LearnCode', 'YearsCode', 'YearsCodePro',\n            'MainBranch', 'Employment', 'DevType', 'ConvertedCompYearly']\n\n# Filter registers by countries\nlatam = ['Peru', 'Colombia', 'Chile', 'Argentina', 'Costa Rica', 'Bolivia',\n            'Uruguay', 'Mexico', 'Venezuela, Bolivarian Republic of...'\n            'Dominican Republic', 'Ecuador', 'Guatemala', 'Paraguay', 'Panama',\n            'El Salvador', 'Nicaragua', 'Brazil', 'Spain']\n\n# New dataset\nin_latam = df_survey.Country.isin(latam)\ndf = df_survey[in_latam][columns]",
   "execution_count": 5,
   "outputs": []
  },
  {
   "cell_type": "code",
   "metadata": {
    "cell_id": "49fdfe8a-344a-44bb-ab16-01603888694d",
    "tags": [],
    "deepnote_to_be_reexecuted": false,
    "source_hash": "48bf3b4d",
    "execution_start": 1645579381991,
    "execution_millis": 23,
    "deepnote_cell_type": "code"
   },
   "source": "s = df.shape\np = s[0] / df_survey.shape[0] * 100\nprint(f'Registros: {s[0]}')\nprint(f'Porcentaje total del dataset: {round(p,2)}%')\nprint(f'Preguntas: {s[1]}')",
   "execution_count": 6,
   "outputs": [
    {
     "name": "stdout",
     "text": "Registros: 6337\nPorcentaje total del dataset: 7.59%\nPreguntas: 15\n",
     "output_type": "stream"
    }
   ]
  },
  {
   "cell_type": "markdown",
   "source": "## EDA",
   "metadata": {
    "cell_id": "8c06f8bc-81b6-497c-9e15-906ac7dccd9c",
    "tags": [],
    "deepnote_cell_type": "markdown"
   }
  },
  {
   "cell_type": "code",
   "metadata": {
    "cell_id": "16ee751e-5197-4c1e-9470-e73178fb5fe7",
    "tags": [],
    "deepnote_to_be_reexecuted": false,
    "source_hash": "de1e323c",
    "execution_start": 1645579382016,
    "execution_millis": 38,
    "deepnote_cell_type": "code"
   },
   "source": "df.info()",
   "execution_count": 7,
   "outputs": [
    {
     "name": "stdout",
     "text": "<class 'pandas.core.frame.DataFrame'>\nInt64Index: 6337 entries, 11 to 83438\nData columns (total 15 columns):\n #   Column               Non-Null Count  Dtype  \n---  ------               --------------  -----  \n 0   ResponseId           6337 non-null   int64  \n 1   Age                  6307 non-null   object \n 2   Gender               6305 non-null   object \n 3   Trans                6244 non-null   object \n 4   Sexuality            5885 non-null   object \n 5   Country              6337 non-null   object \n 6   EdLevel              6322 non-null   object \n 7   Age1stCode           6330 non-null   object \n 8   LearnCode            6316 non-null   object \n 9   YearsCode            6254 non-null   object \n 10  YearsCodePro         5160 non-null   object \n 11  MainBranch           6337 non-null   object \n 12  Employment           6335 non-null   object \n 13  DevType              5554 non-null   object \n 14  ConvertedCompYearly  4389 non-null   float64\ndtypes: float64(1), int64(1), object(13)\nmemory usage: 792.1+ KB\n",
     "output_type": "stream"
    }
   ]
  },
  {
   "cell_type": "code",
   "metadata": {
    "cell_id": "53827ed4-8dba-488e-a0c1-3fe976d55865",
    "tags": [],
    "deepnote_to_be_reexecuted": false,
    "source_hash": "b1cecf2d",
    "execution_start": 1645579382055,
    "execution_millis": 222,
    "deepnote_cell_type": "code"
   },
   "source": "df.describe(include='all')",
   "execution_count": 8,
   "outputs": [
    {
     "output_type": "execute_result",
     "execution_count": 8,
     "data": {
      "application/vnd.deepnote.dataframe.v3+json": {
       "column_count": 15,
       "row_count": 11,
       "columns": [
        {
         "name": "ResponseId",
         "dtype": "float64",
         "stats": {
          "unique_count": 8,
          "nan_count": 3,
          "min": "12.0",
          "max": "83439.0",
          "histogram": [
           {
            "bin_start": 12,
            "bin_end": 8354.7,
            "count": 2
           },
           {
            "bin_start": 8354.7,
            "bin_end": 16697.4,
            "count": 0
           },
           {
            "bin_start": 16697.4,
            "bin_end": 25040.100000000002,
            "count": 1
           },
           {
            "bin_start": 25040.100000000002,
            "bin_end": 33382.8,
            "count": 1
           },
           {
            "bin_start": 33382.8,
            "bin_end": 41725.5,
            "count": 1
           },
           {
            "bin_start": 41725.5,
            "bin_end": 50068.200000000004,
            "count": 1
           },
           {
            "bin_start": 50068.200000000004,
            "bin_end": 58410.90000000001,
            "count": 0
           },
           {
            "bin_start": 58410.90000000001,
            "bin_end": 66753.6,
            "count": 1
           },
           {
            "bin_start": 66753.6,
            "bin_end": 75096.3,
            "count": 0
           },
           {
            "bin_start": 75096.3,
            "bin_end": 83439,
            "count": 1
           }
          ]
         }
        },
        {
         "name": "Age",
         "dtype": "object",
         "stats": {
          "unique_count": 4,
          "nan_count": 7,
          "categories": [
           {
            "name": "6307",
            "count": 1
           },
           {
            "name": "3 others",
            "count": 3
           },
           {
            "name": "Missing",
            "count": 7
           }
          ]
         }
        },
        {
         "name": "Gender",
         "dtype": "object",
         "stats": {
          "unique_count": 4,
          "nan_count": 7,
          "categories": [
           {
            "name": "6305",
            "count": 1
           },
           {
            "name": "3 others",
            "count": 3
           },
           {
            "name": "Missing",
            "count": 7
           }
          ]
         }
        },
        {
         "name": "Trans",
         "dtype": "object",
         "stats": {
          "unique_count": 4,
          "nan_count": 7,
          "categories": [
           {
            "name": "6244",
            "count": 1
           },
           {
            "name": "3 others",
            "count": 3
           },
           {
            "name": "Missing",
            "count": 7
           }
          ]
         }
        },
        {
         "name": "Sexuality",
         "dtype": "object",
         "stats": {
          "unique_count": 4,
          "nan_count": 7,
          "categories": [
           {
            "name": "5885",
            "count": 1
           },
           {
            "name": "3 others",
            "count": 3
           },
           {
            "name": "Missing",
            "count": 7
           }
          ]
         }
        },
        {
         "name": "Country",
         "dtype": "object",
         "stats": {
          "unique_count": 4,
          "nan_count": 7,
          "categories": [
           {
            "name": "6337",
            "count": 1
           },
           {
            "name": "3 others",
            "count": 3
           },
           {
            "name": "Missing",
            "count": 7
           }
          ]
         }
        },
        {
         "name": "EdLevel",
         "dtype": "object",
         "stats": {
          "unique_count": 4,
          "nan_count": 7,
          "categories": [
           {
            "name": "6322",
            "count": 1
           },
           {
            "name": "3 others",
            "count": 3
           },
           {
            "name": "Missing",
            "count": 7
           }
          ]
         }
        },
        {
         "name": "Age1stCode",
         "dtype": "object",
         "stats": {
          "unique_count": 4,
          "nan_count": 7,
          "categories": [
           {
            "name": "6330",
            "count": 1
           },
           {
            "name": "3 others",
            "count": 3
           },
           {
            "name": "Missing",
            "count": 7
           }
          ]
         }
        },
        {
         "name": "LearnCode",
         "dtype": "object",
         "stats": {
          "unique_count": 4,
          "nan_count": 7,
          "categories": [
           {
            "name": "6316",
            "count": 1
           },
           {
            "name": "3 others",
            "count": 3
           },
           {
            "name": "Missing",
            "count": 7
           }
          ]
         }
        },
        {
         "name": "YearsCode",
         "dtype": "object",
         "stats": {
          "unique_count": 4,
          "nan_count": 7,
          "categories": [
           {
            "name": "6254",
            "count": 1
           },
           {
            "name": "3 others",
            "count": 3
           },
           {
            "name": "Missing",
            "count": 7
           }
          ]
         }
        },
        {
         "name": "YearsCodePro",
         "dtype": "object",
         "stats": {
          "unique_count": 4,
          "nan_count": 7,
          "categories": [
           {
            "name": "5160",
            "count": 1
           },
           {
            "name": "3 others",
            "count": 3
           },
           {
            "name": "Missing",
            "count": 7
           }
          ]
         }
        },
        {
         "name": "MainBranch",
         "dtype": "object",
         "stats": {
          "unique_count": 4,
          "nan_count": 7,
          "categories": [
           {
            "name": "6337",
            "count": 1
           },
           {
            "name": "3 others",
            "count": 3
           },
           {
            "name": "Missing",
            "count": 7
           }
          ]
         }
        },
        {
         "name": "Employment",
         "dtype": "object",
         "stats": {
          "unique_count": 4,
          "nan_count": 7,
          "categories": [
           {
            "name": "6335",
            "count": 1
           },
           {
            "name": "3 others",
            "count": 3
           },
           {
            "name": "Missing",
            "count": 7
           }
          ]
         }
        },
        {
         "name": "DevType",
         "dtype": "object",
         "stats": {
          "unique_count": 4,
          "nan_count": 7,
          "categories": [
           {
            "name": "5554",
            "count": 1
           },
           {
            "name": "3 others",
            "count": 3
           },
           {
            "name": "Missing",
            "count": 7
           }
          ]
         }
        },
        {
         "name": "ConvertedCompYearly",
         "dtype": "float64",
         "stats": {
          "unique_count": 8,
          "nan_count": 3,
          "min": "12.0",
          "max": "4656132.0",
          "histogram": [
           {
            "bin_start": 12,
            "bin_end": 465624,
            "count": 7
           },
           {
            "bin_start": 465624,
            "bin_end": 931236,
            "count": 0
           },
           {
            "bin_start": 931236,
            "bin_end": 1396848,
            "count": 0
           },
           {
            "bin_start": 1396848,
            "bin_end": 1862460,
            "count": 0
           },
           {
            "bin_start": 1862460,
            "bin_end": 2328072,
            "count": 0
           },
           {
            "bin_start": 2328072,
            "bin_end": 2793684,
            "count": 0
           },
           {
            "bin_start": 2793684,
            "bin_end": 3259296,
            "count": 0
           },
           {
            "bin_start": 3259296,
            "bin_end": 3724908,
            "count": 0
           },
           {
            "bin_start": 3724908,
            "bin_end": 4190520,
            "count": 0
           },
           {
            "bin_start": 4190520,
            "bin_end": 4656132,
            "count": 1
           }
          ]
         }
        },
        {
         "name": "_deepnote_index_column",
         "dtype": "object"
        }
       ],
       "rows": [
        {
         "ResponseId": 6337,
         "Age": "6307",
         "Gender": "6305",
         "Trans": "6244",
         "Sexuality": "5885",
         "Country": "6337",
         "EdLevel": "6322",
         "Age1stCode": "6330",
         "LearnCode": "6316",
         "YearsCode": "6254",
         "YearsCodePro": "5160",
         "MainBranch": "6337",
         "Employment": "6335",
         "DevType": "5554",
         "ConvertedCompYearly": 4389,
         "_deepnote_index_column": "count"
        },
        {
         "ResponseId": "nan",
         "Age": "8",
         "Gender": "11",
         "Trans": "4",
         "Sexuality": "21",
         "Country": "16",
         "EdLevel": "9",
         "Age1stCode": "9",
         "LearnCode": "306",
         "YearsCode": "51",
         "YearsCodePro": "43",
         "MainBranch": "6",
         "Employment": "9",
         "DevType": "1519",
         "ConvertedCompYearly": "nan",
         "_deepnote_index_column": "unique"
        },
        {
         "ResponseId": "nan",
         "Age": "25-34 years old",
         "Gender": "Man",
         "Trans": "No",
         "Sexuality": "Straight / Heterosexual",
         "Country": "Brazil",
         "EdLevel": "Bachelor’s degree (B.A., B.S., B.Eng., etc.)",
         "Age1stCode": "11 - 17 years",
         "LearnCode": "School",
         "YearsCode": "10",
         "YearsCodePro": "3",
         "MainBranch": "I am a developer by profession",
         "Employment": "Employed full-time",
         "DevType": "Developer, full-stack",
         "ConvertedCompYearly": "nan",
         "_deepnote_index_column": "top"
        },
        {
         "ResponseId": "nan",
         "Age": "2695",
         "Gender": "5870",
         "Trans": "6075",
         "Sexuality": "5070",
         "Country": "2254",
         "EdLevel": "2535",
         "Age1stCode": "3384",
         "LearnCode": "614",
         "YearsCode": "514",
         "YearsCodePro": "481",
         "MainBranch": "4848",
         "Employment": "4381",
         "DevType": "688",
         "ConvertedCompYearly": "nan",
         "_deepnote_index_column": "freq"
        },
        {
         "ResponseId": 41783.38030613855,
         "Age": "nan",
         "Gender": "nan",
         "Trans": "nan",
         "Sexuality": "nan",
         "Country": "nan",
         "EdLevel": "nan",
         "Age1stCode": "nan",
         "LearnCode": "nan",
         "YearsCode": "nan",
         "YearsCodePro": "nan",
         "MainBranch": "nan",
         "Employment": "nan",
         "DevType": "nan",
         "ConvertedCompYearly": 49063.98313966735,
         "_deepnote_index_column": "mean"
        },
        {
         "ResponseId": 22858.4583871424,
         "Age": "nan",
         "Gender": "nan",
         "Trans": "nan",
         "Sexuality": "nan",
         "Country": "nan",
         "EdLevel": "nan",
         "Age1stCode": "nan",
         "LearnCode": "nan",
         "YearsCode": "nan",
         "YearsCodePro": "nan",
         "MainBranch": "nan",
         "Employment": "nan",
         "DevType": "nan",
         "ConvertedCompYearly": 137150.89512152993,
         "_deepnote_index_column": "std"
        },
        {
         "ResponseId": 12,
         "Age": "nan",
         "Gender": "nan",
         "Trans": "nan",
         "Sexuality": "nan",
         "Country": "nan",
         "EdLevel": "nan",
         "Age1stCode": "nan",
         "LearnCode": "nan",
         "YearsCode": "nan",
         "YearsCodePro": "nan",
         "MainBranch": "nan",
         "Employment": "nan",
         "DevType": "nan",
         "ConvertedCompYearly": 12,
         "_deepnote_index_column": "min"
        },
        {
         "ResponseId": 25064,
         "Age": "nan",
         "Gender": "nan",
         "Trans": "nan",
         "Sexuality": "nan",
         "Country": "nan",
         "EdLevel": "nan",
         "Age1stCode": "nan",
         "LearnCode": "nan",
         "YearsCode": "nan",
         "YearsCodePro": "nan",
         "MainBranch": "nan",
         "Employment": "nan",
         "DevType": "nan",
         "ConvertedCompYearly": 15672,
         "_deepnote_index_column": "25%"
        },
        {
         "ResponseId": 40617,
         "Age": "nan",
         "Gender": "nan",
         "Trans": "nan",
         "Sexuality": "nan",
         "Country": "nan",
         "EdLevel": "nan",
         "Age1stCode": "nan",
         "LearnCode": "nan",
         "YearsCode": "nan",
         "YearsCodePro": "nan",
         "MainBranch": "nan",
         "Employment": "nan",
         "DevType": "nan",
         "ConvertedCompYearly": 28105,
         "_deepnote_index_column": "50%"
        },
        {
         "ResponseId": 60783,
         "Age": "nan",
         "Gender": "nan",
         "Trans": "nan",
         "Sexuality": "nan",
         "Country": "nan",
         "EdLevel": "nan",
         "Age1stCode": "nan",
         "LearnCode": "nan",
         "YearsCode": "nan",
         "YearsCodePro": "nan",
         "MainBranch": "nan",
         "Employment": "nan",
         "DevType": "nan",
         "ConvertedCompYearly": 47184,
         "_deepnote_index_column": "75%"
        }
       ]
      },
      "text/plain": "          ResponseId              Age Gender Trans                Sexuality  \\\ncount    6337.000000             6307   6305  6244                     5885   \nunique           NaN                8     11     4                       21   \ntop              NaN  25-34 years old    Man    No  Straight / Heterosexual   \nfreq             NaN             2695   5870  6075                     5070   \nmean    41783.380306              NaN    NaN   NaN                      NaN   \nstd     22858.458387              NaN    NaN   NaN                      NaN   \nmin        12.000000              NaN    NaN   NaN                      NaN   \n25%     25064.000000              NaN    NaN   NaN                      NaN   \n50%     40617.000000              NaN    NaN   NaN                      NaN   \n75%     60783.000000              NaN    NaN   NaN                      NaN   \nmax     83439.000000              NaN    NaN   NaN                      NaN   \n\n       Country                                       EdLevel     Age1stCode  \\\ncount     6337                                          6322           6330   \nunique      16                                             9              9   \ntop     Brazil  Bachelor’s degree (B.A., B.S., B.Eng., etc.)  11 - 17 years   \nfreq      2254                                          2535           3384   \nmean       NaN                                           NaN            NaN   \nstd        NaN                                           NaN            NaN   \nmin        NaN                                           NaN            NaN   \n25%        NaN                                           NaN            NaN   \n50%        NaN                                           NaN            NaN   \n75%        NaN                                           NaN            NaN   \nmax        NaN                                           NaN            NaN   \n\n       LearnCode YearsCode YearsCodePro                      MainBranch  \\\ncount       6316      6254         5160                            6337   \nunique       306        51           43                               6   \ntop       School        10            3  I am a developer by profession   \nfreq         614       514          481                            4848   \nmean         NaN       NaN          NaN                             NaN   \nstd          NaN       NaN          NaN                             NaN   \nmin          NaN       NaN          NaN                             NaN   \n25%          NaN       NaN          NaN                             NaN   \n50%          NaN       NaN          NaN                             NaN   \n75%          NaN       NaN          NaN                             NaN   \nmax          NaN       NaN          NaN                             NaN   \n\n                Employment                DevType  ConvertedCompYearly  \ncount                 6335                   5554         4.389000e+03  \nunique                   9                   1519                  NaN  \ntop     Employed full-time  Developer, full-stack                  NaN  \nfreq                  4381                    688                  NaN  \nmean                   NaN                    NaN         4.906398e+04  \nstd                    NaN                    NaN         1.371509e+05  \nmin                    NaN                    NaN         1.200000e+01  \n25%                    NaN                    NaN         1.567200e+04  \n50%                    NaN                    NaN         2.810500e+04  \n75%                    NaN                    NaN         4.718400e+04  \nmax                    NaN                    NaN         4.656132e+06  ",
      "text/html": "<div>\n<style scoped>\n    .dataframe tbody tr th:only-of-type {\n        vertical-align: middle;\n    }\n\n    .dataframe tbody tr th {\n        vertical-align: top;\n    }\n\n    .dataframe thead th {\n        text-align: right;\n    }\n</style>\n<table border=\"1\" class=\"dataframe\">\n  <thead>\n    <tr style=\"text-align: right;\">\n      <th></th>\n      <th>ResponseId</th>\n      <th>Age</th>\n      <th>Gender</th>\n      <th>Trans</th>\n      <th>Sexuality</th>\n      <th>Country</th>\n      <th>EdLevel</th>\n      <th>Age1stCode</th>\n      <th>LearnCode</th>\n      <th>YearsCode</th>\n      <th>YearsCodePro</th>\n      <th>MainBranch</th>\n      <th>Employment</th>\n      <th>DevType</th>\n      <th>ConvertedCompYearly</th>\n    </tr>\n  </thead>\n  <tbody>\n    <tr>\n      <th>count</th>\n      <td>6337.000000</td>\n      <td>6307</td>\n      <td>6305</td>\n      <td>6244</td>\n      <td>5885</td>\n      <td>6337</td>\n      <td>6322</td>\n      <td>6330</td>\n      <td>6316</td>\n      <td>6254</td>\n      <td>5160</td>\n      <td>6337</td>\n      <td>6335</td>\n      <td>5554</td>\n      <td>4.389000e+03</td>\n    </tr>\n    <tr>\n      <th>unique</th>\n      <td>NaN</td>\n      <td>8</td>\n      <td>11</td>\n      <td>4</td>\n      <td>21</td>\n      <td>16</td>\n      <td>9</td>\n      <td>9</td>\n      <td>306</td>\n      <td>51</td>\n      <td>43</td>\n      <td>6</td>\n      <td>9</td>\n      <td>1519</td>\n      <td>NaN</td>\n    </tr>\n    <tr>\n      <th>top</th>\n      <td>NaN</td>\n      <td>25-34 years old</td>\n      <td>Man</td>\n      <td>No</td>\n      <td>Straight / Heterosexual</td>\n      <td>Brazil</td>\n      <td>Bachelor’s degree (B.A., B.S., B.Eng., etc.)</td>\n      <td>11 - 17 years</td>\n      <td>School</td>\n      <td>10</td>\n      <td>3</td>\n      <td>I am a developer by profession</td>\n      <td>Employed full-time</td>\n      <td>Developer, full-stack</td>\n      <td>NaN</td>\n    </tr>\n    <tr>\n      <th>freq</th>\n      <td>NaN</td>\n      <td>2695</td>\n      <td>5870</td>\n      <td>6075</td>\n      <td>5070</td>\n      <td>2254</td>\n      <td>2535</td>\n      <td>3384</td>\n      <td>614</td>\n      <td>514</td>\n      <td>481</td>\n      <td>4848</td>\n      <td>4381</td>\n      <td>688</td>\n      <td>NaN</td>\n    </tr>\n    <tr>\n      <th>mean</th>\n      <td>41783.380306</td>\n      <td>NaN</td>\n      <td>NaN</td>\n      <td>NaN</td>\n      <td>NaN</td>\n      <td>NaN</td>\n      <td>NaN</td>\n      <td>NaN</td>\n      <td>NaN</td>\n      <td>NaN</td>\n      <td>NaN</td>\n      <td>NaN</td>\n      <td>NaN</td>\n      <td>NaN</td>\n      <td>4.906398e+04</td>\n    </tr>\n    <tr>\n      <th>std</th>\n      <td>22858.458387</td>\n      <td>NaN</td>\n      <td>NaN</td>\n      <td>NaN</td>\n      <td>NaN</td>\n      <td>NaN</td>\n      <td>NaN</td>\n      <td>NaN</td>\n      <td>NaN</td>\n      <td>NaN</td>\n      <td>NaN</td>\n      <td>NaN</td>\n      <td>NaN</td>\n      <td>NaN</td>\n      <td>1.371509e+05</td>\n    </tr>\n    <tr>\n      <th>min</th>\n      <td>12.000000</td>\n      <td>NaN</td>\n      <td>NaN</td>\n      <td>NaN</td>\n      <td>NaN</td>\n      <td>NaN</td>\n      <td>NaN</td>\n      <td>NaN</td>\n      <td>NaN</td>\n      <td>NaN</td>\n      <td>NaN</td>\n      <td>NaN</td>\n      <td>NaN</td>\n      <td>NaN</td>\n      <td>1.200000e+01</td>\n    </tr>\n    <tr>\n      <th>25%</th>\n      <td>25064.000000</td>\n      <td>NaN</td>\n      <td>NaN</td>\n      <td>NaN</td>\n      <td>NaN</td>\n      <td>NaN</td>\n      <td>NaN</td>\n      <td>NaN</td>\n      <td>NaN</td>\n      <td>NaN</td>\n      <td>NaN</td>\n      <td>NaN</td>\n      <td>NaN</td>\n      <td>NaN</td>\n      <td>1.567200e+04</td>\n    </tr>\n    <tr>\n      <th>50%</th>\n      <td>40617.000000</td>\n      <td>NaN</td>\n      <td>NaN</td>\n      <td>NaN</td>\n      <td>NaN</td>\n      <td>NaN</td>\n      <td>NaN</td>\n      <td>NaN</td>\n      <td>NaN</td>\n      <td>NaN</td>\n      <td>NaN</td>\n      <td>NaN</td>\n      <td>NaN</td>\n      <td>NaN</td>\n      <td>2.810500e+04</td>\n    </tr>\n    <tr>\n      <th>75%</th>\n      <td>60783.000000</td>\n      <td>NaN</td>\n      <td>NaN</td>\n      <td>NaN</td>\n      <td>NaN</td>\n      <td>NaN</td>\n      <td>NaN</td>\n      <td>NaN</td>\n      <td>NaN</td>\n      <td>NaN</td>\n      <td>NaN</td>\n      <td>NaN</td>\n      <td>NaN</td>\n      <td>NaN</td>\n      <td>4.718400e+04</td>\n    </tr>\n    <tr>\n      <th>max</th>\n      <td>83439.000000</td>\n      <td>NaN</td>\n      <td>NaN</td>\n      <td>NaN</td>\n      <td>NaN</td>\n      <td>NaN</td>\n      <td>NaN</td>\n      <td>NaN</td>\n      <td>NaN</td>\n      <td>NaN</td>\n      <td>NaN</td>\n      <td>NaN</td>\n      <td>NaN</td>\n      <td>NaN</td>\n      <td>4.656132e+06</td>\n    </tr>\n  </tbody>\n</table>\n</div>"
     },
     "metadata": {}
    }
   ]
  },
  {
   "cell_type": "code",
   "metadata": {
    "cell_id": "cb8d24c8-3279-44b3-a4c2-b0b831672d34",
    "tags": [],
    "deepnote_to_be_reexecuted": false,
    "source_hash": "10f5a325",
    "execution_start": 1645579382282,
    "execution_millis": 25,
    "deepnote_cell_type": "code"
   },
   "source": "df['EdLevel'].value_counts(normalize=True)",
   "execution_count": 9,
   "outputs": [
    {
     "output_type": "execute_result",
     "execution_count": 9,
     "data": {
      "text/plain": "Bachelor’s degree (B.A., B.S., B.Eng., etc.)                                          0.400981\nSome college/university study without earning a degree                                0.206897\nMaster’s degree (M.A., M.S., M.Eng., MBA, etc.)                                       0.144733\nSecondary school (e.g. American high school, German Realschule or Gymnasium, etc.)    0.084625\nProfessional degree (JD, MD, etc.)                                                    0.068333\nAssociate degree (A.A., A.S., etc.)                                                   0.041759\nOther doctoral degree (Ph.D., Ed.D., etc.)                                            0.023727\nPrimary/elementary school                                                             0.015027\nSomething else                                                                        0.013920\nName: EdLevel, dtype: float64"
     },
     "metadata": {}
    }
   ]
  },
  {
   "cell_type": "code",
   "metadata": {
    "cell_id": "ad0a3d30-ae68-4a63-a8f5-4e9b79911a61",
    "tags": [],
    "deepnote_to_be_reexecuted": false,
    "source_hash": "b623e53d",
    "execution_start": 1645579382304,
    "execution_millis": 13,
    "deepnote_cell_type": "code"
   },
   "source": "",
   "execution_count": 9,
   "outputs": []
  },
  {
   "cell_type": "markdown",
   "source": "<a style='text-decoration:none;line-height:16px;display:flex;color:#5B5B62;padding:10px;justify-content:end;' href='https://deepnote.com?utm_source=created-in-deepnote-cell&projectId=09491c61-3767-4289-98fd-88aee19bb45d' target=\"_blank\">\n<img alt='Created in deepnote.com' style='display:inline;max-height:16px;margin:0px;margin-right:7.5px;' src='data:image/svg+xml;base64,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' > </img>\nCreated in <span style='font-weight:600;margin-left:4px;'>Deepnote</span></a>",
   "metadata": {
    "tags": [],
    "created_in_deepnote_cell": true,
    "deepnote_cell_type": "markdown"
   }
  }
 ],
 "nbformat": 4,
 "nbformat_minor": 2,
 "metadata": {
  "orig_nbformat": 2,
  "deepnote": {
   "is_reactive": false
  },
  "deepnote_notebook_id": "d3fed0ed-e687-4e56-bf32-385f5fb6f308",
  "deepnote_execution_queue": []
 }
}